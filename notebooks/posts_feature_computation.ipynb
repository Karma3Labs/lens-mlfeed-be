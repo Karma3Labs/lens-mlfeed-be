{
 "cells": [
  {
   "cell_type": "code",
   "execution_count": 1,
   "id": "7117b202",
   "metadata": {},
   "outputs": [],
   "source": [
    "import datetime\n",
    "FEATURE_TIME = datetime.datetime(year=2023, month=5, day=12, hour=0, minute=0, second=0)"
   ]
  },
  {
   "cell_type": "code",
   "execution_count": 2,
   "id": "5f09a7bd",
   "metadata": {},
   "outputs": [],
   "source": [
    "import findspark\n",
    "# $ cd /opt\n",
    "# /opt$ sudo ln -s ~/apps/spark-3.4.0-bin-hadoop3 spark\n",
    "findspark.init(\"/opt/spark\") "
   ]
  },
  {
   "cell_type": "code",
   "execution_count": 3,
   "id": "5169cd16",
   "metadata": {},
   "outputs": [
    {
     "name": "stderr",
     "output_type": "stream",
     "text": [
      "23/05/12 08:39:16 WARN Utils: Your hostname, VIJAYs-MacBook-Pro.local resolves to a loopback address: 127.0.0.1; using 192.168.87.240 instead (on interface en0)\n",
      "23/05/12 08:39:16 WARN Utils: Set SPARK_LOCAL_IP if you need to bind to another address\n",
      "Setting default log level to \"WARN\".\n",
      "To adjust logging level use sc.setLogLevel(newLevel). For SparkR, use setLogLevel(newLevel).\n",
      "23/05/12 08:39:18 WARN NativeCodeLoader: Unable to load native-hadoop library for your platform... using builtin-java classes where applicable\n"
     ]
    }
   ],
   "source": [
    "# import pyspark\n",
    "# sc = pyspark.SparkContext(appName=\"globalContent\")\n",
    "\n",
    "from pyspark.sql import SparkSession\n",
    "spark = SparkSession.builder.appName(\"LensFeatures\").getOrCreate()"
   ]
  },
  {
   "cell_type": "code",
   "execution_count": 4,
   "id": "9fd661a7",
   "metadata": {},
   "outputs": [
    {
     "name": "stderr",
     "output_type": "stream",
     "text": [
      "                                                                                \r"
     ]
    }
   ],
   "source": [
    "posts_df = spark.read.csv(\"/tmp/lens_bigquery_csvs/public_profile_post/\", \n",
    "                          header=True, \n",
    "                          escape=\"\\\"\",\n",
    "                          multiLine=True,\n",
    "                          inferSchema=True)"
   ]
  },
  {
   "cell_type": "code",
   "execution_count": null,
   "id": "7aba3421",
   "metadata": {},
   "outputs": [],
   "source": [
    "# posts_df.show(5, truncate=False)"
   ]
  },
  {
   "cell_type": "code",
   "execution_count": 5,
   "id": "09424036",
   "metadata": {
    "scrolled": false
   },
   "outputs": [
    {
     "name": "stderr",
     "output_type": "stream",
     "text": [
      "\r",
      "[Stage 2:>                                                          (0 + 1) / 1]\r"
     ]
    },
    {
     "name": "stdout",
     "output_type": "stream",
     "text": [
      "total number of records $452441\n"
     ]
    },
    {
     "name": "stderr",
     "output_type": "stream",
     "text": [
      "\r",
      "                                                                                \r"
     ]
    }
   ],
   "source": [
    "print(f\"total number of records ${posts_df.count()}\")"
   ]
  },
  {
   "cell_type": "code",
   "execution_count": 6,
   "id": "a3ce3997",
   "metadata": {
    "scrolled": true
   },
   "outputs": [
    {
     "name": "stdout",
     "output_type": "stream",
     "text": [
      "root\n",
      " |-- post_id: string (nullable = true)\n",
      " |-- contract_publication_id: string (nullable = true)\n",
      " |-- profile_id: string (nullable = true)\n",
      " |-- content_uri: string (nullable = true)\n",
      " |-- s3_metadata_location: string (nullable = true)\n",
      " |-- collect_nft_address: string (nullable = true)\n",
      " |-- reference_implementation: string (nullable = true)\n",
      " |-- reference_return_data: string (nullable = true)\n",
      " |-- is_related_to_post: string (nullable = true)\n",
      " |-- is_related_to_comment: string (nullable = true)\n",
      " |-- is_metadata_processed: boolean (nullable = true)\n",
      " |-- has_error: boolean (nullable = true)\n",
      " |-- metadata_error_reason: string (nullable = true)\n",
      " |-- tx_hash: string (nullable = true)\n",
      " |-- is_hidden: boolean (nullable = true)\n",
      " |-- timeout_request: boolean (nullable = true)\n",
      " |-- app_id: string (nullable = true)\n",
      " |-- block_timestamp: timestamp (nullable = true)\n",
      " |-- created_block_hash: string (nullable = true)\n",
      " |-- metadata_version: string (nullable = true)\n",
      " |-- language: string (nullable = true)\n",
      " |-- region: string (nullable = true)\n",
      " |-- content_warning: string (nullable = true)\n",
      " |-- main_content_focus: string (nullable = true)\n",
      " |-- tags_vector: string (nullable = true)\n",
      " |-- custom_filters_gardener_flagged: boolean (nullable = true)\n",
      " |-- content: string (nullable = true)\n",
      " |-- is_gated: boolean (nullable = true)\n",
      " |-- is_data_availability: boolean (nullable = true)\n",
      " |-- data_availability_proofs: string (nullable = true)\n",
      " |-- uuid: string (nullable = true)\n",
      " |-- source_timestamp: long (nullable = true)\n",
      "\n"
     ]
    }
   ],
   "source": [
    "posts_df.printSchema()"
   ]
  },
  {
   "cell_type": "code",
   "execution_count": 7,
   "id": "cfd348e4",
   "metadata": {},
   "outputs": [],
   "source": [
    "posts_df = posts_df.select(\n",
    "    \"post_id\", \n",
    "    \"is_related_to_post\", \n",
    "    \"is_related_to_comment\", \n",
    "    \"is_hidden\", \n",
    "    \"is_gated\",\n",
    "    \"block_timestamp\",\n",
    "    \"language\",\n",
    "    \"region\",\n",
    "    \"content_warning\",\n",
    "    \"main_content_focus\",\n",
    "    \"tags_vector\",\n",
    "    \"custom_filters_gardener_flagged\"\n",
    ")"
   ]
  },
  {
   "cell_type": "code",
   "execution_count": 8,
   "id": "6fa6d0df",
   "metadata": {},
   "outputs": [],
   "source": [
    "from pyspark.sql.functions import col, when, lit, datediff\n",
    "from pyspark.sql.types import IntegerType,BooleanType,TimestampType\n",
    "\n",
    "posts_df = posts_df.withColumn(\"is_original\", \n",
    "                               when(posts_df.is_related_to_post.isNull() & \n",
    "                                    posts_df.is_related_to_comment.isNull(), lit(True)) \\\n",
    "                               .otherwise(lit(False))) \\\n",
    "                    .withColumn(\"is_content_warning\",\n",
    "                                when(posts_df.content_warning.isNull(), lit(False)) \\\n",
    "                                .otherwise(lit(True))) \\\n",
    "                    .withColumn(\"is_hidden\", col(\"is_hidden\").cast(BooleanType())) \\\n",
    "                    .withColumn(\"is_gated\", col(\"is_gated\").cast(BooleanType())) \\\n",
    "                    .withColumn(\"custom_filters_gardener_flagged\", \n",
    "                                col(\"custom_filters_gardener_flagged\").cast(BooleanType())) \\\n",
    "                    .withColumn(\"block_timestamp\", col(\"block_timestamp\").cast(TimestampType())) \\\n",
    "                    .withColumn(\"age\", datediff(lit(FEATURE_TIME), col(\"block_timestamp\")))"
   ]
  },
  {
   "cell_type": "code",
   "execution_count": 9,
   "id": "ad67b5be",
   "metadata": {},
   "outputs": [],
   "source": [
    "posts_df = posts_df.drop(col(\"is_related_to_post\")) \\\n",
    "                    .drop(col(\"is_related_to_comment\"))"
   ]
  },
  {
   "cell_type": "code",
   "execution_count": 10,
   "id": "0453c5d4",
   "metadata": {},
   "outputs": [
    {
     "name": "stdout",
     "output_type": "stream",
     "text": [
      "root\n",
      " |-- post_id: string (nullable = true)\n",
      " |-- is_hidden: boolean (nullable = true)\n",
      " |-- is_gated: boolean (nullable = true)\n",
      " |-- block_timestamp: timestamp (nullable = true)\n",
      " |-- language: string (nullable = true)\n",
      " |-- region: string (nullable = true)\n",
      " |-- content_warning: string (nullable = true)\n",
      " |-- main_content_focus: string (nullable = true)\n",
      " |-- tags_vector: string (nullable = true)\n",
      " |-- custom_filters_gardener_flagged: boolean (nullable = true)\n",
      " |-- is_original: boolean (nullable = false)\n",
      " |-- is_content_warning: boolean (nullable = false)\n",
      " |-- age: integer (nullable = true)\n",
      "\n"
     ]
    }
   ],
   "source": [
    "posts_df.printSchema()"
   ]
  },
  {
   "cell_type": "code",
   "execution_count": 11,
   "id": "ac31f754",
   "metadata": {},
   "outputs": [
    {
     "name": "stderr",
     "output_type": "stream",
     "text": [
      "                                                                                \r"
     ]
    }
   ],
   "source": [
    "pub_stats_df = spark.read.parquet(\"/tmp/lens_bigquery_csvs/public_publication_stats_05102023.pqt\")"
   ]
  },
  {
   "cell_type": "code",
   "execution_count": null,
   "id": "cdc9a420",
   "metadata": {
    "scrolled": true
   },
   "outputs": [],
   "source": [
    "# pub_stats_df.show(5, truncate=False)"
   ]
  },
  {
   "cell_type": "code",
   "execution_count": 12,
   "id": "bccaca47",
   "metadata": {
    "scrolled": true
   },
   "outputs": [
    {
     "name": "stderr",
     "output_type": "stream",
     "text": [
      "\r",
      "[Stage 6:>                                                          (0 + 4) / 4]\r"
     ]
    },
    {
     "name": "stdout",
     "output_type": "stream",
     "text": [
      "total number of records $8747109\n"
     ]
    },
    {
     "name": "stderr",
     "output_type": "stream",
     "text": [
      "\r",
      "                                                                                \r"
     ]
    }
   ],
   "source": [
    "print(f\"total number of records ${pub_stats_df.count()}\")"
   ]
  },
  {
   "cell_type": "code",
   "execution_count": 13,
   "id": "3a8b3f22",
   "metadata": {},
   "outputs": [
    {
     "name": "stdout",
     "output_type": "stream",
     "text": [
      "root\n",
      " |-- publication_id: string (nullable = true)\n",
      " |-- total_amount_of_collects: long (nullable = true)\n",
      " |-- total_amount_of_mirrors: long (nullable = true)\n",
      " |-- total_amount_of_comments: long (nullable = true)\n",
      " |-- total_upvotes: long (nullable = true)\n",
      " |-- total_downvotes: long (nullable = true)\n",
      " |-- datastream_metadata: struct (nullable = true)\n",
      " |    |-- uuid: string (nullable = true)\n",
      " |    |-- source_timestamp: long (nullable = true)\n",
      "\n"
     ]
    }
   ],
   "source": [
    "pub_stats_df.printSchema()"
   ]
  },
  {
   "cell_type": "code",
   "execution_count": 14,
   "id": "f33fd275",
   "metadata": {},
   "outputs": [],
   "source": [
    "pub_stats_df = pub_stats_df.drop(col(\"datastream_metadata\"))"
   ]
  },
  {
   "cell_type": "code",
   "execution_count": 15,
   "id": "3d9497ec",
   "metadata": {},
   "outputs": [
    {
     "name": "stdout",
     "output_type": "stream",
     "text": [
      "root\n",
      " |-- publication_id: string (nullable = true)\n",
      " |-- total_amount_of_collects: long (nullable = true)\n",
      " |-- total_amount_of_mirrors: long (nullable = true)\n",
      " |-- total_amount_of_comments: long (nullable = true)\n",
      " |-- total_upvotes: long (nullable = true)\n",
      " |-- total_downvotes: long (nullable = true)\n",
      "\n"
     ]
    }
   ],
   "source": [
    "pub_stats_df.printSchema()"
   ]
  },
  {
   "cell_type": "code",
   "execution_count": 16,
   "id": "d8732228",
   "metadata": {},
   "outputs": [],
   "source": [
    "posts_features_df = posts_df.join(pub_stats_df, posts_df.post_id == pub_stats_df.publication_id, \"leftouter\")"
   ]
  },
  {
   "cell_type": "code",
   "execution_count": 17,
   "id": "f28e7ccf",
   "metadata": {},
   "outputs": [
    {
     "name": "stdout",
     "output_type": "stream",
     "text": [
      "root\n",
      " |-- post_id: string (nullable = true)\n",
      " |-- is_hidden: boolean (nullable = true)\n",
      " |-- is_gated: boolean (nullable = true)\n",
      " |-- block_timestamp: timestamp (nullable = true)\n",
      " |-- language: string (nullable = true)\n",
      " |-- region: string (nullable = true)\n",
      " |-- content_warning: string (nullable = true)\n",
      " |-- main_content_focus: string (nullable = true)\n",
      " |-- tags_vector: string (nullable = true)\n",
      " |-- custom_filters_gardener_flagged: boolean (nullable = true)\n",
      " |-- is_original: boolean (nullable = false)\n",
      " |-- is_content_warning: boolean (nullable = false)\n",
      " |-- age: integer (nullable = true)\n",
      " |-- publication_id: string (nullable = true)\n",
      " |-- total_amount_of_collects: long (nullable = true)\n",
      " |-- total_amount_of_mirrors: long (nullable = true)\n",
      " |-- total_amount_of_comments: long (nullable = true)\n",
      " |-- total_upvotes: long (nullable = true)\n",
      " |-- total_downvotes: long (nullable = true)\n",
      "\n"
     ]
    }
   ],
   "source": [
    "posts_features_df.printSchema()"
   ]
  },
  {
   "cell_type": "code",
   "execution_count": null,
   "id": "47b2ea4c",
   "metadata": {},
   "outputs": [],
   "source": [
    "# posts_features_df.show(5, truncate=False)"
   ]
  },
  {
   "cell_type": "code",
   "execution_count": 18,
   "id": "7e66ef1b",
   "metadata": {
    "scrolled": false
   },
   "outputs": [
    {
     "name": "stderr",
     "output_type": "stream",
     "text": [
      "[Stage 13:==============================================>           (4 + 1) / 5]\r"
     ]
    },
    {
     "name": "stdout",
     "output_type": "stream",
     "text": [
      "total number of records $452441\n"
     ]
    },
    {
     "name": "stderr",
     "output_type": "stream",
     "text": [
      "\r",
      "                                                                                \r"
     ]
    }
   ],
   "source": [
    "print(f\"total number of records ${posts_features_df.count()}\")"
   ]
  },
  {
   "cell_type": "code",
   "execution_count": null,
   "id": "e64cf15d",
   "metadata": {
    "scrolled": true
   },
   "outputs": [],
   "source": [
    "# Credentials saved to file: [/Users/vijay/.config/gcloud/application_default_credentials.json]\n",
    "# These credentials will be used by any library that requests Application Default Credentials (ADC).\n",
    "\n",
    "! gcloud auth application-default login"
   ]
  },
  {
   "cell_type": "code",
   "execution_count": 19,
   "id": "0fef4cbd",
   "metadata": {},
   "outputs": [],
   "source": [
    "PROJECT_ID = \"boxwood-well-386122\"\n",
    "REGION = \"us-central1\"\n",
    "BUCKET_URI = \"gs://vijay-lens-feature-store-temp\"  \n",
    "from google.cloud import aiplatform\n",
    "aiplatform.init(project=PROJECT_ID, location=REGION, staging_bucket=BUCKET_URI)"
   ]
  },
  {
   "cell_type": "code",
   "execution_count": 20,
   "id": "d7040a17",
   "metadata": {},
   "outputs": [
    {
     "name": "stdout",
     "output_type": "stream",
     "text": [
      "name: \"projects/1181216607/locations/us-central1/featurestores/lens_featurestore_dev\"\n",
      "create_time {\n",
      "  seconds: 1683658565\n",
      "  nanos: 777177000\n",
      "}\n",
      "update_time {\n",
      "  seconds: 1683730147\n",
      "  nanos: 63762000\n",
      "}\n",
      "etag: \"AMEw9yPIkdwZdOFSR0qcVeqcc-n3zekDSH3T-6RiRuJyNWiRfT8HhofOSkdZL6gzHNY=\"\n",
      "online_serving_config {\n",
      "}\n",
      "state: STABLE\n",
      "\n"
     ]
    }
   ],
   "source": [
    "FEATURESTORE_ID = \"lens_featurestore_dev\"\n",
    "from google.cloud.aiplatform import Feature, Featurestore\n",
    "fs = Featurestore(\n",
    "    featurestore_name=FEATURESTORE_ID\n",
    ")\n",
    "print(fs.gca_resource)"
   ]
  },
  {
   "cell_type": "code",
   "execution_count": 21,
   "id": "0d4473d7",
   "metadata": {},
   "outputs": [],
   "source": [
    "posts_entity_type = fs.get_entity_type(entity_type_id=\"posts\")"
   ]
  },
  {
   "cell_type": "code",
   "execution_count": 22,
   "id": "04a2625e",
   "metadata": {},
   "outputs": [
    {
     "name": "stdout",
     "output_type": "stream",
     "text": [
      "['region', 'class2', 'post_id', 'collects', 'author_f6c3m8col12enh_score', 'custom_filters_gardener_flagged', 'upvotes', 'content_warning', 'classes', 'mirrors', 'is_original', 'is_content_warning', 'class3', 'age', 'author_f6c3m8col12enh_rank', 'recommend', 'downvotes', 'main_content_focus', 'comments', 'class1', 'language']\n"
     ]
    }
   ],
   "source": [
    "POSTS_FEATURES_IDS = [feature.name for feature in posts_entity_type.list_features()]\n",
    "print(POSTS_FEATURES_IDS)"
   ]
  },
  {
   "cell_type": "code",
   "execution_count": 23,
   "id": "c4de50df",
   "metadata": {},
   "outputs": [
    {
     "name": "stdout",
     "output_type": "stream",
     "text": [
      "['region', 'post_id', 'collects', 'custom_filters_gardener_flagged', 'upvotes', 'content_warning', 'mirrors', 'is_original', 'is_content_warning', 'age', 'downvotes', 'main_content_focus', 'comments', 'language']\n"
     ]
    }
   ],
   "source": [
    "for f in ['class1', 'class2', 'class3', 'classes', 'recommend', \n",
    "          'author_f6c3m8col12enh_rank', 'author_f6c3m8col12enh_score' ]: POSTS_FEATURES_IDS.remove(f) \n",
    "print(POSTS_FEATURES_IDS)"
   ]
  },
  {
   "cell_type": "code",
   "execution_count": 24,
   "id": "7babcc74",
   "metadata": {},
   "outputs": [],
   "source": [
    "# since field names in dataframe and featurestore are different\n",
    "# we need to create a mapping for just those fields\n",
    "POSTS_SRC_FIELDS = {\n",
    "    'collects': 'total_amount_of_collects',\n",
    "    'upvotes': 'total_upvotes',\n",
    "    'mirrors': 'total_amount_of_mirrors',\n",
    "    'downvotes': 'total_downvotes',\n",
    "    'comments': 'total_amount_of_comments',\n",
    "}"
   ]
  },
  {
   "cell_type": "code",
   "execution_count": 25,
   "id": "d01687e2",
   "metadata": {},
   "outputs": [],
   "source": [
    "POSTS_ENTITY_ID_FIELD = \"post_id\""
   ]
  },
  {
   "cell_type": "code",
   "execution_count": 26,
   "id": "0b5d77bd",
   "metadata": {},
   "outputs": [
    {
     "name": "stderr",
     "output_type": "stream",
     "text": [
      "                                                                                \r"
     ]
    }
   ],
   "source": [
    "# converting pyspark to pandas throws error when \n",
    "# trying to convert timestamps that have nanoseconds\n",
    "from pyspark.sql.functions import date_format\n",
    "POSTS_DF = posts_features_df \\\n",
    "            .withColumn(\"block_timestamp\", date_format(\"block_timestamp\", \"yyyy-MM-dd HH:mm:ss\")) \\\n",
    "            .toPandas()"
   ]
  },
  {
   "cell_type": "code",
   "execution_count": 27,
   "id": "acd80c0d",
   "metadata": {
    "scrolled": false
   },
   "outputs": [
    {
     "name": "stdout",
     "output_type": "stream",
     "text": [
      "<class 'pandas.core.frame.DataFrame'>\n",
      "RangeIndex: 452441 entries, 0 to 452440\n",
      "Data columns (total 19 columns):\n",
      " #   Column                           Non-Null Count   Dtype \n",
      "---  ------                           --------------   ----- \n",
      " 0   post_id                          452441 non-null  object\n",
      " 1   is_hidden                        452441 non-null  bool  \n",
      " 2   is_gated                         452441 non-null  bool  \n",
      " 3   block_timestamp                  452441 non-null  object\n",
      " 4   language                         424234 non-null  object\n",
      " 5   region                           362 non-null     object\n",
      " 6   content_warning                  72 non-null      object\n",
      " 7   main_content_focus               450923 non-null  object\n",
      " 8   tags_vector                      69448 non-null   object\n",
      " 9   custom_filters_gardener_flagged  452441 non-null  bool  \n",
      " 10  is_original                      452441 non-null  bool  \n",
      " 11  is_content_warning               452441 non-null  bool  \n",
      " 12  age                              452441 non-null  int32 \n",
      " 13  publication_id                   452441 non-null  object\n",
      " 14  total_amount_of_collects         452441 non-null  int64 \n",
      " 15  total_amount_of_mirrors          452441 non-null  int64 \n",
      " 16  total_amount_of_comments         452441 non-null  int64 \n",
      " 17  total_upvotes                    452441 non-null  int64 \n",
      " 18  total_downvotes                  452441 non-null  int64 \n",
      "dtypes: bool(5), int32(1), int64(5), object(8)\n",
      "memory usage: 48.8+ MB\n"
     ]
    }
   ],
   "source": [
    "POSTS_DF.info()"
   ]
  },
  {
   "cell_type": "code",
   "execution_count": 28,
   "id": "ab5dbed5",
   "metadata": {},
   "outputs": [],
   "source": [
    "POSTS_DF['age'] = POSTS_DF['age'].astype('Int64')\n",
    "POSTS_DF['total_amount_of_collects'] = POSTS_DF['total_amount_of_collects'].astype('Int64')\n",
    "POSTS_DF['total_amount_of_mirrors'] = POSTS_DF['total_amount_of_mirrors'].astype('Int64')\n",
    "POSTS_DF['total_amount_of_comments'] = POSTS_DF['total_amount_of_comments'].astype('Int64')\n",
    "POSTS_DF['total_upvotes'] = POSTS_DF['total_upvotes'].astype('Int64')\n",
    "POSTS_DF['total_downvotes'] = POSTS_DF['total_downvotes'].astype('Int64')"
   ]
  },
  {
   "cell_type": "code",
   "execution_count": null,
   "id": "6f62daba",
   "metadata": {},
   "outputs": [],
   "source": [
    "# Featurestore ingest requires Cloud Resource Manager API to be enabled\n",
    "# Uncomment below line to enable once for your gcp project\n",
    "# ! gcloud services enable cloudresourcemanager.googleapis.com"
   ]
  },
  {
   "cell_type": "code",
   "execution_count": 29,
   "id": "3f749bd3",
   "metadata": {},
   "outputs": [
    {
     "name": "stdout",
     "output_type": "stream",
     "text": [
      "Importing EntityType feature values: projects/1181216607/locations/us-central1/featurestores/lens_featurestore_dev/entityTypes/posts\n",
      "Import EntityType feature values backing LRO: projects/1181216607/locations/us-central1/featurestores/lens_featurestore_dev/entityTypes/posts/operations/8747033019535065088\n",
      "EntityType feature values imported. Resource name: projects/1181216607/locations/us-central1/featurestores/lens_featurestore_dev/entityTypes/posts\n"
     ]
    },
    {
     "data": {
      "text/plain": [
       "<google.cloud.aiplatform.featurestore.entity_type.EntityType object at 0x11bf82c40> \n",
       "resource name: projects/1181216607/locations/us-central1/featurestores/lens_featurestore_dev/entityTypes/posts"
      ]
     },
     "execution_count": 29,
     "metadata": {},
     "output_type": "execute_result"
    }
   ],
   "source": [
    "# ingest_from_df(\n",
    "#     feature_ids: List[str],\n",
    "#     feature_time: Union[str, datetime.datetime],\n",
    "#     df_source: pd.DataFrame,\n",
    "#     feature_source_fields: Optional[Dict[str, str]] = None,\n",
    "#     entity_id_field: Optional[str] = None,\n",
    "#     request_metadata: Optional[Sequence[Tuple[str, str]]] = (),\n",
    "#     ingest_request_timeout: Optional[float] = None,\n",
    "# )\n",
    "posts_entity_type.ingest_from_df(\n",
    "    feature_ids = POSTS_FEATURES_IDS,\n",
    "    feature_time = FEATURE_TIME,\n",
    "    df_source = POSTS_DF,\n",
    "    feature_source_fields = POSTS_SRC_FIELDS,\n",
    "    entity_id_field = POSTS_ENTITY_ID_FIELD,\n",
    ")"
   ]
  },
  {
   "cell_type": "code",
   "execution_count": null,
   "id": "c1dc8764",
   "metadata": {},
   "outputs": [],
   "source": []
  },
  {
   "cell_type": "code",
   "execution_count": null,
   "id": "2de60b0b",
   "metadata": {},
   "outputs": [],
   "source": []
  },
  {
   "cell_type": "code",
   "execution_count": null,
   "id": "6e5f48ec",
   "metadata": {},
   "outputs": [],
   "source": [
    "# TODO \n",
    "# 1. featurestore ingest_from_df\n",
    "# 2. \"recommend\" label\n",
    "# 3. read from bigquery\n",
    "# 4. checkpoint max(block_timestamp) for incremental reads from BigQuery"
   ]
  }
 ],
 "metadata": {
  "kernelspec": {
   "display_name": "k3l-recommendation-env3",
   "language": "python",
   "name": "k3l-recommendation-env3"
  },
  "language_info": {
   "codemirror_mode": {
    "name": "ipython",
    "version": 3
   },
   "file_extension": ".py",
   "mimetype": "text/x-python",
   "name": "python",
   "nbconvert_exporter": "python",
   "pygments_lexer": "ipython3",
   "version": "3.9.16"
  }
 },
 "nbformat": 4,
 "nbformat_minor": 5
}
