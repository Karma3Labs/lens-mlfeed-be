{
 "cells": [
  {
   "cell_type": "code",
   "execution_count": 1,
   "id": "724333c2",
   "metadata": {},
   "outputs": [],
   "source": [
    "PROJECT_ID = \"boxwood-well-386122\"\n",
    "REGION = \"us-central1\"\n",
    "BUCKET_URI = \"gs://vijay-lens-feature-store-temp\"  \n",
    "from google.cloud import aiplatform\n",
    "aiplatform.init(project=PROJECT_ID, location=REGION, staging_bucket=BUCKET_URI)"
   ]
  },
  {
   "cell_type": "code",
   "execution_count": 2,
   "id": "50211a66",
   "metadata": {},
   "outputs": [
    {
     "name": "stdout",
     "output_type": "stream",
     "text": [
      "Your browser has been opened to visit:\n",
      "\n",
      "    https://accounts.google.com/o/oauth2/auth?response_type=code&client_id=764086051850-6qr4p6gpi6hn506pt8ejuq83di341hur.apps.googleusercontent.com&redirect_uri=http%3A%2F%2Flocalhost%3A8085%2F&scope=openid+https%3A%2F%2Fwww.googleapis.com%2Fauth%2Fuserinfo.email+https%3A%2F%2Fwww.googleapis.com%2Fauth%2Fcloud-platform+https%3A%2F%2Fwww.googleapis.com%2Fauth%2Fsqlservice.login&state=HBfvPKBww6XfiPe1vRzXJPOwIJBGtW&access_type=offline&code_challenge=9VCYtRDGZ92hWkRATuidEiEJs-6EvxxrfPsXJnnZrpM&code_challenge_method=S256\n",
      "\n",
      "\n",
      "Credentials saved to file: [/Users/vijay/.config/gcloud/application_default_credentials.json]\n",
      "\n",
      "These credentials will be used by any library that requests Application Default Credentials (ADC).\n",
      "\n",
      "Quota project \"boxwood-well-386122\" was added to ADC which can be used by Google client libraries for billing and quota. Note that some services may still bill the project owning the resource.\n"
     ]
    }
   ],
   "source": [
    "# Credentials saved to file: [/Users/vijay/.config/gcloud/application_default_credentials.json]\n",
    "# These credentials will be used by any library that requests Application Default Credentials (ADC).\n",
    "\n",
    "! gcloud auth application-default login"
   ]
  },
  {
   "cell_type": "code",
   "execution_count": 3,
   "id": "ae3123e7",
   "metadata": {},
   "outputs": [],
   "source": [
    "# Create bucket if not already created\n",
    "# ! gsutil mb -l $REGION -p $PROJECT_ID $BUCKET_URI"
   ]
  },
  {
   "cell_type": "code",
   "execution_count": 4,
   "id": "466436f3",
   "metadata": {},
   "outputs": [],
   "source": [
    "from google.cloud.aiplatform import Feature, Featurestore"
   ]
  },
  {
   "cell_type": "code",
   "execution_count": 5,
   "id": "0768a50b",
   "metadata": {},
   "outputs": [
    {
     "name": "stdout",
     "output_type": "stream",
     "text": [
      "Creating Featurestore\n",
      "Create Featurestore backing LRO: projects/1181216607/locations/us-central1/featurestores/lensv2_featurestore_t1/operations/423420209869619200\n",
      "Featurestore created. Resource name: projects/1181216607/locations/us-central1/featurestores/lensv2_featurestore_t1\n",
      "To use this Featurestore in another session:\n",
      "featurestore = aiplatform.Featurestore('projects/1181216607/locations/us-central1/featurestores/lensv2_featurestore_t1')\n"
     ]
    }
   ],
   "source": [
    "FEATURESTORE_ID = \"lensv2_featurestore_t1\"\n",
    "ONLINE_STORE_FIXED_NODE_COUNT = None\n",
    "fs = Featurestore.create(\n",
    "    featurestore_id=FEATURESTORE_ID,\n",
    "    online_store_fixed_node_count=ONLINE_STORE_FIXED_NODE_COUNT,\n",
    "    project=PROJECT_ID,\n",
    "    location=REGION,\n",
    "    sync=True,\n",
    ")"
   ]
  },
  {
   "cell_type": "code",
   "execution_count": 6,
   "id": "e5715047",
   "metadata": {},
   "outputs": [
    {
     "name": "stdout",
     "output_type": "stream",
     "text": [
      "name: \"projects/1181216607/locations/us-central1/featurestores/lensv2_featurestore_t1\"\n",
      "create_time {\n",
      "  seconds: 1699029298\n",
      "  nanos: 367831000\n",
      "}\n",
      "update_time {\n",
      "  seconds: 1699029299\n",
      "  nanos: 364422000\n",
      "}\n",
      "etag: \"AMEw9yNtvX2bKryR_MVo-hXe7xpwIxVeBBE6Q_P4W5DI2azfzKbFSpl-f0-6thD8msMD\"\n",
      "online_serving_config {\n",
      "}\n",
      "state: STABLE\n",
      "\n"
     ]
    }
   ],
   "source": [
    "fs = Featurestore(\n",
    "    featurestore_name=FEATURESTORE_ID\n",
    ")\n",
    "print(fs.gca_resource)"
   ]
  },
  {
   "cell_type": "code",
   "execution_count": 7,
   "id": "16039aa5",
   "metadata": {},
   "outputs": [
    {
     "name": "stdout",
     "output_type": "stream",
     "text": [
      "Creating EntityType\n",
      "Create EntityType backing LRO: projects/1181216607/locations/us-central1/featurestores/lensv2_featurestore_t1/entityTypes/profiles/operations/1540312917457502208\n",
      "EntityType created. Resource name: projects/1181216607/locations/us-central1/featurestores/lensv2_featurestore_t1/entityTypes/profiles\n",
      "To use this EntityType in another session:\n",
      "entity_type = aiplatform.EntityType('projects/1181216607/locations/us-central1/featurestores/lensv2_featurestore_t1/entityTypes/profiles')\n"
     ]
    }
   ],
   "source": [
    "# Create the 'profiles' entity type\n",
    "profiles_entity_type = fs.create_entity_type(\n",
    "    entity_type_id=\"profiles\",\n",
    "    description=\"Lens Profile entity\",\n",
    ")"
   ]
  },
  {
   "cell_type": "code",
   "execution_count": 8,
   "id": "46f9959f",
   "metadata": {},
   "outputs": [
    {
     "name": "stdout",
     "output_type": "stream",
     "text": [
      "Creating EntityType\n",
      "Create EntityType backing LRO: projects/1181216607/locations/us-central1/featurestores/lensv2_featurestore_t1/entityTypes/posts/operations/2637854220396527616\n",
      "EntityType created. Resource name: projects/1181216607/locations/us-central1/featurestores/lensv2_featurestore_t1/entityTypes/posts\n",
      "To use this EntityType in another session:\n",
      "entity_type = aiplatform.EntityType('projects/1181216607/locations/us-central1/featurestores/lensv2_featurestore_t1/entityTypes/posts')\n"
     ]
    }
   ],
   "source": [
    "# Create the \"posts\" entity type\n",
    "posts_entity_type = fs.create_entity_type(\n",
    "    entity_type_id=\"posts\",\n",
    "    description=\"Lens Post entity\",\n",
    ")"
   ]
  },
  {
   "cell_type": "code",
   "execution_count": 9,
   "id": "de14018a",
   "metadata": {},
   "outputs": [
    {
     "data": {
      "text/plain": [
       "[<google.cloud.aiplatform.featurestore.entity_type.EntityType object at 0x115464ac0> \n",
       " resource name: projects/1181216607/locations/us-central1/featurestores/lensv2_featurestore_t1/entityTypes/posts,\n",
       " <google.cloud.aiplatform.featurestore.entity_type.EntityType object at 0x1154691c0> \n",
       " resource name: projects/1181216607/locations/us-central1/featurestores/lensv2_featurestore_t1/entityTypes/profiles]"
      ]
     },
     "execution_count": 9,
     "metadata": {},
     "output_type": "execute_result"
    }
   ],
   "source": [
    "fs.list_entity_types()"
   ]
  },
  {
   "cell_type": "code",
   "execution_count": 10,
   "id": "b3c9b974",
   "metadata": {},
   "outputs": [
    {
     "name": "stdout",
     "output_type": "stream",
     "text": [
      "<google.cloud.aiplatform.featurestore.entity_type.EntityType object at 0x115456190> \n",
      "resource name: projects/1181216607/locations/us-central1/featurestores/lensv2_featurestore_t1/entityTypes/profiles\n",
      "<google.cloud.aiplatform.featurestore.entity_type.EntityType object at 0x1153ee5b0> \n",
      "resource name: projects/1181216607/locations/us-central1/featurestores/lensv2_featurestore_t1/entityTypes/posts\n"
     ]
    }
   ],
   "source": [
    "profiles_entity_type = fs.get_entity_type(entity_type_id=\"profiles\")\n",
    "posts_entity_type = fs.get_entity_type(entity_type_id=\"posts\")\n",
    "print(profiles_entity_type)\n",
    "print(posts_entity_type)"
   ]
  },
  {
   "cell_type": "code",
   "execution_count": 11,
   "id": "cd4241c0",
   "metadata": {},
   "outputs": [
    {
     "name": "stdout",
     "output_type": "stream",
     "text": [
      "Batch creating features EntityType entityType: projects/1181216607/locations/us-central1/featurestores/lensv2_featurestore_t1/entityTypes/posts\n",
      "Batch create Features EntityType entityType backing LRO: projects/1181216607/locations/us-central1/featurestores/lensv2_featurestore_t1/entityTypes/posts/operations/8809122716033482752\n",
      "EntityType entityType Batch created features. Resource name: projects/1181216607/locations/us-central1/featurestores/lensv2_featurestore_t1/entityTypes/posts\n"
     ]
    },
    {
     "data": {
      "text/plain": [
       "<google.cloud.aiplatform.featurestore.entity_type.EntityType object at 0x1153ee5b0> \n",
       "resource name: projects/1181216607/locations/us-central1/featurestores/lensv2_featurestore_t1/entityTypes/posts"
      ]
     },
     "execution_count": 11,
     "metadata": {},
     "output_type": "execute_result"
    }
   ],
   "source": [
    "POSTS_FEATURE_CONFIGS = {\n",
    "        \"age\": {\"value_type\": \"INT64\", \"description\": \"Age of the post\"},\n",
    "        \"collects\": {\"value_type\": \"INT64\", \"description\": \"Number of collects\"},\n",
    "        \"comments\": {\"value_type\": \"INT64\", \"description\": \"Number of comments\"},\n",
    "        \"content_warning\": {\"value_type\": \"STRING\", \"description\": \"\"},\n",
    "        \"custom_filters_gardener_flagged\": {\"value_type\": \"BOOL\", \"description\": \"\"},\n",
    "        \"downvotes\": {\"value_type\": \"INT64\", \"description\": \"Number of downvotes\"},\n",
    "        \"is_content_warning\": {\"value_type\": \"BOOL\", \"description\": \"\"},\n",
    "        \"is_original\": {\n",
    "            \"value_type\": \"BOOL\", \n",
    "            \"description\": \"Original post or mirror of another post\"\n",
    "        },\n",
    "        \"language\": {\"value_type\": \"STRING\", \"description\": \"\"},\n",
    "        \"main_content_focus\": {\n",
    "            \"value_type\": \"STRING\", \n",
    "            \"description\": \"IMAGE, VIDEO or TEXT_ONLY\"\n",
    "        },\n",
    "        \"mirrors\": {\"value_type\": \"INT64\", \"description\": \"Number of mirrors\"},\n",
    "        \"recommend\": {\n",
    "             \"value_type\": \"STRING\",\n",
    "             \"description\": \"Label whether this post should be recommended or not\",\n",
    "        },\n",
    "        \"region\": {\"value_type\": \"STRING\", \"description\": \"Locale\"},\n",
    "        \"upvotes\": {\"value_type\": \"INT64\", \"description\": \"Number of upvotes\"},\n",
    "    }\n",
    "\n",
    "posts_entity_type.batch_create_features(feature_configs=POSTS_FEATURE_CONFIGS, sync=True)"
   ]
  },
  {
   "cell_type": "code",
   "execution_count": 12,
   "id": "1000d9ca",
   "metadata": {},
   "outputs": [
    {
     "name": "stdout",
     "output_type": "stream",
     "text": [
      "Creating Feature\n",
      "Create Feature backing LRO: projects/1181216607/locations/us-central1/featurestores/lensv2_featurestore_t1/entityTypes/posts/features/profile_id/operations/2821375905211875328\n",
      "Feature created. Resource name: projects/1181216607/locations/us-central1/featurestores/lensv2_featurestore_t1/entityTypes/posts/features/profile_id\n",
      "To use this Feature in another session:\n",
      "feature = aiplatform.Feature('projects/1181216607/locations/us-central1/featurestores/lensv2_featurestore_t1/entityTypes/posts/features/profile_id')\n"
     ]
    }
   ],
   "source": [
    "posts_feature_post_id = posts_entity_type.create_feature(\n",
    "    feature_id=\"profile_id\",\n",
    "    value_type=\"STRING\",\n",
    "    description=\"Profile Id of the author of this post\",\n",
    ")"
   ]
  },
  {
   "cell_type": "code",
   "execution_count": 13,
   "id": "e7b2fab4",
   "metadata": {},
   "outputs": [
    {
     "data": {
      "text/plain": [
       "[<google.cloud.aiplatform.featurestore.feature.Feature object at 0x1154cbf10> \n",
       " resource name: projects/1181216607/locations/us-central1/featurestores/lensv2_featurestore_t1/entityTypes/posts/features/custom_filters_gardener_flagged,\n",
       " <google.cloud.aiplatform.featurestore.feature.Feature object at 0x1154cb190> \n",
       " resource name: projects/1181216607/locations/us-central1/featurestores/lensv2_featurestore_t1/entityTypes/posts/features/region,\n",
       " <google.cloud.aiplatform.featurestore.feature.Feature object at 0x1154365e0> \n",
       " resource name: projects/1181216607/locations/us-central1/featurestores/lensv2_featurestore_t1/entityTypes/posts/features/language,\n",
       " <google.cloud.aiplatform.featurestore.feature.Feature object at 0x115436f70> \n",
       " resource name: projects/1181216607/locations/us-central1/featurestores/lensv2_featurestore_t1/entityTypes/posts/features/age,\n",
       " <google.cloud.aiplatform.featurestore.feature.Feature object at 0x115436e20> \n",
       " resource name: projects/1181216607/locations/us-central1/featurestores/lensv2_featurestore_t1/entityTypes/posts/features/is_content_warning,\n",
       " <google.cloud.aiplatform.featurestore.feature.Feature object at 0x115416580> \n",
       " resource name: projects/1181216607/locations/us-central1/featurestores/lensv2_featurestore_t1/entityTypes/posts/features/mirrors,\n",
       " <google.cloud.aiplatform.featurestore.feature.Feature object at 0x115416a30> \n",
       " resource name: projects/1181216607/locations/us-central1/featurestores/lensv2_featurestore_t1/entityTypes/posts/features/profile_id,\n",
       " <google.cloud.aiplatform.featurestore.feature.Feature object at 0x1153ee5e0> \n",
       " resource name: projects/1181216607/locations/us-central1/featurestores/lensv2_featurestore_t1/entityTypes/posts/features/comments,\n",
       " <google.cloud.aiplatform.featurestore.feature.Feature object at 0x1154563a0> \n",
       " resource name: projects/1181216607/locations/us-central1/featurestores/lensv2_featurestore_t1/entityTypes/posts/features/downvotes,\n",
       " <google.cloud.aiplatform.featurestore.feature.Feature object at 0x115456940> \n",
       " resource name: projects/1181216607/locations/us-central1/featurestores/lensv2_featurestore_t1/entityTypes/posts/features/upvotes,\n",
       " <google.cloud.aiplatform.featurestore.feature.Feature object at 0x115456640> \n",
       " resource name: projects/1181216607/locations/us-central1/featurestores/lensv2_featurestore_t1/entityTypes/posts/features/main_content_focus,\n",
       " <google.cloud.aiplatform.featurestore.feature.Feature object at 0x115464640> \n",
       " resource name: projects/1181216607/locations/us-central1/featurestores/lensv2_featurestore_t1/entityTypes/posts/features/collects,\n",
       " <google.cloud.aiplatform.featurestore.feature.Feature object at 0x115464cd0> \n",
       " resource name: projects/1181216607/locations/us-central1/featurestores/lensv2_featurestore_t1/entityTypes/posts/features/is_original,\n",
       " <google.cloud.aiplatform.featurestore.feature.Feature object at 0x1153ccbb0> \n",
       " resource name: projects/1181216607/locations/us-central1/featurestores/lensv2_featurestore_t1/entityTypes/posts/features/recommend,\n",
       " <google.cloud.aiplatform.featurestore.feature.Feature object at 0x1154d7040> \n",
       " resource name: projects/1181216607/locations/us-central1/featurestores/lensv2_featurestore_t1/entityTypes/posts/features/content_warning]"
      ]
     },
     "execution_count": 13,
     "metadata": {},
     "output_type": "execute_result"
    }
   ],
   "source": [
    "posts_entity_type.list_features()"
   ]
  },
  {
   "cell_type": "code",
   "execution_count": 14,
   "id": "263a7bfb",
   "metadata": {},
   "outputs": [
    {
     "name": "stdout",
     "output_type": "stream",
     "text": [
      "Batch creating features EntityType entityType: projects/1181216607/locations/us-central1/featurestores/lensv2_featurestore_t1/entityTypes/profiles\n",
      "Batch create Features EntityType entityType backing LRO: projects/1181216607/locations/us-central1/featurestores/lensv2_featurestore_t1/entityTypes/profiles/operations/450441807633842176\n",
      "EntityType entityType Batch created features. Resource name: projects/1181216607/locations/us-central1/featurestores/lensv2_featurestore_t1/entityTypes/profiles\n"
     ]
    }
   ],
   "source": [
    "PROFILES_FEATURE_CONFIGS = {\n",
    "    \"followship_score\": {\n",
    "        \"value_type\": \"DOUBLE\", \n",
    "        \"description\": \n",
    "          \"\"\"Global EigenTrust score computed using followship strategy\"\"\"\n",
    "    },\n",
    "    \"followship_rank\": {\n",
    "        \"value_type\": \"INT64\", \n",
    "        \"description\": \n",
    "          \"\"\"Global EigenTrust rank computed using followship strategy\"\"\"\n",
    "    },\n",
    "}\n",
    "\n",
    "profiles_features = profiles_entity_type.batch_create_features(\n",
    "    feature_configs=PROFILES_FEATURE_CONFIGS,\n",
    ")"
   ]
  },
  {
   "cell_type": "code",
   "execution_count": 15,
   "id": "9f6839d1",
   "metadata": {},
   "outputs": [],
   "source": [
    "# MORE_PROFILES_FEATURE_CONFIGS = {\n",
    "#     \"profile_id\": { \"value_type\": \"STRING\",\"description\": \"Profile Id from Lens\" },\n",
    "#     \"age\": { \"value_type\": \"INT64\", \"description\": \"Age of the post\" },\n",
    "#     \"posts\": { \"value_type\": \"INT64\",\"description\": \"Number of posts by profile\" },\n",
    "#     \"comments_in\": { \n",
    "#         \"value_type\": \"INT64\", \n",
    "#         \"description\": \"Number of comments this profile's posts have received\" \n",
    "#     },\n",
    "#     \"comments_out\": { \n",
    "#         \"value_type\": \"INT64\", \n",
    "#         \"description\": \"Number of comments that this profile has made\" \n",
    "#     },\n",
    "#     \"mirrors_in\": { \n",
    "#         \"value_type\": \"INT64\", \n",
    "#         \"description\": \"Number of mirrors this profile's posts have received\" \n",
    "#     },\n",
    "#     \"mirrors_out\": { \n",
    "#         \"value_type\": \"INT64\", \n",
    "#         \"description\": \"Number of mirrors that this profile has made\" \n",
    "#     },\n",
    "#     \"collects_in\": { \n",
    "#         \"value_type\": \"INT64\", \n",
    "#         \"description\": \"Number of collects this profile's posts have received\" \n",
    "#     },\n",
    "#     \"collects_out\": { \n",
    "#         \"value_type\": \"INT64\", \n",
    "#         \"description\": \"Number of collects that this profile has made\" \n",
    "#     },\n",
    "#     \"follows_in\": { \n",
    "#         \"value_type\": \"INT64\", \n",
    "#         \"description\": \"Number of profiles following this profile\" \n",
    "#     },\n",
    "#     \"follows_out\": { \n",
    "#         \"value_type\": \"INT64\", \n",
    "#         \"description\": \"Number of profiles that this profile follows\" \n",
    "#     },\n",
    "# }\n",
    "\n",
    "# profiles_features = profiles_entity_type.batch_create_features(\n",
    "#     feature_configs=MORE_PROFILES_FEATURE_CONFIGS,\n",
    "# )"
   ]
  },
  {
   "cell_type": "code",
   "execution_count": 16,
   "id": "520c0d65",
   "metadata": {},
   "outputs": [
    {
     "data": {
      "text/plain": [
       "[<google.cloud.aiplatform.featurestore.feature.Feature object at 0x1154d60d0> \n",
       " resource name: projects/1181216607/locations/us-central1/featurestores/lensv2_featurestore_t1/entityTypes/profiles/features/followship_score,\n",
       " <google.cloud.aiplatform.featurestore.feature.Feature object at 0x1154d6220> \n",
       " resource name: projects/1181216607/locations/us-central1/featurestores/lensv2_featurestore_t1/entityTypes/profiles/features/followship_rank]"
      ]
     },
     "execution_count": 16,
     "metadata": {},
     "output_type": "execute_result"
    }
   ],
   "source": [
    "profiles_entity_type.list_features()"
   ]
  },
  {
   "cell_type": "markdown",
   "id": "2312b4d0",
   "metadata": {},
   "source": [
    "## Sanity check featurestore"
   ]
  },
  {
   "cell_type": "code",
   "execution_count": 17,
   "id": "2c75e0a8",
   "metadata": {},
   "outputs": [
    {
     "data": {
      "text/plain": [
       "[<google.cloud.aiplatform.featurestore.feature.Feature object at 0x1154d7790> \n",
       " resource name: projects/1181216607/locations/us-central1/featurestores/lensv2_featurestore_t1/entityTypes/posts/features/age,\n",
       " <google.cloud.aiplatform.featurestore.feature.Feature object at 0x1154d78b0> \n",
       " resource name: projects/1181216607/locations/us-central1/featurestores/lensv2_featurestore_t1/entityTypes/posts/features/collects,\n",
       " <google.cloud.aiplatform.featurestore.feature.Feature object at 0x1154d7bb0> \n",
       " resource name: projects/1181216607/locations/us-central1/featurestores/lensv2_featurestore_t1/entityTypes/posts/features/comments,\n",
       " <google.cloud.aiplatform.featurestore.feature.Feature object at 0x1154d7df0> \n",
       " resource name: projects/1181216607/locations/us-central1/featurestores/lensv2_featurestore_t1/entityTypes/posts/features/content_warning,\n",
       " <google.cloud.aiplatform.featurestore.feature.Feature object at 0x115469ac0> \n",
       " resource name: projects/1181216607/locations/us-central1/featurestores/lensv2_featurestore_t1/entityTypes/posts/features/custom_filters_gardener_flagged,\n",
       " <google.cloud.aiplatform.featurestore.feature.Feature object at 0x115469b50> \n",
       " resource name: projects/1181216607/locations/us-central1/featurestores/lensv2_featurestore_t1/entityTypes/posts/features/downvotes,\n",
       " <google.cloud.aiplatform.featurestore.feature.Feature object at 0x115436f10> \n",
       " resource name: projects/1181216607/locations/us-central1/featurestores/lensv2_featurestore_t1/entityTypes/posts/features/is_content_warning,\n",
       " <google.cloud.aiplatform.featurestore.feature.Feature object at 0x1154cb9a0> \n",
       " resource name: projects/1181216607/locations/us-central1/featurestores/lensv2_featurestore_t1/entityTypes/posts/features/is_original,\n",
       " <google.cloud.aiplatform.featurestore.feature.Feature object at 0x1154d6850> \n",
       " resource name: projects/1181216607/locations/us-central1/featurestores/lensv2_featurestore_t1/entityTypes/posts/features/language,\n",
       " <google.cloud.aiplatform.featurestore.feature.Feature object at 0x1154d6a60> \n",
       " resource name: projects/1181216607/locations/us-central1/featurestores/lensv2_featurestore_t1/entityTypes/posts/features/main_content_focus,\n",
       " <google.cloud.aiplatform.featurestore.feature.Feature object at 0x1154d6eb0> \n",
       " resource name: projects/1181216607/locations/us-central1/featurestores/lensv2_featurestore_t1/entityTypes/posts/features/mirrors,\n",
       " <google.cloud.aiplatform.featurestore.feature.Feature object at 0x1154c9190> \n",
       " resource name: projects/1181216607/locations/us-central1/featurestores/lensv2_featurestore_t1/entityTypes/posts/features/profile_id,\n",
       " <google.cloud.aiplatform.featurestore.feature.Feature object at 0x1154c9520> \n",
       " resource name: projects/1181216607/locations/us-central1/featurestores/lensv2_featurestore_t1/entityTypes/posts/features/recommend,\n",
       " <google.cloud.aiplatform.featurestore.feature.Feature object at 0x1154c9760> \n",
       " resource name: projects/1181216607/locations/us-central1/featurestores/lensv2_featurestore_t1/entityTypes/posts/features/region,\n",
       " <google.cloud.aiplatform.featurestore.feature.Feature object at 0x1154c99a0> \n",
       " resource name: projects/1181216607/locations/us-central1/featurestores/lensv2_featurestore_t1/entityTypes/posts/features/upvotes,\n",
       " <google.cloud.aiplatform.featurestore.feature.Feature object at 0x1154c9be0> \n",
       " resource name: projects/1181216607/locations/us-central1/featurestores/lensv2_featurestore_t1/entityTypes/profiles/features/followship_rank,\n",
       " <google.cloud.aiplatform.featurestore.feature.Feature object at 0x1154c9e20> \n",
       " resource name: projects/1181216607/locations/us-central1/featurestores/lensv2_featurestore_t1/entityTypes/profiles/features/followship_score]"
      ]
     },
     "execution_count": 17,
     "metadata": {},
     "output_type": "execute_result"
    }
   ],
   "source": [
    "my_features = Feature.search(query=\"featurestore_id={}\".format(FEATURESTORE_ID))\n",
    "my_features"
   ]
  },
  {
   "cell_type": "code",
   "execution_count": 18,
   "id": "6eaebb98",
   "metadata": {},
   "outputs": [
    {
     "data": {
      "text/plain": [
       "name: \"projects/1181216607/locations/us-central1/featurestores/lensv2_featurestore_t1/entityTypes/profiles/features/followship_score\"\n",
       "description: \"Global EigenTrust score computed using followship strategy\"\n",
       "value_type: DOUBLE\n",
       "create_time {\n",
       "  seconds: 1699029691\n",
       "  nanos: 335633000\n",
       "}\n",
       "update_time {\n",
       "  seconds: 1699029691\n",
       "  nanos: 335634000\n",
       "}"
      ]
     },
     "execution_count": 18,
     "metadata": {},
     "output_type": "execute_result"
    }
   ],
   "source": [
    "double_features = Feature.search(\n",
    "    query=\"value_type=DOUBLE AND featurestore_id={}\".format(FEATURESTORE_ID)\n",
    ")\n",
    "double_features[0].gca_resource"
   ]
  },
  {
   "cell_type": "code",
   "execution_count": null,
   "id": "52334c4a",
   "metadata": {},
   "outputs": [],
   "source": []
  },
  {
   "cell_type": "code",
   "execution_count": null,
   "id": "53065268",
   "metadata": {},
   "outputs": [],
   "source": []
  }
 ],
 "metadata": {
  "kernelspec": {
   "display_name": "k3l-recommendation-env3",
   "language": "python",
   "name": "k3l-recommendation-env3"
  },
  "language_info": {
   "codemirror_mode": {
    "name": "ipython",
    "version": 3
   },
   "file_extension": ".py",
   "mimetype": "text/x-python",
   "name": "python",
   "nbconvert_exporter": "python",
   "pygments_lexer": "ipython3",
   "version": "3.9.18"
  }
 },
 "nbformat": 4,
 "nbformat_minor": 5
}
