{
 "cells": [
  {
   "cell_type": "code",
   "execution_count": 1,
   "id": "f1dbad2b",
   "metadata": {},
   "outputs": [],
   "source": [
    "import findspark\n",
    "# $ cd /opt\n",
    "# /opt$ sudo ln -s ~/apps/spark-3.4.0-bin-hadoop3 spark\n",
    "findspark.init(\"/opt/spark\") "
   ]
  },
  {
   "cell_type": "code",
   "execution_count": 2,
   "id": "60276a5b",
   "metadata": {},
   "outputs": [],
   "source": [
    "# https://github.com/GoogleCloudDataproc/hadoop-connectors/releases/\n",
    "\n",
    "# ! wget -P ~/apps https://github.com/GoogleCloudDataproc/hadoop-connectors/releases/download/v2.2.13/gcs-connector-hadoop2-2.2.13-shaded.jar"
   ]
  },
  {
   "cell_type": "code",
   "execution_count": 3,
   "id": "50a6b9c7",
   "metadata": {},
   "outputs": [],
   "source": [
    "# from pathlib import Path\n",
    "# gcs_jar = str(Path('~/apps/gcs-connector-hadoop2-2.2.13-shaded.jar').expanduser().resolve())\n",
    "\n",
    "# from pyspark.sql import SparkSession\n",
    "# spark = SparkSession.builder \\\n",
    "#             .appName(\"LensFeatures\") \\\n",
    "#             .config(\"spark.jars\", gcs_jar) \\\n",
    "#             .config(\"spark.jars.package\", gcs_jar) \\\n",
    "#             .getOrCreate()"
   ]
  },
  {
   "cell_type": "code",
   "execution_count": 4,
   "id": "2d051b88",
   "metadata": {},
   "outputs": [],
   "source": [
    "# conf = spark.sparkContext._jsc.hadoopConfiguration()\n",
    "# conf.set(\"fs.gs.impl\", \"com.google.cloud.hadoop.fs.gcs.GoogleHadoopFileSystem\")\n",
    "# conf.set(\"fs.AbstractFileSystem.gs.impl\",\"com.google.cloud.hadoop.fs.gcs.GoogleHadoopFS\")\n",
    "# conf.set(\"fs.gs.project.id\", \"boxwood-well-386122\")\n",
    "# conf.set(\"fs.gs.auth.service.account.enable\", \"true\")\n",
    "# conf.set(\"fs.gs.auth.service.account.json.keyfile\", secretLocation)"
   ]
  },
  {
   "cell_type": "code",
   "execution_count": 5,
   "id": "fe3acbc2",
   "metadata": {},
   "outputs": [],
   "source": [
    "# ! gcloud auth application-default login"
   ]
  },
  {
   "cell_type": "code",
   "execution_count": 6,
   "id": "7c08e277",
   "metadata": {},
   "outputs": [
    {
     "name": "stderr",
     "output_type": "stream",
     "text": [
      "23/05/18 11:15:59 WARN Utils: Your hostname, VIJAYs-MacBook-Pro.local resolves to a loopback address: 127.0.0.1; using 192.168.87.240 instead (on interface en0)\n",
      "23/05/18 11:15:59 WARN Utils: Set SPARK_LOCAL_IP if you need to bind to another address\n",
      "Setting default log level to \"WARN\".\n",
      "To adjust logging level use sc.setLogLevel(newLevel). For SparkR, use setLogLevel(newLevel).\n",
      "23/05/18 11:16:00 WARN NativeCodeLoader: Unable to load native-hadoop library for your platform... using builtin-java classes where applicable\n"
     ]
    }
   ],
   "source": [
    "from pyspark.sql import SparkSession\n",
    "spark = SparkSession.builder \\\n",
    "            .appName(\"LensFeatures\") \\\n",
    "            .config(\"spark.sql.session.timeZone\", \"UTC\")\n",
    "            .getOrCreate()"
   ]
  },
  {
   "cell_type": "code",
   "execution_count": 77,
   "id": "fa271d30",
   "metadata": {},
   "outputs": [],
   "source": [
    "# df = spark.read.option(\"header\",True).parquet(\"gs://vijay-lens-bigquery-export/public_profile/\")\n",
    "# df = spark.read.format(\"parquet\").load(\"gs://vijay-lens-bigquery-export/public_profile/\")\n",
    "df = spark.read \\\n",
    "            .parquet(\"/tmp/partitioned/\")"
   ]
  },
  {
   "cell_type": "code",
   "execution_count": 78,
   "id": "09e59aec",
   "metadata": {},
   "outputs": [
    {
     "name": "stdout",
     "output_type": "stream",
     "text": [
      "root\n",
      " |-- profile_id: string (nullable = true)\n",
      " |-- name: string (nullable = true)\n",
      " |-- handle: string (nullable = true)\n",
      " |-- profile_with_weights: string (nullable = true)\n",
      " |-- profile_picture_s3_url: string (nullable = true)\n",
      " |-- cover_picture_s3_url: string (nullable = true)\n",
      " |-- is_profile_picture_onchain: boolean (nullable = true)\n",
      " |-- owned_by: string (nullable = true)\n",
      " |-- is_burnt: boolean (nullable = true)\n",
      " |-- nft_contract: string (nullable = true)\n",
      " |-- nft_token_id: string (nullable = true)\n",
      " |-- nft_owner: string (nullable = true)\n",
      " |-- nft_chain_id: long (nullable = true)\n",
      " |-- is_default: boolean (nullable = true)\n",
      " |-- metadata_url: string (nullable = true)\n",
      " |-- metadata_s3_url: string (nullable = true)\n",
      " |-- is_metadata_processed: boolean (nullable = true)\n",
      " |-- has_error: boolean (nullable = true)\n",
      " |-- timeout_request: boolean (nullable = true)\n",
      " |-- metadata_error_reason: string (nullable = true)\n",
      " |-- app_id: string (nullable = true)\n",
      " |-- metadata_block_timestamp: timestamp_ntz (nullable = true)\n",
      " |-- metadata_created_block_hash: string (nullable = true)\n",
      " |-- metadata_tx_hash: string (nullable = true)\n",
      " |-- block_timestamp: timestamp_ntz (nullable = true)\n",
      " |-- created_block_hash: string (nullable = true)\n",
      " |-- datastream_metadata: struct (nullable = true)\n",
      " |    |-- uuid: string (nullable = true)\n",
      " |    |-- source_timestamp: long (nullable = true)\n",
      " |-- dtime: long (nullable = true)\n",
      "\n"
     ]
    }
   ],
   "source": [
    "df.printSchema()"
   ]
  },
  {
   "cell_type": "code",
   "execution_count": 79,
   "id": "93ebe6b3",
   "metadata": {},
   "outputs": [],
   "source": [
    "# \"bq extract\" and \"pyspark\" write timestamps differently\n",
    "# reading parquet files generated by the two methods causes conflicts \n",
    "# casting doesn't help. So, drop the columns for now\n",
    "# df = df.withColumn(\"block_timestamp\", df.block_timestamp.cast(\"timestamp\"))\n",
    "# df = df.withColumn(\"metadata_block_timestamp\", df.block_timestamp.cast(\"timestamp\"))\n",
    "\n",
    "\n",
    "from pyspark.sql.functions import col\n",
    "df = df.drop(col(\"datastream_metadata\")) \\\n",
    "        .drop(col(\"block_timestamp\")) \\\n",
    "        .drop(col(\"metadata_block_timestamp\"))"
   ]
  },
  {
   "cell_type": "code",
   "execution_count": 12,
   "id": "db58c6e1",
   "metadata": {},
   "outputs": [
    {
     "data": {
      "text/plain": [
       "datetime.datetime(2023, 5, 10, 0, 0)"
      ]
     },
     "execution_count": 12,
     "metadata": {},
     "output_type": "execute_result"
    }
   ],
   "source": [
    "from datetime import datetime, timezone\n",
    "prev_checkpoint = \"2023-05-10 00:00:00 UTC\"\n",
    "dt = datetime.strptime(prev_checkpoint, \"%Y-%m-%d %H:%M:%S %Z\")\n",
    "dt"
   ]
  },
  {
   "cell_type": "code",
   "execution_count": 13,
   "id": "324a8a0b",
   "metadata": {},
   "outputs": [
    {
     "data": {
      "text/plain": [
       "'20230510000000'"
      ]
     },
     "execution_count": 13,
     "metadata": {},
     "output_type": "execute_result"
    }
   ],
   "source": [
    "condn = dt.strftime(\"%Y%m%d%H%M%S\")\n",
    "condn"
   ]
  },
  {
   "cell_type": "code",
   "execution_count": 80,
   "id": "cf0c777f",
   "metadata": {},
   "outputs": [
    {
     "name": "stdout",
     "output_type": "stream",
     "text": [
      "+----------+---------+---------------------+----------------------------------+-----------------------------------------------------+--------------------+--------------------------+------------------------------------------+--------+------------+------------+---------+------------+----------+---------------------------------------------------------------+--------------------------------------------------------------------------------------+---------------------+---------+---------------+---------------------+------+------------------------------------------------------------------+------------------------------------------------------------------+------------------------------------------------------------------+--------------+\n",
      "|profile_id|name     |handle               |profile_with_weights              |profile_picture_s3_url                               |cover_picture_s3_url|is_profile_picture_onchain|owned_by                                  |is_burnt|nft_contract|nft_token_id|nft_owner|nft_chain_id|is_default|metadata_url                                                   |metadata_s3_url                                                                       |is_metadata_processed|has_error|timeout_request|metadata_error_reason|app_id|metadata_created_block_hash                                       |metadata_tx_hash                                                  |created_block_hash                                                |dtime         |\n",
      "+----------+---------+---------------------+----------------------------------+-----------------------------------------------------+--------------------+--------------------------+------------------------------------------+--------+------------+------------+---------+------------+----------+---------------------------------------------------------------+--------------------------------------------------------------------------------------+---------------------+---------+---------------+---------------------+------+------------------------------------------------------------------+------------------------------------------------------------------+------------------------------------------------------------------+--------------+\n",
      "|0x01cab6  |null     |baycmutant.lens      |'baycmutant.lens':1B              |null                                                 |null                |false                     |0x3a43f6E92708cB75425B0b1063526efbE783864D|false   |null        |null        |null     |null        |false     |null                                                           |null                                                                                  |false                |false    |false          |null                 |null  |null                                                              |null                                                              |0x30ad7c1121796d116e711ccdbf04cc4c6b0e441371bba0ccd90b03bfc62dde9f|20230518162358|\n",
      "|0x01cab0  |null     |therealslimshady.lens|'therealslimshady.lens':1B        |null                                                 |null                |false                     |0x946ecb45a0A6681c87abC6dc8f6471A7aB75337b|false   |null        |null        |null     |null        |false     |null                                                           |null                                                                                  |false                |false    |false          |null                 |null  |null                                                              |null                                                              |0xf8c31af075409ecf2b29a040f68a55878a40151a9ffe79e34518fb3fe3fe2bb0|20230518162358|\n",
      "|0x01cabe  |null     |ogasawara.lens       |'ogasawara.lens':1B               |null                                                 |null                |false                     |0xBA37a8D79Ea5c1CcfC30AD73e76A93553066eCf2|false   |null        |null        |null     |null        |false     |null                                                           |null                                                                                  |false                |false    |false          |null                 |null  |null                                                              |null                                                              |0x9ff3b14955fc65c9a8c31ecd373cae3be0d02bcb45453e9928a7a1703ff61b31|20230518162358|\n",
      "|0x01cac6  |null     |essidxb.lens         |'essidxb.lens':1B                 |null                                                 |null                |false                     |0x22614E4Fd48F5932B991915389b454C1B42AAe3b|false   |null        |null        |null     |null        |false     |null                                                           |null                                                                                  |false                |false    |false          |null                 |null  |null                                                              |null                                                              |0x4322d8a0bf30c225557dd6288ccea406cc0b87520803a70e8f66b5cf68d4200c|20230518162358|\n",
      "|0x01cac0  |null     |nando_nft.lens       |'nando_nft.lens':1B               |null                                                 |null                |false                     |0x69C1f3471ac09760077D71a3a60125a678B507d2|false   |null        |null        |null     |null        |false     |null                                                           |null                                                                                  |false                |false    |false          |null                 |null  |null                                                              |null                                                              |0x18a1c1dc97e747934a2af19607957ab6c9e94772a301da9ff0ab9ddc89da099e|20230518162358|\n",
      "|0x01cac1  |null     |kalau.lens           |'kalau.lens':1B                   |null                                                 |null                |false                     |0xF7ebe22631bCA5191dcb9df28ACd87914541683d|false   |null        |null        |null     |null        |false     |null                                                           |null                                                                                  |false                |false    |false          |null                 |null  |null                                                              |null                                                              |0x2ab4a53ec96af03401c648a5534825c970608c31bccffd479f804615fcc24de2|20230518162358|\n",
      "|0x01caaf  |null     |witcher3.lens        |'witcher3.lens':1B                |null                                                 |null                |false                     |0xb5750a89f5B23aD981f0D07f2272b72b78A44692|false   |null        |null        |null     |null        |false     |null                                                           |null                                                                                  |false                |false    |false          |null                 |null  |null                                                              |null                                                              |0x98aa47d5a7064e507dddc56da4c04dcb8ff8f20085f6e50184eadec77d223d5a|20230518162358|\n",
      "|0x01caad  |null     |misspurple.lens      |'misspurple.lens':1B              |null                                                 |null                |false                     |0x34C3C350b25546b013433B24763cE7F4cB8B246E|false   |null        |null        |null     |null        |false     |null                                                           |null                                                                                  |false                |false    |false          |null                 |null  |null                                                              |null                                                              |0xf48ffba9a55ef0bd08d54ce32441caabcaa4f2b73f45b8d33a9218e11acd0afe|20230518162358|\n",
      "|0x01caa7  |Preach   |abanpreach.lens      |'abanpreach.lens':2B 'preach':1A  |ipfs://QmatVtcXAt29dvdeTTRBs51xh5vQWh7tLS3mYGzZXEoYtG|null                |false                     |0xB14937F781E992746C8a2cbA2AdEDDbbA95050ED|false   |null        |null        |null     |null        |false     |https://arweave.net/9AZyJ3ABshLCjjyLIuI0lr5JAYIpEs08iBXnepfZbgE|https://statics-polygon-lens.s3.eu-west-1.amazonaws.com/profile_metadata/0x01caa7.json|true                 |false    |false          |null                 |null  |0x03f84a374faca1016f5388f1ed09bd75f97f5d33dbcc817b88b81b83f510837b|0x5c78ac401bf6e49a314e3310341d613f54fbe8a51712b51e61c729783c6e48d3|0xf697b60da13400e0b84cf152b76ac4edfb2f7ae431bd10d1b144d43aeb5361a4|20230518162358|\n",
      "|0x01cab7  |JarvisSan|jarvissan.lens       |'jarvissan':1A 'jarvissan.lens':2B|ipfs://QmXyit5zuB8kkFxiARFJH8LJR96f2mn9Y8EmUuB4F9G1k2|null                |false                     |0x6b635D72f94eC8029466001b4D97dFa33B0b0f2F|false   |null        |null        |null     |null        |false     |https://arweave.net/37R0zoDLT3TAVCsM453jTqWICELSDhkpKFKqtjjDgrY|https://statics-polygon-lens.s3.eu-west-1.amazonaws.com/profile_metadata/0x01cab7.json|true                 |false    |false          |null                 |null  |0xb9a1c1878931fd69913bf7fdb2121b3adc91c4fe3543cab72d4cf661730e5657|0x62f65ec64240cc25324e997582fc729bab8e7bedcceb7214ef34e2f47feda25b|0xf0a20dc94f4c9047ab7756fdacc7e13344528d8864b0760952584e67a4ef75e8|20230518162358|\n",
      "+----------+---------+---------------------+----------------------------------+-----------------------------------------------------+--------------------+--------------------------+------------------------------------------+--------+------------+------------+---------+------------+----------+---------------------------------------------------------------+--------------------------------------------------------------------------------------+---------------------+---------+---------------+---------------------+------+------------------------------------------------------------------+------------------------------------------------------------------+------------------------------------------------------------------+--------------+\n",
      "only showing top 10 rows\n",
      "\n"
     ]
    }
   ],
   "source": [
    "from pyspark.sql.functions import max, to_utc_timestamp\n",
    "\n",
    "df.where(f\"dtime > {condn}\").show(10, truncate=False)"
   ]
  },
  {
   "cell_type": "code",
   "execution_count": null,
   "id": "a6550a42",
   "metadata": {},
   "outputs": [],
   "source": []
  }
 ],
 "metadata": {
  "kernelspec": {
   "display_name": "k3l-recommendation-env3",
   "language": "python",
   "name": "k3l-recommendation-env3"
  },
  "language_info": {
   "codemirror_mode": {
    "name": "ipython",
    "version": 3
   },
   "file_extension": ".py",
   "mimetype": "text/x-python",
   "name": "python",
   "nbconvert_exporter": "python",
   "pygments_lexer": "ipython3",
   "version": "3.9.16"
  }
 },
 "nbformat": 4,
 "nbformat_minor": 5
}
