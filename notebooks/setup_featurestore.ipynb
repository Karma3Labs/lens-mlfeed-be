{
 "cells": [
  {
   "cell_type": "code",
   "execution_count": 1,
   "id": "724333c2",
   "metadata": {},
   "outputs": [],
   "source": [
    "PROJECT_ID = \"boxwood-well-386122\"\n",
    "REGION = \"us-central1\"\n",
    "BUCKET_URI = \"gs://vijay-lens-feature-store-temp\"  \n",
    "from google.cloud import aiplatform\n",
    "aiplatform.init(project=PROJECT_ID, location=REGION, staging_bucket=BUCKET_URI)"
   ]
  },
  {
   "cell_type": "code",
   "execution_count": null,
   "id": "50211a66",
   "metadata": {},
   "outputs": [],
   "source": [
    "# Credentials saved to file: [/Users/vijay/.config/gcloud/application_default_credentials.json]\n",
    "# These credentials will be used by any library that requests Application Default Credentials (ADC).\n",
    "\n",
    "! gcloud auth application-default login"
   ]
  },
  {
   "cell_type": "code",
   "execution_count": null,
   "id": "ae3123e7",
   "metadata": {},
   "outputs": [],
   "source": [
    "# Create bucket if not already created\n",
    "# ! gsutil mb -l $REGION -p $PROJECT_ID $BUCKET_URI"
   ]
  },
  {
   "cell_type": "code",
   "execution_count": 2,
   "id": "466436f3",
   "metadata": {},
   "outputs": [],
   "source": [
    "from google.cloud.aiplatform import Feature, Featurestore"
   ]
  },
  {
   "cell_type": "code",
   "execution_count": 3,
   "id": "0768a50b",
   "metadata": {},
   "outputs": [],
   "source": [
    "FEATURESTORE_ID = \"lens_featurestore_d2\"\n",
    "# ONLINE_STORE_FIXED_NODE_COUNT = None\n",
    "# fs = Featurestore.create(\n",
    "#     featurestore_id=FEATURESTORE_ID,\n",
    "#     online_store_fixed_node_count=ONLINE_STORE_FIXED_NODE_COUNT,\n",
    "#     project=PROJECT_ID,\n",
    "#     location=REGION,\n",
    "#     sync=True,\n",
    "# )"
   ]
  },
  {
   "cell_type": "code",
   "execution_count": 4,
   "id": "e5715047",
   "metadata": {},
   "outputs": [
    {
     "name": "stdout",
     "output_type": "stream",
     "text": [
      "name: \"projects/1181216607/locations/us-central1/featurestores/lens_featurestore_d2\"\n",
      "create_time {\n",
      "  seconds: 1684349445\n",
      "  nanos: 286219000\n",
      "}\n",
      "update_time {\n",
      "  seconds: 1684349445\n",
      "  nanos: 525844000\n",
      "}\n",
      "etag: \"AMEw9yPra__wqYt7nNMrKfhYR0jqmBSmPJv5SK6U4fCxH0vLXTYTx6aHF4qmPIdjnxOX\"\n",
      "online_serving_config {\n",
      "}\n",
      "state: STABLE\n",
      "\n"
     ]
    }
   ],
   "source": [
    "fs = Featurestore(\n",
    "    featurestore_name=FEATURESTORE_ID\n",
    ")\n",
    "print(fs.gca_resource)"
   ]
  },
  {
   "cell_type": "code",
   "execution_count": null,
   "id": "16039aa5",
   "metadata": {},
   "outputs": [],
   "source": [
    "# Create the `profiles` entity type\n",
    "# profiles_entity_type = fs.create_entity_type(\n",
    "#     entity_type_id=\"profiles\",\n",
    "#     description=\"Lens Profile entity\",\n",
    "# )"
   ]
  },
  {
   "cell_type": "code",
   "execution_count": null,
   "id": "46f9959f",
   "metadata": {},
   "outputs": [],
   "source": [
    "# Create the `posts` entity type\n",
    "# posts_entity_type = fs.create_entity_type(\n",
    "#     entity_type_id=\"posts\",\n",
    "#     description=\"Lens Post entity\",\n",
    "# )"
   ]
  },
  {
   "cell_type": "code",
   "execution_count": 5,
   "id": "de14018a",
   "metadata": {},
   "outputs": [
    {
     "data": {
      "text/plain": [
       "[<google.cloud.aiplatform.featurestore.entity_type.EntityType object at 0x11b525850> \n",
       " resource name: projects/1181216607/locations/us-central1/featurestores/lens_featurestore_d2/entityTypes/posts,\n",
       " <google.cloud.aiplatform.featurestore.entity_type.EntityType object at 0x11b525b20> \n",
       " resource name: projects/1181216607/locations/us-central1/featurestores/lens_featurestore_d2/entityTypes/profiles]"
      ]
     },
     "execution_count": 5,
     "metadata": {},
     "output_type": "execute_result"
    }
   ],
   "source": [
    "fs.list_entity_types()"
   ]
  },
  {
   "cell_type": "code",
   "execution_count": 6,
   "id": "b3c9b974",
   "metadata": {},
   "outputs": [
    {
     "name": "stdout",
     "output_type": "stream",
     "text": [
      "<google.cloud.aiplatform.featurestore.entity_type.EntityType object at 0x11b5b8af0> \n",
      "resource name: projects/1181216607/locations/us-central1/featurestores/lens_featurestore_d2/entityTypes/profiles\n",
      "<google.cloud.aiplatform.featurestore.entity_type.EntityType object at 0x11b542f70> \n",
      "resource name: projects/1181216607/locations/us-central1/featurestores/lens_featurestore_d2/entityTypes/posts\n"
     ]
    }
   ],
   "source": [
    "profiles_entity_type = fs.get_entity_type(entity_type_id=\"profiles\")\n",
    "posts_entity_type = fs.get_entity_type(entity_type_id=\"posts\")\n",
    "print(profiles_entity_type)\n",
    "print(posts_entity_type)"
   ]
  },
  {
   "cell_type": "code",
   "execution_count": null,
   "id": "cd4241c0",
   "metadata": {},
   "outputs": [],
   "source": [
    "# POSTS_FEATURE_CONFIGS = {\n",
    "#         \"age\": {\"value_type\": \"INT64\", \"description\": \"Age of the post\"},\n",
    "#         \"mirrors\": {\"value_type\": \"INT64\", \"description\": \"Number of mirrors\"},\n",
    "#         \"collects\": {\"value_type\": \"INT64\", \"description\": \"Number of collects\"},\n",
    "#         \"comments\": {\"value_type\": \"INT64\", \"description\": \"Number of comments\"},\n",
    "#         \"upvotes\": {\"value_type\": \"INT64\", \"description\": \"Number of upvotes\"},\n",
    "#         \"downvotes\": {\"value_type\": \"INT64\", \"description\": \"Number of downvotes\"},\n",
    "#         \"is_original\": {\n",
    "#             \"value_type\": \"BOOL\", \n",
    "#             \"description\": \"Original post or mirror of another post\"\n",
    "#         },\n",
    "#         \"language\": {\"value_type\": \"STRING\", \"description\": \"\"},\n",
    "#         \"region\": {\"value_type\": \"STRING\", \"description\": \"Locale\"},\n",
    "#         \"is_content_warning\": {\"value_type\": \"BOOL\", \"description\": \"\"},\n",
    "#         \"content_warning\": {\"value_type\": \"STRING\", \"description\": \"\"},\n",
    "#         \"main_content_focus\": {\n",
    "#             \"value_type\": \"STRING\", \n",
    "#             \"description\": \"IMAGE, VIDEO or TEXT_ONLY\"\n",
    "#         },\n",
    "#         \"custom_filters_gardener_flagged\": {\"value_type\": \"BOOL\", \"description\": \"\"},\n",
    "#         \"recommend\": {\n",
    "#              \"value_type\": \"STRING\",\n",
    "#              \"description\": \"Label whether this post should be recommended or not\",\n",
    "#         },\n",
    "#     }\n",
    "\n",
    "# posts_entity_type.batch_create_features(feature_configs=POSTS_FEATURE_CONFIGS, sync=True)"
   ]
  },
  {
   "cell_type": "code",
   "execution_count": null,
   "id": "1000d9ca",
   "metadata": {},
   "outputs": [],
   "source": [
    "# posts_feature_post_id = posts_entity_type.create_feature(\n",
    "#     feature_id=\"profile_id\",\n",
    "#     value_type=\"STRING\",\n",
    "#     description=\"Profile Id of the author of this post\",\n",
    "# )"
   ]
  },
  {
   "cell_type": "code",
   "execution_count": 7,
   "id": "e7b2fab4",
   "metadata": {},
   "outputs": [
    {
     "data": {
      "text/plain": [
       "[<google.cloud.aiplatform.featurestore.feature.Feature object at 0x11b542430> \n",
       " resource name: projects/1181216607/locations/us-central1/featurestores/lens_featurestore_d2/entityTypes/posts/features/main_content_focus,\n",
       " <google.cloud.aiplatform.featurestore.feature.Feature object at 0x11b5c7d90> \n",
       " resource name: projects/1181216607/locations/us-central1/featurestores/lens_featurestore_d2/entityTypes/posts/features/comments,\n",
       " <google.cloud.aiplatform.featurestore.feature.Feature object at 0x11b5d1610> \n",
       " resource name: projects/1181216607/locations/us-central1/featurestores/lens_featurestore_d2/entityTypes/posts/features/language,\n",
       " <google.cloud.aiplatform.featurestore.feature.Feature object at 0x11b5d1b80> \n",
       " resource name: projects/1181216607/locations/us-central1/featurestores/lens_featurestore_d2/entityTypes/posts/features/recommend,\n",
       " <google.cloud.aiplatform.featurestore.feature.Feature object at 0x11b5d1fd0> \n",
       " resource name: projects/1181216607/locations/us-central1/featurestores/lens_featurestore_d2/entityTypes/posts/features/downvotes,\n",
       " <google.cloud.aiplatform.featurestore.feature.Feature object at 0x11b5d1160> \n",
       " resource name: projects/1181216607/locations/us-central1/featurestores/lens_featurestore_d2/entityTypes/posts/features/mirrors,\n",
       " <google.cloud.aiplatform.featurestore.feature.Feature object at 0x11b5d6100> \n",
       " resource name: projects/1181216607/locations/us-central1/featurestores/lens_featurestore_d2/entityTypes/posts/features/is_content_warning,\n",
       " <google.cloud.aiplatform.featurestore.feature.Feature object at 0x11b5d6610> \n",
       " resource name: projects/1181216607/locations/us-central1/featurestores/lens_featurestore_d2/entityTypes/posts/features/custom_filters_gardener_flagged,\n",
       " <google.cloud.aiplatform.featurestore.feature.Feature object at 0x11b5d6b80> \n",
       " resource name: projects/1181216607/locations/us-central1/featurestores/lens_featurestore_d2/entityTypes/posts/features/upvotes,\n",
       " <google.cloud.aiplatform.featurestore.feature.Feature object at 0x11b5d6850> \n",
       " resource name: projects/1181216607/locations/us-central1/featurestores/lens_featurestore_d2/entityTypes/posts/features/age,\n",
       " <google.cloud.aiplatform.featurestore.feature.Feature object at 0x11b5d64c0> \n",
       " resource name: projects/1181216607/locations/us-central1/featurestores/lens_featurestore_d2/entityTypes/posts/features/region,\n",
       " <google.cloud.aiplatform.featurestore.feature.Feature object at 0x11b5d1940> \n",
       " resource name: projects/1181216607/locations/us-central1/featurestores/lens_featurestore_d2/entityTypes/posts/features/is_original,\n",
       " <google.cloud.aiplatform.featurestore.feature.Feature object at 0x11b5df400> \n",
       " resource name: projects/1181216607/locations/us-central1/featurestores/lens_featurestore_d2/entityTypes/posts/features/profile_id,\n",
       " <google.cloud.aiplatform.featurestore.feature.Feature object at 0x11b5df970> \n",
       " resource name: projects/1181216607/locations/us-central1/featurestores/lens_featurestore_d2/entityTypes/posts/features/collects,\n",
       " <google.cloud.aiplatform.featurestore.feature.Feature object at 0x11b5d18b0> \n",
       " resource name: projects/1181216607/locations/us-central1/featurestores/lens_featurestore_d2/entityTypes/posts/features/content_warning]"
      ]
     },
     "execution_count": 7,
     "metadata": {},
     "output_type": "execute_result"
    }
   ],
   "source": [
    "posts_entity_type.list_features()"
   ]
  },
  {
   "cell_type": "code",
   "execution_count": 9,
   "id": "63b6643e",
   "metadata": {},
   "outputs": [
    {
     "name": "stdout",
     "output_type": "stream",
     "text": [
      "Deleting Feature : projects/1181216607/locations/us-central1/featurestores/lens_featurestore_d2/entityTypes/profiles/features/author_f6c3m8col12enh_rank\n",
      "Delete Feature  backing LRO: projects/1181216607/locations/us-central1/featurestores/lens_featurestore_d2/entityTypes/profiles/operations/4482808068647682048\n",
      "Feature deleted. . Resource name: projects/1181216607/locations/us-central1/featurestores/lens_featurestore_d2/entityTypes/profiles/features/author_f6c3m8col12enh_rank\n",
      "Deleting Feature : projects/1181216607/locations/us-central1/featurestores/lens_featurestore_d2/entityTypes/profiles/features/author_f6c3m8col12enh_score\n",
      "Delete Feature  backing LRO: projects/1181216607/locations/us-central1/featurestores/lens_featurestore_d2/entityTypes/profiles/operations/5786600160771440640\n",
      "Feature deleted. . Resource name: projects/1181216607/locations/us-central1/featurestores/lens_featurestore_d2/entityTypes/profiles/features/author_f6c3m8col12enh_score\n"
     ]
    }
   ],
   "source": [
    "# DELETE_FEATURES = ['author_f6c3m8col12enh_rank', 'author_f6c3m8col12enh_score']\n",
    "# profiles_entity_type.delete_features(feature_ids = DELETE_FEATURES)"
   ]
  },
  {
   "cell_type": "code",
   "execution_count": 10,
   "id": "263a7bfb",
   "metadata": {},
   "outputs": [
    {
     "name": "stdout",
     "output_type": "stream",
     "text": [
      "Batch creating features EntityType entityType: projects/1181216607/locations/us-central1/featurestores/lens_featurestore_d2/entityTypes/profiles\n",
      "Batch create Features EntityType entityType backing LRO: projects/1181216607/locations/us-central1/featurestores/lens_featurestore_d2/entityTypes/profiles/operations/2872771201862729728\n",
      "EntityType entityType Batch created features. Resource name: projects/1181216607/locations/us-central1/featurestores/lens_featurestore_d2/entityTypes/profiles\n"
     ]
    }
   ],
   "source": [
    "# PROFILES_FEATURE_CONFIGS = {\n",
    "#     \"followship_score\": {\n",
    "#         \"value_type\": \"DOUBLE\", \n",
    "#         \"description\": \n",
    "#           \"\"\"Global EigenTrust score computed using followship strategy\"\"\"\n",
    "#     },\n",
    "#     \"followship_rank\": {\n",
    "#         \"value_type\": \"INT64\", \n",
    "#         \"description\": \n",
    "#           \"\"\"Global EigenTrust rank computed using followship strategy\"\"\"\n",
    "#     },\n",
    "# }\n",
    "\n",
    "# profiles_features = profiles_entity_type.batch_create_features(\n",
    "#     feature_configs=PROFILES_FEATURE_CONFIGS,\n",
    "# )"
   ]
  },
  {
   "cell_type": "code",
   "execution_count": null,
   "id": "9f6839d1",
   "metadata": {},
   "outputs": [],
   "source": [
    "# MORE_PROFILES_FEATURE_CONFIGS = {\n",
    "#     \"profile_id\": { \"value_type\": \"STRING\",\"description\": \"Profile Id from Lens\" },\n",
    "#     \"age\": { \"value_type\": \"INT64\", \"description\": \"Age of the post\" },\n",
    "#     \"posts\": { \"value_type\": \"INT64\",\"description\": \"Number of posts by profile\" },\n",
    "#     \"comments_in\": { \n",
    "#         \"value_type\": \"INT64\", \n",
    "#         \"description\": \"Number of comments this profile's posts have received\" \n",
    "#     },\n",
    "#     \"comments_out\": { \n",
    "#         \"value_type\": \"INT64\", \n",
    "#         \"description\": \"Number of comments that this profile has made\" \n",
    "#     },\n",
    "#     \"mirrors_in\": { \n",
    "#         \"value_type\": \"INT64\", \n",
    "#         \"description\": \"Number of mirrors this profile's posts have received\" \n",
    "#     },\n",
    "#     \"mirrors_out\": { \n",
    "#         \"value_type\": \"INT64\", \n",
    "#         \"description\": \"Number of mirrors that this profile has made\" \n",
    "#     },\n",
    "#     \"collects_in\": { \n",
    "#         \"value_type\": \"INT64\", \n",
    "#         \"description\": \"Number of collects this profile's posts have received\" \n",
    "#     },\n",
    "#     \"collects_out\": { \n",
    "#         \"value_type\": \"INT64\", \n",
    "#         \"description\": \"Number of collects that this profile has made\" \n",
    "#     },\n",
    "#     \"follows_in\": { \n",
    "#         \"value_type\": \"INT64\", \n",
    "#         \"description\": \"Number of profiles following this profile\" \n",
    "#     },\n",
    "#     \"follows_out\": { \n",
    "#         \"value_type\": \"INT64\", \n",
    "#         \"description\": \"Number of profiles that this profile follows\" \n",
    "#     },\n",
    "# }\n",
    "\n",
    "# profiles_features = profiles_entity_type.batch_create_features(\n",
    "#     feature_configs=MORE_PROFILES_FEATURE_CONFIGS,\n",
    "# )"
   ]
  },
  {
   "cell_type": "code",
   "execution_count": 11,
   "id": "520c0d65",
   "metadata": {},
   "outputs": [
    {
     "data": {
      "text/plain": [
       "[<google.cloud.aiplatform.featurestore.feature.Feature object at 0x11b5e3ac0> \n",
       " resource name: projects/1181216607/locations/us-central1/featurestores/lens_featurestore_d2/entityTypes/profiles/features/followship_score,\n",
       " <google.cloud.aiplatform.featurestore.feature.Feature object at 0x11b5ee2e0> \n",
       " resource name: projects/1181216607/locations/us-central1/featurestores/lens_featurestore_d2/entityTypes/profiles/features/followship_rank]"
      ]
     },
     "execution_count": 11,
     "metadata": {},
     "output_type": "execute_result"
    }
   ],
   "source": [
    "profiles_entity_type.list_features()"
   ]
  },
  {
   "cell_type": "code",
   "execution_count": null,
   "id": "fec5c2ec",
   "metadata": {},
   "outputs": [],
   "source": []
  },
  {
   "cell_type": "code",
   "execution_count": null,
   "id": "f7684cc9",
   "metadata": {},
   "outputs": [],
   "source": []
  },
  {
   "cell_type": "markdown",
   "id": "2312b4d0",
   "metadata": {},
   "source": [
    "## Sanity check featurestore"
   ]
  },
  {
   "cell_type": "code",
   "execution_count": null,
   "id": "2c75e0a8",
   "metadata": {},
   "outputs": [],
   "source": [
    "my_features = Feature.search(query=\"featurestore_id={}\".format(FEATURESTORE_ID))\n",
    "my_features"
   ]
  },
  {
   "cell_type": "code",
   "execution_count": null,
   "id": "6eaebb98",
   "metadata": {},
   "outputs": [],
   "source": [
    "double_features = Feature.search(\n",
    "    query=\"value_type=DOUBLE AND featurestore_id={}\".format(FEATURESTORE_ID)\n",
    ")\n",
    "double_features[0].gca_resource"
   ]
  },
  {
   "cell_type": "code",
   "execution_count": null,
   "id": "52334c4a",
   "metadata": {},
   "outputs": [],
   "source": []
  },
  {
   "cell_type": "code",
   "execution_count": null,
   "id": "53065268",
   "metadata": {},
   "outputs": [],
   "source": []
  }
 ],
 "metadata": {
  "kernelspec": {
   "display_name": "k3l-recommendation-env3",
   "language": "python",
   "name": "k3l-recommendation-env3"
  },
  "language_info": {
   "codemirror_mode": {
    "name": "ipython",
    "version": 3
   },
   "file_extension": ".py",
   "mimetype": "text/x-python",
   "name": "python",
   "nbconvert_exporter": "python",
   "pygments_lexer": "ipython3",
   "version": "3.9.16"
  }
 },
 "nbformat": 4,
 "nbformat_minor": 5
}
