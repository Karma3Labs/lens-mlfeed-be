{
 "cells": [
  {
   "cell_type": "code",
   "execution_count": 1,
   "id": "a5e6715e",
   "metadata": {},
   "outputs": [],
   "source": [
    "import findspark\n",
    "# $ cd /opt\n",
    "# /opt$ sudo ln -s ~/apps/spark-3.4.0-bin-hadoop3 spark\n",
    "findspark.init(\"/opt/spark\") "
   ]
  },
  {
   "cell_type": "code",
   "execution_count": 2,
   "id": "5df15204",
   "metadata": {},
   "outputs": [
    {
     "name": "stderr",
     "output_type": "stream",
     "text": [
      "23/05/14 08:01:15 WARN Utils: Your hostname, VIJAYs-MacBook-Pro.local resolves to a loopback address: 127.0.0.1; using 192.168.87.240 instead (on interface en0)\n",
      "23/05/14 08:01:15 WARN Utils: Set SPARK_LOCAL_IP if you need to bind to another address\n",
      "Setting default log level to \"WARN\".\n",
      "To adjust logging level use sc.setLogLevel(newLevel). For SparkR, use setLogLevel(newLevel).\n",
      "23/05/14 08:01:17 WARN NativeCodeLoader: Unable to load native-hadoop library for your platform... using builtin-java classes where applicable\n"
     ]
    }
   ],
   "source": [
    "# import pyspark\n",
    "# sc = pyspark.SparkContext(appName=\"globalContent\")\n",
    "\n",
    "# pg_jar = str(Path('~/apps/postgresql-42.5.4.jar').expanduser().resolve())\n",
    "# bq_jar = str(Path('~/apps/spark-bigquery-with-dependencies_2.12-0.30.0.jar').expanduser().resolve())\n",
    "# spark_jars = f\"{pg_jar},{bq_jar}\"\n",
    "\n",
    "from pyspark.sql import SparkSession\n",
    "# spark = SparkSession.builder \\\n",
    "#             .appName(\"LensFeatures\") \\\n",
    "#             .config(\"spark.jars\", spark_jars) \\\n",
    "#             .getOrCreate()\n",
    "spark = SparkSession.builder \\\n",
    "            .appName(\"LensFeatures\") \\\n",
    "            .getOrCreate()"
   ]
  },
  {
   "cell_type": "code",
   "execution_count": 3,
   "id": "af32705b",
   "metadata": {},
   "outputs": [
    {
     "name": "stderr",
     "output_type": "stream",
     "text": [
      "                                                                                \r"
     ]
    }
   ],
   "source": [
    "# posts_df = spark.read.format('com.google.cloud.spark.bigquery') \\\n",
    "#                     .option('table','lens-public-data.polygon.public_profile_post') \\\n",
    "#                     .load()\n",
    "posts_df = spark.read.csv(\"/tmp/lens_bigquery_csvs/public_profile_post/\", \n",
    "                          header=True, \n",
    "                          escape=\"\\\"\",\n",
    "                          multiLine=True,\n",
    "                          inferSchema=True)"
   ]
  },
  {
   "cell_type": "code",
   "execution_count": 4,
   "id": "f81dae8e",
   "metadata": {},
   "outputs": [],
   "source": [
    "# from pyspark.sql.functions import lit, current_timestamp, to_timestamp\n",
    "# # ts = to_timestamp(lit('05-12-2023 00:00:00.000'),'MM-dd-yyyy HH:mm:ss.SSS')\n",
    "# ts = current_timestamp()\n",
    "# posts_df = posts_df \\\n",
    "#             .select(\"post_id\") \\\n",
    "#             .withColumn(\"timestamp\", ts)\n",
    "\n",
    "from pyspark.sql.functions import col\n",
    "posts_df = posts_df.select(col(\"post_id\").alias(\"posts\"))"
   ]
  },
  {
   "cell_type": "code",
   "execution_count": 5,
   "id": "a5204c89",
   "metadata": {},
   "outputs": [
    {
     "name": "stdout",
     "output_type": "stream",
     "text": [
      "Your browser has been opened to visit:\n",
      "\n",
      "    https://accounts.google.com/o/oauth2/auth?response_type=code&client_id=764086051850-6qr4p6gpi6hn506pt8ejuq83di341hur.apps.googleusercontent.com&redirect_uri=http%3A%2F%2Flocalhost%3A8085%2F&scope=openid+https%3A%2F%2Fwww.googleapis.com%2Fauth%2Fuserinfo.email+https%3A%2F%2Fwww.googleapis.com%2Fauth%2Fcloud-platform+https%3A%2F%2Fwww.googleapis.com%2Fauth%2Fsqlservice.login+https%3A%2F%2Fwww.googleapis.com%2Fauth%2Faccounts.reauth&state=ZJr0RmkgNDJQ0G7diiA2uqWQoq981G&access_type=offline&code_challenge=HoZpsw0r8In1-SYM2r9RcwElGznHgR3ZqHbIY_TY1uc&code_challenge_method=S256\n",
      "\n",
      "\n",
      "Credentials saved to file: [/Users/vijay/.config/gcloud/application_default_credentials.json]\n",
      "\n",
      "These credentials will be used by any library that requests Application Default Credentials (ADC).\n",
      "\n",
      "Quota project \"boxwood-well-386122\" was added to ADC which can be used by Google client libraries for billing and quota. Note that some services may still bill the project owning the resource.\n"
     ]
    }
   ],
   "source": [
    "! gcloud auth application-default login"
   ]
  },
  {
   "cell_type": "code",
   "execution_count": 6,
   "id": "d23d6d94",
   "metadata": {},
   "outputs": [],
   "source": [
    "PROJECT_ID = \"boxwood-well-386122\"\n",
    "REGION = \"us-central1\"\n",
    "BUCKET_URI = \"gs://vijay-lens-feature-store-temp\"  \n",
    "from google.cloud import aiplatform\n",
    "aiplatform.init(project=PROJECT_ID, location=REGION, staging_bucket=BUCKET_URI)"
   ]
  },
  {
   "cell_type": "code",
   "execution_count": 7,
   "id": "ff31e925",
   "metadata": {},
   "outputs": [
    {
     "name": "stdout",
     "output_type": "stream",
     "text": [
      "name: \"projects/1181216607/locations/us-central1/featurestores/lens_featurestore_dev\"\n",
      "create_time {\n",
      "  seconds: 1683658565\n",
      "  nanos: 777177000\n",
      "}\n",
      "update_time {\n",
      "  seconds: 1683730147\n",
      "  nanos: 63762000\n",
      "}\n",
      "etag: \"AMEw9yMW0zkR_o9vtJ56wWmP1MuZxSie3Bd9UBb2qPIph56liRtbLQHpROKVDQ4ehdo=\"\n",
      "online_serving_config {\n",
      "}\n",
      "state: STABLE\n",
      "\n"
     ]
    }
   ],
   "source": [
    "FEATURESTORE_ID = \"lens_featurestore_dev\"\n",
    "from google.cloud.aiplatform import Feature, Featurestore\n",
    "fs = Featurestore(\n",
    "    featurestore_name=FEATURESTORE_ID\n",
    ")\n",
    "print(fs.gca_resource)"
   ]
  },
  {
   "cell_type": "code",
   "execution_count": 8,
   "id": "2bd2ea9e",
   "metadata": {},
   "outputs": [],
   "source": [
    "posts_entity_type = fs.get_entity_type(entity_type_id=\"posts\")"
   ]
  },
  {
   "cell_type": "code",
   "execution_count": 9,
   "id": "f2dfd857",
   "metadata": {},
   "outputs": [
    {
     "name": "stdout",
     "output_type": "stream",
     "text": [
      "{'posts': ['region', 'class2', 'post_id', 'collects', 'author_f6c3m8col12enh_score', 'custom_filters_gardener_flagged', 'upvotes', 'content_warning', 'classes', 'mirrors', 'is_original', 'recommend', 'is_content_warning', 'class3', 'age', 'author_f6c3m8col12enh_rank', 'downvotes', 'main_content_focus', 'comments', 'class1', 'profile_id', 'language']}\n"
     ]
    }
   ],
   "source": [
    "POSTS_FEATURES_IDS = {'posts': [feature.name for feature in posts_entity_type.list_features()]}\n",
    "print(POSTS_FEATURES_IDS)"
   ]
  },
  {
   "cell_type": "code",
   "execution_count": 10,
   "id": "330b78af",
   "metadata": {},
   "outputs": [
    {
     "name": "stderr",
     "output_type": "stream",
     "text": [
      "                                                                                \r"
     ]
    }
   ],
   "source": [
    "INSTANCES_DF = posts_df.toPandas()"
   ]
  },
  {
   "cell_type": "code",
   "execution_count": 11,
   "id": "08f824a2",
   "metadata": {},
   "outputs": [],
   "source": [
    "# google api expects a pandas Timestamp to be millisecond-aligned in RFC 3339 format \n",
    "# Example - 2012-07-30T10:43:17.123Z\n",
    "import pandas as pd\n",
    "INSTANCES_DF['timestamp'] = pd.Timestamp('2023-05-12T00:00:00.000Z')"
   ]
  },
  {
   "cell_type": "code",
   "execution_count": 12,
   "id": "8abd7c25",
   "metadata": {},
   "outputs": [
    {
     "data": {
      "text/html": [
       "<div>\n",
       "<style scoped>\n",
       "    .dataframe tbody tr th:only-of-type {\n",
       "        vertical-align: middle;\n",
       "    }\n",
       "\n",
       "    .dataframe tbody tr th {\n",
       "        vertical-align: top;\n",
       "    }\n",
       "\n",
       "    .dataframe thead th {\n",
       "        text-align: right;\n",
       "    }\n",
       "</style>\n",
       "<table border=\"1\" class=\"dataframe\">\n",
       "  <thead>\n",
       "    <tr style=\"text-align: right;\">\n",
       "      <th></th>\n",
       "      <th>posts</th>\n",
       "      <th>timestamp</th>\n",
       "    </tr>\n",
       "  </thead>\n",
       "  <tbody>\n",
       "    <tr>\n",
       "      <th>0</th>\n",
       "      <td>0x01137e-0x01a8</td>\n",
       "      <td>2023-05-12 00:00:00+00:00</td>\n",
       "    </tr>\n",
       "    <tr>\n",
       "      <th>1</th>\n",
       "      <td>0x01137e-0x01a9</td>\n",
       "      <td>2023-05-12 00:00:00+00:00</td>\n",
       "    </tr>\n",
       "    <tr>\n",
       "      <th>2</th>\n",
       "      <td>0x01137e-0x01aa</td>\n",
       "      <td>2023-05-12 00:00:00+00:00</td>\n",
       "    </tr>\n",
       "    <tr>\n",
       "      <th>3</th>\n",
       "      <td>0x01137e-0x01ab</td>\n",
       "      <td>2023-05-12 00:00:00+00:00</td>\n",
       "    </tr>\n",
       "    <tr>\n",
       "      <th>4</th>\n",
       "      <td>0x01137e-0x01ac</td>\n",
       "      <td>2023-05-12 00:00:00+00:00</td>\n",
       "    </tr>\n",
       "  </tbody>\n",
       "</table>\n",
       "</div>"
      ],
      "text/plain": [
       "             posts                 timestamp\n",
       "0  0x01137e-0x01a8 2023-05-12 00:00:00+00:00\n",
       "1  0x01137e-0x01a9 2023-05-12 00:00:00+00:00\n",
       "2  0x01137e-0x01aa 2023-05-12 00:00:00+00:00\n",
       "3  0x01137e-0x01ab 2023-05-12 00:00:00+00:00\n",
       "4  0x01137e-0x01ac 2023-05-12 00:00:00+00:00"
      ]
     },
     "execution_count": 12,
     "metadata": {},
     "output_type": "execute_result"
    }
   ],
   "source": [
    "INSTANCES_DF.head()"
   ]
  },
  {
   "cell_type": "code",
   "execution_count": 13,
   "id": "2fbe9c07",
   "metadata": {},
   "outputs": [
    {
     "name": "stdout",
     "output_type": "stream",
     "text": [
      "<class 'pandas.core.frame.DataFrame'>\n",
      "RangeIndex: 452441 entries, 0 to 452440\n",
      "Data columns (total 2 columns):\n",
      " #   Column     Non-Null Count   Dtype              \n",
      "---  ------     --------------   -----              \n",
      " 0   posts      452441 non-null  object             \n",
      " 1   timestamp  452441 non-null  datetime64[ns, UTC]\n",
      "dtypes: datetime64[ns, UTC](1), object(1)\n",
      "memory usage: 6.9+ MB\n"
     ]
    }
   ],
   "source": [
    "INSTANCES_DF.info()"
   ]
  },
  {
   "cell_type": "code",
   "execution_count": 15,
   "id": "c7faf11f",
   "metadata": {},
   "outputs": [
    {
     "name": "stdout",
     "output_type": "stream",
     "text": [
      "seconds: 1683763201\n",
      "\n"
     ]
    }
   ],
   "source": [
    "import datetime\n",
    "from google.protobuf.timestamp_pb2 import Timestamp\n",
    "# we had bad feature import on 5/11/2023, Let's ignore values from that date\n",
    "bad_feature_time = datetime.datetime(year=2023, month=5, day=11, hour=0, minute=0, second=1)\n",
    "START_TIME = Timestamp()\n",
    "START_TIME.FromDatetime(bad_feature_time)\n",
    "print(START_TIME)"
   ]
  },
  {
   "cell_type": "code",
   "execution_count": 16,
   "id": "e7ca5101",
   "metadata": {},
   "outputs": [
    {
     "name": "stdout",
     "output_type": "stream",
     "text": [
      "Serving Featurestore feature values: projects/1181216607/locations/us-central1/featurestores/lens_featurestore_dev\n"
     ]
    },
    {
     "name": "stderr",
     "output_type": "stream",
     "text": [
      "INFO:google.cloud.aiplatform.featurestore.featurestore:Serving Featurestore feature values: projects/1181216607/locations/us-central1/featurestores/lens_featurestore_dev\n"
     ]
    },
    {
     "name": "stdout",
     "output_type": "stream",
     "text": [
      "Serve Featurestore feature values backing LRO: projects/1181216607/locations/us-central1/featurestores/lens_featurestore_dev/operations/1258276914938773504\n"
     ]
    },
    {
     "name": "stderr",
     "output_type": "stream",
     "text": [
      "INFO:google.cloud.aiplatform.featurestore.featurestore:Serve Featurestore feature values backing LRO: projects/1181216607/locations/us-central1/featurestores/lens_featurestore_dev/operations/1258276914938773504\n"
     ]
    },
    {
     "name": "stdout",
     "output_type": "stream",
     "text": [
      "Featurestore feature values served. Resource name: projects/1181216607/locations/us-central1/featurestores/lens_featurestore_dev\n"
     ]
    },
    {
     "name": "stderr",
     "output_type": "stream",
     "text": [
      "INFO:google.cloud.aiplatform.featurestore.featurestore:Featurestore feature values served. Resource name: projects/1181216607/locations/us-central1/featurestores/lens_featurestore_dev\n"
     ]
    }
   ],
   "source": [
    "# batch_serve_to_df(\n",
    "#     serving_feature_ids: Dict[str, List[str]],\n",
    "#     read_instances_df: pd.DataFrame,\n",
    "#     pass_through_fields: Optional[List[str]] = None,\n",
    "#     feature_destination_fields: Optional[Dict[str, str]] = None,\n",
    "#     start_time: Optional[google.protobuf.timestamp_pb2.Timestamp] = None,\n",
    "#     request_metadata: Optional[Sequence[Tuple[str, str]]] = (),\n",
    "#     serve_request_timeout: Optional[float] = None,\n",
    "#     bq_dataset_id: Optional[str] = None,\n",
    "# )\n",
    "\n",
    "features_df = fs.batch_serve_to_df(\n",
    "    serving_feature_ids = POSTS_FEATURES_IDS,\n",
    "    read_instances_df = INSTANCES_DF,\n",
    "    start_time = START_TIME,\n",
    ")"
   ]
  },
  {
   "cell_type": "code",
   "execution_count": 49,
   "id": "714e1b10",
   "metadata": {},
   "outputs": [
    {
     "name": "stdout",
     "output_type": "stream",
     "text": [
      "<class 'pandas.core.frame.DataFrame'>\n",
      "RangeIndex: 452441 entries, 0 to 452440\n",
      "Data columns (total 24 columns):\n",
      " #   Column                           Non-Null Count   Dtype              \n",
      "---  ------                           --------------   -----              \n",
      " 0   timestamp                        452441 non-null  datetime64[ns, UTC]\n",
      " 1   entity_type_posts                452441 non-null  object             \n",
      " 2   region                           362 non-null     object             \n",
      " 3   class2                           0 non-null       float64            \n",
      " 4   post_id                          452441 non-null  object             \n",
      " 5   collects                         452441 non-null  int64              \n",
      " 6   author_f6c3m8col12enh_score      450167 non-null  float64            \n",
      " 7   custom_filters_gardener_flagged  452441 non-null  bool               \n",
      " 8   upvotes                          452441 non-null  int64              \n",
      " 9   content_warning                  72 non-null      object             \n",
      " 10  classes                          452441 non-null  object             \n",
      " 11  mirrors                          452441 non-null  int64              \n",
      " 12  is_original                      452441 non-null  bool               \n",
      " 13  recommend                        0 non-null       object             \n",
      " 14  is_content_warning               452441 non-null  bool               \n",
      " 15  class3                           0 non-null       float64            \n",
      " 16  age                              452441 non-null  int64              \n",
      " 17  author_f6c3m8col12enh_rank       450167 non-null  Int64              \n",
      " 18  downvotes                        452441 non-null  int64              \n",
      " 19  main_content_focus               450923 non-null  object             \n",
      " 20  comments                         452441 non-null  int64              \n",
      " 21  class1                           0 non-null       float64            \n",
      " 22  profile_id                       0 non-null       object             \n",
      " 23  language                         424234 non-null  object             \n",
      "dtypes: Int64(1), bool(3), datetime64[ns, UTC](1), float64(4), int64(6), object(9)\n",
      "memory usage: 74.2+ MB\n"
     ]
    }
   ],
   "source": [
    "features_df.info()"
   ]
  },
  {
   "cell_type": "code",
   "execution_count": 18,
   "id": "88d66ddf",
   "metadata": {},
   "outputs": [],
   "source": [
    "features_df['author_f6c3m8col12enh_rank'] = features_df['author_f6c3m8col12enh_rank'].astype('Int64')"
   ]
  },
  {
   "cell_type": "code",
   "execution_count": 19,
   "id": "3e189730",
   "metadata": {},
   "outputs": [],
   "source": [
    "max_features = features_df \\\n",
    "                .groupby([\"author_f6c3m8col12enh_rank\"]) \\\n",
    "                .agg({'age': ['max'], \n",
    "                      'mirrors': ['max'], \n",
    "                      'collects': ['max'], \n",
    "                      'comments': ['max']})\n",
    "max_features.columns = ['max_age', 'max_mirrors', 'max_collects', 'max_comments']"
   ]
  },
  {
   "cell_type": "code",
   "execution_count": 50,
   "id": "cb32c760",
   "metadata": {},
   "outputs": [],
   "source": [
    "post_score_df = features_df.join(max_features, on='author_f6c3m8col12enh_rank', how='left')"
   ]
  },
  {
   "cell_type": "code",
   "execution_count": 51,
   "id": "437a776a",
   "metadata": {},
   "outputs": [
    {
     "name": "stdout",
     "output_type": "stream",
     "text": [
      "<class 'pandas.core.frame.DataFrame'>\n",
      "RangeIndex: 452441 entries, 0 to 452440\n",
      "Data columns (total 28 columns):\n",
      " #   Column                           Non-Null Count   Dtype              \n",
      "---  ------                           --------------   -----              \n",
      " 0   timestamp                        452441 non-null  datetime64[ns, UTC]\n",
      " 1   entity_type_posts                452441 non-null  object             \n",
      " 2   region                           362 non-null     object             \n",
      " 3   class2                           0 non-null       float64            \n",
      " 4   post_id                          452441 non-null  object             \n",
      " 5   collects                         452441 non-null  int64              \n",
      " 6   author_f6c3m8col12enh_score      450167 non-null  float64            \n",
      " 7   custom_filters_gardener_flagged  452441 non-null  bool               \n",
      " 8   upvotes                          452441 non-null  int64              \n",
      " 9   content_warning                  72 non-null      object             \n",
      " 10  classes                          452441 non-null  object             \n",
      " 11  mirrors                          452441 non-null  int64              \n",
      " 12  is_original                      452441 non-null  bool               \n",
      " 13  recommend                        0 non-null       object             \n",
      " 14  is_content_warning               452441 non-null  bool               \n",
      " 15  class3                           0 non-null       float64            \n",
      " 16  age                              452441 non-null  int64              \n",
      " 17  author_f6c3m8col12enh_rank       450167 non-null  Int64              \n",
      " 18  downvotes                        452441 non-null  int64              \n",
      " 19  main_content_focus               450923 non-null  object             \n",
      " 20  comments                         452441 non-null  int64              \n",
      " 21  class1                           0 non-null       float64            \n",
      " 22  profile_id                       0 non-null       object             \n",
      " 23  language                         424234 non-null  object             \n",
      " 24  max_age                          450167 non-null  float64            \n",
      " 25  max_mirrors                      450167 non-null  float64            \n",
      " 26  max_collects                     450167 non-null  float64            \n",
      " 27  max_comments                     450167 non-null  float64            \n",
      "dtypes: Int64(1), bool(3), datetime64[ns, UTC](1), float64(8), int64(6), object(9)\n",
      "memory usage: 88.0+ MB\n"
     ]
    }
   ],
   "source": [
    "post_score_df.info()"
   ]
  },
  {
   "cell_type": "code",
   "execution_count": 22,
   "id": "bbb2fb6f",
   "metadata": {},
   "outputs": [
    {
     "data": {
      "text/html": [
       "<div>\n",
       "<style scoped>\n",
       "    .dataframe tbody tr th:only-of-type {\n",
       "        vertical-align: middle;\n",
       "    }\n",
       "\n",
       "    .dataframe tbody tr th {\n",
       "        vertical-align: top;\n",
       "    }\n",
       "\n",
       "    .dataframe thead th {\n",
       "        text-align: right;\n",
       "    }\n",
       "</style>\n",
       "<table border=\"1\" class=\"dataframe\">\n",
       "  <thead>\n",
       "    <tr style=\"text-align: right;\">\n",
       "      <th></th>\n",
       "      <th>timestamp</th>\n",
       "      <th>entity_type_posts</th>\n",
       "      <th>region</th>\n",
       "      <th>class2</th>\n",
       "      <th>post_id</th>\n",
       "      <th>collects</th>\n",
       "      <th>author_f6c3m8col12enh_score</th>\n",
       "      <th>custom_filters_gardener_flagged</th>\n",
       "      <th>upvotes</th>\n",
       "      <th>content_warning</th>\n",
       "      <th>classes</th>\n",
       "      <th>mirrors</th>\n",
       "      <th>is_original</th>\n",
       "      <th>recommend</th>\n",
       "      <th>is_content_warning</th>\n",
       "      <th>class3</th>\n",
       "      <th>age</th>\n",
       "      <th>author_f6c3m8col12enh_rank</th>\n",
       "      <th>downvotes</th>\n",
       "      <th>main_content_focus</th>\n",
       "      <th>comments</th>\n",
       "      <th>class1</th>\n",
       "      <th>profile_id</th>\n",
       "      <th>language</th>\n",
       "      <th>max_age</th>\n",
       "      <th>max_mirrors</th>\n",
       "      <th>max_collects</th>\n",
       "      <th>max_comments</th>\n",
       "    </tr>\n",
       "  </thead>\n",
       "  <tbody>\n",
       "    <tr>\n",
       "      <th>21925</th>\n",
       "      <td>2023-05-12 00:00:00+00:00</td>\n",
       "      <td>0x011c5c-0x08</td>\n",
       "      <td>None</td>\n",
       "      <td>NaN</td>\n",
       "      <td>0x011c5c-0x08</td>\n",
       "      <td>0</td>\n",
       "      <td>0.00000000384142929574</td>\n",
       "      <td>False</td>\n",
       "      <td>0</td>\n",
       "      <td>None</td>\n",
       "      <td>[]</td>\n",
       "      <td>0</td>\n",
       "      <td>False</td>\n",
       "      <td>None</td>\n",
       "      <td>False</td>\n",
       "      <td>NaN</td>\n",
       "      <td>84</td>\n",
       "      <td>63761</td>\n",
       "      <td>0</td>\n",
       "      <td>IMAGE</td>\n",
       "      <td>0</td>\n",
       "      <td>NaN</td>\n",
       "      <td>None</td>\n",
       "      <td>fr</td>\n",
       "      <td>87.00000000000000000000</td>\n",
       "      <td>1.00000000000000000000</td>\n",
       "      <td>3.00000000000000000000</td>\n",
       "      <td>1.00000000000000000000</td>\n",
       "    </tr>\n",
       "    <tr>\n",
       "      <th>244041</th>\n",
       "      <td>2023-05-12 00:00:00+00:00</td>\n",
       "      <td>0x0117eb-0x0223</td>\n",
       "      <td>None</td>\n",
       "      <td>NaN</td>\n",
       "      <td>0x0117eb-0x0223</td>\n",
       "      <td>0</td>\n",
       "      <td>0.00000042927311834479</td>\n",
       "      <td>False</td>\n",
       "      <td>0</td>\n",
       "      <td>None</td>\n",
       "      <td>[]</td>\n",
       "      <td>0</td>\n",
       "      <td>True</td>\n",
       "      <td>None</td>\n",
       "      <td>False</td>\n",
       "      <td>NaN</td>\n",
       "      <td>26</td>\n",
       "      <td>13873</td>\n",
       "      <td>0</td>\n",
       "      <td>TEXT_ONLY</td>\n",
       "      <td>0</td>\n",
       "      <td>NaN</td>\n",
       "      <td>None</td>\n",
       "      <td>zh</td>\n",
       "      <td>190.00000000000000000000</td>\n",
       "      <td>1.00000000000000000000</td>\n",
       "      <td>0.00000000000000000000</td>\n",
       "      <td>1.00000000000000000000</td>\n",
       "    </tr>\n",
       "    <tr>\n",
       "      <th>114341</th>\n",
       "      <td>2023-05-12 00:00:00+00:00</td>\n",
       "      <td>0x01204b-0xee</td>\n",
       "      <td>None</td>\n",
       "      <td>NaN</td>\n",
       "      <td>0x01204b-0xee</td>\n",
       "      <td>0</td>\n",
       "      <td>0.00000052054015593966</td>\n",
       "      <td>False</td>\n",
       "      <td>0</td>\n",
       "      <td>None</td>\n",
       "      <td>[]</td>\n",
       "      <td>0</td>\n",
       "      <td>False</td>\n",
       "      <td>None</td>\n",
       "      <td>False</td>\n",
       "      <td>NaN</td>\n",
       "      <td>57</td>\n",
       "      <td>12536</td>\n",
       "      <td>0</td>\n",
       "      <td>IMAGE</td>\n",
       "      <td>0</td>\n",
       "      <td>NaN</td>\n",
       "      <td>None</td>\n",
       "      <td>zh</td>\n",
       "      <td>226.00000000000000000000</td>\n",
       "      <td>2.00000000000000000000</td>\n",
       "      <td>5.00000000000000000000</td>\n",
       "      <td>2.00000000000000000000</td>\n",
       "    </tr>\n",
       "    <tr>\n",
       "      <th>40788</th>\n",
       "      <td>2023-05-12 00:00:00+00:00</td>\n",
       "      <td>0x012304-0x13</td>\n",
       "      <td>None</td>\n",
       "      <td>NaN</td>\n",
       "      <td>0x012304-0x13</td>\n",
       "      <td>0</td>\n",
       "      <td>0.00000005580720654044</td>\n",
       "      <td>False</td>\n",
       "      <td>0</td>\n",
       "      <td>None</td>\n",
       "      <td>[]</td>\n",
       "      <td>0</td>\n",
       "      <td>False</td>\n",
       "      <td>None</td>\n",
       "      <td>False</td>\n",
       "      <td>NaN</td>\n",
       "      <td>90</td>\n",
       "      <td>31552</td>\n",
       "      <td>0</td>\n",
       "      <td>IMAGE</td>\n",
       "      <td>0</td>\n",
       "      <td>NaN</td>\n",
       "      <td>None</td>\n",
       "      <td>en</td>\n",
       "      <td>226.00000000000000000000</td>\n",
       "      <td>2.00000000000000000000</td>\n",
       "      <td>3.00000000000000000000</td>\n",
       "      <td>5.00000000000000000000</td>\n",
       "    </tr>\n",
       "    <tr>\n",
       "      <th>402214</th>\n",
       "      <td>2023-05-12 00:00:00+00:00</td>\n",
       "      <td>0x01214d-0x2c</td>\n",
       "      <td>None</td>\n",
       "      <td>NaN</td>\n",
       "      <td>0x01214d-0x2c</td>\n",
       "      <td>0</td>\n",
       "      <td>0.00000002109872943047</td>\n",
       "      <td>False</td>\n",
       "      <td>3</td>\n",
       "      <td>None</td>\n",
       "      <td>[]</td>\n",
       "      <td>0</td>\n",
       "      <td>True</td>\n",
       "      <td>None</td>\n",
       "      <td>False</td>\n",
       "      <td>NaN</td>\n",
       "      <td>35</td>\n",
       "      <td>43457</td>\n",
       "      <td>0</td>\n",
       "      <td>IMAGE</td>\n",
       "      <td>0</td>\n",
       "      <td>NaN</td>\n",
       "      <td>None</td>\n",
       "      <td>fr</td>\n",
       "      <td>226.00000000000000000000</td>\n",
       "      <td>1.00000000000000000000</td>\n",
       "      <td>2.00000000000000000000</td>\n",
       "      <td>1.00000000000000000000</td>\n",
       "    </tr>\n",
       "  </tbody>\n",
       "</table>\n",
       "</div>"
      ],
      "text/plain": [
       "                       timestamp entity_type_posts region  class2   \n",
       "21925  2023-05-12 00:00:00+00:00     0x011c5c-0x08   None     NaN  \\\n",
       "244041 2023-05-12 00:00:00+00:00   0x0117eb-0x0223   None     NaN   \n",
       "114341 2023-05-12 00:00:00+00:00     0x01204b-0xee   None     NaN   \n",
       "40788  2023-05-12 00:00:00+00:00     0x012304-0x13   None     NaN   \n",
       "402214 2023-05-12 00:00:00+00:00     0x01214d-0x2c   None     NaN   \n",
       "\n",
       "                post_id  collects  author_f6c3m8col12enh_score   \n",
       "21925     0x011c5c-0x08         0       0.00000000384142929574  \\\n",
       "244041  0x0117eb-0x0223         0       0.00000042927311834479   \n",
       "114341    0x01204b-0xee         0       0.00000052054015593966   \n",
       "40788     0x012304-0x13         0       0.00000005580720654044   \n",
       "402214    0x01214d-0x2c         0       0.00000002109872943047   \n",
       "\n",
       "        custom_filters_gardener_flagged  upvotes content_warning classes   \n",
       "21925                             False        0            None      []  \\\n",
       "244041                            False        0            None      []   \n",
       "114341                            False        0            None      []   \n",
       "40788                             False        0            None      []   \n",
       "402214                            False        3            None      []   \n",
       "\n",
       "        mirrors  is_original recommend  is_content_warning  class3  age   \n",
       "21925         0        False      None               False     NaN   84  \\\n",
       "244041        0         True      None               False     NaN   26   \n",
       "114341        0        False      None               False     NaN   57   \n",
       "40788         0        False      None               False     NaN   90   \n",
       "402214        0         True      None               False     NaN   35   \n",
       "\n",
       "        author_f6c3m8col12enh_rank  downvotes main_content_focus  comments   \n",
       "21925                        63761          0              IMAGE         0  \\\n",
       "244041                       13873          0          TEXT_ONLY         0   \n",
       "114341                       12536          0              IMAGE         0   \n",
       "40788                        31552          0              IMAGE         0   \n",
       "402214                       43457          0              IMAGE         0   \n",
       "\n",
       "        class1 profile_id language                  max_age   \n",
       "21925      NaN       None       fr  87.00000000000000000000  \\\n",
       "244041     NaN       None       zh 190.00000000000000000000   \n",
       "114341     NaN       None       zh 226.00000000000000000000   \n",
       "40788      NaN       None       en 226.00000000000000000000   \n",
       "402214     NaN       None       fr 226.00000000000000000000   \n",
       "\n",
       "                  max_mirrors           max_collects           max_comments  \n",
       "21925  1.00000000000000000000 3.00000000000000000000 1.00000000000000000000  \n",
       "244041 1.00000000000000000000 0.00000000000000000000 1.00000000000000000000  \n",
       "114341 2.00000000000000000000 5.00000000000000000000 2.00000000000000000000  \n",
       "40788  2.00000000000000000000 3.00000000000000000000 5.00000000000000000000  \n",
       "402214 1.00000000000000000000 2.00000000000000000000 1.00000000000000000000  "
      ]
     },
     "execution_count": 22,
     "metadata": {},
     "output_type": "execute_result"
    }
   ],
   "source": [
    "import pandas as pd\n",
    "pd.set_option('display.max_colwidth',None)\n",
    "pd.set_option('display.max_columns', 200)  \n",
    "pd.set_option('display.float_format', '{:20,.20f}'.format)\n",
    "post_score_df.sample(5)"
   ]
  },
  {
   "cell_type": "code",
   "execution_count": 23,
   "id": "5641adb1",
   "metadata": {},
   "outputs": [],
   "source": [
    "pd.reset_option('display.max_colwidth')\n",
    "pd.reset_option('display.max_columns')  \n",
    "pd.reset_option('display.float_format')"
   ]
  },
  {
   "cell_type": "code",
   "execution_count": 53,
   "id": "192d3ca6",
   "metadata": {},
   "outputs": [],
   "source": [
    "import numpy as np\n",
    "post_score_df['max_mirrors'] = post_score_df['max_mirrors'].replace(0, np.nan)\n",
    "post_score_df['max_collects'] = post_score_df['max_collects'].replace(0, np.nan)\n",
    "post_score_df['max_comments'] = post_score_df['max_comments'].replace(0, np.nan)\n",
    "post_score_df['max_age'] = post_score_df['max_age'].replace(0, np.nan)"
   ]
  },
  {
   "cell_type": "code",
   "execution_count": 54,
   "id": "0aa63285",
   "metadata": {},
   "outputs": [],
   "source": [
    "# (1 * (mirrors_count::numeric / max_values.max_mirrors_count) +\n",
    "# 1 * (collects_count::numeric / max_values.max_collects_count) +\n",
    "# 3 * (comments_count::numeric / max_values.max_comments_count) -\n",
    "# 5 * ((EXTRACT(EPOCH FROM (CURRENT_TIMESTAMP - block_timestamp))/(60*60*24)) / max_values.max_age_days)\n",
    "# ) AS score\n",
    "\n",
    "post_score_df['post_score'] = post_score_df.apply(lambda row: (1 * row['mirrors']/row['max_mirrors'] \\\n",
    "                                                            + 1 * row['collects']/row['max_collects'] \\\n",
    "                                                            + 3 * row['comments']/row['max_comments'] \\\n",
    "                                                            - 5 * row['age']/row['max_age']), \n",
    "                                                  axis=1)"
   ]
  },
  {
   "cell_type": "code",
   "execution_count": 55,
   "id": "33604fa1",
   "metadata": {
    "scrolled": true
   },
   "outputs": [
    {
     "name": "stdout",
     "output_type": "stream",
     "text": [
      "<class 'pandas.core.frame.DataFrame'>\n",
      "RangeIndex: 452441 entries, 0 to 452440\n",
      "Data columns (total 29 columns):\n",
      " #   Column                           Non-Null Count   Dtype              \n",
      "---  ------                           --------------   -----              \n",
      " 0   timestamp                        452441 non-null  datetime64[ns, UTC]\n",
      " 1   entity_type_posts                452441 non-null  object             \n",
      " 2   region                           362 non-null     object             \n",
      " 3   class2                           0 non-null       float64            \n",
      " 4   post_id                          452441 non-null  object             \n",
      " 5   collects                         452441 non-null  int64              \n",
      " 6   author_f6c3m8col12enh_score      450167 non-null  float64            \n",
      " 7   custom_filters_gardener_flagged  452441 non-null  bool               \n",
      " 8   upvotes                          452441 non-null  int64              \n",
      " 9   content_warning                  72 non-null      object             \n",
      " 10  classes                          452441 non-null  object             \n",
      " 11  mirrors                          452441 non-null  int64              \n",
      " 12  is_original                      452441 non-null  bool               \n",
      " 13  recommend                        0 non-null       object             \n",
      " 14  is_content_warning               452441 non-null  bool               \n",
      " 15  class3                           0 non-null       float64            \n",
      " 16  age                              452441 non-null  int64              \n",
      " 17  author_f6c3m8col12enh_rank       450167 non-null  Int64              \n",
      " 18  downvotes                        452441 non-null  int64              \n",
      " 19  main_content_focus               450923 non-null  object             \n",
      " 20  comments                         452441 non-null  int64              \n",
      " 21  class1                           0 non-null       float64            \n",
      " 22  profile_id                       0 non-null       object             \n",
      " 23  language                         424234 non-null  object             \n",
      " 24  max_age                          450167 non-null  float64            \n",
      " 25  max_mirrors                      412147 non-null  float64            \n",
      " 26  max_collects                     404942 non-null  float64            \n",
      " 27  max_comments                     385672 non-null  float64            \n",
      " 28  post_score                       357202 non-null  float64            \n",
      "dtypes: Int64(1), bool(3), datetime64[ns, UTC](1), float64(9), int64(6), object(9)\n",
      "memory usage: 91.5+ MB\n"
     ]
    }
   ],
   "source": [
    "post_score_df.info()"
   ]
  },
  {
   "cell_type": "code",
   "execution_count": 56,
   "id": "12af5640",
   "metadata": {},
   "outputs": [],
   "source": [
    "post_score_df = post_score_df.sort_values(['post_score'], ascending=[False])"
   ]
  },
  {
   "cell_type": "code",
   "execution_count": 57,
   "id": "ac63a61e",
   "metadata": {},
   "outputs": [],
   "source": [
    "top_posts_df = post_score_df.loc[post_score_df['author_f6c3m8col12enh_rank'] <= 1000 ].head(1000)"
   ]
  },
  {
   "cell_type": "code",
   "execution_count": 58,
   "id": "4963280d",
   "metadata": {},
   "outputs": [
    {
     "data": {
      "text/plain": [
       "1000"
      ]
     },
     "execution_count": 58,
     "metadata": {},
     "output_type": "execute_result"
    }
   ],
   "source": [
    "len(top_posts_df)"
   ]
  },
  {
   "cell_type": "code",
   "execution_count": 59,
   "id": "8da2bea3",
   "metadata": {},
   "outputs": [
    {
     "data": {
      "text/plain": [
       "103050"
      ]
     },
     "execution_count": 59,
     "metadata": {},
     "output_type": "execute_result"
    }
   ],
   "source": [
    "post_score_df['author_f6c3m8col12enh_rank'].max()"
   ]
  },
  {
   "cell_type": "code",
   "execution_count": 62,
   "id": "c359128e",
   "metadata": {},
   "outputs": [],
   "source": [
    "# conditions = [\n",
    "#     (df['author_f6c3m8col12enh_rank'] <= 1000) & \n",
    "#     ]\n",
    "# # create a list of the values we want to assign for each condition\n",
    "# values = [True]\n",
    "# post_score_df['recommend'] = np.select(conditions, values, default=False)\n",
    "post_score_df.loc[post_score_df['author_f6c3m8col12enh_rank'] >= 50000, 'recommend'] = 'NO'\n",
    "post_score_df.loc[post_score_df['author_f6c3m8col12enh_rank'] <= 1000, 'recommend'] = 'MAYBE'\n",
    "post_score_df.loc[top_posts_df.index,'recommend'] = 'YES'"
   ]
  },
  {
   "cell_type": "code",
   "execution_count": 63,
   "id": "a9e6180f",
   "metadata": {},
   "outputs": [
    {
     "data": {
      "text/plain": [
       "recommend\n",
       "NO       45067\n",
       "MAYBE    12556\n",
       "YES       1000\n",
       "Name: count, dtype: int64"
      ]
     },
     "execution_count": 63,
     "metadata": {},
     "output_type": "execute_result"
    }
   ],
   "source": [
    "post_score_df['recommend'].value_counts()"
   ]
  },
  {
   "cell_type": "code",
   "execution_count": 66,
   "id": "ebe70cec",
   "metadata": {},
   "outputs": [
    {
     "data": {
      "text/plain": [
       "393818"
      ]
     },
     "execution_count": 66,
     "metadata": {},
     "output_type": "execute_result"
    }
   ],
   "source": [
    "post_score_df['recommend'].isna().sum()"
   ]
  },
  {
   "cell_type": "code",
   "execution_count": 75,
   "id": "22c6bf45",
   "metadata": {},
   "outputs": [],
   "source": [
    "ground_truth_df = post_score_df[post_score_df['recommend'].notna()]"
   ]
  },
  {
   "cell_type": "code",
   "execution_count": 76,
   "id": "420c3c76",
   "metadata": {},
   "outputs": [
    {
     "name": "stdout",
     "output_type": "stream",
     "text": [
      "<class 'pandas.core.frame.DataFrame'>\n",
      "Index: 58623 entries, 7279 to 452303\n",
      "Data columns (total 29 columns):\n",
      " #   Column                           Non-Null Count  Dtype              \n",
      "---  ------                           --------------  -----              \n",
      " 0   timestamp                        58623 non-null  datetime64[ns, UTC]\n",
      " 1   entity_type_posts                58623 non-null  object             \n",
      " 2   region                           73 non-null     object             \n",
      " 3   class2                           0 non-null      float64            \n",
      " 4   post_id                          58623 non-null  object             \n",
      " 5   collects                         58623 non-null  int64              \n",
      " 6   author_f6c3m8col12enh_score      58623 non-null  float64            \n",
      " 7   custom_filters_gardener_flagged  58623 non-null  bool               \n",
      " 8   upvotes                          58623 non-null  int64              \n",
      " 9   content_warning                  7 non-null      object             \n",
      " 10  classes                          58623 non-null  object             \n",
      " 11  mirrors                          58623 non-null  int64              \n",
      " 12  is_original                      58623 non-null  bool               \n",
      " 13  recommend                        58623 non-null  object             \n",
      " 14  is_content_warning               58623 non-null  bool               \n",
      " 15  class3                           0 non-null      float64            \n",
      " 16  age                              58623 non-null  int64              \n",
      " 17  author_f6c3m8col12enh_rank       58623 non-null  Int64              \n",
      " 18  downvotes                        58623 non-null  int64              \n",
      " 19  main_content_focus               58338 non-null  object             \n",
      " 20  comments                         58623 non-null  int64              \n",
      " 21  class1                           0 non-null      float64            \n",
      " 22  profile_id                       0 non-null      object             \n",
      " 23  language                         56614 non-null  object             \n",
      " 24  max_age                          58623 non-null  float64            \n",
      " 25  max_mirrors                      39849 non-null  float64            \n",
      " 26  max_collects                     38792 non-null  float64            \n",
      " 27  max_comments                     28844 non-null  float64            \n",
      " 28  post_score                       23162 non-null  float64            \n",
      "dtypes: Int64(1), bool(3), datetime64[ns, UTC](1), float64(9), int64(6), object(9)\n",
      "memory usage: 12.3+ MB\n"
     ]
    }
   ],
   "source": [
    "ground_truth_df.info()"
   ]
  },
  {
   "cell_type": "code",
   "execution_count": 77,
   "id": "12fd4f13",
   "metadata": {},
   "outputs": [],
   "source": [
    "# Extract feature and target arrays\n",
    "X, y = ground_truth_df.drop('recommend', axis=1), ground_truth_df[['recommend']]"
   ]
  },
  {
   "cell_type": "code",
   "execution_count": 78,
   "id": "d1b584aa",
   "metadata": {},
   "outputs": [],
   "source": [
    "# drop array type columns because they cannot be converted to categories\n",
    "X = X.drop('classes', axis=1)"
   ]
  },
  {
   "cell_type": "code",
   "execution_count": 79,
   "id": "b4fa3433",
   "metadata": {},
   "outputs": [],
   "source": [
    "# Extract text features\n",
    "cats = X.select_dtypes(exclude=np.number).columns.tolist()\n",
    "\n",
    "# Convert to Pandas category\n",
    "for col in cats:\n",
    "    X[col] = X[col].astype('category')"
   ]
  },
  {
   "cell_type": "code",
   "execution_count": 80,
   "id": "56dceb81",
   "metadata": {
    "scrolled": true
   },
   "outputs": [
    {
     "name": "stdout",
     "output_type": "stream",
     "text": [
      "<class 'pandas.core.frame.DataFrame'>\n",
      "Index: 58623 entries, 7279 to 452303\n",
      "Data columns (total 27 columns):\n",
      " #   Column                           Non-Null Count  Dtype   \n",
      "---  ------                           --------------  -----   \n",
      " 0   timestamp                        58623 non-null  category\n",
      " 1   entity_type_posts                58623 non-null  category\n",
      " 2   region                           73 non-null     category\n",
      " 3   class2                           0 non-null      float64 \n",
      " 4   post_id                          58623 non-null  category\n",
      " 5   collects                         58623 non-null  int64   \n",
      " 6   author_f6c3m8col12enh_score      58623 non-null  float64 \n",
      " 7   custom_filters_gardener_flagged  58623 non-null  category\n",
      " 8   upvotes                          58623 non-null  int64   \n",
      " 9   content_warning                  7 non-null      category\n",
      " 10  mirrors                          58623 non-null  int64   \n",
      " 11  is_original                      58623 non-null  category\n",
      " 12  is_content_warning               58623 non-null  category\n",
      " 13  class3                           0 non-null      float64 \n",
      " 14  age                              58623 non-null  int64   \n",
      " 15  author_f6c3m8col12enh_rank       58623 non-null  Int64   \n",
      " 16  downvotes                        58623 non-null  int64   \n",
      " 17  main_content_focus               58338 non-null  category\n",
      " 18  comments                         58623 non-null  int64   \n",
      " 19  class1                           0 non-null      float64 \n",
      " 20  profile_id                       0 non-null      category\n",
      " 21  language                         56614 non-null  category\n",
      " 22  max_age                          58623 non-null  float64 \n",
      " 23  max_mirrors                      39849 non-null  float64 \n",
      " 24  max_collects                     38792 non-null  float64 \n",
      " 25  max_comments                     28844 non-null  float64 \n",
      " 26  post_score                       23162 non-null  float64 \n",
      "dtypes: Int64(1), category(11), float64(9), int64(6)\n",
      "memory usage: 13.5 MB\n"
     ]
    }
   ],
   "source": [
    "X.info()"
   ]
  },
  {
   "cell_type": "code",
   "execution_count": 81,
   "id": "888b3096",
   "metadata": {},
   "outputs": [
    {
     "name": "stdout",
     "output_type": "stream",
     "text": [
      "<class 'pandas.core.frame.DataFrame'>\n",
      "Index: 58623 entries, 7279 to 452303\n",
      "Data columns (total 1 columns):\n",
      " #   Column     Non-Null Count  Dtype \n",
      "---  ------     --------------  ----- \n",
      " 0   recommend  58623 non-null  object\n",
      "dtypes: object(1)\n",
      "memory usage: 916.0+ KB\n"
     ]
    }
   ],
   "source": [
    "y.info()"
   ]
  },
  {
   "cell_type": "code",
   "execution_count": 118,
   "id": "fdb59495",
   "metadata": {},
   "outputs": [
    {
     "data": {
      "text/plain": [
       "recommend\n",
       "NO       45067\n",
       "MAYBE    12556\n",
       "YES       1000\n",
       "Name: count, dtype: int64"
      ]
     },
     "execution_count": 118,
     "metadata": {},
     "output_type": "execute_result"
    }
   ],
   "source": [
    "y['recommend'].value_counts()"
   ]
  },
  {
   "cell_type": "code",
   "execution_count": 119,
   "id": "5bdfea79",
   "metadata": {},
   "outputs": [],
   "source": [
    "from sklearn.preprocessing import OrdinalEncoder\n",
    "# Encode y to numeric\n",
    "enc = OrdinalEncoder()\n",
    "y_encoded = enc.fit_transform(y)"
   ]
  },
  {
   "cell_type": "code",
   "execution_count": 139,
   "id": "78d068f7",
   "metadata": {},
   "outputs": [
    {
     "data": {
      "text/plain": [
       "array([[2.],\n",
       "       [1.],\n",
       "       [2.],\n",
       "       ...,\n",
       "       [1.],\n",
       "       [1.],\n",
       "       [1.]])"
      ]
     },
     "execution_count": 139,
     "metadata": {},
     "output_type": "execute_result"
    }
   ],
   "source": [
    "y_encoded"
   ]
  },
  {
   "cell_type": "code",
   "execution_count": 120,
   "id": "c714aa8e",
   "metadata": {},
   "outputs": [
    {
     "data": {
      "text/plain": [
       "[array(['MAYBE', 'NO', 'YES'], dtype=object)]"
      ]
     },
     "execution_count": 120,
     "metadata": {},
     "output_type": "execute_result"
    }
   ],
   "source": [
    "enc.categories_"
   ]
  },
  {
   "cell_type": "code",
   "execution_count": 121,
   "id": "52893139",
   "metadata": {},
   "outputs": [
    {
     "data": {
      "image/png": "[encoded data removed]",
      "text/plain": [
       "<Figure size 640x480 with 1 Axes>"
      ]
     },
     "metadata": {},
     "output_type": "display_data"
    }
   ],
   "source": [
    "import matplotlib.pyplot as plt\n",
    "plt.hist(y_encoded)\n",
    "plt.show()"
   ]
  },
  {
   "cell_type": "code",
   "execution_count": 122,
   "id": "76f23d50",
   "metadata": {},
   "outputs": [],
   "source": [
    "from sklearn.model_selection import train_test_split\n",
    "X_train, X_test, y_train, y_test = train_test_split(X, y_encoded, random_state=1, stratify=y_encoded)"
   ]
  },
  {
   "cell_type": "code",
   "execution_count": 123,
   "id": "066555ba",
   "metadata": {},
   "outputs": [],
   "source": [
    "import xgboost as xgb\n",
    "# Create classification matrices\n",
    "dtrain_clf = xgb.DMatrix(X_train, y_train, enable_categorical=True)\n",
    "dtest_clf = xgb.DMatrix(X_test, y_test, enable_categorical=True)"
   ]
  },
  {
   "cell_type": "code",
   "execution_count": 173,
   "id": "1757377d",
   "metadata": {},
   "outputs": [
    {
     "name": "stdout",
     "output_type": "stream",
     "text": [
      "[0]\tvalidation-mlogloss:0.70243\ttrain-mlogloss:0.70234\n",
      "[10]\tvalidation-mlogloss:0.02782\ttrain-mlogloss:0.02746\n",
      "[20]\tvalidation-mlogloss:0.00171\ttrain-mlogloss:0.00145\n",
      "[30]\tvalidation-mlogloss:0.00031\ttrain-mlogloss:0.00014\n",
      "[40]\tvalidation-mlogloss:0.00025\ttrain-mlogloss:0.00005\n",
      "[50]\tvalidation-mlogloss:0.00027\ttrain-mlogloss:0.00004\n",
      "[60]\tvalidation-mlogloss:0.00029\ttrain-mlogloss:0.00004\n",
      "[70]\tvalidation-mlogloss:0.00030\ttrain-mlogloss:0.00004\n",
      "[80]\tvalidation-mlogloss:0.00032\ttrain-mlogloss:0.00004\n",
      "[90]\tvalidation-mlogloss:0.00033\ttrain-mlogloss:0.00004\n",
      "[99]\tvalidation-mlogloss:0.00032\ttrain-mlogloss:0.00004\n"
     ]
    }
   ],
   "source": [
    "# multi:softprob if we want to get probabilities for each class\n",
    "# multi:softmax if we just need the class that has the highest probability\n",
    "params = {\"objective\": \"multi:softmax\", \"tree_method\": \"hist\", \"num_class\": 3}\n",
    "n = 100 \n",
    "\n",
    "evals = [(dtest_clf, \"validation\"), (dtrain_clf, \"train\")]\n",
    "\n",
    "model = xgb.train(\n",
    "   params=params,\n",
    "   dtrain=dtrain_clf,\n",
    "   num_boost_round=n,\n",
    "   evals=evals,\n",
    "   verbose_eval=10\n",
    ")"
   ]
  },
  {
   "cell_type": "code",
   "execution_count": 151,
   "id": "71de8095",
   "metadata": {},
   "outputs": [],
   "source": [
    "input_df = post_score_df[post_score_df['recommend'].isna()]"
   ]
  },
  {
   "cell_type": "code",
   "execution_count": 152,
   "id": "6fc27ac9",
   "metadata": {},
   "outputs": [],
   "source": [
    "input_df = input_df.drop('recommend', axis=1)"
   ]
  },
  {
   "cell_type": "code",
   "execution_count": 153,
   "id": "d3430b53",
   "metadata": {},
   "outputs": [],
   "source": [
    "input_df = input_df.drop('classes', axis=1)"
   ]
  },
  {
   "cell_type": "code",
   "execution_count": 154,
   "id": "f6982685",
   "metadata": {},
   "outputs": [],
   "source": [
    "cats = input_df.select_dtypes(exclude=np.number).columns.tolist()\n",
    "\n",
    "# Convert to Pandas category\n",
    "for col in cats:\n",
    "    input_df[col] = input_df[col].astype('category')"
   ]
  },
  {
   "cell_type": "code",
   "execution_count": 155,
   "id": "ef22fdec",
   "metadata": {},
   "outputs": [],
   "source": [
    "dinput_df = xgb.DMatrix(input_df, enable_categorical=True)"
   ]
  },
  {
   "cell_type": "code",
   "execution_count": 174,
   "id": "dac4cdb2",
   "metadata": {},
   "outputs": [],
   "source": [
    "predicted_y = model.predict(dinput_df)"
   ]
  },
  {
   "cell_type": "code",
   "execution_count": 175,
   "id": "d1a37cd4",
   "metadata": {},
   "outputs": [
    {
     "data": {
      "text/plain": [
       "393818"
      ]
     },
     "execution_count": 175,
     "metadata": {},
     "output_type": "execute_result"
    }
   ],
   "source": [
    "len(predicted_y)"
   ]
  },
  {
   "cell_type": "code",
   "execution_count": 176,
   "id": "0da375db",
   "metadata": {},
   "outputs": [
    {
     "data": {
      "text/plain": [
       "numpy.ndarray"
      ]
     },
     "execution_count": 176,
     "metadata": {},
     "output_type": "execute_result"
    }
   ],
   "source": [
    "type(predicted_y)"
   ]
  },
  {
   "cell_type": "code",
   "execution_count": 177,
   "id": "c409690f",
   "metadata": {},
   "outputs": [
    {
     "data": {
      "image/png": "[encoded data removed]",
      "text/plain": [
       "<Figure size 640x480 with 1 Axes>"
      ]
     },
     "metadata": {},
     "output_type": "display_data"
    }
   ],
   "source": [
    "import matplotlib.pyplot as plt\n",
    "plt.hist(predicted_y)\n",
    "plt.show()"
   ]
  },
  {
   "cell_type": "code",
   "execution_count": 178,
   "id": "6c8c4c4b",
   "metadata": {},
   "outputs": [
    {
     "data": {
      "text/plain": [
       "<Axes: title={'center': 'Feature importance'}, xlabel='F score', ylabel='Features'>"
      ]
     },
     "execution_count": 178,
     "metadata": {},
     "output_type": "execute_result"
    },
    {
     "data": {
      "image/png": "[encoded data removed]",
      "text/plain": [
       "<Figure size 640x480 with 1 Axes>"
      ]
     },
     "metadata": {},
     "output_type": "display_data"
    }
   ],
   "source": [
    "from xgboost import plot_importance\n",
    "plot_importance(model)"
   ]
  },
  {
   "cell_type": "code",
   "execution_count": 179,
   "id": "86615acc",
   "metadata": {},
   "outputs": [],
   "source": [
    "import numpy as np\n",
    "predicted_y_int = np.rint(predicted_y)"
   ]
  },
  {
   "cell_type": "code",
   "execution_count": 184,
   "id": "9b2686aa",
   "metadata": {},
   "outputs": [
    {
     "data": {
      "image/png": "[encoded data removed]",
      "text/plain": [
       "<Figure size 640x480 with 1 Axes>"
      ]
     },
     "metadata": {},
     "output_type": "display_data"
    }
   ],
   "source": [
    "import matplotlib.pyplot as plt\n",
    "plt.hist(predicted_y_int)\n",
    "plt.show()"
   ]
  },
  {
   "cell_type": "code",
   "execution_count": 181,
   "id": "12aa83a4",
   "metadata": {},
   "outputs": [
    {
     "data": {
      "text/plain": [
       "array([2., 2., 2., ..., 1., 1., 1.], dtype=float32)"
      ]
     },
     "execution_count": 181,
     "metadata": {},
     "output_type": "execute_result"
    }
   ],
   "source": [
    "predicted_y_int"
   ]
  },
  {
   "cell_type": "code",
   "execution_count": 182,
   "id": "9e6fac81",
   "metadata": {},
   "outputs": [
    {
     "data": {
      "text/plain": [
       "[array(['MAYBE', 'NO', 'YES'], dtype=object)]"
      ]
     },
     "execution_count": 182,
     "metadata": {},
     "output_type": "execute_result"
    }
   ],
   "source": [
    "enc.categories_"
   ]
  },
  {
   "cell_type": "code",
   "execution_count": 190,
   "id": "fad2e6cc",
   "metadata": {},
   "outputs": [],
   "source": [
    "# sklearn encoder inverse_transform requires a 2D array\n",
    "predicted_y_int = enc.inverse_transform(predicted_y_int.reshape(-1, 1))"
   ]
  },
  {
   "cell_type": "code",
   "execution_count": 197,
   "id": "5e58542f",
   "metadata": {},
   "outputs": [],
   "source": [
    "# convert back from 2D array to 1D array so we can add column to Dataframe\n",
    "predicted_y_int = predicted_y_int.reshape(-1)"
   ]
  },
  {
   "cell_type": "code",
   "execution_count": 198,
   "id": "08694131",
   "metadata": {},
   "outputs": [
    {
     "data": {
      "text/plain": [
       "array(['YES', 'YES', 'YES', ..., 'NO', 'NO', 'NO'], dtype=object)"
      ]
     },
     "execution_count": 198,
     "metadata": {},
     "output_type": "execute_result"
    }
   ],
   "source": [
    "predicted_y_int"
   ]
  },
  {
   "cell_type": "code",
   "execution_count": 199,
   "id": "4b515970",
   "metadata": {},
   "outputs": [],
   "source": [
    "input_df['recommend'] = predicted_y_int"
   ]
  },
  {
   "cell_type": "code",
   "execution_count": 200,
   "id": "84dae9ae",
   "metadata": {},
   "outputs": [
    {
     "data": {
      "text/plain": [
       "recommend\n",
       "NO       386698\n",
       "YES        4846\n",
       "MAYBE      2274\n",
       "Name: count, dtype: int64"
      ]
     },
     "execution_count": 200,
     "metadata": {},
     "output_type": "execute_result"
    }
   ],
   "source": [
    "input_df['recommend'].value_counts()"
   ]
  },
  {
   "cell_type": "code",
   "execution_count": 228,
   "id": "8be40116",
   "metadata": {},
   "outputs": [
    {
     "name": "stdout",
     "output_type": "stream",
     "text": [
      "0.02\n",
      "0.01\n"
     ]
    }
   ],
   "source": [
    "yes_fraction = round(80 / input_df['recommend'].value_counts()['YES'], 2)\n",
    "print(yes_fraction)\n",
    "\n",
    "maybe_fraction = round(20 / input_df['recommend'].value_counts()['MAYBE'], 2)\n",
    "print(maybe_fraction)"
   ]
  },
  {
   "cell_type": "code",
   "execution_count": 210,
   "id": "86a584ca",
   "metadata": {},
   "outputs": [
    {
     "name": "stdout",
     "output_type": "stream",
     "text": [
      "<class 'pandas.core.frame.DataFrame'>\n",
      "Index: 393818 entries, 438868 to 452330\n",
      "Data columns (total 28 columns):\n",
      " #   Column                           Non-Null Count   Dtype   \n",
      "---  ------                           --------------   -----   \n",
      " 0   timestamp                        393818 non-null  category\n",
      " 1   entity_type_posts                393818 non-null  category\n",
      " 2   region                           289 non-null     category\n",
      " 3   class2                           0 non-null       float64 \n",
      " 4   post_id                          393818 non-null  category\n",
      " 5   collects                         393818 non-null  int64   \n",
      " 6   author_f6c3m8col12enh_score      391544 non-null  float64 \n",
      " 7   custom_filters_gardener_flagged  393818 non-null  category\n",
      " 8   upvotes                          393818 non-null  int64   \n",
      " 9   content_warning                  65 non-null      category\n",
      " 10  mirrors                          393818 non-null  int64   \n",
      " 11  is_original                      393818 non-null  category\n",
      " 12  is_content_warning               393818 non-null  category\n",
      " 13  class3                           0 non-null       float64 \n",
      " 14  age                              393818 non-null  int64   \n",
      " 15  author_f6c3m8col12enh_rank       391544 non-null  Int64   \n",
      " 16  downvotes                        393818 non-null  int64   \n",
      " 17  main_content_focus               392585 non-null  category\n",
      " 18  comments                         393818 non-null  int64   \n",
      " 19  class1                           0 non-null       float64 \n",
      " 20  profile_id                       0 non-null       category\n",
      " 21  language                         367620 non-null  category\n",
      " 22  max_age                          391544 non-null  float64 \n",
      " 23  max_mirrors                      372298 non-null  float64 \n",
      " 24  max_collects                     366150 non-null  float64 \n",
      " 25  max_comments                     356828 non-null  float64 \n",
      " 26  post_score                       334040 non-null  float64 \n",
      " 27  recommend                        393818 non-null  object  \n",
      "dtypes: Int64(1), category(11), float64(9), int64(6), object(1)\n",
      "memory usage: 91.0+ MB\n"
     ]
    }
   ],
   "source": [
    "input_df.info()"
   ]
  },
  {
   "cell_type": "code",
   "execution_count": 216,
   "id": "3b75b4e4",
   "metadata": {},
   "outputs": [],
   "source": [
    "# if there are NaN, converting pandas to pyspark fails with error\n",
    "# can not merge type <class 'pyspark.sql.types.longtype'> and <class 'pyspark.sql.types.structtype'>\n",
    "input_df['author_f6c3m8col12enh_rank'] = input_df['author_f6c3m8col12enh_rank'].fillna(1e10)"
   ]
  },
  {
   "cell_type": "code",
   "execution_count": 217,
   "id": "eaa6bc98",
   "metadata": {},
   "outputs": [],
   "source": [
    "recommend_df = spark.createDataFrame(\n",
    "                    input_df[['post_id', 'recommend',\n",
    "                              'author_f6c3m8col12enh_score', 'author_f6c3m8col12enh_rank',\n",
    "                              'post_score']])"
   ]
  },
  {
   "cell_type": "code",
   "execution_count": 218,
   "id": "84e14d5b",
   "metadata": {},
   "outputs": [
    {
     "name": "stderr",
     "output_type": "stream",
     "text": [
      "                                                                                \r"
     ]
    }
   ],
   "source": [
    "posts_df = spark.read.csv(\"/tmp/lens_bigquery_csvs/public_profile_post/\", \n",
    "                          header=True, \n",
    "                          escape=\"\\\"\",\n",
    "                          multiLine=True,\n",
    "                          inferSchema=True)"
   ]
  },
  {
   "cell_type": "code",
   "execution_count": 241,
   "id": "a73ad8c9",
   "metadata": {},
   "outputs": [],
   "source": [
    "# rename post_id column to avoid name conflict after join\n",
    "recommend_df = recommend_df.withColumnRenamed('post_id', 'recommend_post_id')\n",
    "\n",
    "posts_recommend_df = posts_df.join(recommend_df, posts_df.post_id == recommend_df.recommend_post_id, \"leftouter\")"
   ]
  },
  {
   "cell_type": "code",
   "execution_count": 242,
   "id": "487df344",
   "metadata": {},
   "outputs": [],
   "source": [
    "recommendations = posts_recommend_df \\\n",
    "            .sampleBy('recommend', {'YES': yes_fraction, 'MAYBE': maybe_fraction}, 0)"
   ]
  },
  {
   "cell_type": "code",
   "execution_count": 244,
   "id": "43644c7a",
   "metadata": {},
   "outputs": [
    {
     "name": "stderr",
     "output_type": "stream",
     "text": [
      "23/05/15 22:18:17 WARN TaskSetManager: Stage 23 contains a task of very large size (4153 KiB). The maximum recommended task size is 1000 KiB.\n",
      "                                                                                \r"
     ]
    },
    {
     "data": {
      "text/plain": [
       "118"
      ]
     },
     "execution_count": 244,
     "metadata": {},
     "output_type": "execute_result"
    }
   ],
   "source": [
    "recommendations.count()"
   ]
  },
  {
   "cell_type": "code",
   "execution_count": 246,
   "id": "52789715",
   "metadata": {},
   "outputs": [
    {
     "name": "stderr",
     "output_type": "stream",
     "text": [
      "23/05/15 22:20:46 WARN TaskSetManager: Stage 37 contains a task of very large size (4153 KiB). The maximum recommended task size is 1000 KiB.\n",
      "[Stage 43:>                                                         (0 + 3) / 3]\r"
     ]
    },
    {
     "name": "stdout",
     "output_type": "stream",
     "text": [
      "+-------------------------+--------+-------------------------------------------------------------------------------------------------------------------------------------------------------------------------------------------------------------------------------------------------------------------------------------------------------------------------------------------------------------------------------------------------------------------------------------------------------------------------------------------------------------------------------------------------------------------------------------------------------------------------------------------------------------------------------------------------------------------------------------------------------------------------------------------------------------------------------------------------------------------------------------------------------------------------------------------------------------------------------------------------------------------------------------------------------------------------------------------------------------------------------------------------------------------------------------------------------------------------------------------------------------------------------------------------------------------------------------------------------------------------------------------------------------------------------------------------------------------------------------------------------------------------------------------------------------------------------------------------------------------------------------------------------------------------------------------------------------------------------------------------------------------------------------------------------------------------------------------------------------------------------------------------------------------------------------------------------------------------------------------+---------+--------------------------+--------------------+-------------------------------+------------------+\n",
      "|post_id                  |language|content                                                                                                                                                                                                                                                                                                                                                                                                                                                                                                                                                                                                                                                                                                                                                                                                                                                                                                                                                                                                                                                                                                                                                                                                                                                                                                                                                                                                                                                                                                                                                                                                                                                                                                                                                                                                                                                                                                                                                                                    |recommend|author_f6c3m8col12enh_rank|post_score          |custom_filters_gardener_flagged|main_content_focus|\n",
      "+-------------------------+--------+-------------------------------------------------------------------------------------------------------------------------------------------------------------------------------------------------------------------------------------------------------------------------------------------------------------------------------------------------------------------------------------------------------------------------------------------------------------------------------------------------------------------------------------------------------------------------------------------------------------------------------------------------------------------------------------------------------------------------------------------------------------------------------------------------------------------------------------------------------------------------------------------------------------------------------------------------------------------------------------------------------------------------------------------------------------------------------------------------------------------------------------------------------------------------------------------------------------------------------------------------------------------------------------------------------------------------------------------------------------------------------------------------------------------------------------------------------------------------------------------------------------------------------------------------------------------------------------------------------------------------------------------------------------------------------------------------------------------------------------------------------------------------------------------------------------------------------------------------------------------------------------------------------------------------------------------------------------------------------------------+---------+--------------------------+--------------------+-------------------------------+------------------+\n",
      "|0x0114f4-0x12-DA-015fe22a|null    |Web3 technologies can help create more inclusive and democratic societies, giving people more agency over their lives and enabling greater participation in decision-making.                                                                                                                                                                                                                                                                                                                                                                                                                                                                                                                                                                                                                                                                                                                                                                                                                                                                                                                                                                                                                                                                                                                                                                                                                                                                                                                                                                                                                                                                                                                                                                                                                                                                                                                                                                                                               |MAYBE    |10000000000               |NaN                 |false                          |TEXT_ONLY         |\n",
      "|0x011510-0x10            |zh      |Good luck                                                                                                                                                                                                                                                                                                                                                                                                                                                                                                                                                                                                                                                                                                                                                                                                                                                                                                                                                                                                                                                                                                                                                                                                                                                                                                                                                                                                                                                                                                                                                                                                                                                                                                                                                                                                                                                                                                                                                                                  |MAYBE    |10000000000               |NaN                 |false                          |TEXT_ONLY         |\n",
      "|0x01184e-0x28            |tr      |Candle                                                                                                                                                                                                                                                                                                                                                                                                                                                                                                                                                                                                                                                                                                                                                                                                                                                                                                                                                                                                                                                                                                                                                                                                                                                                                                                                                                                                                                                                                                                                                                                                                                                                                                                                                                                                                                                                                                                                                                                     |YES      |32668                     |1.5193236714975846  |false                          |IMAGE             |\n",
      "|0x0118ab-0x03de          |en      |Aussies reported nearly 4,000 crypto scams in 2022, 162.4% more than in 2021 with crypto scammers able to swindle the most funds per incident on average.\\n\\n[Australian crypto scams increased by over 162% with nearly _150M lost](https://cointelegraph.com/news/australian-crypto-scams-increased-by-over-162-with-nearly-150m-lost)\\nAustralians lost _148 million across almost 4,000 crypto scams in 2022, up 162.4% from 2021 while bank transfers were the most common payment method, crypto scammers stole a greater amount of funds per incident.                                                                                                                                                                                                                                                                                                                                                                                                                                                                                                                                                                                                                                                                                                                                                                                                                                                                                                                                                                                                                                                                                                                                                                                                                                                                                                                                                                                                                              |YES      |10728                     |0.2760589318600367  |false                          |IMAGE             |\n",
      "|0x0118c4-0x29            |en      |Sanshipan, also known as Sanpan and Kuinrenpan, is a bronze vessel cast in a block model during the reign of King Li of the Western Zhou Dynasty. There are 357 characters of gold inscriptions cast in its belly. It is the earliest land contract in China. [1][2] The style is also the first to develop cursive seal script, and it occupies an important position in the stele study system. It is one of the \"Four National Treasures\" [Note 1] in the late Qing Dynasty. It is now collected in the National Palace Museum in Taipei.                                                                                                                                                                                                                                                                                                                                                                                                                                                                                                                                                                                                                                                                                                                                                                                                                                                                                                                                                                                                                                                                                                                                                                                                                                                                                                                                                                                                                                               |YES      |46695                     |2.769230769230769   |false                          |IMAGE             |\n",
      "|0x011900-0x01            |en      |henlo lensworld                                                                                                                                                                                                                                                                                                                                                                                                                                                                                                                                                                                                                                                                                                                                                                                                                                                                                                                                                                                                                                                                                                                                                                                                                                                                                                                                                                                                                                                                                                                                                                                                                                                                                                                                                                                                                                                                                                                                                                            |MAYBE    |10000000000               |NaN                 |false                          |TEXT_ONLY         |\n",
      "|0x01194b-0x09            |de      |null                                                                                                                                                                                                                                                                                                                                                                                                                                                                                                                                                                                                                                                                                                                                                                                                                                                                                                                                                                                                                                                                                                                                                                                                                                                                                                                                                                                                                                                                                                                                                                                                                                                                                                                                                                                                                                                                                                                                                                                       |MAYBE    |10000000000               |NaN                 |false                          |IMAGE             |\n",
      "|0x011ac1-0x7e            |null    |😗                                                                                                                                                                                                                                                                                                                                                                                                                                                                                                                                                                                                                                                                                                                                                                                                                                                                                                                                                                                                                                                                                                                                                                                                                                                                                                                                                                                                                                                                                                                                                                                                                                                                                                                                                                                                                                                                                                                                                                                         |YES      |4358                      |-0.04972527472527477|false                          |IMAGE             |\n",
      "|0x011b27-0xc3            |null    |GN                                                                                                                                                                                                                                                                                                                                                                                                                                                                                                                                                                                                                                                                                                                                                                                                                                                                                                                                                                                                                                                                                                                                                                                                                                                                                                                                                                                                                                                                                                                                                                                                                                                                                                                                                                                                                                                                                                                                                                                         |YES      |13098                     |-0.1681818181818181 |false                          |IMAGE             |\n",
      "|0x011b8b-0x24            |en      |The market this last week.\\n\\nEnd or bear market? or is it just a short break for the next dump?\\n\\nLeave your opinion 👇👇 \\n\\n#Market #Crypto #Lens #Notice                                                                                                                                                                                                                                                                                                                                                                                                                                                                                                                                                                                                                                                                                                                                                                                                                                                                                                                                                                                                                                                                                                                                                                                                                                                                                                                                                                                                                                                                                                                                                                                                                                                                                                                                                                                                                              |YES      |7620                      |-0.1067892503536072 |false                          |IMAGE             |\n",
      "|0x011c20-0x4d            |en      |The long-awaited #OpenEx Membership Campaign Mission 2 is now live on \\n\\nComplete the following task to claim this #NFT on #BNB #yasai #Galxe\\n\\n- Refer a friend to join #OpenEx \\n(my code👉) https://discord.gg/nYWb6ksa2W\\n- Follow👉 https://twitter.com/OpenEx_HQ on Twitter \\n- Retweet and tag pinned post\\n\\nClaim now today👇\\n\\n[OpenEx Member Campaign - Ophira Page02: Calling for a friend by OpenEx](https://galxe.com/)\\nJoin  OpenEx Member Campaign - Ophira Page02: Calling for a friend campaigns created by OpenEx on Galxe. Ophira Page 2 is the continuation of [Ophira Page                                                                                                                                                                                                                                                                                                                                                                                                                                                                                                                                                                                                                                                                                                                                                                                                                                                                                                                                                                                                                                                                                                                                                                                                                                                                                                                                                                                       |YES      |9883                      |0.17317958020212498 |false                          |IMAGE             |\n",
      "|0x011ddb-0x015f          |en      |null                                                                                                                                                                                                                                                                                                                                                                                                                                                                                                                                                                                                                                                                                                                                                                                                                                                                                                                                                                                                                                                                                                                                                                                                                                                                                                                                                                                                                                                                                                                                                                                                                                                                                                                                                                                                                                                                                                                                                                                       |YES      |14464                     |-0.3963963963963964 |false                          |IMAGE             |\n",
      "|0x011e27-0x1e            |en      |null                                                                                                                                                                                                                                                                                                                                                                                                                                                                                                                                                                                                                                                                                                                                                                                                                                                                                                                                                                                                                                                                                                                                                                                                                                                                                                                                                                                                                                                                                                                                                                                                                                                                                                                                                                                                                                                                                                                                                                                       |YES      |12997                     |0.08056872037914697 |false                          |IMAGE             |\n",
      "|0x011fd0-0x20            |vi      |bnh bnh i                                                                                                                                                                                                                                                                                                                                                                                                                                                                                                                                                                                                                                                                                                                                                                                                                                                                                                                                                                                                                                                                                                                                                                                                                                                                                                                                                                                                                                                                                                                                                                                                                                                                                                                                                                                                                                                                                                                                                                                  |YES      |18852                     |-1.019047619047619  |false                          |IMAGE             |\n",
      "|0x011fdd-0x019e          |en      |317\\n\\n33La Dolce Vita Fine Dining Company LimitedCVC Capital PartnersCVC2019CVC1.429.8\\n\\nCVC202211CVC                                                                                                                                                                                                                                                                                                                                                                                                                                                                                                                                                                                                                                                                                                                                                                                                                                                                                                                                                                                                                                                                                                                                                                                                                                                                                                                                                                                                                                                                                                                                                                                                                                                                                                                                                                                                                                                                                    |YES      |22142                     |-0.5663978494623656 |false                          |IMAGE             |\n",
      "|0x012122-0x02f2          |en      |Instructions for Airdrop SpaceID round 2\\n\\n\\n\\nMint NFT Galxe Passport (to receive Rare box)\\n\\nInstruct:\\n\\nStep 1: Go to https://galxe.com/passport\\n\\nStep 2: Connect BEP20 wallet and click Mint Now\\n\\nB3: Send a photo of your ID/CCCD front and back and scan your face for KYC\\n\\nB4: Wait for the platform to confirm and mint.\\n\\n\\n\\nAfter you have a Galxe Passport, please register a new Space ID domain name!\\n\\nCost: About 6 USD _BNB Bep20\\n\\nInstructions to receive the Rare box:\\n\\nVisit: https://space.id/voyage/season-2?inviter=queeni.bnb\\n\\nBuy any domain you like, (Choose a domain with the word Register) and proceed to buy\\n\\nThen select the profile on the top right corner => Set Primary domain => Visit this link again and select open to open the BOX!\\n\\n- I will bank 6_ fee to buy domain if use my ref link \\n\\n------------------------******************--------------------------------------------\\n\\nHng dn Airdrop SpaceID vng 2\\n\\nMint NFT Galxe Passport (  nhn c hp Rare )\\nHng dn:  \\nB1: Truy cp https://galxe.com/passport \\nB2: Kt ni v BEP20 v click Mint Now \\nB3: Gi nh chp CMND/CCCD mt trc, sau v qut khun mt  KYC \\nB4: Ch nn tng xc nhn xong v mint.\\n\\nSau khi  c Galxe Passport th anh em thc hin ng k tn min Space ID mi nh!  \\nChi ph: Khong 6 USD _BNB mng Bep20  \\nHng dn  nhn hp Rare:\\nTruy cp : https://space.id/voyage/season-2?inviter=queeni.bnb\\nMua 1 domain bt k ty thch,( Chn domain c ch Register) v tin hnh mua\\nSau  chn vo profile trn gc phi trn cng => Set Primary domain => Truy cp li link ny ri chn open  m BOX ra nh!\\n- Anh em no ng k di link ref mnh s bank 6_ fee mua domain nh                                                                                                                                                                                                                                                                                                            |YES      |7014                      |-0.7362914862914864 |false                          |IMAGE             |\n",
      "|0x012153-0x011c          |en      |Bitcoin price action indicates the formation of a price floor, but considering the impending global recession, its assumption is premature.\\n \\nEconomic uncertainty increases demand for safe havens, but Bitcoin still trades like a risk asset.                                                                                                                                                                                                                                                                                                                                                                                                                                                                                                                                                                                                                                                                                                                                                                                                                                                                                                                                                                                                                                                                                                                                                                                                                                                                                                                                                                                                                                                                                                                                                                                                                                                                                                                                         |YES      |2345                      |-0.9650069791209952 |false                          |IMAGE             |\n",
      "|0x0121e1-0x03f4          |en      |null                                                                                                                                                                                                                                                                                                                                                                                                                                                                                                                                                                                                                                                                                                                                                                                                                                                                                                                                                                                                                                                                                                                                                                                                                                                                                                                                                                                                                                                                                                                                                                                                                                                                                                                                                                                                                                                                                                                                                                                       |YES      |11830                     |-0.8687035507844758 |false                          |IMAGE             |\n",
      "|0x0122d9-0xaf            |null    |GM! 🪴☘️                                                                                                                                                                                                                                                                                                                                                                                                                                                                                                                                                                                                                                                                                                                                                                                                                                                                                                                                                                                                                                                                                                                                                                                                                                                                                                                                                                                                                                                                                                                                                                                                                                                                                                                                                                                                                                                                                                                                                                                   |YES      |5847                      |0.8354825115887061  |false                          |IMAGE             |\n",
      "|0x012349-0x0115          |en      |Yuliverse ガチャ\\n#lens #phaver #BCG                                                                                                                                                                                                                                                                                                                                                                                                                                                                                                                                                                                                                                                                                                                                                                                                                                                                                                                                                                                                                                                                                                                                                                                                                                                                                                                                                                                                                                                                                                                                                                                                                                                                                                                                                                                                                                                                                                                                                       |YES      |15120                     |-0.8429203539823009 |false                          |IMAGE             |\n",
      "|0x0123c0-0xac            |null    |woman,Life,Freedom 💙✌\\n\\n📷: sarvar Farhadi                                                                                                                                                                                                                                                                                                                                                                                                                                                                                                                                                                                                                                                                                                                                                                                                                                                                                                                                                                                                                                                                                                                                                                                                                                                                                                                                                                                                                                                                                                                                                                                                                                                                                                                                                                                                                                                                                                                                               |YES      |15012                     |0.9266527850078086  |false                          |IMAGE             |\n",
      "|0x0123c0-0xfd            |nl      |Persian deer and zebra\\n\\n📷: Farzad Vanaki                                                                                                                                                                                                                                                                                                                                                                                                                                                                                                                                                                                                                                                                                                                                                                                                                                                                                                                                                                                                                                                                                                                                                                                                                                                                                                                                                                                                                                                                                                                                                                                                                                                                                                                                                                                                                                                                                                                                                |YES      |15012                     |-0.5888426166926948 |false                          |IMAGE             |\n",
      "|0x0124b4-0x0356          |en      |null                                                                                                                                                                                                                                                                                                                                                                                                                                                                                                                                                                                                                                                                                                                                                                                                                                                                                                                                                                                                                                                                                                                                                                                                                                                                                                                                                                                                                                                                                                                                                                                                                                                                                                                                                                                                                                                                                                                                                                                       |YES      |6137                      |0.16601731601731584 |false                          |IMAGE             |\n",
      "|0x0124b4-0x03bf          |en      |Ethereum's Shapella upgrade is now live.\\n\\nThe highly-anticipated upgrade enables users and validators to withdraw their staked ETH on the network.                                                                                                                                                                                                                                                                                                                                                                                                                                                                                                                                                                                                                                                                                                                                                                                                                                                                                                                                                                                                                                                                                                                                                                                                                                                                                                                                                                                                                                                                                                                                                                                                                                                                                                                                                                                                                                       |YES      |6137                      |-0.39610389610389607|false                          |IMAGE             |\n",
      "|0x0125a5-0x31            |en      |Nature and peace!                                                                                                                                                                                                                                                                                                                                                                                                                                                                                                                                                                                                                                                                                                                                                                                                                                                                                                                                                                                                                                                                                                                                                                                                                                                                                                                                                                                                                                                                                                                                                                                                                                                                                                                                                                                                                                                                                                                                                                          |YES      |21537                     |0.0814159292035398  |false                          |IMAGE             |\n",
      "|0x0126b2-0x02            |en      |null                                                                                                                                                                                                                                                                                                                                                                                                                                                                                                                                                                                                                                                                                                                                                                                                                                                                                                                                                                                                                                                                                                                                                                                                                                                                                                                                                                                                                                                                                                                                                                                                                                                                                                                                                                                                                                                                                                                                                                                       |MAYBE    |10000000000               |NaN                 |false                          |TEXT_ONLY         |\n",
      "|0x012751-0xbd            |nl      |meat box                                                                                                                                                                                                                                                                                                                                                                                                                                                                                                                                                                                                                                                                                                                                                                                                                                                                                                                                                                                                                                                                                                                                                                                                                                                                                                                                                                                                                                                                                                                                                                                                                                                                                                                                                                                                                                                                                                                                                                                   |YES      |15826                     |2.5803343166175026  |false                          |IMAGE             |\n",
      "|0x012752-0x1b            |en      |null                                                                                                                                                                                                                                                                                                                                                                                                                                                                                                                                                                                                                                                                                                                                                                                                                                                                                                                                                                                                                                                                                                                                                                                                                                                                                                                                                                                                                                                                                                                                                                                                                                                                                                                                                                                                                                                                                                                                                                                       |MAYBE    |10000000000               |NaN                 |false                          |TEXT_ONLY         |\n",
      "|0x012753-0x0e            |en      |null                                                                                                                                                                                                                                                                                                                                                                                                                                                                                                                                                                                                                                                                                                                                                                                                                                                                                                                                                                                                                                                                                                                                                                                                                                                                                                                                                                                                                                                                                                                                                                                                                                                                                                                                                                                                                                                                                                                                                                                       |MAYBE    |10000000000               |NaN                 |false                          |IMAGE             |\n",
      "|0x0127ad-0x0113          |null    |GN                                                                                                                                                                                                                                                                                                                                                                                                                                                                                                                                                                                                                                                                                                                                                                                                                                                                                                                                                                                                                                                                                                                                                                                                                                                                                                                                                                                                                                                                                                                                                                                                                                                                                                                                                                                                                                                                                                                                                                                         |YES      |13297                     |1.508585858585859   |false                          |IMAGE             |\n",
      "|0x0127ad-0x0119          |ko      |Duck steak! Yum!                                                                                                                                                                                                                                                                                                                                                                                                                                                                                                                                                                                                                                                                                                                                                                                                                                                                                                                                                                                                                                                                                                                                                                                                                                                                                                                                                                                                                                                                                                                                                                                                                                                                                                                                                                                                                                                                                                                                                                           |YES      |13297                     |0.43207070707070716 |false                          |IMAGE             |\n",
      "|0x0113be-0xc6            |zh      |web3---                                                                                                                                                                                                                                                                                                                                                                                                                                                                                                                                                                                                                                                                                                                                                                                                                                                                                                                                                                                                                                                                                                                                                                                                                                                                                                                                                                                                                                                                                                                                                                                                                                                                                                                                                                                                                                                                                                                                                                                    |YES      |11899                     |-0.12761544011544013|false                          |IMAGE             |\n",
      "|0x0113be-0xf2            |zh      |SID1U                                                                                                                                                                                                                                                                                                                                                                                                                                                                                                                                                                                                                                                                                                                                                                                                                                                                                                                                                                                                                                                                                                                                                                                                                                                                                                                                                                                                                                                                                                                                                                                                                                                                                                                                                                                                                                                                                                                                                                                      |YES      |11899                     |-0.5902777777777779 |false                          |IMAGE             |\n",
      "|0x0113e7-0x030b          |null    |🐻                                                                                                                                                                                                                                                                                                                                                                                                                                                                                                                                                                                                                                                                                                                                                                                                                                                                                                                                                                                                                                                                                                                                                                                                                                                                                                                                                                                                                                                                                                                                                                                                                                                                                                                                                                                                                                                                                                                                                                                         |YES      |2653                      |-0.8508102859024129 |false                          |IMAGE             |\n",
      "|0x011420-0xcf            |da      |please steak🐶\\nAnd i apply for friend✨\\n\\nI love cute dog!!                                                                                                                                                                                                                                                                                                                                                                                                                                                                                                                                                                                                                                                                                                                                                                                                                                                                                                                                                                                                                                                                                                                                                                                                                                                                                                                                                                                                                                                                                                                                                                                                                                                                                                                                                                                                                                                                                                                               |YES      |10751                     |-0.3125             |false                          |IMAGE             |\n",
      "|0x011425-0x01fe          |en      |Just Playing around 🙈\\n\\n[Lo × DALL·E | Small kitty flying in space with 3D colorful effect](https://labs.openai.com/s/EvJ4Zg1zOUGqEy4QHX7rNSwf)\\nCreated with DALL·E, an AI system by OpenAI                                                                                                                                                                                                                                                                                                                                                                                                                                                                                                                                                                                                                                                                                                                                                                                                                                                                                                                                                                                                                                                                                                                                                                                                                                                                                                                                                                                                                                                                                                                                                                                                                                                                                                                                                                                             |YES      |2025                      |-0.42324561403508776|false                          |IMAGE             |\n",
      "|0x0115e1-0x15            |de      |null                                                                                                                                                                                                                                                                                                                                                                                                                                                                                                                                                                                                                                                                                                                                                                                                                                                                                                                                                                                                                                                                                                                                                                                                                                                                                                                                                                                                                                                                                                                                                                                                                                                                                                                                                                                                                                                                                                                                                                                       |MAYBE    |10000000000               |NaN                 |false                          |IMAGE             |\n",
      "|0x011650-0x0103          |ru      |like for luck                                                                                                                                                                                                                                                                                                                                                                                                                                                                                                                                                                                                                                                                                                                                                                                                                                                                                                                                                                                                                                                                                                                                                                                                                                                                                                                                                                                                                                                                                                                                                                                                                                                                                                                                                                                                                                                                                                                                                                              |YES      |3431                      |2.4419837804117277  |false                          |IMAGE             |\n",
      "|0x011959-0x0a            |zh      |He likes it very much.                                                                                                                                                                                                                                                                                                                                                                                                                                                                                                                                                                                                                                                                                                                                                                                                                                                                                                                                                                                                                                                                                                                                                                                                                                                                                                                                                                                                                                                                                                                                                                                                                                                                                                                                                                                                                                                                                                                                                                     |MAYBE    |10000000000               |NaN                 |false                          |TEXT_ONLY         |\n",
      "|0x011bfa-0x06            |en      |null                                                                                                                                                                                                                                                                                                                                                                                                                                                                                                                                                                                                                                                                                                                                                                                                                                                                                                                                                                                                                                                                                                                                                                                                                                                                                                                                                                                                                                                                                                                                                                                                                                                                                                                                                                                                                                                                                                                                                                                       |MAYBE    |10000000000               |NaN                 |false                          |VIDEO             |\n",
      "|0x011f21-0x0185          |en      |Claim CyberConnect OAT 💠\\n\\nConnected 2023 Community Mission\\n\\n➡️ https://galxe.com/CyberConnect/campaign/GCUe4UTPH6\\n\\n[Connected 2023 Community Mission by CyberConnect](https://galxe.com/)\\nJoin Connected 2023 Community Mission campaigns created by CyberConnect on Galxe. To all members of the CyberConnect family, subscri                                                                                                                                                                                                                                                                                                                                                                                                                                                                                                                                                                                                                                                                                                                                                                                                                                                                                                                                                                                                                                                                                                                                                                                                                                                                                                                                                                                                                                                                                                                                                                                                                                                     |YES      |5222                      |-1.0299199325747999 |false                          |IMAGE             |\n",
      "|0x012149-0xb9            |ru      |Free NFT Genesis PFP \\n\\n\\n\\nFree NFT       NFT.     . \\n\\n         . ,   ,     . \\n\\n\\n\\nCEO   https://twitter.com/igorlenterman/status/1625308258700492801?s=20&t=gXVhGm_H3asaeiy5LPR8iQ   Genesis   Free NFT.       PFP . \\n\\n\\n\\n  ? \\n\\n1)    (https://www.freenft.xyz/whitelist/freenft).\\n\\n2)   . \\n\\n3)   Igor Lenterman https://twitter.com/igorlenterman  Gabriel Leydon https://twitter.com/gabrielleydon\\n\\n\\n\\n    .                                                                                                                                                                                                                                                                                                                                                                                                                                                                                                                                                                                                                                                                                                                                                                                                                                                                                                                                                                                                                                                                                                                                                                                                                                                                                                                                                                                                                                                                                                                                                         |YES      |4752                      |-0.7869785082174463 |false                          |IMAGE             |\n",
      "|0x01214b-0x45            |vi      |null                                                                                                                                                                                                                                                                                                                                                                                                                                                                                                                                                                                                                                                                                                                                                                                                                                                                                                                                                                                                                                                                                                                                                                                                                                                                                                                                                                                                                                                                                                                                                                                                                                                                                                                                                                                                                                                                                                                                                                                       |YES      |25651                     |0.20353982300884954 |false                          |IMAGE             |\n",
      "|0x012236-0x04            |zh      |gn                                                                                                                                                                                                                                                                                                                                                                                                                                                                                                                                                                                                                                                                                                                                                                                                                                                                                                                                                                                                                                                                                                                                                                                                                                                                                                                                                                                                                                                                                                                                                                                                                                                                                                                                                                                                                                                                                                                                                                                         |MAYBE    |10000000000               |NaN                 |false                          |TEXT_ONLY         |\n",
      "|0x0122c2-0xb4            |ru      |Let's talk a little bit about @lensprotocol, I want to add clarity for those who are very new here.\\nFounder of the project - @stani.lens \\n\\nLens Protocol is a decentralized social graph built on the Polygon proof-of-stake blockchain and designed for Web3. Its modular architecture enables users to own and streamline their data and social relationships. By creating profiles and interacting with one another through these profiles, users can own the links between themselves and their community.\\n\\n\\n\\nThe Lens Protocol operates through a multisig, overseen by a broader DAO responsible for developing and voting on modules and additional functionality. To use the Lens Protocol, users must create a profile on the hub and obtain a Profile NFT, which controls their content and enables them to post publications, including posts, comments, and mirrors.\\n\\n\\n\\nPublications on Lens Protocol are not NFTs themselves but possess a ContentURI that points to the specific content that the publication contains, such as text, images, or videos. Publications have attached modules, including the Collect Module and Reference Module, which control who can mint an NFT referencing the original publication's URI and who can comment and mirror the publication.\\n\\n\\n\\nProfile owners have control over their profiles' image URI, dispatcher, and follow module, which determines the logic executed when a wallet follows the given profile. Regular wallets can follow profiles and collect publications, minting Follow NFTs and Collect NFTs specific to the profile or publication, respectively.\\n\\n\\n\\nThe Lens Protocol employs three layers of ERC721 NFT tokenization, including Profile NFTs, Follow NFTs, and Collect NFTs, which are composable and deployed specifically to the profile or publication after the inaugural follow or collect.\\n\\nIf you have any questions - you can ask me in the comments, I'll try to answer them. |YES      |10006                     |-0.6083333333333333 |false                          |IMAGE             |\n",
      "|0x012315-0xe9            |en      |#BTC \\n1 _BTC for _1 million: is it a programmed option?..\\n\\n@bitcoins                                                                                                                                                                                                                                                                                                                                                                                                                                                                                                                                                                                                                                                                                                                                                                                                                                                                                                                                                                                                                                                                                                                                                                                                                                                                                                                                                                                                                                                                                                                                                                                                                                                                                                                                                                                                                                                                                                                    |YES      |11346                     |-0.3529990167158309 |false                          |IMAGE             |\n",
      "|0x012344-0xed            |en      |How to Build a _700 Gaming PC \\nhttps://www.youtube.com/watch?v=Cuhc9MIvMsc\\n\\n[How to Build a _700 Gaming PC in 2023! ⚡ Step by Step Guide](https://www.youtube.com/watch?v=Cuhc9MIvMsc)\\nNew Customer Exclusive - _25 Off ALL Processors: https://micro.center/420c20Sign Up for Exclusive Deals at Micro Center’s New Store in Indianapolis: https://...                                                                                                                                                                                                                                                                                                                                                                                                                                                                                                                                                                                                                                                                                                                                                                                                                                                                                                                                                                                                                                                                                                                                                                                                                                                                                                                                                                                                                                                                                                                                                                                                                                |YES      |15391                     |0.184981684981685   |false                          |IMAGE             |\n",
      "|0x012348-0x02            |en      |null                                                                                                                                                                                                                                                                                                                                                                                                                                                                                                                                                                                                                                                                                                                                                                                                                                                                                                                                                                                                                                                                                                                                                                                                                                                                                                                                                                                                                                                                                                                                                                                                                                                                                                                                                                                                                                                                                                                                                                                       |MAYBE    |10000000000               |NaN                 |false                          |IMAGE             |\n",
      "|0x0123a8-0x19            |en      |null                                                                                                                                                                                                                                                                                                                                                                                                                                                                                                                                                                                                                                                                                                                                                                                                                                                                                                                                                                                                                                                                                                                                                                                                                                                                                                                                                                                                                                                                                                                                                                                                                                                                                                                                                                                                                                                                                                                                                                                       |MAYBE    |10000000000               |NaN                 |false                          |TEXT_ONLY         |\n",
      "|0x0123c0-0x0118          |so      |darzo,Bushehr,Iran\\n\\n📷: Hasan Dehesh                                                                                                                                                                                                                                                                                                                                                                                                                                                                                                                                                                                                                                                                                                                                                                                                                                                                                                                                                                                                                                                                                                                                                                                                                                                                                                                                                                                                                                                                                                                                                                                                                                                                                                                                                                                                                                                                                                                                                     |YES      |15012                     |-0.6670137081381226 |false                          |IMAGE             |\n",
      "|0x0123e1-0x17            |en      |RELEASE - 1.9.1 - August 22nd, 2022, 16:00\\n\\nFeatures\\n\\n- feat: all dApps on testnet can use gasless + dispatcher within the API freely! Happy building!                                                                                                                                                                                                                                                                                                                                                                                                                                                                                                                                                                                                                                                                                                                                                                                                                                                                                                                                                                                                                                                                                                                                                                                                                                                                                                                                                                                                                                                                                                                                                                                                                                                                                                                                                                                                                                 |MAYBE    |10000000000               |NaN                 |false                          |IMAGE             |\n",
      "|0x0124a6-0x02e7          |null    |gn                                                                                                                                                                                                                                                                                                                                                                                                                                                                                                                                                                                                                                                                                                                                                                                                                                                                                                                                                                                                                                                                                                                                                                                                                                                                                                                                                                                                                                                                                                                                                                                                                                                                                                                                                                                                                                                                                                                                                                                         |YES      |11286                     |-0.9464285714285714 |false                          |IMAGE             |\n",
      "|0x0125fd-0x0253          |vi      |@@@@                                                                                                                                                                                                                                                                                                                                                                                                                                                                                                                                                                                                                                                                                                                                                                                                                                                                                                                                                                                                                                                                                                                                                                                                                                                                                                                                                                                                                                                                                                                                                                                                                                                                                                                                                                                                                                                                                                                                                                                       |YES      |3990                      |-0.6787878787878787 |false                          |IMAGE             |\n",
      "|0x0126cd-0x0210          |en      |Try. Try.. Try...                                                                                                                                                                                                                                                                                                                                                                                                                                                                                                                                                                                                                                                                                                                                                                                                                                                                                                                                                                                                                                                                                                                                                                                                                                                                                                                                                                                                                                                                                                                                                                                                                                                                                                                                                                                                                                                                                                                                                                          |YES      |5941                      |-0.808450704225352  |false                          |IMAGE             |\n",
      "|0x012718-0x77            |vi      |C ng                                                                                                                                                                                                                                                                                                                                                                                                                                                                                                                                                                                                                                                                                                                                                                                                                                                                                                                                                                                                                                                                                                                                                                                                                                                                                                                                                                                                                                                                                                                                                                                                                                                                                                                                                                                                                                                                                                                                                                                       |YES      |17763                     |3.9714285714285715  |false                          |IMAGE             |\n",
      "|0x012751-0xb3            |tr      |bitcoin bird michael saylor                                                                                                                                                                                                                                                                                                                                                                                                                                                                                                                                                                                                                                                                                                                                                                                                                                                                                                                                                                                                                                                                                                                                                                                                                                                                                                                                                                                                                                                                                                                                                                                                                                                                                                                                                                                                                                                                                                                                                                |YES      |15826                     |0.07040314650934121 |false                          |IMAGE             |\n",
      "|0x012836-0x0261          |null    |Don't forget to dream big this week, GM frens                                                                                                                                                                                                                                                                                                                                                                                                                                                                                                                                                                                                                                                                                                                                                                                                                                                                                                                                                                                                                                                                                                                                                                                                                                                                                                                                                                                                                                                                                                                                                                                                                                                                                                                                                                                                                                                                                                                                              |YES      |3302                      |-1.0333333333333332 |false                          |IMAGE             |\n",
      "|0x0113b4-0x1b            |zh      |ddddsss                                                                                                                                                                                                                                                                                                                                                                                                                                                                                                                                                                                                                                                                                                                                                                                                                                                                                                                                                                                                                                                                                                                                                                                                                                                                                                                                                                                                                                                                                                                                                                                                                                                                                                                                                                                                                                                                                                                                                                                    |MAYBE    |10000000000               |NaN                 |false                          |TEXT_ONLY         |\n",
      "|0x011684-0x0b            |tr      |#NFT                                                                                                                                                                                                                                                                                                                                                                                                                                                                                                                                                                                                                                                                                                                                                                                                                                                                                                                                                                                                                                                                                                                                                                                                                                                                                                                                                                                                                                                                                                                                                                                                                                                                                                                                                                                                                                                                                                                                                                                       |YES      |31201                     |1.3526570048309177  |false                          |IMAGE             |\n",
      "|0x011890-0x01            |en      |so fresh so green ı am happy                                                                                                                                                                                                                                                                                                                                                                                                                                                                                                                                                                                                                                                                                                                                                                                                                                                                                                                                                                                                                                                                                                                                                                                                                                                                                                                                                                                                                                                                                                                                                                                                                                                                                                                                                                                                                                                                                                                                                               |MAYBE    |10000000000               |NaN                 |false                          |TEXT_ONLY         |\n",
      "|0x0118bf-0x01            |zh      |All rivers run into the sea.                                                                                                                                                                                                                                                                                                                                                                                                                                                                                                                                                                                                                                                                                                                                                                                                                                                                                                                                                                                                                                                                                                                                                                                                                                                                                                                                                                                                                                                                                                                                                                                                                                                                                                                                                                                                                                                                                                                                                               |MAYBE    |10000000000               |NaN                 |false                          |TEXT_ONLY         |\n",
      "|0x01191d-0x04            |kk      |I just voted \"For\" on \"AIP-1.2 - Foundation and DAO Governance\" https://snapshot.org/#/arbitrumfoundation.eth/proposal/0x373dfa89fc9c5ccba8ed83fa3fa4f233edd270075b5f8f4f3902b408318d9d17 #snapshotlabs                                                                                                                                                                                                                                                                                                                                                                                                                                                                                                                                                                                                                                                                                                                                                                                                                                                                                                                                                                                                                                                                                                                                                                                                                                                                                                                                                                                                                                                                                                                                                                                                                                                                                                                                                                                    |MAYBE    |10000000000               |NaN                 |false                          |TEXT_ONLY         |\n",
      "|0x01192c-0x51            |en      |Binance Launchpad for Space ID Tokens Receives Over _2.8B in BNB Commitments\\nOver 8.4 million bnb tokens have been committed to the Space ID token sale, which was raising _2.5 million from exchange users.\\n\\n[Binance Launchpad for Space ID Tokens Receives Over _2.8B in BNB Commitments](https://www.coindesk.com/business/2023/03/22/binance-launchpad-for-space-id-tokens-receives-over-28b-in-bnb-commitments/)\\nOver 8.4 million bnb tokens have been committed to the Space ID token sale, which was raising _2.5 million from exchange users.                                                                                                                                                                                                                                                                                                                                                                                                                                                                                                                                                                                                                                                                                                                                                                                                                                                                                                                                                                                                                                                                                                                                                                                                                                                                                                                                                                                                                                 |YES      |14036                     |-0.9325396825396827 |false                          |IMAGE             |\n",
      "|0x0119d0-0x62            |tl      |Mexico tijuana - amazing city                                                                                                                                                                                                                                                                                                                                                                                                                                                                                                                                                                                                                                                                                                                                                                                                                                                                                                                                                                                                                                                                                                                                                                                                                                                                                                                                                                                                                                                                                                                                                                                                                                                                                                                                                                                                                                                                                                                                                              |YES      |15366                     |0.0413461538461537  |false                          |IMAGE             |\n",
      "|0x011b0e-0x16            |tr      |#NFT                                                                                                                                                                                                                                                                                                                                                                                                                                                                                                                                                                                                                                                                                                                                                                                                                                                                                                                                                                                                                                                                                                                                                                                                                                                                                                                                                                                                                                                                                                                                                                                                                                                                                                                                                                                                                                                                                                                                                                                       |YES      |30486                     |3.1159420289855073  |false                          |IMAGE             |\n",
      "|0x011b4c-0xad            |ko      |zkSync  1 - zkSync Lite  \\n\\nhttps://sh-safer.tistory.com/349                                                                                                                                                                                                                                                                                                                                                                                                                                                                                                                                                                                                                                                                                                                                                                                                                                                                                                                                                                                                                                                                                                                                                                                                                                                                                                                                                                                                                                                                                                                                                                                                                                                                                                                                                                                                                                                                                                                              |YES      |16615                     |1.2765957446808511  |false                          |IMAGE             |\n",
      "|0x011b9d-0x39            |zh      |Built on @memester-xyz.lens                                                                                                                                                                                                                                                                                                                                                                                                                                                                                                                                                                                                                                                                                                                                                                                                                                                                                                                                                                                                                                                                                                                                                                                                                                                                                                                                                                                                                                                                                                                                                                                                                                                                                                                                                                                                                                                                                                                                                                |YES      |3060                      |-0.3355426511814177 |false                          |IMAGE             |\n",
      "|0x011c40-0x0a80          |en      |#zkSync ecosystem has truly taken off in 2023 when launching mainnet with over 300 projects across Web 3 stack and a dedicated community of builders & supporters around the world.We can't wait to see what the future holds for 2023 and beyond! #Era #landscape #ETH #Layer2                                                                                                                                                                                                                                                                                                                                                                                                                                                                                                                                                                                                                                                                                                                                                                                                                                                                                                                                                                                                                                                                                                                                                                                                                                                                                                                                                                                                                                                                                                                                                                                                                                                                                                            |YES      |3276                      |-0.5403571428571429 |false                          |IMAGE             |\n",
      "|0x011c8e-0x0292          |pt      |Trader journey                                                                                                                                                                                                                                                                                                                                                                                                                                                                                                                                                                                                                                                                                                                                                                                                                                                                                                                                                                                                                                                                                                                                                                                                                                                                                                                                                                                                                                                                                                                                                                                                                                                                                                                                                                                                                                                                                                                                                                             |YES      |18417                     |-0.75               |false                          |IMAGE             |\n",
      "|0x011d7e-0x01ec          |en      |SHIB the Metaverse Leads Web3 Diversity Through New Partnership with The International Women of Blockchain & NOWPayments\\nhttps://coinstats.app/news/u30Z3YxhGI_SHIB-the-Metaverse-Leads-Web3-Diversity-Through-New-Partnership-with-The-International-Women-of-Blockchain--NOWPayments\\n\\n[SHIB the Metaverse Leads Web3 Diversity Through New Partnership with The International Women of Blockchain & NOWPayments](https://coinstats.app/news/u30Z3YxhGI_SHIB-the-Metaverse-Leads-Web3-Diversity-Through-New-Partnership-with-The-International-Women-of-Blockchain--NOWPayments/)\\nCrypto Price Tracker, Market Cap, News. CoinStats is a crypto portfolio tracker that provides live prices for  Bitcoin, Ethereum & 5000 altcoins.                                                                                                                                                                                                                                                                                                                                                                                                                                                                                                                                                                                                                                                                                                                                                                                                                                                                                                                                                                                                                                                                                                                                                                                                                                                   |YES      |5650                      |-0.8562274729675611 |false                          |IMAGE             |\n",
      "|0x011ea1-0x5d            |en      |DAOs are Decentralized Autonomous Organizations that are self-managed by a transparent set of rules encoded as a computer program. They are a new type of organizational structure built on code and blockchains that can replace the way we see companies today. DAOs reduce the need for managers or traditional hierarchies, as the rules are embedded into the code, allowing the organization to function independently from the organizations members. They can therefore make organizational decisions collectively and autonomously through a process of decentralized governance.\\n\\nA decentralized world is a vision of a future where people can connect, collaborate and create without intermediaries or centralized authorities. It is based on the principles of transparency, immutability, consensus and community. A decentralized world is enabled by technologies such as blockchain, Web3 and DAOs that form the backbone of a new digital economy and society.                                                                                                                                                                                                                                                                                                                                                                                                                                                                                                                                                                                                                                                                                                                                                                                                                                                                                                                                                                                                      |YES      |9218                      |2.6470588235294117  |false                          |IMAGE             |\n",
      "|0x011f8b-0x011b          |null    |🌅                                                                                                                                                                                                                                                                                                                                                                                                                                                                                                                                                                                                                                                                                                                                                                                                                                                                                                                                                                                                                                                                                                                                                                                                                                                                                                                                                                                                                                                                                                                                                                                                                                                                                                                                                                                                                                                                                                                                                                                         |YES      |15859                     |-0.5486725663716814 |false                          |IMAGE             |\n",
      "|0x011fe0-0x93            |en      |Delysium sell a total of 50,000 nodes (DMA).\\nYou get 1,000 USDT up to 10,000 units sold / 25 USDT per 100 units above that.\\nSo far, 12,392 have been sold (1,600 USDT)\\n\\nThe sooner you buy, the more you get.\\nComing soon to Bybit Launchpad\\n\\nDelysium\\n\\n- Delysium is a AAA-grade AI + blockchain gaming platform\\n- It mixes AI metrics like Crypto GPT and AGIX with game metrics like Gala Node.\\n- The founder is from Y-Combinator, the world's top VC.\\n- Raised _14 million in funding\\n- AI startup that brings AI to games has attracted investment from Y-combinator, Galaxy Interactive, and more\\n- VC (_10M+ funding) (rct AI, Deterrence, Y Combinator, Galaxy Interactive, Makers Fund, Immutable, Anthos Capital, Republic Crypto)\\n\\n[Delysium Multiverse Accelerator](https://marketplace.delysium.com/dma?referrer=3SEMLQ)\\nDelysium is the world's first playable AAA blockchain game. It is real open-world, vividly AI-powered and truly player-owned. Delysium is of the players, by the players and for the players. This is Delysium's marketplace.                                                                                                                                                                                                                                                                                                                                                                                                                                                                                                                                                                                                                                                                                                                                                                                                                                                                                                      |YES      |13288                     |-0.23654708520179368|false                          |IMAGE             |\n",
      "|0x01210f-0x02            |en      |hello world                                                                                                                                                                                                                                                                                                                                                                                                                                                                                                                                                                                                                                                                                                                                                                                                                                                                                                                                                                                                                                                                                                                                                                                                                                                                                                                                                                                                                                                                                                                                                                                                                                                                                                                                                                                                                                                                                                                                                                                |MAYBE    |10000000000               |NaN                 |false                          |TEXT_ONLY         |\n",
      "|0x012125-0x2c            |null    |💆‍♂️                                                                                                                                                                                                                                                                                                                                                                                                                                                                                                                                                                                                                                                                                                                                                                                                                                                                                                                                                                                                                                                                                                                                                                                                                                                                                                                                                                                                                                                                                                                                                                                                                                                                                                                                                                                                                                                                                                                                                                                      |YES      |22233                     |3.9769417475728153  |false                          |IMAGE             |\n",
      "|0x012149-0x01b8          |ru      |**https://twitter.com/MetaMask/status/1640763000947703833**                                                                                                                                                                                                                                                                                                                                                                                                                                                                                                                                                                                                                                                                                                                                                                                                                                                                                                                                                                                                                                                                                                                                                                                                                                                                                                                                                                                                                                                                                                                                                                                                                                                                                                                                                                                                                                                                                                                                |YES      |4752                      |-0.20986093552465235|false                          |IMAGE             |\n",
      "|0x012189-0x0175          |en      |Quest Laer3 without cost\\n\\nhttps://layer3.xyz/quests/mint-to-subscribe-with-layer3\\n\\n[Celebrate Q1 with Layer3 - Layer3](https://layer3.xyz/quests/mint-to-subscribe-with-layer3)\\nWe're a quarter through 2023! Celebrate our first few months and take a look at what we've accomplished in this Quest.                                                                                                                                                                                                                                                                                                                                                                                                                                                                                                                                                                                                                                                                                                                                                                                                                                                                                                                                                                                                                                                                                                                                                                                                                                                                                                                                                                                                                                                                                                                                                                                                                                                                                |YES      |8869                      |-0.7468951813214109 |false                          |IMAGE             |\n",
      "|0x0121de-0x02db          |en      |null                                                                                                                                                                                                                                                                                                                                                                                                                                                                                                                                                                                                                                                                                                                                                                                                                                                                                                                                                                                                                                                                                                                                                                                                                                                                                                                                                                                                                                                                                                                                                                                                                                                                                                                                                                                                                                                                                                                                                                                       |YES      |4782                      |-0.27168141592920336|false                          |IMAGE             |\n",
      "|0x0121de-0x0324          |en      |Nft                                                                                                                                                                                                                                                                                                                                                                                                                                                                                                                                                                                                                                                                                                                                                                                                                                                                                                                                                                                                                                                                                                                                                                                                                                                                                                                                                                                                                                                                                                                                                                                                                                                                                                                                                                                                                                                                                                                                                                                        |YES      |4782                      |-0.40589970501474926|false                          |IMAGE             |\n",
      "|0x012231-0x76            |en      |Do you know this cricketing legend?\\nGuess the name!❤️                                                                                                                                                                                                                                                                                                                                                                                                                                                                                                                                                                                                                                                                                                                                                                                                                                                                                                                                                                                                                                                                                                                                                                                                                                                                                                                                                                                                                                                                                                                                                                                                                                                                                                                                                                                                                                                                                                                                     |YES      |3359                      |2.2986725663716814  |false                          |IMAGE             |\n",
      "|0x01233a-0x27            |en      |JUST IN: 🇺🇸 White House says #crypto assets do not offer \"any fundamental value, nor do they act as an effective alternative to fiat money.\"\\n\\nThoughts? \\n.. I think they're wrong, scared and the feeling is mutual (Prolly Wonna buy the dip, kek)\\n\\n[White House Says Crypto Does Not Offer \"Any Fundamental Value\"](https://watcher.guru/news/white-house-says-crypto-does-not-offer-any-fundamental-value)\\nWhite House Economic Report of the President states that crypto does not offer any fundamental value and pose a number of risks to investors.                                                                                                                                                                                                                                                                                                                                                                                                                                                                                                                                                                                                                                                                                                                                                                                                                                                                                                                                                                                                                                                                                                                                                                                                                                                                                                                                                                                                                        |YES      |35674                     |-0.9537037037037037 |false                          |IMAGE             |\n",
      "|0x01234f-0x0100          |en      |@phaver 🌿                                                                                                                                                                                                                                                                                                                                                                                                                                                                                                                                                                                                                                                                                                                                                                                                                                                                                                                                                                                                                                                                                                                                                                                                                                                                                                                                                                                                                                                                                                                                                                                                                                                                                                                                                                                                                                                                                                                                                                                 |YES      |9072                      |-0.37045231071779744|false                          |IMAGE             |\n",
      "|0x01237a-0x04            |tr      |Is the crypto season on bull run right no?                                                                                                                                                                                                                                                                                                                                                                                                                                                                                                                                                                                                                                                                                                                                                                                                                                                                                                                                                                                                                                                                                                                                                                                                                                                                                                                                                                                                                                                                                                                                                                                                                                                                                                                                                                                                                                                                                                                                                 |MAYBE    |10000000000               |NaN                 |false                          |TEXT_ONLY         |\n",
      "|0x0124bc-0xac            |en      |#mining #HEX 👑\\n\\n#cryptocurrency #crypto #blockchain #btc    #ethereum #hodl #bitcoinmining #altcoin #altcoins #investing #bitcoinnews #cryptonews #defi #trading #cryptotrading #stocks #investment #forex #finance #cryptomemes #wealth #money #btcmining #cryptomining.                                                                                                                                                                                                                                                                                                                                                                                                                                                                                                                                                                                                                                                                                                                                                                                                                                                                                                                                                                                                                                                                                                                                                                                                                                                                                                                                                                                                                                                                                                                                                                                                                                                                                                               |YES      |23268                     |0.6770833333333333  |false                          |IMAGE             |\n",
      "|0x0124be-0x02            |en      |I'mma using https://lenster.xyz/                                                                                                                                                                                                                                                                                                                                                                                                                                                                                                                                                                                                                                                                                                                                                                                                                                                                                                                                                                                                                                                                                                                                                                                                                                                                                                                                                                                                                                                                                                                                                                                                                                                                                                                                                                                                                                                                                                                                                           |MAYBE    |10000000000               |NaN                 |false                          |TEXT_ONLY         |\n",
      "|0x012620-0x017a          |da      |retired                                                                                                                                                                                                                                                                                                                                                                                                                                                                                                                                                                                                                                                                                                                                                                                                                                                                                                                                                                                                                                                                                                                                                                                                                                                                                                                                                                                                                                                                                                                                                                                                                                                                                                                                                                                                                                                                                                                                                                                    |YES      |4602                      |0.4619047619047618  |false                          |IMAGE             |\n",
      "|0x01268d-0x015e          |null    |💮🍥                                                                                                                                                                                                                                                                                                                                                                                                                                                                                                                                                                                                                                                                                                                                                                                                                                                                                                                                                                                                                                                                                                                                                                                                                                                                                                                                                                                                                                                                                                                                                                                                                                                                                                                                                                                                                                                                                                                                                                                       |YES      |10922                     |0.8287208366854385  |false                          |IMAGE             |\n",
      "|0x012718-0x1f            |vi      |Cute                                                                                                                                                                                                                                                                                                                                                                                                                                                                                                                                                                                                                                                                                                                                                                                                                                                                                                                                                                                                                                                                                                                                                                                                                                                                                                                                                                                                                                                                                                                                                                                                                                                                                                                                                                                                                                                                                                                                                                                       |YES      |17763                     |0.338095238095238   |false                          |IMAGE             |\n",
      "|0x012730-0x0363          |zh      |The power of positive thinking can transform our lives and bring greater happiness and success. #positivity #mindset                                                                                                                                                                                                                                                                                                                                                                                                                                                                                                                                                                                                                                                                                                                                                                                                                                                                                                                                                                                                                                                                                                                                                                                                                                                                                                                                                                                                                                                                                                                                                                                                                                                                                                                                                                                                                                                                       |YES      |8557                      |-0.8143564356435644 |false                          |IMAGE             |\n",
      "|0x012817-0x8e            |it      |Football Concept :)\\n\\nBy Stable Diffusion                                                                                                                                                                                                                                                                                                                                                                                                                                                                                                                                                                                                                                                                                                                                                                                                                                                                                                                                                                                                                                                                                                                                                                                                                                                                                                                                                                                                                                                                                                                                                                                                                                                                                                                                                                                                                                                                                                                                                 |YES      |29561                     |-0.4555555555555556 |false                          |IMAGE             |\n",
      "|0x012836-0x02b0          |fr      |Cute Veggie\\n\\nEat your Veggies lads 😁                                                                                                                                                                                                                                                                                                                                                                                                                                                                                                                                                                                                                                                                                                                                                                                                                                                                                                                                                                                                                                                                                                                                                                                                                                                                                                                                                                                                                                                                                                                                                                                                                                                                                                                                                                                                                                                                                                                                                    |YES      |3302                      |-0.538888888888889  |false                          |IMAGE             |\n",
      "|0x01286b-0x11            |zh      |Phi Land Kakusei https://mirror.xyz/sunvo.eth/QpBv8Mk5jzXsW44IDtWzWuAs8_TDsUd6MML2p9zFDSA                                                                                                                                                                                                                                                                                                                                                                                                                                                                                                                                                                                                                                                                                                                                                                                                                                                                                                                                                                                                                                                                                                                                                                                                                                                                                                                                                                                                                                                                                                                                                                                                                                                                                                                                                                                                                                                                                                  |MAYBE    |10000000000               |NaN                 |false                          |TEXT_ONLY         |\n",
      "|0x0128b8-0x30            |ru      |Gm fam \\nWhats new?                                                                                                                                                                                                                                                                                                                                                                                                                                                                                                                                                                                                                                                                                                                                                                                                                                                                                                                                                                                                                                                                                                                                                                                                                                                                                                                                                                                                                                                                                                                                                                                                                                                                                                                                                                                                                                                                                                                                                                        |YES      |16139                     |1.0495726495726496  |false                          |IMAGE             |\n",
      "|0x0128e4-0x03            |zh      |zkSynchttps://mirror.xyz/lubiyangjia.eth/e63WE87KOHAPScFc5oAXuxI8oT5GK3vNFRn59kjSvg                                                                                                                                                                                                                                                                                                                                                                                                                                                                                                                                                                                                                                                                                                                                                                                                                                                                                                                                                                                                                                                                                                                                                                                                                                                                                                                                                                                                                                                                                                                                                                                                                                                                                                                                                                                                                                                                                                        |MAYBE    |10000000000               |NaN                 |false                          |TEXT_ONLY         |\n",
      "|0x012940-0xae            |ar      |Sunflowers, flowers within a flower!\\n    !                                                                                                                                                                                                                                                                                                                                                                                                                                                                                                                                                                                                                                                                                                                                                                                                                                                                                                                                                                                                                                                                                                                                                                                                                                                                                                                                                                                                                                                                                                                                                                                                                                                                                                                                                                                                                                                                                                                                                |YES      |6010                      |0.766329258976318   |false                          |IMAGE             |\n",
      "|0x01294b-0x84            |en      |null                                                                                                                                                                                                                                                                                                                                                                                                                                                                                                                                                                                                                                                                                                                                                                                                                                                                                                                                                                                                                                                                                                                                                                                                                                                                                                                                                                                                                                                                                                                                                                                                                                                                                                                                                                                                                                                                                                                                                                                       |YES      |19128                     |0.3632075471698113  |false                          |IMAGE             |\n",
      "|0x0129b9-0xbb            |en      |kfte ve kabab time Naser restaurant #food#day#lens                                                                                                                                                                                                                                                                                                                                                                                                                                                                                                                                                                                                                                                                                                                                                                                                                                                                                                                                                                                                                                                                                                                                                                                                                                                                                                                                                                                                                                                                                                                                                                                                                                                                                                                                                                                                                                                                                                                                         |YES      |15066                     |3.6244239631336406  |false                          |IMAGE             |\n",
      "|0x0113f3-0x0764          |vi      |Photography                                                                                                                                                                                                                                                                                                                                                                                                                                                                                                                                                                                                                                                                                                                                                                                                                                                                                                                                                                                                                                                                                                                                                                                                                                                                                                                                                                                                                                                                                                                                                                                                                                                                                                                                                                                                                                                                                                                                                                                |YES      |2095                      |0.6057422969187676  |false                          |IMAGE             |\n",
      "|0x0118a6-0xd8            |tr      |some books i read are like this library                                                                                                                                                                                                                                                                                                                                                                                                                                                                                                                                                                                                                                                                                                                                                                                                                                                                                                                                                                                                                                                                                                                                                                                                                                                                                                                                                                                                                                                                                                                                                                                                                                                                                                                                                                                                                                                                                                                                                    |YES      |4392                      |0.42066529961266785 |false                          |IMAGE             |\n",
      "|0x011902-0x03            |ru      |I just voted \"For\" on \"AIP-1.1 - Lockup, Budget, Transparency\" https://snapshot.org/#/arbitrumfoundation.eth/proposal/0x7203289844e807781e8d2ec110d4b97a79a29944cae06a52dbe315a16381a2ae #snapshotlabs                                                                                                                                                                                                                                                                                                                                                                                                                                                                                                                                                                                                                                                                                                                                                                                                                                                                                                                                                                                                                                                                                                                                                                                                                                                                                                                                                                                                                                                                                                                                                                                                                                                                                                                                                                                     |MAYBE    |10000000000               |NaN                 |false                          |TEXT_ONLY         |\n",
      "+-------------------------+--------+-------------------------------------------------------------------------------------------------------------------------------------------------------------------------------------------------------------------------------------------------------------------------------------------------------------------------------------------------------------------------------------------------------------------------------------------------------------------------------------------------------------------------------------------------------------------------------------------------------------------------------------------------------------------------------------------------------------------------------------------------------------------------------------------------------------------------------------------------------------------------------------------------------------------------------------------------------------------------------------------------------------------------------------------------------------------------------------------------------------------------------------------------------------------------------------------------------------------------------------------------------------------------------------------------------------------------------------------------------------------------------------------------------------------------------------------------------------------------------------------------------------------------------------------------------------------------------------------------------------------------------------------------------------------------------------------------------------------------------------------------------------------------------------------------------------------------------------------------------------------------------------------------------------------------------------------------------------------------------------------+---------+--------------------------+--------------------+-------------------------------+------------------+\n",
      "only showing top 100 rows\n",
      "\n"
     ]
    },
    {
     "name": "stderr",
     "output_type": "stream",
     "text": [
      "\r",
      "[Stage 43:======================================>                   (2 + 1) / 3]\r",
      "\r",
      "                                                                                \r"
     ]
    }
   ],
   "source": [
    "recommendations.select(\n",
    "    'post_id', 'language', 'content', 'recommend',\n",
    "    'author_f6c3m8col12enh_rank', 'post_score',\n",
    "    'custom_filters_gardener_flagged', 'main_content_focus').show(100, truncate = False)"
   ]
  },
  {
   "cell_type": "code",
   "execution_count": null,
   "id": "d9d3df2c",
   "metadata": {},
   "outputs": [],
   "source": []
  }
 ],
 "metadata": {
  "kernelspec": {
   "display_name": "k3l-recommendation-env3",
   "language": "python",
   "name": "k3l-recommendation-env3"
  },
  "language_info": {
   "codemirror_mode": {
    "name": "ipython",
    "version": 3
   },
   "file_extension": ".py",
   "mimetype": "text/x-python",
   "name": "python",
   "nbconvert_exporter": "python",
   "pygments_lexer": "ipython3",
   "version": "3.9.16"
  }
 },
 "nbformat": 4,
 "nbformat_minor": 5
}
