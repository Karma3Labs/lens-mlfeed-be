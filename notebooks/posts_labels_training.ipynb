{
 "cells": [
  {
   "cell_type": "code",
   "execution_count": 1,
   "id": "a5e6715e",
   "metadata": {},
   "outputs": [],
   "source": [
    "import findspark\n",
    "# $ cd /opt\n",
    "# /opt$ sudo ln -s ~/apps/spark-3.4.0-bin-hadoop3 spark\n",
    "findspark.init(\"/opt/spark\") "
   ]
  },
  {
   "cell_type": "code",
   "execution_count": 2,
   "id": "5df15204",
   "metadata": {},
   "outputs": [
    {
     "name": "stderr",
     "output_type": "stream",
     "text": [
      "23/05/14 08:01:15 WARN Utils: Your hostname, VIJAYs-MacBook-Pro.local resolves to a loopback address: 127.0.0.1; using 192.168.87.240 instead (on interface en0)\n",
      "23/05/14 08:01:15 WARN Utils: Set SPARK_LOCAL_IP if you need to bind to another address\n",
      "Setting default log level to \"WARN\".\n",
      "To adjust logging level use sc.setLogLevel(newLevel). For SparkR, use setLogLevel(newLevel).\n",
      "23/05/14 08:01:17 WARN NativeCodeLoader: Unable to load native-hadoop library for your platform... using builtin-java classes where applicable\n"
     ]
    }
   ],
   "source": [
    "# import pyspark\n",
    "# sc = pyspark.SparkContext(appName=\"globalContent\")\n",
    "\n",
    "# pg_jar = str(Path('~/apps/postgresql-42.5.4.jar').expanduser().resolve())\n",
    "# bq_jar = str(Path('~/apps/spark-bigquery-with-dependencies_2.12-0.30.0.jar').expanduser().resolve())\n",
    "# spark_jars = f\"{pg_jar},{bq_jar}\"\n",
    "\n",
    "from pyspark.sql import SparkSession\n",
    "# spark = SparkSession.builder \\\n",
    "#             .appName(\"LensFeatures\") \\\n",
    "#             .config(\"spark.jars\", spark_jars) \\\n",
    "#             .getOrCreate()\n",
    "spark = SparkSession.builder \\\n",
    "            .appName(\"LensFeatures\") \\\n",
    "            .getOrCreate()"
   ]
  },
  {
   "cell_type": "code",
   "execution_count": 3,
   "id": "af32705b",
   "metadata": {},
   "outputs": [
    {
     "name": "stderr",
     "output_type": "stream",
     "text": [
      "                                                                                \r"
     ]
    }
   ],
   "source": [
    "# posts_df = spark.read.format('com.google.cloud.spark.bigquery') \\\n",
    "#                     .option('table','lens-public-data.polygon.public_profile_post') \\\n",
    "#                     .load()\n",
    "posts_df = spark.read.csv(\"/tmp/lens_bigquery_csvs/public_profile_post/\", \n",
    "                          header=True, \n",
    "                          escape=\"\\\"\",\n",
    "                          multiLine=True,\n",
    "                          inferSchema=True)"
   ]
  },
  {
   "cell_type": "code",
   "execution_count": 4,
   "id": "f81dae8e",
   "metadata": {},
   "outputs": [],
   "source": [
    "# from pyspark.sql.functions import lit, current_timestamp, to_timestamp\n",
    "# # ts = to_timestamp(lit('05-12-2023 00:00:00.000'),'MM-dd-yyyy HH:mm:ss.SSS')\n",
    "# ts = current_timestamp()\n",
    "# posts_df = posts_df \\\n",
    "#             .select(\"post_id\") \\\n",
    "#             .withColumn(\"timestamp\", ts)\n",
    "\n",
    "from pyspark.sql.functions import col\n",
    "posts_df = posts_df.select(col(\"post_id\").alias(\"posts\"))"
   ]
  },
  {
   "cell_type": "code",
   "execution_count": 5,
   "id": "a5204c89",
   "metadata": {},
   "outputs": [
    {
     "name": "stdout",
     "output_type": "stream",
     "text": [
      "Your browser has been opened to visit:\n",
      "\n",
      "    https://accounts.google.com/o/oauth2/auth?response_type=code&client_id=764086051850-6qr4p6gpi6hn506pt8ejuq83di341hur.apps.googleusercontent.com&redirect_uri=http%3A%2F%2Flocalhost%3A8085%2F&scope=openid+https%3A%2F%2Fwww.googleapis.com%2Fauth%2Fuserinfo.email+https%3A%2F%2Fwww.googleapis.com%2Fauth%2Fcloud-platform+https%3A%2F%2Fwww.googleapis.com%2Fauth%2Fsqlservice.login+https%3A%2F%2Fwww.googleapis.com%2Fauth%2Faccounts.reauth&state=ZJr0RmkgNDJQ0G7diiA2uqWQoq981G&access_type=offline&code_challenge=HoZpsw0r8In1-SYM2r9RcwElGznHgR3ZqHbIY_TY1uc&code_challenge_method=S256\n",
      "\n",
      "\n",
      "Credentials saved to file: [/Users/vijay/.config/gcloud/application_default_credentials.json]\n",
      "\n",
      "These credentials will be used by any library that requests Application Default Credentials (ADC).\n",
      "\n",
      "Quota project \"boxwood-well-386122\" was added to ADC which can be used by Google client libraries for billing and quota. Note that some services may still bill the project owning the resource.\n"
     ]
    }
   ],
   "source": [
    "! gcloud auth application-default login"
   ]
  },
  {
   "cell_type": "code",
   "execution_count": 6,
   "id": "d23d6d94",
   "metadata": {},
   "outputs": [],
   "source": [
    "PROJECT_ID = \"boxwood-well-386122\"\n",
    "REGION = \"us-central1\"\n",
    "BUCKET_URI = \"gs://vijay-lens-feature-store-temp\"  \n",
    "from google.cloud import aiplatform\n",
    "aiplatform.init(project=PROJECT_ID, location=REGION, staging_bucket=BUCKET_URI)"
   ]
  },
  {
   "cell_type": "code",
   "execution_count": 7,
   "id": "ff31e925",
   "metadata": {},
   "outputs": [
    {
     "name": "stdout",
     "output_type": "stream",
     "text": [
      "name: \"projects/1181216607/locations/us-central1/featurestores/lens_featurestore_dev\"\n",
      "create_time {\n",
      "  seconds: 1683658565\n",
      "  nanos: 777177000\n",
      "}\n",
      "update_time {\n",
      "  seconds: 1683730147\n",
      "  nanos: 63762000\n",
      "}\n",
      "etag: \"AMEw9yMW0zkR_o9vtJ56wWmP1MuZxSie3Bd9UBb2qPIph56liRtbLQHpROKVDQ4ehdo=\"\n",
      "online_serving_config {\n",
      "}\n",
      "state: STABLE\n",
      "\n"
     ]
    }
   ],
   "source": [
    "FEATURESTORE_ID = \"lens_featurestore_dev\"\n",
    "from google.cloud.aiplatform import Feature, Featurestore\n",
    "fs = Featurestore(\n",
    "    featurestore_name=FEATURESTORE_ID\n",
    ")\n",
    "print(fs.gca_resource)"
   ]
  },
  {
   "cell_type": "code",
   "execution_count": 8,
   "id": "2bd2ea9e",
   "metadata": {},
   "outputs": [],
   "source": [
    "posts_entity_type = fs.get_entity_type(entity_type_id=\"posts\")"
   ]
  },
  {
   "cell_type": "code",
   "execution_count": 9,
   "id": "f2dfd857",
   "metadata": {},
   "outputs": [
    {
     "name": "stdout",
     "output_type": "stream",
     "text": [
      "{'posts': ['region', 'class2', 'post_id', 'collects', 'author_f6c3m8col12enh_score', 'custom_filters_gardener_flagged', 'upvotes', 'content_warning', 'classes', 'mirrors', 'is_original', 'recommend', 'is_content_warning', 'class3', 'age', 'author_f6c3m8col12enh_rank', 'downvotes', 'main_content_focus', 'comments', 'class1', 'profile_id', 'language']}\n"
     ]
    }
   ],
   "source": [
    "POSTS_FEATURES_IDS = {'posts': [feature.name for feature in posts_entity_type.list_features()]}\n",
    "print(POSTS_FEATURES_IDS)"
   ]
  },
  {
   "cell_type": "code",
   "execution_count": 10,
   "id": "330b78af",
   "metadata": {},
   "outputs": [
    {
     "name": "stderr",
     "output_type": "stream",
     "text": [
      "                                                                                \r"
     ]
    }
   ],
   "source": [
    "INSTANCES_DF = posts_df.toPandas()"
   ]
  },
  {
   "cell_type": "code",
   "execution_count": 11,
   "id": "08f824a2",
   "metadata": {},
   "outputs": [],
   "source": [
    "# google api expects a pandas Timestamp to be millisecond-aligned in RFC 3339 format \n",
    "# Example - 2012-07-30T10:43:17.123Z\n",
    "import pandas as pd\n",
    "INSTANCES_DF['timestamp'] = pd.Timestamp('2023-05-12T00:00:00.000Z')"
   ]
  },
  {
   "cell_type": "code",
   "execution_count": 12,
   "id": "8abd7c25",
   "metadata": {},
   "outputs": [
    {
     "data": {
      "text/html": [
       "<div>\n",
       "<style scoped>\n",
       "    .dataframe tbody tr th:only-of-type {\n",
       "        vertical-align: middle;\n",
       "    }\n",
       "\n",
       "    .dataframe tbody tr th {\n",
       "        vertical-align: top;\n",
       "    }\n",
       "\n",
       "    .dataframe thead th {\n",
       "        text-align: right;\n",
       "    }\n",
       "</style>\n",
       "<table border=\"1\" class=\"dataframe\">\n",
       "  <thead>\n",
       "    <tr style=\"text-align: right;\">\n",
       "      <th></th>\n",
       "      <th>posts</th>\n",
       "      <th>timestamp</th>\n",
       "    </tr>\n",
       "  </thead>\n",
       "  <tbody>\n",
       "    <tr>\n",
       "      <th>0</th>\n",
       "      <td>0x01137e-0x01a8</td>\n",
       "      <td>2023-05-12 00:00:00+00:00</td>\n",
       "    </tr>\n",
       "    <tr>\n",
       "      <th>1</th>\n",
       "      <td>0x01137e-0x01a9</td>\n",
       "      <td>2023-05-12 00:00:00+00:00</td>\n",
       "    </tr>\n",
       "    <tr>\n",
       "      <th>2</th>\n",
       "      <td>0x01137e-0x01aa</td>\n",
       "      <td>2023-05-12 00:00:00+00:00</td>\n",
       "    </tr>\n",
       "    <tr>\n",
       "      <th>3</th>\n",
       "      <td>0x01137e-0x01ab</td>\n",
       "      <td>2023-05-12 00:00:00+00:00</td>\n",
       "    </tr>\n",
       "    <tr>\n",
       "      <th>4</th>\n",
       "      <td>0x01137e-0x01ac</td>\n",
       "      <td>2023-05-12 00:00:00+00:00</td>\n",
       "    </tr>\n",
       "  </tbody>\n",
       "</table>\n",
       "</div>"
      ],
      "text/plain": [
       "             posts                 timestamp\n",
       "0  0x01137e-0x01a8 2023-05-12 00:00:00+00:00\n",
       "1  0x01137e-0x01a9 2023-05-12 00:00:00+00:00\n",
       "2  0x01137e-0x01aa 2023-05-12 00:00:00+00:00\n",
       "3  0x01137e-0x01ab 2023-05-12 00:00:00+00:00\n",
       "4  0x01137e-0x01ac 2023-05-12 00:00:00+00:00"
      ]
     },
     "execution_count": 12,
     "metadata": {},
     "output_type": "execute_result"
    }
   ],
   "source": [
    "INSTANCES_DF.head()"
   ]
  },
  {
   "cell_type": "code",
   "execution_count": 13,
   "id": "2fbe9c07",
   "metadata": {},
   "outputs": [
    {
     "name": "stdout",
     "output_type": "stream",
     "text": [
      "<class 'pandas.core.frame.DataFrame'>\n",
      "RangeIndex: 452441 entries, 0 to 452440\n",
      "Data columns (total 2 columns):\n",
      " #   Column     Non-Null Count   Dtype              \n",
      "---  ------     --------------   -----              \n",
      " 0   posts      452441 non-null  object             \n",
      " 1   timestamp  452441 non-null  datetime64[ns, UTC]\n",
      "dtypes: datetime64[ns, UTC](1), object(1)\n",
      "memory usage: 6.9+ MB\n"
     ]
    }
   ],
   "source": [
    "INSTANCES_DF.info()"
   ]
  },
  {
   "cell_type": "code",
   "execution_count": 15,
   "id": "c7faf11f",
   "metadata": {},
   "outputs": [
    {
     "name": "stdout",
     "output_type": "stream",
     "text": [
      "seconds: 1683763201\n",
      "\n"
     ]
    }
   ],
   "source": [
    "import datetime\n",
    "from google.protobuf.timestamp_pb2 import Timestamp\n",
    "# we had bad feature import on 5/11/2023, Let's ignore values from that date\n",
    "bad_feature_time = datetime.datetime(year=2023, month=5, day=11, hour=0, minute=0, second=1)\n",
    "START_TIME = Timestamp()\n",
    "START_TIME.FromDatetime(bad_feature_time)\n",
    "print(START_TIME)"
   ]
  },
  {
   "cell_type": "code",
   "execution_count": 16,
   "id": "e7ca5101",
   "metadata": {},
   "outputs": [
    {
     "name": "stdout",
     "output_type": "stream",
     "text": [
      "Serving Featurestore feature values: projects/1181216607/locations/us-central1/featurestores/lens_featurestore_dev\n"
     ]
    },
    {
     "name": "stderr",
     "output_type": "stream",
     "text": [
      "INFO:google.cloud.aiplatform.featurestore.featurestore:Serving Featurestore feature values: projects/1181216607/locations/us-central1/featurestores/lens_featurestore_dev\n"
     ]
    },
    {
     "name": "stdout",
     "output_type": "stream",
     "text": [
      "Serve Featurestore feature values backing LRO: projects/1181216607/locations/us-central1/featurestores/lens_featurestore_dev/operations/1258276914938773504\n"
     ]
    },
    {
     "name": "stderr",
     "output_type": "stream",
     "text": [
      "INFO:google.cloud.aiplatform.featurestore.featurestore:Serve Featurestore feature values backing LRO: projects/1181216607/locations/us-central1/featurestores/lens_featurestore_dev/operations/1258276914938773504\n"
     ]
    },
    {
     "name": "stdout",
     "output_type": "stream",
     "text": [
      "Featurestore feature values served. Resource name: projects/1181216607/locations/us-central1/featurestores/lens_featurestore_dev\n"
     ]
    },
    {
     "name": "stderr",
     "output_type": "stream",
     "text": [
      "INFO:google.cloud.aiplatform.featurestore.featurestore:Featurestore feature values served. Resource name: projects/1181216607/locations/us-central1/featurestores/lens_featurestore_dev\n"
     ]
    }
   ],
   "source": [
    "# batch_serve_to_df(\n",
    "#     serving_feature_ids: Dict[str, List[str]],\n",
    "#     read_instances_df: pd.DataFrame,\n",
    "#     pass_through_fields: Optional[List[str]] = None,\n",
    "#     feature_destination_fields: Optional[Dict[str, str]] = None,\n",
    "#     start_time: Optional[google.protobuf.timestamp_pb2.Timestamp] = None,\n",
    "#     request_metadata: Optional[Sequence[Tuple[str, str]]] = (),\n",
    "#     serve_request_timeout: Optional[float] = None,\n",
    "#     bq_dataset_id: Optional[str] = None,\n",
    "# )\n",
    "\n",
    "features_df = fs.batch_serve_to_df(\n",
    "    serving_feature_ids = POSTS_FEATURES_IDS,\n",
    "    read_instances_df = INSTANCES_DF,\n",
    "    start_time = START_TIME,\n",
    ")"
   ]
  },
  {
   "cell_type": "code",
   "execution_count": 49,
   "id": "714e1b10",
   "metadata": {},
   "outputs": [
    {
     "name": "stdout",
     "output_type": "stream",
     "text": [
      "<class 'pandas.core.frame.DataFrame'>\n",
      "RangeIndex: 452441 entries, 0 to 452440\n",
      "Data columns (total 24 columns):\n",
      " #   Column                           Non-Null Count   Dtype              \n",
      "---  ------                           --------------   -----              \n",
      " 0   timestamp                        452441 non-null  datetime64[ns, UTC]\n",
      " 1   entity_type_posts                452441 non-null  object             \n",
      " 2   region                           362 non-null     object             \n",
      " 3   class2                           0 non-null       float64            \n",
      " 4   post_id                          452441 non-null  object             \n",
      " 5   collects                         452441 non-null  int64              \n",
      " 6   author_f6c3m8col12enh_score      450167 non-null  float64            \n",
      " 7   custom_filters_gardener_flagged  452441 non-null  bool               \n",
      " 8   upvotes                          452441 non-null  int64              \n",
      " 9   content_warning                  72 non-null      object             \n",
      " 10  classes                          452441 non-null  object             \n",
      " 11  mirrors                          452441 non-null  int64              \n",
      " 12  is_original                      452441 non-null  bool               \n",
      " 13  recommend                        0 non-null       object             \n",
      " 14  is_content_warning               452441 non-null  bool               \n",
      " 15  class3                           0 non-null       float64            \n",
      " 16  age                              452441 non-null  int64              \n",
      " 17  author_f6c3m8col12enh_rank       450167 non-null  Int64              \n",
      " 18  downvotes                        452441 non-null  int64              \n",
      " 19  main_content_focus               450923 non-null  object             \n",
      " 20  comments                         452441 non-null  int64              \n",
      " 21  class1                           0 non-null       float64            \n",
      " 22  profile_id                       0 non-null       object             \n",
      " 23  language                         424234 non-null  object             \n",
      "dtypes: Int64(1), bool(3), datetime64[ns, UTC](1), float64(4), int64(6), object(9)\n",
      "memory usage: 74.2+ MB\n"
     ]
    }
   ],
   "source": [
    "features_df.info()"
   ]
  },
  {
   "cell_type": "code",
   "execution_count": 18,
   "id": "88d66ddf",
   "metadata": {},
   "outputs": [],
   "source": [
    "features_df['author_f6c3m8col12enh_rank'] = features_df['author_f6c3m8col12enh_rank'].astype('Int64')"
   ]
  },
  {
   "cell_type": "code",
   "execution_count": 19,
   "id": "4d526cc3",
   "metadata": {},
   "outputs": [],
   "source": [
    "max_features = features_df \\\n",
    "                .groupby([\"author_f6c3m8col12enh_rank\"]) \\\n",
    "                .agg({'age': ['max'], \n",
    "                      'mirrors': ['max'], \n",
    "                      'collects': ['max'], \n",
    "                      'comments': ['max']})\n",
    "max_features.columns = ['max_age', 'max_mirrors', 'max_collects', 'max_comments']"
   ]
  },
  {
   "cell_type": "code",
   "execution_count": 50,
   "id": "b0820957",
   "metadata": {},
   "outputs": [],
   "source": [
    "post_score_df = features_df.join(max_features, on='author_f6c3m8col12enh_rank', how='left')"
   ]
  },
  {
   "cell_type": "code",
   "execution_count": 51,
   "id": "f5478008",
   "metadata": {},
   "outputs": [
    {
     "name": "stdout",
     "output_type": "stream",
     "text": [
      "<class 'pandas.core.frame.DataFrame'>\n",
      "RangeIndex: 452441 entries, 0 to 452440\n",
      "Data columns (total 28 columns):\n",
      " #   Column                           Non-Null Count   Dtype              \n",
      "---  ------                           --------------   -----              \n",
      " 0   timestamp                        452441 non-null  datetime64[ns, UTC]\n",
      " 1   entity_type_posts                452441 non-null  object             \n",
      " 2   region                           362 non-null     object             \n",
      " 3   class2                           0 non-null       float64            \n",
      " 4   post_id                          452441 non-null  object             \n",
      " 5   collects                         452441 non-null  int64              \n",
      " 6   author_f6c3m8col12enh_score      450167 non-null  float64            \n",
      " 7   custom_filters_gardener_flagged  452441 non-null  bool               \n",
      " 8   upvotes                          452441 non-null  int64              \n",
      " 9   content_warning                  72 non-null      object             \n",
      " 10  classes                          452441 non-null  object             \n",
      " 11  mirrors                          452441 non-null  int64              \n",
      " 12  is_original                      452441 non-null  bool               \n",
      " 13  recommend                        0 non-null       object             \n",
      " 14  is_content_warning               452441 non-null  bool               \n",
      " 15  class3                           0 non-null       float64            \n",
      " 16  age                              452441 non-null  int64              \n",
      " 17  author_f6c3m8col12enh_rank       450167 non-null  Int64              \n",
      " 18  downvotes                        452441 non-null  int64              \n",
      " 19  main_content_focus               450923 non-null  object             \n",
      " 20  comments                         452441 non-null  int64              \n",
      " 21  class1                           0 non-null       float64            \n",
      " 22  profile_id                       0 non-null       object             \n",
      " 23  language                         424234 non-null  object             \n",
      " 24  max_age                          450167 non-null  float64            \n",
      " 25  max_mirrors                      450167 non-null  float64            \n",
      " 26  max_collects                     450167 non-null  float64            \n",
      " 27  max_comments                     450167 non-null  float64            \n",
      "dtypes: Int64(1), bool(3), datetime64[ns, UTC](1), float64(8), int64(6), object(9)\n",
      "memory usage: 88.0+ MB\n"
     ]
    }
   ],
   "source": [
    "post_score_df.info()"
   ]
  },
  {
   "cell_type": "code",
   "execution_count": 22,
   "id": "ee1fb932",
   "metadata": {},
   "outputs": [
    {
     "data": {
      "text/html": [
       "<div>\n",
       "<style scoped>\n",
       "    .dataframe tbody tr th:only-of-type {\n",
       "        vertical-align: middle;\n",
       "    }\n",
       "\n",
       "    .dataframe tbody tr th {\n",
       "        vertical-align: top;\n",
       "    }\n",
       "\n",
       "    .dataframe thead th {\n",
       "        text-align: right;\n",
       "    }\n",
       "</style>\n",
       "<table border=\"1\" class=\"dataframe\">\n",
       "  <thead>\n",
       "    <tr style=\"text-align: right;\">\n",
       "      <th></th>\n",
       "      <th>timestamp</th>\n",
       "      <th>entity_type_posts</th>\n",
       "      <th>region</th>\n",
       "      <th>class2</th>\n",
       "      <th>post_id</th>\n",
       "      <th>collects</th>\n",
       "      <th>author_f6c3m8col12enh_score</th>\n",
       "      <th>custom_filters_gardener_flagged</th>\n",
       "      <th>upvotes</th>\n",
       "      <th>content_warning</th>\n",
       "      <th>classes</th>\n",
       "      <th>mirrors</th>\n",
       "      <th>is_original</th>\n",
       "      <th>recommend</th>\n",
       "      <th>is_content_warning</th>\n",
       "      <th>class3</th>\n",
       "      <th>age</th>\n",
       "      <th>author_f6c3m8col12enh_rank</th>\n",
       "      <th>downvotes</th>\n",
       "      <th>main_content_focus</th>\n",
       "      <th>comments</th>\n",
       "      <th>class1</th>\n",
       "      <th>profile_id</th>\n",
       "      <th>language</th>\n",
       "      <th>max_age</th>\n",
       "      <th>max_mirrors</th>\n",
       "      <th>max_collects</th>\n",
       "      <th>max_comments</th>\n",
       "    </tr>\n",
       "  </thead>\n",
       "  <tbody>\n",
       "    <tr>\n",
       "      <th>21925</th>\n",
       "      <td>2023-05-12 00:00:00+00:00</td>\n",
       "      <td>0x011c5c-0x08</td>\n",
       "      <td>None</td>\n",
       "      <td>NaN</td>\n",
       "      <td>0x011c5c-0x08</td>\n",
       "      <td>0</td>\n",
       "      <td>0.00000000384142929574</td>\n",
       "      <td>False</td>\n",
       "      <td>0</td>\n",
       "      <td>None</td>\n",
       "      <td>[]</td>\n",
       "      <td>0</td>\n",
       "      <td>False</td>\n",
       "      <td>None</td>\n",
       "      <td>False</td>\n",
       "      <td>NaN</td>\n",
       "      <td>84</td>\n",
       "      <td>63761</td>\n",
       "      <td>0</td>\n",
       "      <td>IMAGE</td>\n",
       "      <td>0</td>\n",
       "      <td>NaN</td>\n",
       "      <td>None</td>\n",
       "      <td>fr</td>\n",
       "      <td>87.00000000000000000000</td>\n",
       "      <td>1.00000000000000000000</td>\n",
       "      <td>3.00000000000000000000</td>\n",
       "      <td>1.00000000000000000000</td>\n",
       "    </tr>\n",
       "    <tr>\n",
       "      <th>244041</th>\n",
       "      <td>2023-05-12 00:00:00+00:00</td>\n",
       "      <td>0x0117eb-0x0223</td>\n",
       "      <td>None</td>\n",
       "      <td>NaN</td>\n",
       "      <td>0x0117eb-0x0223</td>\n",
       "      <td>0</td>\n",
       "      <td>0.00000042927311834479</td>\n",
       "      <td>False</td>\n",
       "      <td>0</td>\n",
       "      <td>None</td>\n",
       "      <td>[]</td>\n",
       "      <td>0</td>\n",
       "      <td>True</td>\n",
       "      <td>None</td>\n",
       "      <td>False</td>\n",
       "      <td>NaN</td>\n",
       "      <td>26</td>\n",
       "      <td>13873</td>\n",
       "      <td>0</td>\n",
       "      <td>TEXT_ONLY</td>\n",
       "      <td>0</td>\n",
       "      <td>NaN</td>\n",
       "      <td>None</td>\n",
       "      <td>zh</td>\n",
       "      <td>190.00000000000000000000</td>\n",
       "      <td>1.00000000000000000000</td>\n",
       "      <td>0.00000000000000000000</td>\n",
       "      <td>1.00000000000000000000</td>\n",
       "    </tr>\n",
       "    <tr>\n",
       "      <th>114341</th>\n",
       "      <td>2023-05-12 00:00:00+00:00</td>\n",
       "      <td>0x01204b-0xee</td>\n",
       "      <td>None</td>\n",
       "      <td>NaN</td>\n",
       "      <td>0x01204b-0xee</td>\n",
       "      <td>0</td>\n",
       "      <td>0.00000052054015593966</td>\n",
       "      <td>False</td>\n",
       "      <td>0</td>\n",
       "      <td>None</td>\n",
       "      <td>[]</td>\n",
       "      <td>0</td>\n",
       "      <td>False</td>\n",
       "      <td>None</td>\n",
       "      <td>False</td>\n",
       "      <td>NaN</td>\n",
       "      <td>57</td>\n",
       "      <td>12536</td>\n",
       "      <td>0</td>\n",
       "      <td>IMAGE</td>\n",
       "      <td>0</td>\n",
       "      <td>NaN</td>\n",
       "      <td>None</td>\n",
       "      <td>zh</td>\n",
       "      <td>226.00000000000000000000</td>\n",
       "      <td>2.00000000000000000000</td>\n",
       "      <td>5.00000000000000000000</td>\n",
       "      <td>2.00000000000000000000</td>\n",
       "    </tr>\n",
       "    <tr>\n",
       "      <th>40788</th>\n",
       "      <td>2023-05-12 00:00:00+00:00</td>\n",
       "      <td>0x012304-0x13</td>\n",
       "      <td>None</td>\n",
       "      <td>NaN</td>\n",
       "      <td>0x012304-0x13</td>\n",
       "      <td>0</td>\n",
       "      <td>0.00000005580720654044</td>\n",
       "      <td>False</td>\n",
       "      <td>0</td>\n",
       "      <td>None</td>\n",
       "      <td>[]</td>\n",
       "      <td>0</td>\n",
       "      <td>False</td>\n",
       "      <td>None</td>\n",
       "      <td>False</td>\n",
       "      <td>NaN</td>\n",
       "      <td>90</td>\n",
       "      <td>31552</td>\n",
       "      <td>0</td>\n",
       "      <td>IMAGE</td>\n",
       "      <td>0</td>\n",
       "      <td>NaN</td>\n",
       "      <td>None</td>\n",
       "      <td>en</td>\n",
       "      <td>226.00000000000000000000</td>\n",
       "      <td>2.00000000000000000000</td>\n",
       "      <td>3.00000000000000000000</td>\n",
       "      <td>5.00000000000000000000</td>\n",
       "    </tr>\n",
       "    <tr>\n",
       "      <th>402214</th>\n",
       "      <td>2023-05-12 00:00:00+00:00</td>\n",
       "      <td>0x01214d-0x2c</td>\n",
       "      <td>None</td>\n",
       "      <td>NaN</td>\n",
       "      <td>0x01214d-0x2c</td>\n",
       "      <td>0</td>\n",
       "      <td>0.00000002109872943047</td>\n",
       "      <td>False</td>\n",
       "      <td>3</td>\n",
       "      <td>None</td>\n",
       "      <td>[]</td>\n",
       "      <td>0</td>\n",
       "      <td>True</td>\n",
       "      <td>None</td>\n",
       "      <td>False</td>\n",
       "      <td>NaN</td>\n",
       "      <td>35</td>\n",
       "      <td>43457</td>\n",
       "      <td>0</td>\n",
       "      <td>IMAGE</td>\n",
       "      <td>0</td>\n",
       "      <td>NaN</td>\n",
       "      <td>None</td>\n",
       "      <td>fr</td>\n",
       "      <td>226.00000000000000000000</td>\n",
       "      <td>1.00000000000000000000</td>\n",
       "      <td>2.00000000000000000000</td>\n",
       "      <td>1.00000000000000000000</td>\n",
       "    </tr>\n",
       "  </tbody>\n",
       "</table>\n",
       "</div>"
      ],
      "text/plain": [
       "                       timestamp entity_type_posts region  class2   \n",
       "21925  2023-05-12 00:00:00+00:00     0x011c5c-0x08   None     NaN  \\\n",
       "244041 2023-05-12 00:00:00+00:00   0x0117eb-0x0223   None     NaN   \n",
       "114341 2023-05-12 00:00:00+00:00     0x01204b-0xee   None     NaN   \n",
       "40788  2023-05-12 00:00:00+00:00     0x012304-0x13   None     NaN   \n",
       "402214 2023-05-12 00:00:00+00:00     0x01214d-0x2c   None     NaN   \n",
       "\n",
       "                post_id  collects  author_f6c3m8col12enh_score   \n",
       "21925     0x011c5c-0x08         0       0.00000000384142929574  \\\n",
       "244041  0x0117eb-0x0223         0       0.00000042927311834479   \n",
       "114341    0x01204b-0xee         0       0.00000052054015593966   \n",
       "40788     0x012304-0x13         0       0.00000005580720654044   \n",
       "402214    0x01214d-0x2c         0       0.00000002109872943047   \n",
       "\n",
       "        custom_filters_gardener_flagged  upvotes content_warning classes   \n",
       "21925                             False        0            None      []  \\\n",
       "244041                            False        0            None      []   \n",
       "114341                            False        0            None      []   \n",
       "40788                             False        0            None      []   \n",
       "402214                            False        3            None      []   \n",
       "\n",
       "        mirrors  is_original recommend  is_content_warning  class3  age   \n",
       "21925         0        False      None               False     NaN   84  \\\n",
       "244041        0         True      None               False     NaN   26   \n",
       "114341        0        False      None               False     NaN   57   \n",
       "40788         0        False      None               False     NaN   90   \n",
       "402214        0         True      None               False     NaN   35   \n",
       "\n",
       "        author_f6c3m8col12enh_rank  downvotes main_content_focus  comments   \n",
       "21925                        63761          0              IMAGE         0  \\\n",
       "244041                       13873          0          TEXT_ONLY         0   \n",
       "114341                       12536          0              IMAGE         0   \n",
       "40788                        31552          0              IMAGE         0   \n",
       "402214                       43457          0              IMAGE         0   \n",
       "\n",
       "        class1 profile_id language                  max_age   \n",
       "21925      NaN       None       fr  87.00000000000000000000  \\\n",
       "244041     NaN       None       zh 190.00000000000000000000   \n",
       "114341     NaN       None       zh 226.00000000000000000000   \n",
       "40788      NaN       None       en 226.00000000000000000000   \n",
       "402214     NaN       None       fr 226.00000000000000000000   \n",
       "\n",
       "                  max_mirrors           max_collects           max_comments  \n",
       "21925  1.00000000000000000000 3.00000000000000000000 1.00000000000000000000  \n",
       "244041 1.00000000000000000000 0.00000000000000000000 1.00000000000000000000  \n",
       "114341 2.00000000000000000000 5.00000000000000000000 2.00000000000000000000  \n",
       "40788  2.00000000000000000000 3.00000000000000000000 5.00000000000000000000  \n",
       "402214 1.00000000000000000000 2.00000000000000000000 1.00000000000000000000  "
      ]
     },
     "execution_count": 22,
     "metadata": {},
     "output_type": "execute_result"
    }
   ],
   "source": [
    "import pandas as pd\n",
    "pd.set_option('display.max_colwidth',None)\n",
    "pd.set_option('display.max_columns', 200)  \n",
    "pd.set_option('display.float_format', '{:20,.20f}'.format)\n",
    "post_score_df.sample(5)"
   ]
  },
  {
   "cell_type": "code",
   "execution_count": 23,
   "id": "d60342bf",
   "metadata": {},
   "outputs": [],
   "source": [
    "pd.reset_option('display.max_colwidth')\n",
    "pd.reset_option('display.max_columns')  \n",
    "pd.reset_option('display.float_format')"
   ]
  },
  {
   "cell_type": "code",
   "execution_count": 53,
   "id": "1c7be9c3",
   "metadata": {},
   "outputs": [],
   "source": [
    "import numpy as np\n",
    "post_score_df['max_mirrors'] = post_score_df['max_mirrors'].replace(0, np.nan)\n",
    "post_score_df['max_collects'] = post_score_df['max_collects'].replace(0, np.nan)\n",
    "post_score_df['max_comments'] = post_score_df['max_comments'].replace(0, np.nan)\n",
    "post_score_df['max_age'] = post_score_df['max_age'].replace(0, np.nan)"
   ]
  },
  {
   "cell_type": "code",
   "execution_count": 54,
   "id": "dffa2132",
   "metadata": {},
   "outputs": [],
   "source": [
    "# (1 * (mirrors_count::numeric / max_values.max_mirrors_count) +\n",
    "# 1 * (collects_count::numeric / max_values.max_collects_count) +\n",
    "# 3 * (comments_count::numeric / max_values.max_comments_count) -\n",
    "# 5 * ((EXTRACT(EPOCH FROM (CURRENT_TIMESTAMP - block_timestamp))/(60*60*24)) / max_values.max_age_days)\n",
    "# ) AS score\n",
    "\n",
    "post_score_df['post_score'] = post_score_df.apply(lambda row: (1 * row['mirrors']/row['max_mirrors'] \\\n",
    "                                                            + 1 * row['collects']/row['max_collects'] \\\n",
    "                                                            + 3 * row['comments']/row['max_comments'] \\\n",
    "                                                            - 5 * row['age']/row['max_age']), \n",
    "                                                  axis=1)"
   ]
  },
  {
   "cell_type": "code",
   "execution_count": 55,
   "id": "faf42880",
   "metadata": {
    "scrolled": true
   },
   "outputs": [
    {
     "name": "stdout",
     "output_type": "stream",
     "text": [
      "<class 'pandas.core.frame.DataFrame'>\n",
      "RangeIndex: 452441 entries, 0 to 452440\n",
      "Data columns (total 29 columns):\n",
      " #   Column                           Non-Null Count   Dtype              \n",
      "---  ------                           --------------   -----              \n",
      " 0   timestamp                        452441 non-null  datetime64[ns, UTC]\n",
      " 1   entity_type_posts                452441 non-null  object             \n",
      " 2   region                           362 non-null     object             \n",
      " 3   class2                           0 non-null       float64            \n",
      " 4   post_id                          452441 non-null  object             \n",
      " 5   collects                         452441 non-null  int64              \n",
      " 6   author_f6c3m8col12enh_score      450167 non-null  float64            \n",
      " 7   custom_filters_gardener_flagged  452441 non-null  bool               \n",
      " 8   upvotes                          452441 non-null  int64              \n",
      " 9   content_warning                  72 non-null      object             \n",
      " 10  classes                          452441 non-null  object             \n",
      " 11  mirrors                          452441 non-null  int64              \n",
      " 12  is_original                      452441 non-null  bool               \n",
      " 13  recommend                        0 non-null       object             \n",
      " 14  is_content_warning               452441 non-null  bool               \n",
      " 15  class3                           0 non-null       float64            \n",
      " 16  age                              452441 non-null  int64              \n",
      " 17  author_f6c3m8col12enh_rank       450167 non-null  Int64              \n",
      " 18  downvotes                        452441 non-null  int64              \n",
      " 19  main_content_focus               450923 non-null  object             \n",
      " 20  comments                         452441 non-null  int64              \n",
      " 21  class1                           0 non-null       float64            \n",
      " 22  profile_id                       0 non-null       object             \n",
      " 23  language                         424234 non-null  object             \n",
      " 24  max_age                          450167 non-null  float64            \n",
      " 25  max_mirrors                      412147 non-null  float64            \n",
      " 26  max_collects                     404942 non-null  float64            \n",
      " 27  max_comments                     385672 non-null  float64            \n",
      " 28  post_score                       357202 non-null  float64            \n",
      "dtypes: Int64(1), bool(3), datetime64[ns, UTC](1), float64(9), int64(6), object(9)\n",
      "memory usage: 91.5+ MB\n"
     ]
    }
   ],
   "source": [
    "post_score_df.info()"
   ]
  },
  {
   "cell_type": "code",
   "execution_count": 56,
   "id": "64e838ba",
   "metadata": {},
   "outputs": [],
   "source": [
    "post_score_df = post_score_df.sort_values(['post_score'], ascending=[False])"
   ]
  },
  {
   "cell_type": "code",
   "execution_count": 57,
   "id": "fad9ef57",
   "metadata": {},
   "outputs": [],
   "source": [
    "top_posts_df = post_score_df.loc[post_score_df['author_f6c3m8col12enh_rank'] <= 1000 ].head(1000)"
   ]
  },
  {
   "cell_type": "code",
   "execution_count": 58,
   "id": "a1a80819",
   "metadata": {},
   "outputs": [
    {
     "data": {
      "text/plain": [
       "1000"
      ]
     },
     "execution_count": 58,
     "metadata": {},
     "output_type": "execute_result"
    }
   ],
   "source": [
    "len(top_posts_df)"
   ]
  },
  {
   "cell_type": "code",
   "execution_count": 59,
   "id": "12455ef1",
   "metadata": {},
   "outputs": [
    {
     "data": {
      "text/plain": [
       "103050"
      ]
     },
     "execution_count": 59,
     "metadata": {},
     "output_type": "execute_result"
    }
   ],
   "source": [
    "post_score_df['author_f6c3m8col12enh_rank'].max()"
   ]
  },
  {
   "cell_type": "code",
   "execution_count": 62,
   "id": "1483a07b",
   "metadata": {},
   "outputs": [],
   "source": [
    "# conditions = [\n",
    "#     (df['author_f6c3m8col12enh_rank'] <= 1000) & \n",
    "#     ]\n",
    "# # create a list of the values we want to assign for each condition\n",
    "# values = [True]\n",
    "# post_score_df['recommend'] = np.select(conditions, values, default=False)\n",
    "post_score_df.loc[post_score_df['author_f6c3m8col12enh_rank'] >= 50000, 'recommend'] = 'NO'\n",
    "post_score_df.loc[post_score_df['author_f6c3m8col12enh_rank'] <= 1000, 'recommend'] = 'MAYBE'\n",
    "post_score_df.loc[top_posts_df.index,'recommend'] = 'YES'"
   ]
  },
  {
   "cell_type": "code",
   "execution_count": 63,
   "id": "d81b7ba7",
   "metadata": {},
   "outputs": [
    {
     "data": {
      "text/plain": [
       "recommend\n",
       "NO       45067\n",
       "MAYBE    12556\n",
       "YES       1000\n",
       "Name: count, dtype: int64"
      ]
     },
     "execution_count": 63,
     "metadata": {},
     "output_type": "execute_result"
    }
   ],
   "source": [
    "post_score_df['recommend'].value_counts()"
   ]
  },
  {
   "cell_type": "code",
   "execution_count": 66,
   "id": "9f75995e",
   "metadata": {},
   "outputs": [
    {
     "data": {
      "text/plain": [
       "393818"
      ]
     },
     "execution_count": 66,
     "metadata": {},
     "output_type": "execute_result"
    }
   ],
   "source": [
    "post_score_df['recommend'].isna().sum()"
   ]
  },
  {
   "cell_type": "code",
   "execution_count": 75,
   "id": "6c2b3842",
   "metadata": {},
   "outputs": [],
   "source": [
    "ground_truth_df = post_score_df[post_score_df['recommend'].notna()]"
   ]
  },
  {
   "cell_type": "code",
   "execution_count": 76,
   "id": "688f14a4",
   "metadata": {},
   "outputs": [
    {
     "name": "stdout",
     "output_type": "stream",
     "text": [
      "<class 'pandas.core.frame.DataFrame'>\n",
      "Index: 58623 entries, 7279 to 452303\n",
      "Data columns (total 29 columns):\n",
      " #   Column                           Non-Null Count  Dtype              \n",
      "---  ------                           --------------  -----              \n",
      " 0   timestamp                        58623 non-null  datetime64[ns, UTC]\n",
      " 1   entity_type_posts                58623 non-null  object             \n",
      " 2   region                           73 non-null     object             \n",
      " 3   class2                           0 non-null      float64            \n",
      " 4   post_id                          58623 non-null  object             \n",
      " 5   collects                         58623 non-null  int64              \n",
      " 6   author_f6c3m8col12enh_score      58623 non-null  float64            \n",
      " 7   custom_filters_gardener_flagged  58623 non-null  bool               \n",
      " 8   upvotes                          58623 non-null  int64              \n",
      " 9   content_warning                  7 non-null      object             \n",
      " 10  classes                          58623 non-null  object             \n",
      " 11  mirrors                          58623 non-null  int64              \n",
      " 12  is_original                      58623 non-null  bool               \n",
      " 13  recommend                        58623 non-null  object             \n",
      " 14  is_content_warning               58623 non-null  bool               \n",
      " 15  class3                           0 non-null      float64            \n",
      " 16  age                              58623 non-null  int64              \n",
      " 17  author_f6c3m8col12enh_rank       58623 non-null  Int64              \n",
      " 18  downvotes                        58623 non-null  int64              \n",
      " 19  main_content_focus               58338 non-null  object             \n",
      " 20  comments                         58623 non-null  int64              \n",
      " 21  class1                           0 non-null      float64            \n",
      " 22  profile_id                       0 non-null      object             \n",
      " 23  language                         56614 non-null  object             \n",
      " 24  max_age                          58623 non-null  float64            \n",
      " 25  max_mirrors                      39849 non-null  float64            \n",
      " 26  max_collects                     38792 non-null  float64            \n",
      " 27  max_comments                     28844 non-null  float64            \n",
      " 28  post_score                       23162 non-null  float64            \n",
      "dtypes: Int64(1), bool(3), datetime64[ns, UTC](1), float64(9), int64(6), object(9)\n",
      "memory usage: 12.3+ MB\n"
     ]
    }
   ],
   "source": [
    "ground_truth_df.info()"
   ]
  },
  {
   "cell_type": "code",
   "execution_count": 77,
   "id": "d142606c",
   "metadata": {},
   "outputs": [],
   "source": [
    "# Extract feature and target arrays\n",
    "X, y = ground_truth_df.drop('recommend', axis=1), ground_truth_df[['recommend']]"
   ]
  },
  {
   "cell_type": "code",
   "execution_count": 78,
   "id": "bc6ef7a1",
   "metadata": {},
   "outputs": [],
   "source": [
    "# drop array type columns because they cannot be converted to categories\n",
    "X = X.drop('classes', axis=1)"
   ]
  },
  {
   "cell_type": "code",
   "execution_count": 79,
   "id": "0588c286",
   "metadata": {},
   "outputs": [],
   "source": [
    "# Extract text features\n",
    "cats = X.select_dtypes(exclude=np.number).columns.tolist()\n",
    "\n",
    "# Convert to Pandas category\n",
    "for col in cats:\n",
    "    X[col] = X[col].astype('category')"
   ]
  },
  {
   "cell_type": "code",
   "execution_count": 80,
   "id": "87bd228e",
   "metadata": {
    "scrolled": true
   },
   "outputs": [
    {
     "name": "stdout",
     "output_type": "stream",
     "text": [
      "<class 'pandas.core.frame.DataFrame'>\n",
      "Index: 58623 entries, 7279 to 452303\n",
      "Data columns (total 27 columns):\n",
      " #   Column                           Non-Null Count  Dtype   \n",
      "---  ------                           --------------  -----   \n",
      " 0   timestamp                        58623 non-null  category\n",
      " 1   entity_type_posts                58623 non-null  category\n",
      " 2   region                           73 non-null     category\n",
      " 3   class2                           0 non-null      float64 \n",
      " 4   post_id                          58623 non-null  category\n",
      " 5   collects                         58623 non-null  int64   \n",
      " 6   author_f6c3m8col12enh_score      58623 non-null  float64 \n",
      " 7   custom_filters_gardener_flagged  58623 non-null  category\n",
      " 8   upvotes                          58623 non-null  int64   \n",
      " 9   content_warning                  7 non-null      category\n",
      " 10  mirrors                          58623 non-null  int64   \n",
      " 11  is_original                      58623 non-null  category\n",
      " 12  is_content_warning               58623 non-null  category\n",
      " 13  class3                           0 non-null      float64 \n",
      " 14  age                              58623 non-null  int64   \n",
      " 15  author_f6c3m8col12enh_rank       58623 non-null  Int64   \n",
      " 16  downvotes                        58623 non-null  int64   \n",
      " 17  main_content_focus               58338 non-null  category\n",
      " 18  comments                         58623 non-null  int64   \n",
      " 19  class1                           0 non-null      float64 \n",
      " 20  profile_id                       0 non-null      category\n",
      " 21  language                         56614 non-null  category\n",
      " 22  max_age                          58623 non-null  float64 \n",
      " 23  max_mirrors                      39849 non-null  float64 \n",
      " 24  max_collects                     38792 non-null  float64 \n",
      " 25  max_comments                     28844 non-null  float64 \n",
      " 26  post_score                       23162 non-null  float64 \n",
      "dtypes: Int64(1), category(11), float64(9), int64(6)\n",
      "memory usage: 13.5 MB\n"
     ]
    }
   ],
   "source": [
    "X.info()"
   ]
  },
  {
   "cell_type": "code",
   "execution_count": 81,
   "id": "87ff30f0",
   "metadata": {},
   "outputs": [
    {
     "name": "stdout",
     "output_type": "stream",
     "text": [
      "<class 'pandas.core.frame.DataFrame'>\n",
      "Index: 58623 entries, 7279 to 452303\n",
      "Data columns (total 1 columns):\n",
      " #   Column     Non-Null Count  Dtype \n",
      "---  ------     --------------  ----- \n",
      " 0   recommend  58623 non-null  object\n",
      "dtypes: object(1)\n",
      "memory usage: 916.0+ KB\n"
     ]
    }
   ],
   "source": [
    "y.info()"
   ]
  },
  {
   "cell_type": "code",
   "execution_count": 118,
   "id": "61f7ef41",
   "metadata": {},
   "outputs": [
    {
     "data": {
      "text/plain": [
       "recommend\n",
       "NO       45067\n",
       "MAYBE    12556\n",
       "YES       1000\n",
       "Name: count, dtype: int64"
      ]
     },
     "execution_count": 118,
     "metadata": {},
     "output_type": "execute_result"
    }
   ],
   "source": [
    "y['recommend'].value_counts()"
   ]
  },
  {
   "cell_type": "code",
   "execution_count": 119,
   "id": "ba7d862b",
   "metadata": {},
   "outputs": [],
   "source": [
    "from sklearn.preprocessing import OrdinalEncoder\n",
    "# Encode y to numeric\n",
    "enc = OrdinalEncoder()\n",
    "y_encoded = enc.fit_transform(y)"
   ]
  },
  {
   "cell_type": "code",
   "execution_count": 120,
   "id": "1bf7be82",
   "metadata": {},
   "outputs": [
    {
     "data": {
      "text/plain": [
       "[array(['MAYBE', 'NO', 'YES'], dtype=object)]"
      ]
     },
     "execution_count": 120,
     "metadata": {},
     "output_type": "execute_result"
    }
   ],
   "source": [
    "enc.categories_"
   ]
  },
  {
   "cell_type": "code",
   "execution_count": 121,
   "id": "68344b95",
   "metadata": {},
   "outputs": [
    {
     "data": {
      "image/png": "[encoded data removed]",
      "text/plain": [
       "<Figure size 640x480 with 1 Axes>"
      ]
     },
     "metadata": {},
     "output_type": "display_data"
    }
   ],
   "source": [
    "import matplotlib.pyplot as plt\n",
    "plt.hist(y_encoded)\n",
    "plt.show()"
   ]
  },
  {
   "cell_type": "code",
   "execution_count": 122,
   "id": "58546c9d",
   "metadata": {},
   "outputs": [],
   "source": [
    "from sklearn.model_selection import train_test_split\n",
    "X_train, X_test, y_train, y_test = train_test_split(X, y_encoded, random_state=1, stratify=y_encoded)"
   ]
  },
  {
   "cell_type": "code",
   "execution_count": 123,
   "id": "1ccceee3",
   "metadata": {},
   "outputs": [],
   "source": [
    "import xgboost as xgb\n",
    "# Create classification matrices\n",
    "dtrain_clf = xgb.DMatrix(X_train, y_train, enable_categorical=True)\n",
    "dtest_clf = xgb.DMatrix(X_test, y_test, enable_categorical=True)"
   ]
  },
  {
   "cell_type": "code",
   "execution_count": 124,
   "id": "81900bc3",
   "metadata": {},
   "outputs": [
    {
     "name": "stdout",
     "output_type": "stream",
     "text": [
      "[0]\tvalidation-mlogloss:0.70243\ttrain-mlogloss:0.70234\n",
      "[10]\tvalidation-mlogloss:0.02782\ttrain-mlogloss:0.02746\n",
      "[20]\tvalidation-mlogloss:0.00171\ttrain-mlogloss:0.00145\n",
      "[30]\tvalidation-mlogloss:0.00031\ttrain-mlogloss:0.00014\n",
      "[40]\tvalidation-mlogloss:0.00025\ttrain-mlogloss:0.00005\n",
      "[50]\tvalidation-mlogloss:0.00027\ttrain-mlogloss:0.00004\n",
      "[60]\tvalidation-mlogloss:0.00029\ttrain-mlogloss:0.00004\n",
      "[70]\tvalidation-mlogloss:0.00030\ttrain-mlogloss:0.00004\n",
      "[80]\tvalidation-mlogloss:0.00032\ttrain-mlogloss:0.00004\n",
      "[90]\tvalidation-mlogloss:0.00033\ttrain-mlogloss:0.00004\n",
      "[99]\tvalidation-mlogloss:0.00032\ttrain-mlogloss:0.00004\n"
     ]
    }
   ],
   "source": [
    "params = {\"objective\": \"multi:softprob\", \"tree_method\": \"hist\", \"num_class\": 3}\n",
    "n = 100\n",
    "\n",
    "evals = [(dtest_clf, \"validation\"), (dtrain_clf, \"train\")]\n",
    "\n",
    "model = xgb.train(\n",
    "   params=params,\n",
    "   dtrain=dtrain_clf,\n",
    "   num_boost_round=n,\n",
    "   evals=evals,\n",
    "   verbose_eval=10\n",
    ")"
   ]
  },
  {
   "cell_type": "code",
   "execution_count": 125,
   "id": "154c8c14",
   "metadata": {},
   "outputs": [],
   "source": [
    "input_df = post_score_df[post_score_df['recommend'].isna()]"
   ]
  },
  {
   "cell_type": "code",
   "execution_count": 126,
   "id": "18091bdb",
   "metadata": {},
   "outputs": [],
   "source": [
    "input_df = input_df.drop('recommend', axis=1)"
   ]
  },
  {
   "cell_type": "code",
   "execution_count": 127,
   "id": "a8c362ab",
   "metadata": {},
   "outputs": [],
   "source": [
    "input_df = input_df.drop('classes', axis=1)"
   ]
  },
  {
   "cell_type": "code",
   "execution_count": 128,
   "id": "24763f2c",
   "metadata": {},
   "outputs": [],
   "source": [
    "cats = input_df.select_dtypes(exclude=np.number).columns.tolist()\n",
    "\n",
    "# Convert to Pandas category\n",
    "for col in cats:\n",
    "    input_df[col] = input_df[col].astype('category')"
   ]
  },
  {
   "cell_type": "code",
   "execution_count": 129,
   "id": "7025f30b",
   "metadata": {},
   "outputs": [],
   "source": [
    "dinput_df = xgb.DMatrix(input_df, enable_categorical=True)"
   ]
  },
  {
   "cell_type": "code",
   "execution_count": 130,
   "id": "dd3aa279",
   "metadata": {},
   "outputs": [],
   "source": [
    "predicted_y = model.predict(dinput_df)"
   ]
  },
  {
   "cell_type": "code",
   "execution_count": 131,
   "id": "dcf79621",
   "metadata": {},
   "outputs": [
    {
     "data": {
      "text/plain": [
       "393818"
      ]
     },
     "execution_count": 131,
     "metadata": {},
     "output_type": "execute_result"
    }
   ],
   "source": [
    "len(predicted_y)"
   ]
  },
  {
   "cell_type": "code",
   "execution_count": 132,
   "id": "b6f22f24",
   "metadata": {},
   "outputs": [
    {
     "data": {
      "text/plain": [
       "numpy.ndarray"
      ]
     },
     "execution_count": 132,
     "metadata": {},
     "output_type": "execute_result"
    }
   ],
   "source": [
    "type(predicted_y)"
   ]
  },
  {
   "cell_type": "code",
   "execution_count": 133,
   "id": "7d42c3bc",
   "metadata": {},
   "outputs": [
    {
     "data": {
      "image/png": "[encoded data removed]",
      "text/plain": [
       "<Figure size 640x480 with 1 Axes>"
      ]
     },
     "metadata": {},
     "output_type": "display_data"
    }
   ],
   "source": [
    "import matplotlib.pyplot as plt\n",
    "plt.hist(predicted_y)\n",
    "plt.show()"
   ]
  },
  {
   "cell_type": "code",
   "execution_count": 134,
   "id": "6cadb3a5",
   "metadata": {},
   "outputs": [
    {
     "data": {
      "text/plain": [
       "<Axes: title={'center': 'Feature importance'}, xlabel='F score', ylabel='Features'>"
      ]
     },
     "execution_count": 134,
     "metadata": {},
     "output_type": "execute_result"
    },
    {
     "data": {
      "image/png": "[encoded data removed]",
      "text/plain": [
       "<Figure size 640x480 with 1 Axes>"
      ]
     },
     "metadata": {},
     "output_type": "display_data"
    }
   ],
   "source": [
    "from xgboost import plot_importance\n",
    "plot_importance(model)"
   ]
  },
  {
   "cell_type": "code",
   "execution_count": 135,
   "id": "e3af10a9",
   "metadata": {},
   "outputs": [],
   "source": [
    "import numpy as np\n",
    "predicted_y_int = np.rint(predicted_y)"
   ]
  },
  {
   "cell_type": "code",
   "execution_count": 136,
   "id": "ec664ba3",
   "metadata": {},
   "outputs": [
    {
     "data": {
      "image/png": "[encoded data removed]",
      "text/plain": [
       "<Figure size 640x480 with 1 Axes>"
      ]
     },
     "metadata": {},
     "output_type": "display_data"
    }
   ],
   "source": [
    "import matplotlib.pyplot as plt\n",
    "plt.hist(predicted_y_int)\n",
    "plt.show()"
   ]
  },
  {
   "cell_type": "code",
   "execution_count": 137,
   "id": "18d5261c",
   "metadata": {},
   "outputs": [
    {
     "data": {
      "text/plain": [
       "array([[0., 0., 1.],\n",
       "       [0., 0., 1.],\n",
       "       [0., 0., 1.],\n",
       "       ...,\n",
       "       [0., 1., 0.],\n",
       "       [0., 1., 0.],\n",
       "       [0., 1., 0.]], dtype=float32)"
      ]
     },
     "execution_count": 137,
     "metadata": {},
     "output_type": "execute_result"
    }
   ],
   "source": [
    "predicted_y_int"
   ]
  },
  {
   "cell_type": "code",
   "execution_count": 138,
   "id": "d791c336",
   "metadata": {},
   "outputs": [
    {
     "ename": "ValueError",
     "evalue": "Shape of the passed X data is not correct. Expected 1 columns, got 3.",
     "output_type": "error",
     "traceback": [
      "\u001b[0;31m---------------------------------------------------------------------------\u001b[0m",
      "\u001b[0;31mValueError\u001b[0m                                Traceback (most recent call last)",
      "Cell \u001b[0;32mIn[138], line 1\u001b[0m\n\u001b[0;32m----> 1\u001b[0m \u001b[43menc\u001b[49m\u001b[38;5;241;43m.\u001b[39;49m\u001b[43minverse_transform\u001b[49m\u001b[43m(\u001b[49m\u001b[43mpredicted_y_int\u001b[49m\u001b[43m)\u001b[49m\n",
      "File \u001b[0;32m~/pyvirtual_envs/k3l-recommendation-env3/lib/python3.9/site-packages/sklearn/preprocessing/_encoders.py:1417\u001b[0m, in \u001b[0;36mOrdinalEncoder.inverse_transform\u001b[0;34m(self, X)\u001b[0m\n\u001b[1;32m   1413\u001b[0m msg \u001b[38;5;241m=\u001b[39m (\n\u001b[1;32m   1414\u001b[0m     \u001b[38;5;124m\"\u001b[39m\u001b[38;5;124mShape of the passed X data is not correct. Expected \u001b[39m\u001b[38;5;132;01m{0}\u001b[39;00m\u001b[38;5;124m columns, got \u001b[39m\u001b[38;5;132;01m{1}\u001b[39;00m\u001b[38;5;124m.\u001b[39m\u001b[38;5;124m\"\u001b[39m\n\u001b[1;32m   1415\u001b[0m )\n\u001b[1;32m   1416\u001b[0m \u001b[38;5;28;01mif\u001b[39;00m X\u001b[38;5;241m.\u001b[39mshape[\u001b[38;5;241m1\u001b[39m] \u001b[38;5;241m!=\u001b[39m n_features:\n\u001b[0;32m-> 1417\u001b[0m     \u001b[38;5;28;01mraise\u001b[39;00m \u001b[38;5;167;01mValueError\u001b[39;00m(msg\u001b[38;5;241m.\u001b[39mformat(n_features, X\u001b[38;5;241m.\u001b[39mshape[\u001b[38;5;241m1\u001b[39m]))\n\u001b[1;32m   1419\u001b[0m \u001b[38;5;66;03m# create resulting array of appropriate dtype\u001b[39;00m\n\u001b[1;32m   1420\u001b[0m dt \u001b[38;5;241m=\u001b[39m np\u001b[38;5;241m.\u001b[39mresult_type(\u001b[38;5;241m*\u001b[39m[cat\u001b[38;5;241m.\u001b[39mdtype \u001b[38;5;28;01mfor\u001b[39;00m cat \u001b[38;5;129;01min\u001b[39;00m \u001b[38;5;28mself\u001b[39m\u001b[38;5;241m.\u001b[39mcategories_])\n",
      "\u001b[0;31mValueError\u001b[0m: Shape of the passed X data is not correct. Expected 1 columns, got 3."
     ]
    }
   ],
   "source": [
    "enc.inverse_transform(predicted_y_int)"
   ]
  },
  {
   "cell_type": "code",
   "execution_count": null,
   "id": "08330661",
   "metadata": {},
   "outputs": [],
   "source": []
  }
 ],
 "metadata": {
  "kernelspec": {
   "display_name": "k3l-recommendation-env3",
   "language": "python",
   "name": "k3l-recommendation-env3"
  },
  "language_info": {
   "codemirror_mode": {
    "name": "ipython",
    "version": 3
   },
   "file_extension": ".py",
   "mimetype": "text/x-python",
   "name": "python",
   "nbconvert_exporter": "python",
   "pygments_lexer": "ipython3",
   "version": "3.9.16"
  }
 },
 "nbformat": 4,
 "nbformat_minor": 5
}
