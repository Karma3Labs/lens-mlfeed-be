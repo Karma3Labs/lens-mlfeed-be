{
 "cells": [
  {
   "cell_type": "code",
   "execution_count": 1,
   "id": "a5e6715e",
   "metadata": {},
   "outputs": [],
   "source": [
    "import findspark\n",
    "# $ cd /opt\n",
    "# /opt$ sudo ln -s ~/apps/spark-3.4.0-bin-hadoop3 spark\n",
    "findspark.init(\"/opt/spark\") "
   ]
  },
  {
   "cell_type": "code",
   "execution_count": 2,
   "id": "5df15204",
   "metadata": {},
   "outputs": [
    {
     "name": "stderr",
     "output_type": "stream",
     "text": [
      "23/05/22 09:32:22 WARN Utils: Your hostname, VIJAYs-MacBook-Pro.local resolves to a loopback address: 127.0.0.1; using 192.168.87.20 instead (on interface en0)\n",
      "23/05/22 09:32:22 WARN Utils: Set SPARK_LOCAL_IP if you need to bind to another address\n",
      "Setting default log level to \"WARN\".\n",
      "To adjust logging level use sc.setLogLevel(newLevel). For SparkR, use setLogLevel(newLevel).\n",
      "23/05/22 09:32:23 WARN NativeCodeLoader: Unable to load native-hadoop library for your platform... using builtin-java classes where applicable\n"
     ]
    }
   ],
   "source": [
    "# import pyspark\n",
    "# sc = pyspark.SparkContext(appName=\"globalContent\")\n",
    "\n",
    "# pg_jar = str(Path('~/apps/postgresql-42.5.4.jar').expanduser().resolve())\n",
    "# bq_jar = str(Path('~/apps/spark-bigquery-with-dependencies_2.12-0.30.0.jar').expanduser().resolve())\n",
    "# spark_jars = f\"{pg_jar},{bq_jar}\"\n",
    "\n",
    "from pyspark.sql import SparkSession\n",
    "# spark = SparkSession.builder \\\n",
    "#             .appName(\"LensFeatures\") \\\n",
    "#             .config(\"spark.jars\", spark_jars) \\\n",
    "#             .getOrCreate()\n",
    "spark = SparkSession.builder \\\n",
    "            .appName(\"LensFeatures\") \\\n",
    "            .getOrCreate()"
   ]
  },
  {
   "cell_type": "code",
   "execution_count": 3,
   "id": "af32705b",
   "metadata": {},
   "outputs": [
    {
     "name": "stderr",
     "output_type": "stream",
     "text": [
      "                                                                                \r"
     ]
    }
   ],
   "source": [
    "# posts_df = spark.read.format('com.google.cloud.spark.bigquery') \\\n",
    "#                     .option('table','lens-public-data.polygon.public_profile_post') \\\n",
    "#                     .load()\n",
    "posts_df = spark.read.csv(\"/tmp/lens_bigquery_csvs/public_profile_post/\", \n",
    "                          header=True, \n",
    "                          escape=\"\\\"\",\n",
    "                          multiLine=True,\n",
    "                          inferSchema=True)"
   ]
  },
  {
   "cell_type": "code",
   "execution_count": 4,
   "id": "f81dae8e",
   "metadata": {},
   "outputs": [],
   "source": [
    "# from pyspark.sql.functions import lit, current_timestamp, to_timestamp\n",
    "# # ts = to_timestamp(lit('05-12-2023 00:00:00.000'),'MM-dd-yyyy HH:mm:ss.SSS')\n",
    "# ts = current_timestamp()\n",
    "# posts_df = posts_df \\\n",
    "#             .select(\"post_id\") \\\n",
    "#             .withColumn(\"timestamp\", ts)\n",
    "\n",
    "from pyspark.sql.functions import col\n",
    "posts_df = posts_df.select(\n",
    "                        col(\"post_id\").alias(\"posts\"),\n",
    "                        col(\"profile_id\").alias(\"profiles\"))"
   ]
  },
  {
   "cell_type": "code",
   "execution_count": 5,
   "id": "284e9642",
   "metadata": {},
   "outputs": [
    {
     "name": "stdout",
     "output_type": "stream",
     "text": [
      "root\n",
      " |-- posts: string (nullable = true)\n",
      " |-- profiles: string (nullable = true)\n",
      "\n"
     ]
    }
   ],
   "source": [
    "posts_df.printSchema()"
   ]
  },
  {
   "cell_type": "code",
   "execution_count": 6,
   "id": "a5204c89",
   "metadata": {},
   "outputs": [
    {
     "name": "stdout",
     "output_type": "stream",
     "text": [
      "Your browser has been opened to visit:\n",
      "\n",
      "    https://accounts.google.com/o/oauth2/auth?response_type=code&client_id=764086051850-6qr4p6gpi6hn506pt8ejuq83di341hur.apps.googleusercontent.com&redirect_uri=http%3A%2F%2Flocalhost%3A8085%2F&scope=openid+https%3A%2F%2Fwww.googleapis.com%2Fauth%2Fuserinfo.email+https%3A%2F%2Fwww.googleapis.com%2Fauth%2Fcloud-platform+https%3A%2F%2Fwww.googleapis.com%2Fauth%2Fsqlservice.login+https%3A%2F%2Fwww.googleapis.com%2Fauth%2Faccounts.reauth&state=OTQvTBl3vcLSZtzFuFtbPWunqZtVI1&access_type=offline&code_challenge=P8XB6Bt1KwZdhUt8160BhGchXb-fJmWN7V16xB2z0tk&code_challenge_method=S256\n",
      "\n",
      "\n",
      "Credentials saved to file: [/Users/vijay/.config/gcloud/application_default_credentials.json]\n",
      "\n",
      "These credentials will be used by any library that requests Application Default Credentials (ADC).\n",
      "\n",
      "Quota project \"boxwood-well-386122\" was added to ADC which can be used by Google client libraries for billing and quota. Note that some services may still bill the project owning the resource.\n"
     ]
    }
   ],
   "source": [
    "! gcloud auth application-default login"
   ]
  },
  {
   "cell_type": "code",
   "execution_count": 7,
   "id": "d23d6d94",
   "metadata": {},
   "outputs": [],
   "source": [
    "PROJECT_ID = \"boxwood-well-386122\"\n",
    "REGION = \"us-central1\"\n",
    "BUCKET_URI = \"gs://vijay-lens-feature-store-temp\"  \n",
    "from google.cloud import aiplatform\n",
    "aiplatform.init(project=PROJECT_ID, location=REGION, staging_bucket=BUCKET_URI)"
   ]
  },
  {
   "cell_type": "code",
   "execution_count": 8,
   "id": "ff31e925",
   "metadata": {},
   "outputs": [
    {
     "name": "stdout",
     "output_type": "stream",
     "text": [
      "name: \"projects/1181216607/locations/us-central1/featurestores/lens_featurestore_d2\"\n",
      "create_time {\n",
      "  seconds: 1684349445\n",
      "  nanos: 286219000\n",
      "}\n",
      "update_time {\n",
      "  seconds: 1684349445\n",
      "  nanos: 525844000\n",
      "}\n",
      "etag: \"AMEw9yNBceojpjzuQ2DYplH0sHRFEdQ8bMT0sQp9v7_09GKSnoxAPKwsR1WA1IdQswHc\"\n",
      "online_serving_config {\n",
      "}\n",
      "state: STABLE\n",
      "\n"
     ]
    }
   ],
   "source": [
    "FEATURESTORE_ID = \"lens_featurestore_d2\"\n",
    "from google.cloud.aiplatform import Feature, Featurestore\n",
    "fs = Featurestore(\n",
    "    featurestore_name=FEATURESTORE_ID\n",
    ")\n",
    "print(fs.gca_resource)"
   ]
  },
  {
   "cell_type": "code",
   "execution_count": 9,
   "id": "97312f3c",
   "metadata": {},
   "outputs": [],
   "source": [
    "FEATURES_IDS = {\"posts\": [\"*\"], \"profiles\": [\"*\"]}"
   ]
  },
  {
   "cell_type": "code",
   "execution_count": 10,
   "id": "330b78af",
   "metadata": {},
   "outputs": [
    {
     "name": "stderr",
     "output_type": "stream",
     "text": [
      "                                                                                \r"
     ]
    }
   ],
   "source": [
    "INSTANCES_DF = posts_df.toPandas()"
   ]
  },
  {
   "cell_type": "code",
   "execution_count": 11,
   "id": "08f824a2",
   "metadata": {},
   "outputs": [],
   "source": [
    "# google api expects a pandas Timestamp to be millisecond-aligned in RFC 3339 format \n",
    "# Example - 2012-07-30T10:43:17.123Z\n",
    "import pandas as pd\n",
    "from datetime import datetime\n",
    "# ts = '2023-05-12T00:00:00.000Z' # hardcode to get features at a point in time\n",
    "ts = datetime.utcnow().isoformat(sep='T', timespec='milliseconds')+'Z'\n",
    "INSTANCES_DF['timestamp'] = pd.Timestamp(ts)"
   ]
  },
  {
   "cell_type": "code",
   "execution_count": 12,
   "id": "8abd7c25",
   "metadata": {},
   "outputs": [
    {
     "data": {
      "text/html": [
       "<div>\n",
       "<style scoped>\n",
       "    .dataframe tbody tr th:only-of-type {\n",
       "        vertical-align: middle;\n",
       "    }\n",
       "\n",
       "    .dataframe tbody tr th {\n",
       "        vertical-align: top;\n",
       "    }\n",
       "\n",
       "    .dataframe thead th {\n",
       "        text-align: right;\n",
       "    }\n",
       "</style>\n",
       "<table border=\"1\" class=\"dataframe\">\n",
       "  <thead>\n",
       "    <tr style=\"text-align: right;\">\n",
       "      <th></th>\n",
       "      <th>posts</th>\n",
       "      <th>profiles</th>\n",
       "      <th>timestamp</th>\n",
       "    </tr>\n",
       "  </thead>\n",
       "  <tbody>\n",
       "    <tr>\n",
       "      <th>326402</th>\n",
       "      <td>0x0123b5-0xc4</td>\n",
       "      <td>0x0123b5</td>\n",
       "      <td>2023-05-22 16:33:52.977000+00:00</td>\n",
       "    </tr>\n",
       "    <tr>\n",
       "      <th>275261</th>\n",
       "      <td>0x012186-0x45</td>\n",
       "      <td>0x012186</td>\n",
       "      <td>2023-05-22 16:33:52.977000+00:00</td>\n",
       "    </tr>\n",
       "    <tr>\n",
       "      <th>100814</th>\n",
       "      <td>0x01198f-0x03c2</td>\n",
       "      <td>0x01198f</td>\n",
       "      <td>2023-05-22 16:33:52.977000+00:00</td>\n",
       "    </tr>\n",
       "    <tr>\n",
       "      <th>38098</th>\n",
       "      <td>0x01151d-0x45</td>\n",
       "      <td>0x01151d</td>\n",
       "      <td>2023-05-22 16:33:52.977000+00:00</td>\n",
       "    </tr>\n",
       "    <tr>\n",
       "      <th>385953</th>\n",
       "      <td>0x01267b-0x2d</td>\n",
       "      <td>0x01267b</td>\n",
       "      <td>2023-05-22 16:33:52.977000+00:00</td>\n",
       "    </tr>\n",
       "    <tr>\n",
       "      <th>278475</th>\n",
       "      <td>0x012196-0x03d7</td>\n",
       "      <td>0x012196</td>\n",
       "      <td>2023-05-22 16:33:52.977000+00:00</td>\n",
       "    </tr>\n",
       "    <tr>\n",
       "      <th>281171</th>\n",
       "      <td>0x012196-0x0fa4</td>\n",
       "      <td>0x012196</td>\n",
       "      <td>2023-05-22 16:33:52.977000+00:00</td>\n",
       "    </tr>\n",
       "    <tr>\n",
       "      <th>6129</th>\n",
       "      <td>0x0113a8-0x0104</td>\n",
       "      <td>0x0113a8</td>\n",
       "      <td>2023-05-22 16:33:52.977000+00:00</td>\n",
       "    </tr>\n",
       "    <tr>\n",
       "      <th>441486</th>\n",
       "      <td>0x012943-0x41</td>\n",
       "      <td>0x012943</td>\n",
       "      <td>2023-05-22 16:33:52.977000+00:00</td>\n",
       "    </tr>\n",
       "    <tr>\n",
       "      <th>414079</th>\n",
       "      <td>0x0127d3-0x2d</td>\n",
       "      <td>0x0127d3</td>\n",
       "      <td>2023-05-22 16:33:52.977000+00:00</td>\n",
       "    </tr>\n",
       "  </tbody>\n",
       "</table>\n",
       "</div>"
      ],
      "text/plain": [
       "                  posts  profiles                        timestamp\n",
       "326402    0x0123b5-0xc4  0x0123b5 2023-05-22 16:33:52.977000+00:00\n",
       "275261    0x012186-0x45  0x012186 2023-05-22 16:33:52.977000+00:00\n",
       "100814  0x01198f-0x03c2  0x01198f 2023-05-22 16:33:52.977000+00:00\n",
       "38098     0x01151d-0x45  0x01151d 2023-05-22 16:33:52.977000+00:00\n",
       "385953    0x01267b-0x2d  0x01267b 2023-05-22 16:33:52.977000+00:00\n",
       "278475  0x012196-0x03d7  0x012196 2023-05-22 16:33:52.977000+00:00\n",
       "281171  0x012196-0x0fa4  0x012196 2023-05-22 16:33:52.977000+00:00\n",
       "6129    0x0113a8-0x0104  0x0113a8 2023-05-22 16:33:52.977000+00:00\n",
       "441486    0x012943-0x41  0x012943 2023-05-22 16:33:52.977000+00:00\n",
       "414079    0x0127d3-0x2d  0x0127d3 2023-05-22 16:33:52.977000+00:00"
      ]
     },
     "execution_count": 12,
     "metadata": {},
     "output_type": "execute_result"
    }
   ],
   "source": [
    "INSTANCES_DF.sample(10)"
   ]
  },
  {
   "cell_type": "code",
   "execution_count": 13,
   "id": "2fbe9c07",
   "metadata": {},
   "outputs": [
    {
     "name": "stdout",
     "output_type": "stream",
     "text": [
      "<class 'pandas.core.frame.DataFrame'>\n",
      "RangeIndex: 452441 entries, 0 to 452440\n",
      "Data columns (total 3 columns):\n",
      " #   Column     Non-Null Count   Dtype              \n",
      "---  ------     --------------   -----              \n",
      " 0   posts      452441 non-null  object             \n",
      " 1   profiles   452441 non-null  object             \n",
      " 2   timestamp  452441 non-null  datetime64[ns, UTC]\n",
      "dtypes: datetime64[ns, UTC](1), object(2)\n",
      "memory usage: 10.4+ MB\n"
     ]
    }
   ],
   "source": [
    "INSTANCES_DF.info()"
   ]
  },
  {
   "cell_type": "code",
   "execution_count": 14,
   "id": "c7faf11f",
   "metadata": {},
   "outputs": [
    {
     "name": "stdout",
     "output_type": "stream",
     "text": [
      "seconds: 1683763201\n",
      "\n"
     ]
    }
   ],
   "source": [
    "import datetime\n",
    "from google.protobuf.timestamp_pb2 import Timestamp\n",
    "# we had bad feature import on 5/11/2023, Let's ignore values before that date\n",
    "bad_feature_time = datetime.datetime(year=2023, month=5, day=11, hour=0, minute=0, second=1)\n",
    "START_TIME = Timestamp()\n",
    "START_TIME.FromDatetime(bad_feature_time)\n",
    "print(START_TIME)"
   ]
  },
  {
   "cell_type": "code",
   "execution_count": 15,
   "id": "e7ca5101",
   "metadata": {},
   "outputs": [
    {
     "name": "stdout",
     "output_type": "stream",
     "text": [
      "Serving Featurestore feature values: projects/1181216607/locations/us-central1/featurestores/lens_featurestore_d2\n"
     ]
    },
    {
     "name": "stderr",
     "output_type": "stream",
     "text": [
      "INFO:google.cloud.aiplatform.featurestore.featurestore:Serving Featurestore feature values: projects/1181216607/locations/us-central1/featurestores/lens_featurestore_d2\n"
     ]
    },
    {
     "name": "stdout",
     "output_type": "stream",
     "text": [
      "Serve Featurestore feature values backing LRO: projects/1181216607/locations/us-central1/featurestores/lens_featurestore_d2/operations/2141200145205690368\n"
     ]
    },
    {
     "name": "stderr",
     "output_type": "stream",
     "text": [
      "INFO:google.cloud.aiplatform.featurestore.featurestore:Serve Featurestore feature values backing LRO: projects/1181216607/locations/us-central1/featurestores/lens_featurestore_d2/operations/2141200145205690368\n"
     ]
    },
    {
     "name": "stdout",
     "output_type": "stream",
     "text": [
      "Featurestore feature values served. Resource name: projects/1181216607/locations/us-central1/featurestores/lens_featurestore_d2\n"
     ]
    },
    {
     "name": "stderr",
     "output_type": "stream",
     "text": [
      "INFO:google.cloud.aiplatform.featurestore.featurestore:Featurestore feature values served. Resource name: projects/1181216607/locations/us-central1/featurestores/lens_featurestore_d2\n"
     ]
    }
   ],
   "source": [
    "# batch_serve_to_df(\n",
    "#     serving_feature_ids: Dict[str, List[str]],\n",
    "#     read_instances_df: pd.DataFrame,\n",
    "#     pass_through_fields: Optional[List[str]] = None,\n",
    "#     feature_destination_fields: Optional[Dict[str, str]] = None,\n",
    "#     start_time: Optional[google.protobuf.timestamp_pb2.Timestamp] = None,\n",
    "#     request_metadata: Optional[Sequence[Tuple[str, str]]] = (),\n",
    "#     serve_request_timeout: Optional[float] = None,\n",
    "#     bq_dataset_id: Optional[str] = None,\n",
    "# )\n",
    "\n",
    "features_df = fs.batch_serve_to_df(\n",
    "    serving_feature_ids = FEATURES_IDS,\n",
    "    read_instances_df = INSTANCES_DF,\n",
    "    start_time = START_TIME,\n",
    ")"
   ]
  },
  {
   "cell_type": "code",
   "execution_count": 16,
   "id": "714e1b10",
   "metadata": {},
   "outputs": [
    {
     "name": "stdout",
     "output_type": "stream",
     "text": [
      "<class 'pandas.core.frame.DataFrame'>\n",
      "RangeIndex: 452441 entries, 0 to 452440\n",
      "Data columns (total 20 columns):\n",
      " #   Column                           Non-Null Count   Dtype              \n",
      "---  ------                           --------------   -----              \n",
      " 0   timestamp                        452441 non-null  datetime64[ns, UTC]\n",
      " 1   entity_type_posts                452441 non-null  object             \n",
      " 2   main_content_focus               450923 non-null  object             \n",
      " 3   comments                         452441 non-null  int64              \n",
      " 4   language                         424234 non-null  object             \n",
      " 5   recommend                        0 non-null       object             \n",
      " 6   downvotes                        452441 non-null  int64              \n",
      " 7   mirrors                          452441 non-null  int64              \n",
      " 8   is_content_warning               452441 non-null  bool               \n",
      " 9   custom_filters_gardener_flagged  452441 non-null  bool               \n",
      " 10  upvotes                          452441 non-null  int64              \n",
      " 11  age                              452441 non-null  int64              \n",
      " 12  region                           362 non-null     object             \n",
      " 13  is_original                      452441 non-null  bool               \n",
      " 14  profile_id                       452441 non-null  object             \n",
      " 15  collects                         452441 non-null  int64              \n",
      " 16  content_warning                  72 non-null      object             \n",
      " 17  entity_type_profiles             452441 non-null  object             \n",
      " 18  followship_score                 449934 non-null  float64            \n",
      " 19  followship_rank                  449934 non-null  float64            \n",
      "dtypes: bool(3), datetime64[ns, UTC](1), float64(2), int64(6), object(8)\n",
      "memory usage: 60.0+ MB\n"
     ]
    }
   ],
   "source": [
    "features_df.info()"
   ]
  },
  {
   "cell_type": "code",
   "execution_count": 17,
   "id": "88d66ddf",
   "metadata": {},
   "outputs": [],
   "source": [
    "features_df['followship_rank'] = features_df['followship_rank'].astype('Int64')"
   ]
  },
  {
   "cell_type": "code",
   "execution_count": 18,
   "id": "97d1ae3b",
   "metadata": {},
   "outputs": [
    {
     "data": {
      "text/html": [
       "<div>\n",
       "<style scoped>\n",
       "    .dataframe tbody tr th:only-of-type {\n",
       "        vertical-align: middle;\n",
       "    }\n",
       "\n",
       "    .dataframe tbody tr th {\n",
       "        vertical-align: top;\n",
       "    }\n",
       "\n",
       "    .dataframe thead th {\n",
       "        text-align: right;\n",
       "    }\n",
       "</style>\n",
       "<table border=\"1\" class=\"dataframe\">\n",
       "  <thead>\n",
       "    <tr style=\"text-align: right;\">\n",
       "      <th></th>\n",
       "      <th>timestamp</th>\n",
       "      <th>entity_type_posts</th>\n",
       "      <th>main_content_focus</th>\n",
       "      <th>comments</th>\n",
       "      <th>language</th>\n",
       "      <th>recommend</th>\n",
       "      <th>downvotes</th>\n",
       "      <th>mirrors</th>\n",
       "      <th>is_content_warning</th>\n",
       "      <th>custom_filters_gardener_flagged</th>\n",
       "      <th>upvotes</th>\n",
       "      <th>age</th>\n",
       "      <th>region</th>\n",
       "      <th>is_original</th>\n",
       "      <th>profile_id</th>\n",
       "      <th>collects</th>\n",
       "      <th>content_warning</th>\n",
       "      <th>entity_type_profiles</th>\n",
       "      <th>followship_score</th>\n",
       "      <th>followship_rank</th>\n",
       "    </tr>\n",
       "  </thead>\n",
       "  <tbody>\n",
       "    <tr>\n",
       "      <th>36218</th>\n",
       "      <td>2023-05-22 16:33:52.977000+00:00</td>\n",
       "      <td>0x012205-0x1e</td>\n",
       "      <td>IMAGE</td>\n",
       "      <td>0</td>\n",
       "      <td>en</td>\n",
       "      <td>None</td>\n",
       "      <td>0</td>\n",
       "      <td>0</td>\n",
       "      <td>False</td>\n",
       "      <td>False</td>\n",
       "      <td>0</td>\n",
       "      <td>186</td>\n",
       "      <td>None</td>\n",
       "      <td>False</td>\n",
       "      <td>0x012205</td>\n",
       "      <td>0</td>\n",
       "      <td>None</td>\n",
       "      <td>0x012205</td>\n",
       "      <td>4.650343e-07</td>\n",
       "      <td>19308</td>\n",
       "    </tr>\n",
       "    <tr>\n",
       "      <th>116939</th>\n",
       "      <td>2023-05-22 16:33:52.977000+00:00</td>\n",
       "      <td>0x012258-0x73</td>\n",
       "      <td>IMAGE</td>\n",
       "      <td>0</td>\n",
       "      <td>ru</td>\n",
       "      <td>None</td>\n",
       "      <td>0</td>\n",
       "      <td>0</td>\n",
       "      <td>False</td>\n",
       "      <td>False</td>\n",
       "      <td>0</td>\n",
       "      <td>13</td>\n",
       "      <td>None</td>\n",
       "      <td>True</td>\n",
       "      <td>0x012258</td>\n",
       "      <td>0</td>\n",
       "      <td>None</td>\n",
       "      <td>0x012258</td>\n",
       "      <td>2.206546e-07</td>\n",
       "      <td>31448</td>\n",
       "    </tr>\n",
       "    <tr>\n",
       "      <th>242201</th>\n",
       "      <td>2023-05-22 16:33:52.977000+00:00</td>\n",
       "      <td>0x011c8d-0x05</td>\n",
       "      <td>IMAGE</td>\n",
       "      <td>0</td>\n",
       "      <td>vi</td>\n",
       "      <td>None</td>\n",
       "      <td>0</td>\n",
       "      <td>0</td>\n",
       "      <td>False</td>\n",
       "      <td>False</td>\n",
       "      <td>1</td>\n",
       "      <td>57</td>\n",
       "      <td>None</td>\n",
       "      <td>False</td>\n",
       "      <td>0x011c8d</td>\n",
       "      <td>0</td>\n",
       "      <td>None</td>\n",
       "      <td>0x011c8d</td>\n",
       "      <td>1.433356e-07</td>\n",
       "      <td>41275</td>\n",
       "    </tr>\n",
       "  </tbody>\n",
       "</table>\n",
       "</div>"
      ],
      "text/plain": [
       "                              timestamp entity_type_posts main_content_focus   \n",
       "36218  2023-05-22 16:33:52.977000+00:00     0x012205-0x1e              IMAGE  \\\n",
       "116939 2023-05-22 16:33:52.977000+00:00     0x012258-0x73              IMAGE   \n",
       "242201 2023-05-22 16:33:52.977000+00:00     0x011c8d-0x05              IMAGE   \n",
       "\n",
       "        comments language recommend  downvotes  mirrors  is_content_warning   \n",
       "36218          0       en      None          0        0               False  \\\n",
       "116939         0       ru      None          0        0               False   \n",
       "242201         0       vi      None          0        0               False   \n",
       "\n",
       "        custom_filters_gardener_flagged  upvotes  age region  is_original   \n",
       "36218                             False        0  186   None        False  \\\n",
       "116939                            False        0   13   None         True   \n",
       "242201                            False        1   57   None        False   \n",
       "\n",
       "       profile_id  collects content_warning entity_type_profiles   \n",
       "36218    0x012205         0            None             0x012205  \\\n",
       "116939   0x012258         0            None             0x012258   \n",
       "242201   0x011c8d         0            None             0x011c8d   \n",
       "\n",
       "        followship_score  followship_rank  \n",
       "36218       4.650343e-07            19308  \n",
       "116939      2.206546e-07            31448  \n",
       "242201      1.433356e-07            41275  "
      ]
     },
     "execution_count": 18,
     "metadata": {},
     "output_type": "execute_result"
    }
   ],
   "source": [
    "features_df[features_df['entity_type_posts'].isin(['0x012258-0x73',\n",
    "                                                   '0x012205-0x1e',\n",
    "                                                   '0x011c8d-0x05'])]"
   ]
  },
  {
   "cell_type": "code",
   "execution_count": 19,
   "id": "3e189730",
   "metadata": {},
   "outputs": [],
   "source": [
    "max_features = features_df \\\n",
    "                .groupby([\"followship_rank\"]) \\\n",
    "                .agg({'age': ['max'], \n",
    "                      'mirrors': ['max'], \n",
    "                      'collects': ['max'], \n",
    "                      'comments': ['max']})\n",
    "max_features.columns = ['max_age', 'max_mirrors', 'max_collects', 'max_comments']"
   ]
  },
  {
   "cell_type": "code",
   "execution_count": 20,
   "id": "cb32c760",
   "metadata": {},
   "outputs": [],
   "source": [
    "post_score_df = features_df.join(max_features, on='followship_rank', how='left')"
   ]
  },
  {
   "cell_type": "code",
   "execution_count": 21,
   "id": "437a776a",
   "metadata": {},
   "outputs": [
    {
     "name": "stdout",
     "output_type": "stream",
     "text": [
      "<class 'pandas.core.frame.DataFrame'>\n",
      "RangeIndex: 452441 entries, 0 to 452440\n",
      "Data columns (total 24 columns):\n",
      " #   Column                           Non-Null Count   Dtype              \n",
      "---  ------                           --------------   -----              \n",
      " 0   timestamp                        452441 non-null  datetime64[ns, UTC]\n",
      " 1   entity_type_posts                452441 non-null  object             \n",
      " 2   main_content_focus               450923 non-null  object             \n",
      " 3   comments                         452441 non-null  int64              \n",
      " 4   language                         424234 non-null  object             \n",
      " 5   recommend                        0 non-null       object             \n",
      " 6   downvotes                        452441 non-null  int64              \n",
      " 7   mirrors                          452441 non-null  int64              \n",
      " 8   is_content_warning               452441 non-null  bool               \n",
      " 9   custom_filters_gardener_flagged  452441 non-null  bool               \n",
      " 10  upvotes                          452441 non-null  int64              \n",
      " 11  age                              452441 non-null  int64              \n",
      " 12  region                           362 non-null     object             \n",
      " 13  is_original                      452441 non-null  bool               \n",
      " 14  profile_id                       452441 non-null  object             \n",
      " 15  collects                         452441 non-null  int64              \n",
      " 16  content_warning                  72 non-null      object             \n",
      " 17  entity_type_profiles             452441 non-null  object             \n",
      " 18  followship_score                 449934 non-null  float64            \n",
      " 19  followship_rank                  449934 non-null  Int64              \n",
      " 20  max_age                          449934 non-null  float64            \n",
      " 21  max_mirrors                      449934 non-null  float64            \n",
      " 22  max_collects                     449934 non-null  float64            \n",
      " 23  max_comments                     449934 non-null  float64            \n",
      "dtypes: Int64(1), bool(3), datetime64[ns, UTC](1), float64(5), int64(6), object(8)\n",
      "memory usage: 74.2+ MB\n"
     ]
    }
   ],
   "source": [
    "post_score_df.info()"
   ]
  },
  {
   "cell_type": "code",
   "execution_count": 22,
   "id": "bbb2fb6f",
   "metadata": {},
   "outputs": [
    {
     "data": {
      "text/html": [
       "<div>\n",
       "<style scoped>\n",
       "    .dataframe tbody tr th:only-of-type {\n",
       "        vertical-align: middle;\n",
       "    }\n",
       "\n",
       "    .dataframe tbody tr th {\n",
       "        vertical-align: top;\n",
       "    }\n",
       "\n",
       "    .dataframe thead th {\n",
       "        text-align: right;\n",
       "    }\n",
       "</style>\n",
       "<table border=\"1\" class=\"dataframe\">\n",
       "  <thead>\n",
       "    <tr style=\"text-align: right;\">\n",
       "      <th></th>\n",
       "      <th>timestamp</th>\n",
       "      <th>entity_type_posts</th>\n",
       "      <th>main_content_focus</th>\n",
       "      <th>comments</th>\n",
       "      <th>language</th>\n",
       "      <th>recommend</th>\n",
       "      <th>downvotes</th>\n",
       "      <th>mirrors</th>\n",
       "      <th>is_content_warning</th>\n",
       "      <th>custom_filters_gardener_flagged</th>\n",
       "      <th>upvotes</th>\n",
       "      <th>age</th>\n",
       "      <th>region</th>\n",
       "      <th>is_original</th>\n",
       "      <th>profile_id</th>\n",
       "      <th>collects</th>\n",
       "      <th>content_warning</th>\n",
       "      <th>entity_type_profiles</th>\n",
       "      <th>followship_score</th>\n",
       "      <th>followship_rank</th>\n",
       "      <th>max_age</th>\n",
       "      <th>max_mirrors</th>\n",
       "      <th>max_collects</th>\n",
       "      <th>max_comments</th>\n",
       "    </tr>\n",
       "  </thead>\n",
       "  <tbody>\n",
       "    <tr>\n",
       "      <th>443632</th>\n",
       "      <td>2023-05-22 16:33:52.977000+00:00</td>\n",
       "      <td>0x0113f0-0x9e</td>\n",
       "      <td>IMAGE</td>\n",
       "      <td>0</td>\n",
       "      <td>en</td>\n",
       "      <td>None</td>\n",
       "      <td>0</td>\n",
       "      <td>0</td>\n",
       "      <td>False</td>\n",
       "      <td>False</td>\n",
       "      <td>0</td>\n",
       "      <td>157</td>\n",
       "      <td>None</td>\n",
       "      <td>True</td>\n",
       "      <td>0x0113f0</td>\n",
       "      <td>0</td>\n",
       "      <td>None</td>\n",
       "      <td>0x0113f0</td>\n",
       "      <td>0.00000131862299906817</td>\n",
       "      <td>9588</td>\n",
       "      <td>229.00000000000000000000</td>\n",
       "      <td>9.00000000000000000000</td>\n",
       "      <td>3.00000000000000000000</td>\n",
       "      <td>3.00000000000000000000</td>\n",
       "    </tr>\n",
       "    <tr>\n",
       "      <th>111312</th>\n",
       "      <td>2023-05-22 16:33:52.977000+00:00</td>\n",
       "      <td>0x012241-0x02</td>\n",
       "      <td>TEXT_ONLY</td>\n",
       "      <td>0</td>\n",
       "      <td>en</td>\n",
       "      <td>None</td>\n",
       "      <td>0</td>\n",
       "      <td>0</td>\n",
       "      <td>False</td>\n",
       "      <td>False</td>\n",
       "      <td>0</td>\n",
       "      <td>211</td>\n",
       "      <td>None</td>\n",
       "      <td>False</td>\n",
       "      <td>0x012241</td>\n",
       "      <td>0</td>\n",
       "      <td>None</td>\n",
       "      <td>0x012241</td>\n",
       "      <td>0.00000006707300434725</td>\n",
       "      <td>68882</td>\n",
       "      <td>214.00000000000000000000</td>\n",
       "      <td>3.00000000000000000000</td>\n",
       "      <td>1.00000000000000000000</td>\n",
       "      <td>1.00000000000000000000</td>\n",
       "    </tr>\n",
       "    <tr>\n",
       "      <th>90847</th>\n",
       "      <td>2023-05-22 16:33:52.977000+00:00</td>\n",
       "      <td>0x012032-0x09-DA-f41ce988</td>\n",
       "      <td>TEXT_ONLY</td>\n",
       "      <td>0</td>\n",
       "      <td>None</td>\n",
       "      <td>None</td>\n",
       "      <td>0</td>\n",
       "      <td>0</td>\n",
       "      <td>False</td>\n",
       "      <td>False</td>\n",
       "      <td>1</td>\n",
       "      <td>10</td>\n",
       "      <td>None</td>\n",
       "      <td>True</td>\n",
       "      <td>0x012032</td>\n",
       "      <td>0</td>\n",
       "      <td>None</td>\n",
       "      <td>0x012032</td>\n",
       "      <td>0.00000005749516866697</td>\n",
       "      <td>76806</td>\n",
       "      <td>151.00000000000000000000</td>\n",
       "      <td>0.00000000000000000000</td>\n",
       "      <td>0.00000000000000000000</td>\n",
       "      <td>0.00000000000000000000</td>\n",
       "    </tr>\n",
       "    <tr>\n",
       "      <th>161451</th>\n",
       "      <td>2023-05-22 16:33:52.977000+00:00</td>\n",
       "      <td>0x011871-0x4a</td>\n",
       "      <td>VIDEO</td>\n",
       "      <td>0</td>\n",
       "      <td>tr</td>\n",
       "      <td>None</td>\n",
       "      <td>0</td>\n",
       "      <td>0</td>\n",
       "      <td>False</td>\n",
       "      <td>False</td>\n",
       "      <td>0</td>\n",
       "      <td>53</td>\n",
       "      <td>None</td>\n",
       "      <td>False</td>\n",
       "      <td>0x011871</td>\n",
       "      <td>0</td>\n",
       "      <td>None</td>\n",
       "      <td>0x011871</td>\n",
       "      <td>0.00000011818874212577</td>\n",
       "      <td>46337</td>\n",
       "      <td>213.00000000000000000000</td>\n",
       "      <td>10.00000000000000000000</td>\n",
       "      <td>8.00000000000000000000</td>\n",
       "      <td>1.00000000000000000000</td>\n",
       "    </tr>\n",
       "    <tr>\n",
       "      <th>95279</th>\n",
       "      <td>2023-05-22 16:33:52.977000+00:00</td>\n",
       "      <td>0x011b1b-0x61</td>\n",
       "      <td>TEXT_ONLY</td>\n",
       "      <td>0</td>\n",
       "      <td>tr</td>\n",
       "      <td>None</td>\n",
       "      <td>0</td>\n",
       "      <td>0</td>\n",
       "      <td>False</td>\n",
       "      <td>False</td>\n",
       "      <td>0</td>\n",
       "      <td>37</td>\n",
       "      <td>None</td>\n",
       "      <td>True</td>\n",
       "      <td>0x011b1b</td>\n",
       "      <td>0</td>\n",
       "      <td>None</td>\n",
       "      <td>0x011b1b</td>\n",
       "      <td>0.00000024352434714564</td>\n",
       "      <td>29538</td>\n",
       "      <td>213.00000000000000000000</td>\n",
       "      <td>10.00000000000000000000</td>\n",
       "      <td>8.00000000000000000000</td>\n",
       "      <td>1.00000000000000000000</td>\n",
       "    </tr>\n",
       "  </tbody>\n",
       "</table>\n",
       "</div>"
      ],
      "text/plain": [
       "                              timestamp          entity_type_posts   \n",
       "443632 2023-05-22 16:33:52.977000+00:00              0x0113f0-0x9e  \\\n",
       "111312 2023-05-22 16:33:52.977000+00:00              0x012241-0x02   \n",
       "90847  2023-05-22 16:33:52.977000+00:00  0x012032-0x09-DA-f41ce988   \n",
       "161451 2023-05-22 16:33:52.977000+00:00              0x011871-0x4a   \n",
       "95279  2023-05-22 16:33:52.977000+00:00              0x011b1b-0x61   \n",
       "\n",
       "       main_content_focus  comments language recommend  downvotes  mirrors   \n",
       "443632              IMAGE         0       en      None          0        0  \\\n",
       "111312          TEXT_ONLY         0       en      None          0        0   \n",
       "90847           TEXT_ONLY         0     None      None          0        0   \n",
       "161451              VIDEO         0       tr      None          0        0   \n",
       "95279           TEXT_ONLY         0       tr      None          0        0   \n",
       "\n",
       "        is_content_warning  custom_filters_gardener_flagged  upvotes  age   \n",
       "443632               False                            False        0  157  \\\n",
       "111312               False                            False        0  211   \n",
       "90847                False                            False        1   10   \n",
       "161451               False                            False        0   53   \n",
       "95279                False                            False        0   37   \n",
       "\n",
       "       region  is_original profile_id  collects content_warning   \n",
       "443632   None         True   0x0113f0         0            None  \\\n",
       "111312   None        False   0x012241         0            None   \n",
       "90847    None         True   0x012032         0            None   \n",
       "161451   None        False   0x011871         0            None   \n",
       "95279    None         True   0x011b1b         0            None   \n",
       "\n",
       "       entity_type_profiles       followship_score  followship_rank   \n",
       "443632             0x0113f0 0.00000131862299906817             9588  \\\n",
       "111312             0x012241 0.00000006707300434725            68882   \n",
       "90847              0x012032 0.00000005749516866697            76806   \n",
       "161451             0x011871 0.00000011818874212577            46337   \n",
       "95279              0x011b1b 0.00000024352434714564            29538   \n",
       "\n",
       "                        max_age             max_mirrors   \n",
       "443632 229.00000000000000000000  9.00000000000000000000  \\\n",
       "111312 214.00000000000000000000  3.00000000000000000000   \n",
       "90847  151.00000000000000000000  0.00000000000000000000   \n",
       "161451 213.00000000000000000000 10.00000000000000000000   \n",
       "95279  213.00000000000000000000 10.00000000000000000000   \n",
       "\n",
       "                 max_collects           max_comments  \n",
       "443632 3.00000000000000000000 3.00000000000000000000  \n",
       "111312 1.00000000000000000000 1.00000000000000000000  \n",
       "90847  0.00000000000000000000 0.00000000000000000000  \n",
       "161451 8.00000000000000000000 1.00000000000000000000  \n",
       "95279  8.00000000000000000000 1.00000000000000000000  "
      ]
     },
     "execution_count": 22,
     "metadata": {},
     "output_type": "execute_result"
    }
   ],
   "source": [
    "import pandas as pd\n",
    "pd.set_option('display.max_colwidth',None)\n",
    "pd.set_option('display.max_columns', 200)  \n",
    "pd.set_option('display.float_format', '{:20,.20f}'.format)\n",
    "post_score_df.sample(5)"
   ]
  },
  {
   "cell_type": "code",
   "execution_count": 23,
   "id": "5641adb1",
   "metadata": {},
   "outputs": [],
   "source": [
    "pd.reset_option('display.max_colwidth')\n",
    "pd.reset_option('display.max_columns')  \n",
    "pd.reset_option('display.float_format')"
   ]
  },
  {
   "cell_type": "code",
   "execution_count": 24,
   "id": "192d3ca6",
   "metadata": {},
   "outputs": [],
   "source": [
    "import numpy as np\n",
    "post_score_df['max_mirrors'] = post_score_df['max_mirrors'].replace(0, np.nan)\n",
    "post_score_df['max_collects'] = post_score_df['max_collects'].replace(0, np.nan)\n",
    "post_score_df['max_comments'] = post_score_df['max_comments'].replace(0, np.nan)\n",
    "post_score_df['max_age'] = post_score_df['max_age'].replace(0, np.nan)"
   ]
  },
  {
   "cell_type": "code",
   "execution_count": 25,
   "id": "0aa63285",
   "metadata": {},
   "outputs": [],
   "source": [
    "# (1 * (mirrors_count::numeric / max_values.max_mirrors_count) +\n",
    "# 1 * (collects_count::numeric / max_values.max_collects_count) +\n",
    "# 3 * (comments_count::numeric / max_values.max_comments_count) -\n",
    "# 5 * ((EXTRACT(EPOCH FROM (CURRENT_TIMESTAMP - block_timestamp))/(60*60*24)) / max_values.max_age_days)\n",
    "# ) AS score\n",
    "\n",
    "def calc_post_score(row):\n",
    "    # avoid ZeroDivisionError\n",
    "    return 1 * row['mirrors']/(row['max_mirrors'] if row['max_mirrors'] > 0 else 1e10) \\\n",
    "            + 1 * row['collects']/(row['max_collects'] if row['max_collects'] > 0 else 1e10) \\\n",
    "            + 3 * row['comments']/(row['max_comments'] if row['max_comments'] > 0 else 1e10) \\\n",
    "            - 5 * row['age']/(row['max_age'] if row['max_age'] > 0 else 1e10)\n",
    "\n",
    "post_score_df['post_score'] = post_score_df.apply(calc_post_score, axis=1)\n",
    "\n",
    "# post_score_df['post_score'] = post_score_df.apply(lambda row: (1 * row['mirrors']/row['max_mirrors'] \\\n",
    "#                                                             + 1 * row['collects']/row['max_collects'] \\\n",
    "#                                                             + 3 * row['comments']/row['max_comments'] \\\n",
    "#                                                             - 5 * row['age']/row['max_age']), \n",
    "#                                                   axis=1)"
   ]
  },
  {
   "cell_type": "code",
   "execution_count": 26,
   "id": "33604fa1",
   "metadata": {
    "scrolled": true
   },
   "outputs": [
    {
     "name": "stdout",
     "output_type": "stream",
     "text": [
      "<class 'pandas.core.frame.DataFrame'>\n",
      "RangeIndex: 452441 entries, 0 to 452440\n",
      "Data columns (total 25 columns):\n",
      " #   Column                           Non-Null Count   Dtype              \n",
      "---  ------                           --------------   -----              \n",
      " 0   timestamp                        452441 non-null  datetime64[ns, UTC]\n",
      " 1   entity_type_posts                452441 non-null  object             \n",
      " 2   main_content_focus               450923 non-null  object             \n",
      " 3   comments                         452441 non-null  int64              \n",
      " 4   language                         424234 non-null  object             \n",
      " 5   recommend                        0 non-null       object             \n",
      " 6   downvotes                        452441 non-null  int64              \n",
      " 7   mirrors                          452441 non-null  int64              \n",
      " 8   is_content_warning               452441 non-null  bool               \n",
      " 9   custom_filters_gardener_flagged  452441 non-null  bool               \n",
      " 10  upvotes                          452441 non-null  int64              \n",
      " 11  age                              452441 non-null  int64              \n",
      " 12  region                           362 non-null     object             \n",
      " 13  is_original                      452441 non-null  bool               \n",
      " 14  profile_id                       452441 non-null  object             \n",
      " 15  collects                         452441 non-null  int64              \n",
      " 16  content_warning                  72 non-null      object             \n",
      " 17  entity_type_profiles             452441 non-null  object             \n",
      " 18  followship_score                 449934 non-null  float64            \n",
      " 19  followship_rank                  449934 non-null  Int64              \n",
      " 20  max_age                          449934 non-null  float64            \n",
      " 21  max_mirrors                      411035 non-null  float64            \n",
      " 22  max_collects                     405252 non-null  float64            \n",
      " 23  max_comments                     385650 non-null  float64            \n",
      " 24  post_score                       357216 non-null  float64            \n",
      "dtypes: Int64(1), bool(3), datetime64[ns, UTC](1), float64(6), int64(6), object(8)\n",
      "memory usage: 77.7+ MB\n"
     ]
    }
   ],
   "source": [
    "post_score_df.info()"
   ]
  },
  {
   "cell_type": "code",
   "execution_count": 27,
   "id": "d9d3df2c",
   "metadata": {},
   "outputs": [],
   "source": [
    "# just making sure datatypes are correct\n",
    "post_score_df['collects'] = post_score_df['collects'].astype('Int64')\n",
    "post_score_df['custom_filters_gardener_flagged'] = post_score_df['custom_filters_gardener_flagged'].astype('bool')\n",
    "post_score_df['upvotes'] = post_score_df['upvotes'].astype('Int64')\n",
    "post_score_df['mirrors'] = post_score_df['mirrors'].astype('Int64')\n",
    "post_score_df['is_original'] = post_score_df['is_original'].astype('bool')\n",
    "post_score_df['is_content_warning'] = post_score_df['is_content_warning'].astype('bool')\n",
    "post_score_df['age'] = post_score_df['age'].astype('Int64')\n",
    "post_score_df['downvotes'] = post_score_df['downvotes'].astype('Int64')\n",
    "post_score_df['comments'] = post_score_df['comments'].astype('Int64')\n",
    "post_score_df['downvotes'] = post_score_df['downvotes'].astype('Int64')\n",
    "post_score_df['max_age'] = post_score_df['max_age'].astype('Int64')\n",
    "post_score_df['max_mirrors'] = post_score_df['max_mirrors'].astype('Int64')\n",
    "post_score_df['max_collects'] = post_score_df['max_collects'].astype('Int64')\n",
    "post_score_df['max_comments'] = post_score_df['max_comments'].astype('Int64')"
   ]
  },
  {
   "cell_type": "code",
   "execution_count": 33,
   "id": "aaa8b3bc",
   "metadata": {},
   "outputs": [
    {
     "name": "stdout",
     "output_type": "stream",
     "text": [
      "<class 'pandas.core.frame.DataFrame'>\n",
      "RangeIndex: 452441 entries, 0 to 452440\n",
      "Data columns (total 25 columns):\n",
      " #   Column                           Non-Null Count   Dtype              \n",
      "---  ------                           --------------   -----              \n",
      " 0   timestamp                        452441 non-null  datetime64[ns, UTC]\n",
      " 1   entity_type_posts                452441 non-null  object             \n",
      " 2   main_content_focus               450923 non-null  object             \n",
      " 3   comments                         452441 non-null  Int64              \n",
      " 4   language                         424234 non-null  object             \n",
      " 5   recommend                        0 non-null       object             \n",
      " 6   downvotes                        452441 non-null  Int64              \n",
      " 7   mirrors                          452441 non-null  Int64              \n",
      " 8   is_content_warning               452441 non-null  bool               \n",
      " 9   custom_filters_gardener_flagged  452441 non-null  bool               \n",
      " 10  upvotes                          452441 non-null  Int64              \n",
      " 11  age                              452441 non-null  Int64              \n",
      " 12  region                           362 non-null     object             \n",
      " 13  is_original                      452441 non-null  bool               \n",
      " 14  profile_id                       452441 non-null  object             \n",
      " 15  collects                         452441 non-null  Int64              \n",
      " 16  content_warning                  72 non-null      object             \n",
      " 17  entity_type_profiles             452441 non-null  object             \n",
      " 18  followship_score                 449934 non-null  float64            \n",
      " 19  followship_rank                  449934 non-null  Int64              \n",
      " 20  max_age                          449934 non-null  Int64              \n",
      " 21  max_mirrors                      411035 non-null  Int64              \n",
      " 22  max_collects                     405252 non-null  Int64              \n",
      " 23  max_comments                     385650 non-null  Int64              \n",
      " 24  post_score                       357216 non-null  float64            \n",
      "dtypes: Int64(11), bool(3), datetime64[ns, UTC](1), float64(2), object(8)\n",
      "memory usage: 82.0+ MB\n"
     ]
    }
   ],
   "source": [
    "post_score_df.info()"
   ]
  },
  {
   "cell_type": "code",
   "execution_count": 29,
   "id": "44b248e7",
   "metadata": {},
   "outputs": [],
   "source": [
    "import xgboost as xgb\n",
    "model_filename = \"20230522053757_model.json\"\n",
    "model_p = xgb.Booster()\n",
    "model_p.load_model(model_filename)"
   ]
  },
  {
   "cell_type": "code",
   "execution_count": 31,
   "id": "5e347e31",
   "metadata": {},
   "outputs": [],
   "source": [
    "import pickle\n",
    "enc_filename = '20230522053757_recommend_encoder.pkl'\n",
    "enc = pickle.load(open(enc_filename, 'rb'))"
   ]
  },
  {
   "cell_type": "code",
   "execution_count": 32,
   "id": "dd30887e",
   "metadata": {
    "scrolled": true
   },
   "outputs": [
    {
     "data": {
      "text/plain": [
       "<Axes: title={'center': 'Feature importance'}, xlabel='F score', ylabel='Features'>"
      ]
     },
     "execution_count": 32,
     "metadata": {},
     "output_type": "execute_result"
    },
    {
     "data": {
      "image/png": "[encoded data removed]",
      "text/plain": [
       "<Figure size 640x480 with 1 Axes>"
      ]
     },
     "metadata": {},
     "output_type": "display_data"
    }
   ],
   "source": [
    "from xgboost import plot_importance\n",
    "plot_importance(model_p)"
   ]
  },
  {
   "cell_type": "code",
   "execution_count": 48,
   "id": "204411f7",
   "metadata": {},
   "outputs": [
    {
     "data": {
      "text/plain": [
       "['region',\n",
       " 'collects',\n",
       " 'followship_score',\n",
       " 'custom_filters_gardener_flagged',\n",
       " 'upvotes',\n",
       " 'content_warning',\n",
       " 'mirrors',\n",
       " 'is_original',\n",
       " 'is_content_warning',\n",
       " 'age',\n",
       " 'followship_rank',\n",
       " 'downvotes',\n",
       " 'main_content_focus',\n",
       " 'comments',\n",
       " 'language',\n",
       " 'max_age',\n",
       " 'max_mirrors',\n",
       " 'max_collects',\n",
       " 'max_comments',\n",
       " 'post_score']"
      ]
     },
     "execution_count": 48,
     "metadata": {},
     "output_type": "execute_result"
    }
   ],
   "source": [
    "model_p.feature_names"
   ]
  },
  {
   "cell_type": "code",
   "execution_count": 55,
   "id": "dbdaf7d7",
   "metadata": {},
   "outputs": [],
   "source": [
    "input_df = post_score_df"
   ]
  },
  {
   "cell_type": "code",
   "execution_count": 56,
   "id": "b12fdb82",
   "metadata": {},
   "outputs": [],
   "source": [
    "model_excluded_fields = ['timestamp', 'entity_type_posts', 'profile_id', 'entity_type_profiles']"
   ]
  },
  {
   "cell_type": "code",
   "execution_count": 57,
   "id": "e7ea8a45",
   "metadata": {},
   "outputs": [],
   "source": [
    "input_df, input_ex_df = input_df.drop(model_excluded_fields, axis=1), input_df[model_excluded_fields]"
   ]
  },
  {
   "cell_type": "code",
   "execution_count": 58,
   "id": "a510e4d7",
   "metadata": {},
   "outputs": [],
   "source": [
    "# recommend column values will be predicted. drop it from input.\n",
    "input_df.drop('recommend', axis=1, inplace=True)"
   ]
  },
  {
   "cell_type": "code",
   "execution_count": 61,
   "id": "a842b635",
   "metadata": {},
   "outputs": [],
   "source": [
    "# order the columns in exactly the same order as they appear in the trained model\n",
    "input_df = input_df[model_p.feature_names]"
   ]
  },
  {
   "cell_type": "code",
   "execution_count": 62,
   "id": "bb507dd8",
   "metadata": {},
   "outputs": [
    {
     "name": "stdout",
     "output_type": "stream",
     "text": [
      "<class 'pandas.core.frame.DataFrame'>\n",
      "RangeIndex: 452441 entries, 0 to 452440\n",
      "Data columns (total 20 columns):\n",
      " #   Column                           Non-Null Count   Dtype  \n",
      "---  ------                           --------------   -----  \n",
      " 0   region                           362 non-null     object \n",
      " 1   collects                         452441 non-null  Int64  \n",
      " 2   followship_score                 449934 non-null  float64\n",
      " 3   custom_filters_gardener_flagged  452441 non-null  bool   \n",
      " 4   upvotes                          452441 non-null  Int64  \n",
      " 5   content_warning                  72 non-null      object \n",
      " 6   mirrors                          452441 non-null  Int64  \n",
      " 7   is_original                      452441 non-null  bool   \n",
      " 8   is_content_warning               452441 non-null  bool   \n",
      " 9   age                              452441 non-null  Int64  \n",
      " 10  followship_rank                  449934 non-null  Int64  \n",
      " 11  downvotes                        452441 non-null  Int64  \n",
      " 12  main_content_focus               450923 non-null  object \n",
      " 13  comments                         452441 non-null  Int64  \n",
      " 14  language                         424234 non-null  object \n",
      " 15  max_age                          449934 non-null  Int64  \n",
      " 16  max_mirrors                      411035 non-null  Int64  \n",
      " 17  max_collects                     405252 non-null  Int64  \n",
      " 18  max_comments                     385650 non-null  Int64  \n",
      " 19  post_score                       357216 non-null  float64\n",
      "dtypes: Int64(11), bool(3), float64(2), object(4)\n",
      "memory usage: 64.7+ MB\n"
     ]
    }
   ],
   "source": [
    "input_df.info()"
   ]
  },
  {
   "cell_type": "code",
   "execution_count": 63,
   "id": "5c8091e3",
   "metadata": {},
   "outputs": [
    {
     "name": "stdout",
     "output_type": "stream",
     "text": [
      "<class 'pandas.core.frame.DataFrame'>\n",
      "RangeIndex: 452441 entries, 0 to 452440\n",
      "Data columns (total 4 columns):\n",
      " #   Column                Non-Null Count   Dtype              \n",
      "---  ------                --------------   -----              \n",
      " 0   timestamp             452441 non-null  datetime64[ns, UTC]\n",
      " 1   entity_type_posts     452441 non-null  object             \n",
      " 2   profile_id            452441 non-null  object             \n",
      " 3   entity_type_profiles  452441 non-null  object             \n",
      "dtypes: datetime64[ns, UTC](1), object(3)\n",
      "memory usage: 13.8+ MB\n"
     ]
    }
   ],
   "source": [
    "input_ex_df.info()"
   ]
  },
  {
   "cell_type": "code",
   "execution_count": 64,
   "id": "3398f3d5",
   "metadata": {},
   "outputs": [],
   "source": [
    "cats = input_df.select_dtypes(exclude=np.number).columns.tolist()\n",
    "\n",
    "# Convert to Pandas category\n",
    "for col in cats:\n",
    "    input_df[col] = input_df[col].astype('category')"
   ]
  },
  {
   "cell_type": "code",
   "execution_count": 65,
   "id": "259cfd11",
   "metadata": {},
   "outputs": [],
   "source": [
    "dinput_df = xgb.DMatrix(input_df, enable_categorical=True)"
   ]
  },
  {
   "cell_type": "code",
   "execution_count": 66,
   "id": "6dc9d3b7",
   "metadata": {},
   "outputs": [],
   "source": [
    "predicted_y = model_p.predict(dinput_df)"
   ]
  },
  {
   "cell_type": "code",
   "execution_count": 67,
   "id": "408e0156",
   "metadata": {},
   "outputs": [
    {
     "data": {
      "text/plain": [
       "452441"
      ]
     },
     "execution_count": 67,
     "metadata": {},
     "output_type": "execute_result"
    }
   ],
   "source": [
    "len(predicted_y)"
   ]
  },
  {
   "cell_type": "code",
   "execution_count": 68,
   "id": "1bcc81b0",
   "metadata": {},
   "outputs": [
    {
     "data": {
      "image/png": "[encoded data removed]",
      "text/plain": [
       "<Figure size 640x480 with 1 Axes>"
      ]
     },
     "metadata": {},
     "output_type": "display_data"
    }
   ],
   "source": [
    "import matplotlib.pyplot as plt\n",
    "plt.hist(predicted_y)\n",
    "plt.show()"
   ]
  },
  {
   "cell_type": "code",
   "execution_count": 69,
   "id": "477f079f",
   "metadata": {},
   "outputs": [],
   "source": [
    "import numpy as np\n",
    "predicted_y_int = np.rint(predicted_y)"
   ]
  },
  {
   "cell_type": "code",
   "execution_count": 70,
   "id": "5aa99175",
   "metadata": {},
   "outputs": [
    {
     "data": {
      "image/png": "[encoded data removed]",
      "text/plain": [
       "<Figure size 640x480 with 1 Axes>"
      ]
     },
     "metadata": {},
     "output_type": "display_data"
    }
   ],
   "source": [
    "import matplotlib.pyplot as plt\n",
    "plt.hist(predicted_y_int)\n",
    "plt.show()"
   ]
  },
  {
   "cell_type": "code",
   "execution_count": 71,
   "id": "b78f42f4",
   "metadata": {},
   "outputs": [
    {
     "data": {
      "text/plain": [
       "array([0., 0., 0., ..., 1., 1., 1.], dtype=float32)"
      ]
     },
     "execution_count": 71,
     "metadata": {},
     "output_type": "execute_result"
    }
   ],
   "source": [
    "predicted_y_int"
   ]
  },
  {
   "cell_type": "code",
   "execution_count": 72,
   "id": "4ab883ea",
   "metadata": {},
   "outputs": [
    {
     "data": {
      "text/plain": [
       "[array(['MAYBE', 'NO', 'YES'], dtype=object)]"
      ]
     },
     "execution_count": 72,
     "metadata": {},
     "output_type": "execute_result"
    }
   ],
   "source": [
    "enc.categories_"
   ]
  },
  {
   "cell_type": "code",
   "execution_count": 73,
   "id": "ecc01699",
   "metadata": {},
   "outputs": [],
   "source": [
    "# sklearn encoder inverse_transform requires a 2D array\n",
    "predicted_y_int = enc.inverse_transform(predicted_y_int.reshape(-1, 1))"
   ]
  },
  {
   "cell_type": "code",
   "execution_count": 74,
   "id": "fa7b73b9",
   "metadata": {},
   "outputs": [],
   "source": [
    "# convert back from 2D array to 1D array so we can add column to Dataframe\n",
    "predicted_y_int = predicted_y_int.reshape(-1)"
   ]
  },
  {
   "cell_type": "code",
   "execution_count": 75,
   "id": "541e1445",
   "metadata": {},
   "outputs": [
    {
     "data": {
      "text/plain": [
       "array(['MAYBE', 'MAYBE', 'MAYBE', ..., 'NO', 'NO', 'NO'], dtype=object)"
      ]
     },
     "execution_count": 75,
     "metadata": {},
     "output_type": "execute_result"
    }
   ],
   "source": [
    "predicted_y_int"
   ]
  },
  {
   "cell_type": "code",
   "execution_count": 76,
   "id": "d8ce9dcd",
   "metadata": {},
   "outputs": [],
   "source": [
    "input_df['recommend'] = predicted_y_int"
   ]
  },
  {
   "cell_type": "code",
   "execution_count": 77,
   "id": "410e7a9d",
   "metadata": {},
   "outputs": [
    {
     "data": {
      "text/plain": [
       "recommend\n",
       "NO       437656\n",
       "YES        7968\n",
       "MAYBE      6817\n",
       "Name: count, dtype: int64"
      ]
     },
     "execution_count": 77,
     "metadata": {},
     "output_type": "execute_result"
    }
   ],
   "source": [
    "input_df['recommend'].value_counts()"
   ]
  },
  {
   "cell_type": "code",
   "execution_count": 79,
   "id": "d43b8425",
   "metadata": {},
   "outputs": [
    {
     "name": "stdout",
     "output_type": "stream",
     "text": [
      "0.01\n",
      "0.003\n"
     ]
    }
   ],
   "source": [
    "yes_fraction = round(80 / input_df['recommend'].value_counts()['YES'], 3)\n",
    "print(yes_fraction)\n",
    "\n",
    "maybe_fraction = round(20 / input_df['recommend'].value_counts()['MAYBE'], 3)\n",
    "print(maybe_fraction)"
   ]
  },
  {
   "cell_type": "code",
   "execution_count": 80,
   "id": "494a4676",
   "metadata": {},
   "outputs": [],
   "source": [
    "# if there are NaN, converting pandas to pyspark fails with error\n",
    "# can not merge type <class 'pyspark.sql.types.longtype'> and <class 'pyspark.sql.types.structtype'>\n",
    "# followship_rank 0 does not make sense so let's set it to a very large value\n",
    "# all other columns, set nan to 0\n",
    "input_df['followship_rank'] = input_df['followship_rank'].fillna(1e10)\n",
    "# can't fillna on categorical columns. so, get just the int columns\n",
    "int_cols = input_df.select_dtypes(include=np.number).columns.tolist()\n",
    "for col in int_cols:\n",
    "    input_df.fillna(0)"
   ]
  },
  {
   "cell_type": "code",
   "execution_count": 81,
   "id": "d093b810",
   "metadata": {},
   "outputs": [],
   "source": [
    "import pandas as pd\n",
    "output_df = pd.merge(input_df, input_ex_df, left_index=True, right_index=True)\n",
    "output_df = output_df.rename(columns={'entity_type_posts': 'post_id'})"
   ]
  },
  {
   "cell_type": "code",
   "execution_count": 82,
   "id": "8e5b1b46",
   "metadata": {},
   "outputs": [
    {
     "name": "stdout",
     "output_type": "stream",
     "text": [
      "<class 'pandas.core.frame.DataFrame'>\n",
      "RangeIndex: 452441 entries, 0 to 452440\n",
      "Data columns (total 25 columns):\n",
      " #   Column                           Non-Null Count   Dtype              \n",
      "---  ------                           --------------   -----              \n",
      " 0   region                           362 non-null     category           \n",
      " 1   collects                         452441 non-null  Int64              \n",
      " 2   followship_score                 449934 non-null  float64            \n",
      " 3   custom_filters_gardener_flagged  452441 non-null  category           \n",
      " 4   upvotes                          452441 non-null  Int64              \n",
      " 5   content_warning                  72 non-null      category           \n",
      " 6   mirrors                          452441 non-null  Int64              \n",
      " 7   is_original                      452441 non-null  category           \n",
      " 8   is_content_warning               452441 non-null  category           \n",
      " 9   age                              452441 non-null  Int64              \n",
      " 10  followship_rank                  452441 non-null  Int64              \n",
      " 11  downvotes                        452441 non-null  Int64              \n",
      " 12  main_content_focus               450923 non-null  category           \n",
      " 13  comments                         452441 non-null  Int64              \n",
      " 14  language                         424234 non-null  category           \n",
      " 15  max_age                          449934 non-null  Int64              \n",
      " 16  max_mirrors                      411035 non-null  Int64              \n",
      " 17  max_collects                     405252 non-null  Int64              \n",
      " 18  max_comments                     385650 non-null  Int64              \n",
      " 19  post_score                       357216 non-null  float64            \n",
      " 20  recommend                        452441 non-null  object             \n",
      " 21  timestamp                        452441 non-null  datetime64[ns, UTC]\n",
      " 22  post_id                          452441 non-null  object             \n",
      " 23  profile_id                       452441 non-null  object             \n",
      " 24  entity_type_profiles             452441 non-null  object             \n",
      "dtypes: Int64(11), category(7), datetime64[ns, UTC](1), float64(2), object(4)\n",
      "memory usage: 69.9+ MB\n"
     ]
    }
   ],
   "source": [
    "output_df.info()"
   ]
  },
  {
   "cell_type": "code",
   "execution_count": 83,
   "id": "c15af70a",
   "metadata": {},
   "outputs": [],
   "source": [
    "recommend_df = spark.createDataFrame(\n",
    "                    output_df[['post_id', 'recommend',\n",
    "                              'followship_rank', 'followship_score',\n",
    "                              'post_score']])"
   ]
  },
  {
   "cell_type": "code",
   "execution_count": 84,
   "id": "36b3e5ee",
   "metadata": {},
   "outputs": [
    {
     "name": "stderr",
     "output_type": "stream",
     "text": [
      "                                                                                \r"
     ]
    }
   ],
   "source": [
    "posts_df = spark.read.csv(\"/tmp/lens_bigquery_csvs/public_profile_post/\", \n",
    "                          header=True, \n",
    "                          escape=\"\\\"\",\n",
    "                          multiLine=True,\n",
    "                          inferSchema=True)"
   ]
  },
  {
   "cell_type": "code",
   "execution_count": 85,
   "id": "9865bbf0",
   "metadata": {},
   "outputs": [],
   "source": [
    "# rename post_id column to avoid name conflict after join\n",
    "recommend_df = recommend_df.withColumnRenamed('post_id', 'recommend_post_id')\n",
    "\n",
    "posts_recommend_df = posts_df.join(recommend_df, posts_df.post_id == recommend_df.recommend_post_id, \"leftouter\")"
   ]
  },
  {
   "cell_type": "code",
   "execution_count": 86,
   "id": "d8f2209d",
   "metadata": {},
   "outputs": [],
   "source": [
    "recommendations = posts_recommend_df \\\n",
    "            .sampleBy('recommend', {'YES': yes_fraction, 'MAYBE': maybe_fraction}, 0)"
   ]
  },
  {
   "cell_type": "code",
   "execution_count": 87,
   "id": "e2215232",
   "metadata": {},
   "outputs": [
    {
     "name": "stderr",
     "output_type": "stream",
     "text": [
      "23/05/22 10:09:11 WARN TaskSetManager: Stage 6 contains a task of very large size (4745 KiB). The maximum recommended task size is 1000 KiB.\n",
      "                                                                                \r"
     ]
    },
    {
     "data": {
      "text/plain": [
       "94"
      ]
     },
     "execution_count": 87,
     "metadata": {},
     "output_type": "execute_result"
    }
   ],
   "source": [
    "recommendations.count()"
   ]
  },
  {
   "cell_type": "code",
   "execution_count": 88,
   "id": "6df3a88a",
   "metadata": {},
   "outputs": [
    {
     "name": "stderr",
     "output_type": "stream",
     "text": [
      "23/05/22 10:09:25 WARN TaskSetManager: Stage 15 contains a task of very large size (4745 KiB). The maximum recommended task size is 1000 KiB.\n",
      "[Stage 21:>                                                         (0 + 3) / 3]\r"
     ]
    },
    {
     "name": "stdout",
     "output_type": "stream",
     "text": [
      "+---------------+--------+----------------------------------------------------------------------------------------------------------------------------------------------------------------------------------------------------------------------------------------------------------------------------------------------------------------------------------------------------------------------------------------------------------------------------------------------------------------------------------------------------------------------------------------------------------------------------------------------------------------------------------------------------------------------------------------------------------------------------------------------------------------------------------------------------------------------------------------------------------------------------------------------------------------------------------------------------------------------------------------------------------------------------------------------------------------------------------------------------------------------------------------------------------------------------------------------------------------------------------------------------------------------------------------------------------------------------------------------------------------------------------------------------------------------------------------------------------------------------------------------------------------------------------+---------+---------------+---------------------+-------------------------------+------------------+\n",
      "|post_id        |language|content                                                                                                                                                                                                                                                                                                                                                                                                                                                                                                                                                                                                                                                                                                                                                                                                                                                                                                                                                                                                                                                                                                                                                                                                                                                                                                                                                                                                                                                                                                                           |recommend|followship_rank|post_score           |custom_filters_gardener_flagged|main_content_focus|\n",
      "+---------------+--------+----------------------------------------------------------------------------------------------------------------------------------------------------------------------------------------------------------------------------------------------------------------------------------------------------------------------------------------------------------------------------------------------------------------------------------------------------------------------------------------------------------------------------------------------------------------------------------------------------------------------------------------------------------------------------------------------------------------------------------------------------------------------------------------------------------------------------------------------------------------------------------------------------------------------------------------------------------------------------------------------------------------------------------------------------------------------------------------------------------------------------------------------------------------------------------------------------------------------------------------------------------------------------------------------------------------------------------------------------------------------------------------------------------------------------------------------------------------------------------------------------------------------------------+---------+---------------+---------------------+-------------------------------+------------------+\n",
      "|0x0114b5-0x09  |zh      | I think what you're doing is great                                                                                                                                                                                                                                                                                                                                                                                                                                                                                                                                                                                                                                                                                                                                                                                                                                                                                                                                                                                                                                                                                                                                                                                                                                                                                                                                                                                                                                                                                               |MAYBE    |10000000000    |NaN                  |false                          |TEXT_ONLY         |\n",
      "|0x011510-0x10  |zh      |Good luck                                                                                                                                                                                                                                                                                                                                                                                                                                                                                                                                                                                                                                                                                                                                                                                                                                                                                                                                                                                                                                                                                                                                                                                                                                                                                                                                                                                                                                                                                                                         |MAYBE    |10000000000    |NaN                  |false                          |TEXT_ONLY         |\n",
      "|0x0118c4-0x29  |en      |Sanshipan, also known as Sanpan and Kuinrenpan, is a bronze vessel cast in a block model during the reign of King Li of the Western Zhou Dynasty. There are 357 characters of gold inscriptions cast in its belly. It is the earliest land contract in China. [1][2] The style is also the first to develop cursive seal script, and it occupies an important position in the stele study system. It is one of the \"Four National Treasures\" [Note 1] in the late Qing Dynasty. It is now collected in the National Palace Museum in Taipei.                                                                                                                                                                                                                                                                                                                                                                                                                                                                                                                                                                                                                                                                                                                                                                                                                                                                                                                                                                                      |YES      |46336          |2.6470588235294117   |false                          |IMAGE             |\n",
      "|0x011900-0x01  |en      |henlo lensworld                                                                                                                                                                                                                                                                                                                                                                                                                                                                                                                                                                                                                                                                                                                                                                                                                                                                                                                                                                                                                                                                                                                                                                                                                                                                                                                                                                                                                                                                                                                   |MAYBE    |10000000000    |NaN                  |false                          |TEXT_ONLY         |\n",
      "|0x011a95-0x28  |zh      | I'm happy for you                                                                                                                                                                                                                                                                                                                                                                                                                                                                                                                                                                                                                                                                                                                                                                                                                                                                                                                                                                                                                                                                                                                                                                                                                                                                                                                                                                                                                                                                                                                |MAYBE    |10000000000    |NaN                  |false                          |TEXT_ONLY         |\n",
      "|0x011ac1-0x7e  |null    |😗                                                                                                                                                                                                                                                                                                                                                                                                                                                                                                                                                                                                                                                                                                                                                                                                                                                                                                                                                                                                                                                                                                                                                                                                                                                                                                                                                                                                                                                                                                                                |YES      |8823           |-0.16987090579323594 |false                          |IMAGE             |\n",
      "|0x011b27-0xc3  |null    |GN                                                                                                                                                                                                                                                                                                                                                                                                                                                                                                                                                                                                                                                                                                                                                                                                                                                                                                                                                                                                                                                                                                                                                                                                                                                                                                                                                                                                                                                                                                                                |YES      |10156          |-0.27256637168141584 |false                          |IMAGE             |\n",
      "|0x011b8b-0x24  |en      |The market this last week.\\n\\nEnd or bear market? or is it just a short break for the next dump?\\n\\nLeave your opinion 👇👇 \\n\\n#Market #Crypto #Lens #Notice                                                                                                                                                                                                                                                                                                                                                                                                                                                                                                                                                                                                                                                                                                                                                                                                                                                                                                                                                                                                                                                                                                                                                                                                                                                                                                                                                                     |YES      |13874          |-0.11607142857142883 |false                          |IMAGE             |\n",
      "|0x011c20-0x4d  |en      |The long-awaited #OpenEx Membership Campaign Mission 2 is now live on \\n\\nComplete the following task to claim this #NFT on #BNB #yasai #Galxe\\n\\n- Refer a friend to join #OpenEx \\n(my code👉) https://discord.gg/nYWb6ksa2W\\n- Follow👉 https://twitter.com/OpenEx_HQ on Twitter \\n- Retweet and tag pinned post\\n\\nClaim now today👇\\n\\n[OpenEx Member Campaign - Ophira Page02: Calling for a friend by OpenEx](https://galxe.com/)\\nJoin  OpenEx Member Campaign - Ophira Page02: Calling for a friend campaigns created by OpenEx on Galxe. Ophira Page 2 is the continuation of [Ophira Page                                                                                                                                                                                                                                                                                                                                                                                                                                                                                                                                                                                                                                                                                                                                                                                                                                                                                                                              |YES      |33926          |0.08980055541529919  |false                          |IMAGE             |\n",
      "|0x011e27-0x1e  |en      |null                                                                                                                                                                                                                                                                                                                                                                                                                                                                                                                                                                                                                                                                                                                                                                                                                                                                                                                                                                                                                                                                                                                                                                                                                                                                                                                                                                                                                                                                                                                              |YES      |8781           |-0.004608294930875445|false                          |IMAGE             |\n",
      "|0x011f55-0x0c49|en      |null                                                                                                                                                                                                                                                                                                                                                                                                                                                                                                                                                                                                                                                                                                                                                                                                                                                                                                                                                                                                                                                                                                                                                                                                                                                                                                                                                                                                                                                                                                                              |MAYBE    |8              |-1.9827586206896552  |false                          |IMAGE             |\n",
      "|0x011f55-0x0c60|en      |null                                                                                                                                                                                                                                                                                                                                                                                                                                                                                                                                                                                                                                                                                                                                                                                                                                                                                                                                                                                                                                                                                                                                                                                                                                                                                                                                                                                                                                                                                                                              |MAYBE    |8              |-1.9827586206896552  |false                          |TEXT_ONLY         |\n",
      "|0x011f55-0x0f9b|en      |null                                                                                                                                                                                                                                                                                                                                                                                                                                                                                                                                                                                                                                                                                                                                                                                                                                                                                                                                                                                                                                                                                                                                                                                                                                                                                                                                                                                                                                                                                                                              |MAYBE    |8              |-1.0560344827586208  |false                          |TEXT_ONLY         |\n",
      "|0x011f55-0x1081|en      |16 hour braised beef stuffed Ravioli topped with freshly grated Parmesan cheese and glass of Malbec. This was the best Ravioli Ive ever had although i dont order it very often.                                                                                                                                                                                                                                                                                                                                                                                                                                                                                                                                                                                                                                                                                                                                                                                                                                                                                                                                                                                                                                                                                                                                                                                                                                                                                                                                                  |YES      |8              |-0.437783299531978   |false                          |IMAGE             |\n",
      "|0x012196-0x2167|en      |wen _LENS\\nits airdrop szn \\nLike \\nfollow \\nmirror\\n#LMCC                                                                                                                                                                                                                                                                                                                                                                                                                                                                                                                                                                                                                                                                                                                                                                                                                                                                                                                                                                                                                                                                                                                                                                                                                                                                                                                                                                                                                                                                        |YES      |1271           |-0.6082442933462846  |false                          |IMAGE             |\n",
      "|0x0121e1-0x03f4|en      |null                                                                                                                                                                                                                                                                                                                                                                                                                                                                                                                                                                                                                                                                                                                                                                                                                                                                                                                                                                                                                                                                                                                                                                                                                                                                                                                                                                                                                                                                                                                              |YES      |15571          |-1.0023942537909019  |false                          |IMAGE             |\n",
      "|0x012341-0x0890|en      |Do you know whats this name ?                                                                                                                                                                                                                                                                                                                                                                                                                                                                                                                                                                                                                                                                                                                                                                                                                                                                                                                                                                                                                                                                                                                                                                                                                                                                                                                                                                                                                                                                                                     |YES      |7671           |-0.717391304347826   |false                          |IMAGE             |\n",
      "|0x012341-0x08db|en      |Great place for study                                                                                                                                                                                                                                                                                                                                                                                                                                                                                                                                                                                                                                                                                                                                                                                                                                                                                                                                                                                                                                                                                                                                                                                                                                                                                                                                                                                                                                                                                                             |YES      |7671           |-0.6304347826086957  |false                          |IMAGE             |\n",
      "|0x0123c0-0xac  |null    |woman,Life,Freedom 💙✌\\n\\n📷: sarvar Farhadi                                                                                                                                                                                                                                                                                                                                                                                                                                                                                                                                                                                                                                                                                                                                                                                                                                                                                                                                                                                                                                                                                                                                                                                                                                                                                                                                                                                                                                                                                      |YES      |15333          |0.8345334685598378   |false                          |IMAGE             |\n",
      "|0x0123c0-0xfd  |nl      |Persian deer and zebra\\n\\n📷: Farzad Vanaki                                                                                                                                                                                                                                                                                                                                                                                                                                                                                                                                                                                                                                                                                                                                                                                                                                                                                                                                                                                                                                                                                                                                                                                                                                                                                                                                                                                                                                                                                       |YES      |15333          |-0.691260987153482   |false                          |IMAGE             |\n",
      "|0x0124b4-0x0356|en      |null                                                                                                                                                                                                                                                                                                                                                                                                                                                                                                                                                                                                                                                                                                                                                                                                                                                                                                                                                                                                                                                                                                                                                                                                                                                                                                                                                                                                                                                                                                                              |YES      |4074           |0.05680573114201415  |false                          |IMAGE             |\n",
      "|0x012654-0x21  |en      |♨️ OMNIA Protocol partners with Google 🔥\\n\\n🔁Tweet:\\nhttps://twitter.com/omnia_protocol/status/1638539233576009730                                                                                                                                                                                                                                                                                                                                                                                                                                                                                                                                                                                                                                                                                                                                                                                                                                                                                                                                                                                                                                                                                                                                                                                                                                                                                                                                                                                                              |YES      |23837          |1.4594594594594594   |false                          |IMAGE             |\n",
      "|0x0126bd-0x04  |fr      |GM all!                                                                                                                                                                                                                                                                                                                                                                                                                                                                                                                                                                                                                                                                                                                                                                                                                                                                                                                                                                                                                                                                                                                                                                                                                                                                                                                                                                                                                                                                                                                           |MAYBE    |1006           |-4.934210526315789   |false                          |TEXT_ONLY         |\n",
      "|0x012751-0xbd  |nl      |meat box                                                                                                                                                                                                                                                                                                                                                                                                                                                                                                                                                                                                                                                                                                                                                                                                                                                                                                                                                                                                                                                                                                                                                                                                                                                                                                                                                                                                                                                                                                                          |YES      |17546          |2.4659003831417623   |false                          |IMAGE             |\n",
      "|0x0127ad-0x0119|ko      |Duck steak! Yum!                                                                                                                                                                                                                                                                                                                                                                                                                                                                                                                                                                                                                                                                                                                                                                                                                                                                                                                                                                                                                                                                                                                                                                                                                                                                                                                                                                                                                                                                                                                  |YES      |26690          |0.3206709956709958   |false                          |IMAGE             |\n",
      "|0x01295a-0x1d  |en      |null                                                                                                                                                                                                                                                                                                                                                                                                                                                                                                                                                                                                                                                                                                                                                                                                                                                                                                                                                                                                                                                                                                                                                                                                                                                                                                                                                                                                                                                                                                                              |YES      |17409          |0.6243093922651934   |false                          |IMAGE             |\n",
      "|0x0113be-0xc6  |zh      |web3---                                                                                                                                                                                                                                                                                                                                                                                                                                                                                                                                                                                                                                                                                                                                                                                                                                                                                                                                                                                                                                                                                                                                                                                                                                                                                                                                                                                                                                                                                                                           |YES      |18057          |-0.2428127428127429  |false                          |IMAGE             |\n",
      "|0x0113be-0xf2  |zh      |SID1U                                                                                                                                                                                                                                                                                                                                                                                                                                                                                                                                                                                                                                                                                                                                                                                                                                                                                                                                                                                                                                                                                                                                                                                                                                                                                                                                                                                                                                                                                                                             |YES      |18057          |-0.7073482073482074  |false                          |IMAGE             |\n",
      "|0x0113db-0x02ca|en      |Mining platform\\n\\n[WOW EARN Introduces Free Mining Platform That Anyone Can Use](http://coinmarketcal.com/en/news/wow-earn-introduces-free-mining-platform-that-anyone-can-use)\\nWOW EARN Introduces Free Mining Platform That Anyone Can Use - New York, United State, April 11th, 2023, ChainwireWOW EARN has unveiled its up-and-coming mining platform that offers a new way to earn passive income. This is...                                                                                                                                                                                                                                                                                                                                                                                                                                                                                                                                                                                                                                                                                                                                                                                                                                                                                                                                                                                                                                                                                                              |YES      |4274           |-0.5947488584474886  |false                          |IMAGE             |\n",
      "|0x011425-0x01fe|en      |Just Playing around 🙈\\n\\n[Lo × DALL·E | Small kitty flying in space with 3D colorful effect](https://labs.openai.com/s/EvJ4Zg1zOUGqEy4QHX7rNSwf)\\nCreated with DALL·E, an AI system by OpenAI                                                                                                                                                                                                                                                                                                                                                                                                                                                                                                                                                                                                                                                                                                                                                                                                                                                                                                                                                                                                                                                                                                                                                                                                                                                                                                                                    |YES      |14443          |-0.5373931623931624  |false                          |IMAGE             |\n",
      "|0x0114a9-0xb0  |it      |🐘🐘🐘\\n\\n[No Context İnsanlar on Twitter](https://twitter.com/insanocontext/status/1646060626131791873)\\n“https://t.co/E6ljTcgJSW”                                                                                                                                                                                                                                                                                                                                                                                                                                                                                                                                                                                                                                                                                                                                                                                                                                                                                                                                                                                                                                                                                                                                                                                                                                                                                                                                                                                               |YES      |22519          |-0.8333333333333334  |false                          |IMAGE             |\n",
      "|0x0114b7-0x09  |zh      |null                                                                                                                                                                                                                                                                                                                                                                                                                                                                                                                                                                                                                                                                                                                                                                                                                                                                                                                                                                                                                                                                                                                                                                                                                                                                                                                                                                                                                                                                                                                              |MAYBE    |10000000000    |NaN                  |false                          |IMAGE             |\n",
      "|0x01154f-0xa4  |en      |null                                                                                                                                                                                                                                                                                                                                                                                                                                                                                                                                                                                                                                                                                                                                                                                                                                                                                                                                                                                                                                                                                                                                                                                                                                                                                                                                                                                                                                                                                                                              |MAYBE    |10000000000    |NaN                  |false                          |IMAGE             |\n",
      "|0x011645-0xa5  |en      |null                                                                                                                                                                                                                                                                                                                                                                                                                                                                                                                                                                                                                                                                                                                                                                                                                                                                                                                                                                                                                                                                                                                                                                                                                                                                                                                                                                                                                                                                                                                              |MAYBE    |796            |-4.545454545454546   |false                          |TEXT_ONLY         |\n",
      "|0x0117a3-0x15  |en      |Infinity Keys is in Miami this week!\\n\\nGamified hunts are the way we navigate immersive digital experiences. We're excited to showcase how we make this happen w artist/creator-made content. \\n\\nWatch for gamified IK experiences featuring Probably0, Renga, & Metaverse Miami!                                                                                                                                                                                                                                                                                                                                                                                                                                                                                                                                                                                                                                                                                                                                                                                                                                                                                                                                                                                                                                                                                                                                                                                                                                               |MAYBE    |467            |-3.6416780608733763  |false                          |IMAGE             |\n",
      "|0x011990-0xb5  |pt      |null                                                                                                                                                                                                                                                                                                                                                                                                                                                                                                                                                                                                                                                                                                                                                                                                                                                                                                                                                                                                                                                                                                                                                                                                                                                                                                                                                                                                                                                                                                                              |MAYBE    |218            |-4.120171673819742   |false                          |TEXT_ONLY         |\n",
      "|0x0120be-0x19  |pt      |ice espresso is my love 😍                                                                                                                                                                                                                                                                                                                                                                                                                                                                                                                                                                                                                                                                                                                                                                                                                                                                                                                                                                                                                                                                                                                                                                                                                                                                                                                                                                                                                                                                                                        |YES      |26017          |-0.9907407407407407  |false                          |IMAGE             |\n",
      "|0x012149-0xb9  |ru      |Free NFT Genesis PFP \\n\\n\\n\\nFree NFT       NFT.     . \\n\\n         . ,   ,     . \\n\\n\\n\\nCEO   https://twitter.com/igorlenterman/status/1625308258700492801?s=20&t=gXVhGm_H3asaeiy5LPR8iQ   Genesis   Free NFT.       PFP . \\n\\n\\n\\n  ? \\n\\n1)    (https://www.freenft.xyz/whitelist/freenft).\\n\\n2)   . \\n\\n3)   Igor Lenterman https://twitter.com/igorlenterman  Gabriel Leydon https://twitter.com/gabrielleydon\\n\\n\\n\\n    .                                                                                                                                                                                                                                                                                                                                                                                                                                                                                                                                                                                                                                                                                                                                                                                                                                                                                                                                                                                                                                                                                                |YES      |8597           |-0.8682266009852218  |false                          |IMAGE             |\n",
      "|0x01214b-0x45  |vi      |null                                                                                                                                                                                                                                                                                                                                                                                                                                                                                                                                                                                                                                                                                                                                                                                                                                                                                                                                                                                                                                                                                                                                                                                                                                                                                                                                                                                                                                                                                                                              |YES      |27761          |0.09482758620689657  |false                          |IMAGE             |\n",
      "|0x012315-0xe9  |en      |#BTC \\n1 _BTC for _1 million: is it a programmed option?..\\n\\n@bitcoins                                                                                                                                                                                                                                                                                                                                                                                                                                                                                                                                                                                                                                                                                                                                                                                                                                                                                                                                                                                                                                                                                                                                                                                                                                                                                                                                                                                                                                                           |YES      |9693           |-0.46743295019157094 |false                          |IMAGE             |\n",
      "|0x012341-0x0881|en      |Norway                                                                                                                                                                                                                                                                                                                                                                                                                                                                                                                                                                                                                                                                                                                                                                                                                                                                                                                                                                                                                                                                                                                                                                                                                                                                                                                                                                                                                                                                                                                            |YES      |7671           |-0.717391304347826   |false                          |IMAGE             |\n",
      "|0x0123c0-0x0118|so      |darzo,Bushehr,Iran\\n\\n📷: Hasan Dehesh                                                                                                                                                                                                                                                                                                                                                                                                                                                                                                                                                                                                                                                                                                                                                                                                                                                                                                                                                                                                                                                                                                                                                                                                                                                                                                                                                                                                                                                                                            |YES      |15333          |-0.7717207572684247  |false                          |IMAGE             |\n",
      "|0x01264f-0x066c|en      |🔹 Kepler Update\\n\\n🔺Who were eligible for Arbitrum airdrop but when you connect with Kepler and it shows that you are not eligible & was unable to claim AirdropBox, \\n\\n🟢Follow the given steps in announcement: https://discord.gg/SqnRGUMTBE\\n\\n✔️You have to open a ticket then you can submit address in that given room\\n🔴 If you open ticket without any reason, admin can ban you                                                                                                                                                                                                                                                                                                                                                                                                                                                                                                                                                                                                                                                                                                                                                                                                                                                                                                                                                                                                                                                                                                                                     |YES      |11999          |-0.9813084112149533  |false                          |IMAGE             |\n",
      "|0x0126cd-0x0210|en      |Try. Try.. Try...                                                                                                                                                                                                                                                                                                                                                                                                                                                                                                                                                                                                                                                                                                                                                                                                                                                                                                                                                                                                                                                                                                                                                                                                                                                                                                                                                                                                                                                                                                                 |YES      |6398           |-0.9068493150684932  |false                          |IMAGE             |\n",
      "|0x012795-0x013a|en      |When I first joined phaver app, I had a little idea of web 3 and its perks. However, I love the decentralization and freedom that phaver gives hence I made some frens and applied for a free badge, I didn't get it the first time but I'm hopeful I'll get it this time around. That being a reward for being early on the social graph. \\nGg                                                                                                                                                                                                                                                                                                                                                                                                                                                                                                                                                                                                                                                                                                                                                                                                                                                                                                                                                                                                                                                                                                                                                                                   |YES      |4958           |0.4555555555555555   |false                          |IMAGE             |\n",
      "|0x012812-0x0340|en      |In the first place, God made idiots. That was for practice. Then he made school boards.\\n\\nMark Twain                                                                                                                                                                                                                                                                                                                                                                                                                                                                                                                                                                                                                                                                                                                                                                                                                                                                                                                                                                                                                                                                                                                                                                                                                                                                                                                                                                                                                             |YES      |634            |-0.45                |false                          |TEXT_ONLY         |\n",
      "|0x012812-0xaf  |en      |Confession 015 : Do share your thoughts in comments 😇                                                                                                                                                                                                                                                                                                                                                                                                                                                                                                                                                                                                                                                                                                                                                                                                                                                                                                                                                                                                                                                                                                                                                                                                                                                                                                                                                                                                                                                                            |MAYBE    |634            |-2.575               |false                          |IMAGE             |\n",
      "|0x01288e-0x01bd|null    |Lion ?\\nOr\\nGirl?                                                                                                                                                                                                                                                                                                                                                                                                                                                                                                                                                                                                                                                                                                                                                                                                                                                                                                                                                                                                                                                                                                                                                                                                                                                                                                                                                                                                                                                                                                                 |YES      |25238          |-0.2813901345291481  |false                          |IMAGE             |\n",
      "|0x0113f3-0x0794|vi      |Photography                                                                                                                                                                                                                                                                                                                                                                                                                                                                                                                                                                                                                                                                                                                                                                                                                                                                                                                                                                                                                                                                                                                                                                                                                                                                                                                                                                                                                                                                                                                       |YES      |5811           |-0.5993091537132988  |false                          |IMAGE             |\n",
      "|0x0115ca-0x0257|en      |Korea Blockchain Week #KBW2022 (ft. #polygon #solana #nouns)\\n\\nHi frens, I was in #Korea for a month, coincidentally in time for Korea Blockchain Week.\\n\\nIf you like this mini-vlog and are interested in seeing more of my time in Korea (#Food! Hanboks! Palace! Busan & more!) or KBW, please #LMCC so I can make more exclusive #lens content like this!\\n\\n10 collects.\\n50% ref fee.\\n0.333 WMATIC                                                                                                                                                                                                                                                                                                                                                                                                                                                                                                                                                                                                                                                                                                                                                                                                                                                                                                                                                                                                                                                                                                                       |MAYBE    |138            |-3.4524050206963537  |false                          |VIDEO             |\n",
      "|0x0118ab-0x035c|en      |After breaking the 10-week EMA, the price of #Bitcoin    usually undergoes two retests. In this particular cycle, we are still awaiting the final retest before the price skyrockets to 190K. \\nUnfortunately, followers of the halving theory may face some challenging months ahead. 🥳🚀                                                                                                                                                                                                                                                                                                                                                                                                                                                                                                                                                                                                                                                                                                                                                                                                                                                                                                                                                                                                                                                                                                                                                                                                                                       |YES      |11980          |-0.9358288770053476  |false                          |IMAGE             |\n",
      "|0x011a44-0x028e|en      |Your interests and passions\\nare not random.\\nThey are connected\\nto your purpose.                                                                                                                                                                                                                                                                                                                                                                                                                                                                                                                                                                                                                                                                                                                                                                                                                                                                                                                                                                                                                                                                                                                                                                                                                                                                                                                                                                                                                                                |YES      |7904           |-1.0360360360360361  |false                          |IMAGE             |\n",
      "|0x011b0e-0x16  |tr      |#NFT                                                                                                                                                                                                                                                                                                                                                                                                                                                                                                                                                                                                                                                                                                                                                                                                                                                                                                                                                                                                                                                                                                                                                                                                                                                                                                                                                                                                                                                                                                                              |YES      |48183          |3.028169014084507    |false                          |IMAGE             |\n",
      "|0x011b4c-0xad  |ko      |zkSync  1 - zkSync Lite  \\n\\nhttps://sh-safer.tistory.com/349                                                                                                                                                                                                                                                                                                                                                                                                                                                                                                                                                                                                                                                                                                                                                                                                                                                                                                                                                                                                                                                                                                                                                                                                                                                                                                                                                                                                                                                                     |YES      |19683          |1.1597938144329898   |false                          |IMAGE             |\n",
      "|0x011ba5-0x81  |en      |The future belongs to those who believe in the beauty of their dreams.                                                                                                                                                                                                                                                                                                                                                                                                                                                                                                                                                                                                                                                                                                                                                                                                                                                                                                                                                                                                                                                                                                                                                                                                                                                                                                                                                                                                                                                            |YES      |37776          |-0.9656652360515021  |false                          |IMAGE             |\n",
      "|0x011c40-0x0a80|en      |#zkSync ecosystem has truly taken off in 2023 when launching mainnet with over 300 projects across Web 3 stack and a dedicated community of builders & supporters around the world.We can't wait to see what the future holds for 2023 and beyond! #Era #landscape #ETH #Layer2                                                                                                                                                                                                                                                                                                                                                                                                                                                                                                                                                                                                                                                                                                                                                                                                                                                                                                                                                                                                                                                                                                                                                                                                                                                   |YES      |3480           |-0.6556521739130434  |false                          |IMAGE             |\n",
      "|0x011c8e-0x0292|pt      |Trader journey                                                                                                                                                                                                                                                                                                                                                                                                                                                                                                                                                                                                                                                                                                                                                                                                                                                                                                                                                                                                                                                                                                                                                                                                                                                                                                                                                                                                                                                                                                                    |YES      |47113          |-0.8585972850678734  |false                          |IMAGE             |\n",
      "|0x011f55-0x084e|en      |VOTE, CURATE AND DISCOVER TOP NFTs IN RARA!\\n\\nVOTE, CURATE AND DISCOVER TOP NFTs IN RARA!\\nThe app @rara_social.lens  created by @lwsnbaker.lens  allows you to vote on the top NFTs of 2022 and also curate and discover new NFTs you didn't know about! In this tutorial I walk you through how to vote and how to recommend an NFT take home the coveted prize of a Top 2022 NFT. Watch the LIVE tutorial below and see how I recommended @alarke.lens  \"Future Self\" music NFT and voted for creators like  @dragaan.lens  ,  @eastie.lens  ,  @memester.lens  and Claire Silver. #nfts #rara #awards #lens #lenstube #tutorial #howto \\n-------\\nIf you liked this content, please consider giving a like, mirror (retweet) and follow this channel at @chriscomrie.lens :) #LMCC\\n\\nConsider subscribing to a new newsletter about Top News, Alpha and Highlights from this week in Web3 Social here: https://forms.gle/2DhjikvMBp6LBZci7\\n\\nLooking for investment? Fill out this form: https://forms.gle/YXmhXGpM51uAd6gq8\\n\\nYou can also find me on twitter at @ christafarious \\n\\nJoin Phaver app with my code to access Lens on mobile: https://phaver.app.link/chriscomrie\\n\\nIf you like this video you might also like other popular ones like:\\n\\nULTIMATE BEGINNERS GUIDE LENS PROTOCOL https://lenstube.xyz/watch/0x011f55-0x05d7\\n\\nNEW TREND FOR CREATORS TO  MONETIZE COMMUNITY https://lenstube.xyz/watch/0x011f55-0x0752\\n\\nMUSEUM OF LENS - MOLENS- EXPLAINED https://lenstube.xyz/watch/0x011f55-0x04f5|MAYBE    |8              |-2.661906918532542   |false                          |VIDEO             |\n",
      "|0x011f55-0x1038|en      |null                                                                                                                                                                                                                                                                                                                                                                                                                                                                                                                                                                                                                                                                                                                                                                                                                                                                                                                                                                                                                                                                                                                                                                                                                                                                                                                                                                                                                                                                                                                              |YES      |8              |-0.6681034482758621  |false                          |TEXT_ONLY         |\n",
      "|0x011fe0-0x97  |en      |Elon Musk has asked a U.S. judge to dismiss a _258 billion lawsuit alleging that he operated a pyramid scheme to promote the meme cryptocurrency dogecoin, with his lawyers arguing that his tweets of support for the cryptocurrency were too ambiguous to support a fraud allegation.                                                                                                                                                                                                                                                                                                                                                                                                                                                                                                                                                                                                                                                                                                                                                                                                                                                                                                                                                                                                                                                                                                                                                                                                                                           |YES      |14406          |-1.0043668122270741  |false                          |IMAGE             |\n",
      "|0x012149-0x01b8|ru      |**https://twitter.com/MetaMask/status/1640763000947703833**                                                                                                                                                                                                                                                                                                                                                                                                                                                                                                                                                                                                                                                                                                                                                                                                                                                                                                                                                                                                                                                                                                                                                                                                                                                                                                                                                                                                                                                                       |YES      |8597           |-0.31342364532019695 |false                          |IMAGE             |\n",
      "|0x012189-0x0175|en      |Quest Laer3 without cost\\n\\nhttps://layer3.xyz/quests/mint-to-subscribe-with-layer3\\n\\n[Celebrate Q1 with Layer3 - Layer3](https://layer3.xyz/quests/mint-to-subscribe-with-layer3)\\nWe're a quarter through 2023! Celebrate our first few months and take a look at what we've accomplished in this Quest.                                                                                                                                                                                                                                                                                                                                                                                                                                                                                                                                                                                                                                                                                                                                                                                                                                                                                                                                                                                                                                                                                                                                                                                                                       |YES      |4571           |-0.8804713804713805  |false                          |IMAGE             |\n",
      "|0x0121de-0x02db|en      |null                                                                                                                                                                                                                                                                                                                                                                                                                                                                                                                                                                                                                                                                                                                                                                                                                                                                                                                                                                                                                                                                                                                                                                                                                                                                                                                                                                                                                                                                                                                              |YES      |17683          |-0.3655172413793102  |false                          |IMAGE             |\n",
      "|0x0121de-0x0324|en      |Nft                                                                                                                                                                                                                                                                                                                                                                                                                                                                                                                                                                                                                                                                                                                                                                                                                                                                                                                                                                                                                                                                                                                                                                                                                                                                                                                                                                                                                                                                                                                               |YES      |17683          |-0.5048850574712644  |false                          |IMAGE             |\n",
      "|0x01234f-0x0100|en      |@phaver 🌿                                                                                                                                                                                                                                                                                                                                                                                                                                                                                                                                                                                                                                                                                                                                                                                                                                                                                                                                                                                                                                                                                                                                                                                                                                                                                                                                                                                                                                                                                                                        |YES      |5509           |-0.48946360153256707 |false                          |IMAGE             |\n",
      "|0x01237a-0x04  |tr      |Is the crypto season on bull run right no?                                                                                                                                                                                                                                                                                                                                                                                                                                                                                                                                                                                                                                                                                                                                                                                                                                                                                                                                                                                                                                                                                                                                                                                                                                                                                                                                                                                                                                                                                        |MAYBE    |10000000000    |NaN                  |false                          |TEXT_ONLY         |\n",
      "|0x0124bc-0xac  |en      |#mining #HEX 👑\\n\\n#cryptocurrency #crypto #blockchain #btc    #ethereum #hodl #bitcoinmining #altcoin #altcoins #investing #bitcoinnews #cryptonews #defi #trading #cryptotrading #stocks #investment #forex #finance #cryptomemes #wealth #money #btcmining #cryptomining.                                                                                                                                                                                                                                                                                                                                                                                                                                                                                                                                                                                                                                                                                                                                                                                                                                                                                                                                                                                                                                                                                                                                                                                                                                                      |YES      |12114          |0.5808080808080809   |false                          |IMAGE             |\n",
      "|0x0124be-0x02  |en      |I'mma using https://lenster.xyz/                                                                                                                                                                                                                                                                                                                                                                                                                                                                                                                                                                                                                                                                                                                                                                                                                                                                                                                                                                                                                                                                                                                                                                                                                                                                                                                                                                                                                                                                                                  |MAYBE    |10000000000    |NaN                  |false                          |TEXT_ONLY         |\n",
      "|0x012611-0x07  |en      |null                                                                                                                                                                                                                                                                                                                                                                                                                                                                                                                                                                                                                                                                                                                                                                                                                                                                                                                                                                                                                                                                                                                                                                                                                                                                                                                                                                                                                                                                                                                              |YES      |26085          |-0.7368421052631575  |false                          |IMAGE             |\n",
      "|0x012620-0x017a|da      |retired                                                                                                                                                                                                                                                                                                                                                                                                                                                                                                                                                                                                                                                                                                                                                                                                                                                                                                                                                                                                                                                                                                                                                                                                                                                                                                                                                                                                                                                                                                                           |YES      |20717          |0.3574074074074074   |false                          |IMAGE             |\n",
      "|0x01268d-0x015e|null    |💮🍥                                                                                                                                                                                                                                                                                                                                                                                                                                                                                                                                                                                                                                                                                                                                                                                                                                                                                                                                                                                                                                                                                                                                                                                                                                                                                                                                                                                                                                                                                                                              |YES      |8853           |0.7137147335423197   |false                          |IMAGE             |\n",
      "|0x012741-0xbb  |sw      |🫶🏼😽Pikachu😻🫶🏼                                                                                                                                                                                                                                                                                                                                                                                                                                                                                                                                                                                                                                                                                                                                                                                                                                                                                                                                                                                                                                                                                                                                                                                                                                                                                                                                                                                                                                                                                                               |YES      |11988          |-0.6334841628959276  |false                          |IMAGE             |\n",
      "|0x012817-0x8e  |it      |Football Concept :)\\n\\nBy Stable Diffusion                                                                                                                                                                                                                                                                                                                                                                                                                                                                                                                                                                                                                                                                                                                                                                                                                                                                                                                                                                                                                                                                                                                                                                                                                                                                                                                                                                                                                                                                                        |YES      |15610          |-0.5606060606060606  |false                          |IMAGE             |\n",
      "|0x012836-0x02b0|fr      |Cute Veggie\\n\\nEat your Veggies lads 😁                                                                                                                                                                                                                                                                                                                                                                                                                                                                                                                                                                                                                                                                                                                                                                                                                                                                                                                                                                                                                                                                                                                                                                                                                                                                                                                                                                                                                                                                                           |YES      |9504           |-0.6439393939393939  |false                          |IMAGE             |\n",
      "|0x0128b8-0x30  |ru      |Gm fam \\nWhats new?                                                                                                                                                                                                                                                                                                                                                                                                                                                                                                                                                                                                                                                                                                                                                                                                                                                                                                                                                                                                                                                                                                                                                                                                                                                                                                                                                                                                                                                                                                               |YES      |11524          |0.9635697635697635   |false                          |IMAGE             |\n",
      "|0x01294b-0x84  |en      |null                                                                                                                                                                                                                                                                                                                                                                                                                                                                                                                                                                                                                                                                                                                                                                                                                                                                                                                                                                                                                                                                                                                                                                                                                                                                                                                                                                                                                                                                                                                              |YES      |13901          |0.24311926605504586  |false                          |IMAGE             |\n",
      "|0x0129b9-0xbb  |en      |kfte ve kabab time Naser restaurant #food#day#lens                                                                                                                                                                                                                                                                                                                                                                                                                                                                                                                                                                                                                                                                                                                                                                                                                                                                                                                                                                                                                                                                                                                                                                                                                                                                                                                                                                                                                                                                                |YES      |11577          |3.513452914798206    |false                          |IMAGE             |\n",
      "|0x01144c-0x01cb|sv      |#444BakiFandom                                                                                                                                                                                                                                                                                                                                                                                                                                                                                                                                                                                                                                                                                                                                                                                                                                                                                                                                                                                                                                                                                                                                                                                                                                                                                                                                                                                                                                                                                                                    |YES      |19832          |-0.8547008547008547  |false                          |IMAGE             |\n",
      "|0x011c20-0x87  |en      |好きな画像を貼るだけで jackbutcher氏の checks vv っぽい画像を生成してくれるツール\\n#nft\\n\\nhttps://www.checkify.art/\\n\\nMade by visualzare \\nhttps://twitter.com/visualzare\\n\\n[Checkify](https://www.checkify.art/)                                                                                                                                                                                                                                                                                                                                                                                                                                                                                                                                                                                                                                                                                                                                                                                                                                                                                                                                                                                                                                                                                                                                                                                                                                                                                                              |YES      |33926          |-1.002145922746781   |false                          |IMAGE             |\n",
      "|0x011c40-0x08de|en      |Top most-holding @0xPolygon Token Last 7 Days\\n_AAVE @AaveAave\\n_POLYDOGE @polydoge\\n_IXT @Planetix0\\n_MYST @MysteriumNet\\n_GHST @aavegotchi\\n_WSPP @RoboWolf8\\n_ROLL @PolyrollOrg\\n_ASK @PermissionIO\\n_TOWER @TowerToken\\n_VOXEL @VoxiesNFT\\n\\n#POLYGON _MATIC                                                                                                                                                                                                                                                                                                                                                                                                                                                                                                                                                                                                                                                                                                                                                                                                                                                                                                                                                                                                                                                                                                                                                                                                                                                                  |YES      |3480           |-0.8308009153318079  |false                          |IMAGE             |\n",
      "|0x011c40-0x0938|en      |Most Selling #NFT Collections on Ethereum in The Last 7 Days \\n@Nakamigos\\n@bitcoinbirds_\\n@campcosmos\\n@othersidemeta\\n@aiorbitnft\\n@loony_squad\\n@TheDevsNFT\\n@BuildOnBase\\n@DarkThoughtsNFT\\n@mindwavestudio\\n@jackbutcher\\n@NFD_gg                                                                                                                                                                                                                                                                                                                                                                                                                                                                                                                                                                                                                                                                                                                                                                                                                                                                                                                                                                                                                                                                                                                                                                                                                                                                                            |YES      |3480           |-0.9802898550724637  |false                          |IMAGE             |\n",
      "|0x011c40-0x0b50|en      |The hottest pairs on #Arbitrum dex exchanges last 24 hours\\n_AIDOGE @ArbDogeAI\\n_REKT @RektARB\\n_GND @GNDProtocol\\n_GMX @GMX_IO\\n_RDNT @RDNTCapital\\n_GRAIL @CamelotDEX\\n_SHARBI @SharbiToken\\n\\n#Layer2 #L2 _ARB _WETH _USDC                                                                                                                                                                                                                                                                                                                                                                                                                                                                                                                                                                                                                                                                                                                                                                                                                                                                                                                                                                                                                                                                                                                                                                                                                                                                                                     |YES      |3480           |-0.4782608695652174  |false                          |IMAGE             |\n",
      "|0x011c84-0x02e2|en      |top 5 vr sports games\\n\\n[Top 5 VR sports games](https://cointelegraph.com/news/top-5-vr-sports-games)\\nVR sports, immersive gaming, virtual reality, sports simulations, realistic gameplay, stunning graphics.                                                                                                                                                                                                                                                                                                                                                                                                                                                                                                                                                                                                                                                                                                                                                                                                                                                                                                                                                                                                                                                                                                                                                                                                                                                                                                                  |YES      |11170          |-0.8798283261802575  |false                          |IMAGE             |\n",
      "|0x011cbb-0x01d7|en      |This Campaign is only for my Followers......\\n\\nFollow and Support me for this type of Regular Campaign \\nNFTs and Airdrops.\\nAfter 500 Follower Reach I will Airdrop my 25 - Doodle Duckling Stamp with different Rarity.\\n\\nTo elligible for this Follow, Mirror and collect this Post.                                                                                                                                                                                                                                                                                                                                                                                                                                                                                                                                                                                                                                                                                                                                                                                                                                                                                                                                                                                                                                                                                                                                                                                                                                         |YES      |3394           |0.05267930550853572  |false                          |IMAGE             |\n",
      "|0x011cc1-0x0117|ro      |Beautiful Art                                                                                                                                                                                                                                                                                                                                                                                                                                                                                                                                                                                                                                                                                                                                                                                                                                                                                                                                                                                                                                                                                                                                                                                                                                                                                                                                                                                                                                                                                                                     |YES      |12097          |-0.8879310344827587  |false                          |IMAGE             |\n",
      "|0x011d-0x1e    |en      |null                                                                                                                                                                                                                                                                                                                                                                                                                                                                                                                                                                                                                                                                                                                                                                                                                                                                                                                                                                                                                                                                                                                                                                                                                                                                                                                                                                                                                                                                                                                              |MAYBE    |94             |-4.296006606145039   |false                          |IMAGE             |\n",
      "|0x011e37-0x42  |fa      |null                                                                                                                                                                                                                                                                                                                                                                                                                                                                                                                                                                                                                                                                                                                                                                                                                                                                                                                                                                                                                                                                                                                                                                                                                                                                                                                                                                                                                                                                                                                              |YES      |13617          |0.7383177570093458   |false                          |IMAGE             |\n",
      "|0x011e86-0xab  |en      |\\n\\n                                                                                                                                                                                                                                                                                                                                                                                                                                                                                                                                                                                                                                                                                                                                                                                                                                                                                                                                                                                                                                                                                                                                                                                                                                                                                                                                                                                                                                                                                                                              |YES      |34617          |0.3118012422360248   |false                          |IMAGE             |\n",
      "|0x011ef0-0x023d|vi      |Hng dn tng kh nng nhn Airdrop t d n OpenSea\\n\\nSau d n sn giao dch NFTBLURva Airdrop khng, mi ngi c th nhn airdrop t vi trm USD n vi chc nghn USD t nn tng NFT Marketplace BLUR. \\nhttps://allinstation.com/make-money/huong-dan-nhan-airdrop-opensea.html                                                                                                                                                                                                                                                                                                                                                                                                                                                                                                                                                                                                                                                                                                                                                                                                                                                                                                                                                                                                                                                                                                                                                                                                                                                                        |YES      |13631          |-0.4818965517241378  |false                          |IMAGE             |\n",
      "|0x011f55-0x102c|en      |Hearing ice cream is now a superfood                                                                                                                                                                                                                                                                                                                                                                                                                                                                                                                                                                                                                                                                                                                                                                                                                                                                                                                                                                                                                                                                                                                                                                                                                                                                                                                                                                                                                                                                                              |YES      |8              |-0.637515685806113   |false                          |TEXT_ONLY         |\n",
      "|0x012001-0x0199|id      |GM                                                                                                                                                                                                                                                                                                                                                                                                                                                                                                                                                                                                                                                                                                                                                                                                                                                                                                                                                                                                                                                                                                                                                                                                                                                                                                                                                                                                                                                                                                                                |YES      |12568          |3.155737704918032    |false                          |IMAGE             |\n",
      "|0x012461-0x93  |zh      |gm                                                                                                                                                                                                                                                                                                                                                                                                                                                                                                                                                                                                                                                                                                                                                                                                                                                                                                                                                                                                                                                                                                                                                                                                                                                                                                                                                                                                                                                                                                                                |YES      |31345          |-0.7099567099567099  |false                          |IMAGE             |\n",
      "|0x0126cd-0x01e2|en      |CRYPTO NEWS\\n\\n[Inflation Rates For Bitcoin Are Currently Three Times Lower Than The United States Currency](https://cryptocrunchapp.com/news/inflation-rates-for-bitcoin-are-currently-three-times-lower-than-the-united-states-currency)\\nThe circulation supply of Bitcoin (BTC) is over 90%, and as a result, the asset's inflation rate has decreased over time, outpacing the rate of the US dollar (USD) by at least three times. During the occurrence of halving, the rate decreases every four years. Therefore, since its launch in 2009, the first cryptocurrency's inflation rate has been steadily declining, and as of March 4, according to recent data, it stood at 1.79%.                                                                                                                                                                                                                                                                                                                                                                                                                                                                                                                                                                                                                                                                                                                                                                                                                                       |YES      |6398           |-0.15616438356164397 |false                          |IMAGE             |\n",
      "|0x012777-0x049f|ko      |i liked this movie                                                                                                                                                                                                                                                                                                                                                                                                                                                                                                                                                                                                                                                                                                                                                                                                                                                                                                                                                                                                                                                                                                                                                                                                                                                                                                                                                                                                                                                                                                                |YES      |6712           |0.8134153080961593   |false                          |IMAGE             |\n",
      "|0x012812-0x0348|en      |Good evening friends                                                                                                                                                                                                                                                                                                                                                                                                                                                                                                                                                                                                                                                                                                                                                                                                                                                                                                                                                                                                                                                                                                                                                                                                                                                                                                                                                                                                                                                                                                              |YES      |634            |-0.425               |false                          |IMAGE             |\n",
      "|0x01288e-0x01cd|es      |Layerzero                                                                                                                                                                                                                                                                                                                                                                                                                                                                                                                                                                                                                                                                                                                                                                                                                                                                                                                                                                                                                                                                                                                                                                                                                                                                                                                                                                                                                                                                                                                         |YES      |25238          |-0.9641255605381166  |false                          |IMAGE             |\n",
      "|0x012931-0x023b|null    |M                                                                                                                                                                                                                                                                                                                                                                                                                                                                                                                                                                                                                                                                                                                                                                                                                                                                                                                                                                                                                                                                                                                                                                                                                                                                                                                                                                                                                                                                                                                                 |YES      |10556          |-1.0046728971962617  |false                          |IMAGE             |\n",
      "+---------------+--------+----------------------------------------------------------------------------------------------------------------------------------------------------------------------------------------------------------------------------------------------------------------------------------------------------------------------------------------------------------------------------------------------------------------------------------------------------------------------------------------------------------------------------------------------------------------------------------------------------------------------------------------------------------------------------------------------------------------------------------------------------------------------------------------------------------------------------------------------------------------------------------------------------------------------------------------------------------------------------------------------------------------------------------------------------------------------------------------------------------------------------------------------------------------------------------------------------------------------------------------------------------------------------------------------------------------------------------------------------------------------------------------------------------------------------------------------------------------------------------------------------------------------------------+---------+---------------+---------------------+-------------------------------+------------------+\n",
      "\n"
     ]
    },
    {
     "name": "stderr",
     "output_type": "stream",
     "text": [
      "\r",
      "                                                                                \r"
     ]
    }
   ],
   "source": [
    "recommendations.select(\n",
    "    'post_id', 'language', 'content', 'recommend',\n",
    "    'followship_rank', 'post_score',\n",
    "    'custom_filters_gardener_flagged', 'main_content_focus').show(100, truncate = False)"
   ]
  },
  {
   "cell_type": "code",
   "execution_count": null,
   "id": "d7cd5d2f",
   "metadata": {},
   "outputs": [],
   "source": []
  }
 ],
 "metadata": {
  "kernelspec": {
   "display_name": "k3l-recommendation-env3",
   "language": "python",
   "name": "k3l-recommendation-env3"
  },
  "language_info": {
   "codemirror_mode": {
    "name": "ipython",
    "version": 3
   },
   "file_extension": ".py",
   "mimetype": "text/x-python",
   "name": "python",
   "nbconvert_exporter": "python",
   "pygments_lexer": "ipython3",
   "version": "3.9.16"
  }
 },
 "nbformat": 4,
 "nbformat_minor": 5
}
