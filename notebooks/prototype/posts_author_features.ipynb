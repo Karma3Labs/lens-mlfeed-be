{
 "cells": [
  {
   "cell_type": "code",
   "execution_count": 1,
   "id": "7117b202",
   "metadata": {},
   "outputs": [],
   "source": [
    "import datetime\n",
    "FEATURE_TIME = datetime.datetime(year=2023, month=5, day=12, hour=0, minute=0, second=0)"
   ]
  },
  {
   "cell_type": "code",
   "execution_count": 2,
   "id": "5f09a7bd",
   "metadata": {},
   "outputs": [],
   "source": [
    "import findspark\n",
    "# $ cd /opt\n",
    "# /opt$ sudo ln -s ~/apps/spark-3.4.0-bin-hadoop3 spark\n",
    "findspark.init(\"/opt/spark\") "
   ]
  },
  {
   "cell_type": "code",
   "execution_count": 3,
   "id": "c5661101",
   "metadata": {},
   "outputs": [],
   "source": [
    "# ! wget -O postgresql-42.5.4.jar ~/apps/ https://jdbc.postgresql.org/download/postgresql-42.5.4.jar"
   ]
  },
  {
   "cell_type": "code",
   "execution_count": 4,
   "id": "71173c8a",
   "metadata": {},
   "outputs": [],
   "source": [
    "# https://github.com/GoogleCloudDataproc/spark-bigquery-connector/releases\n",
    "# ! gsutil cp gs://spark-lib/bigquery/spark-bigquery-with-dependencies_2.12-0.30.0.jar ~/apps/"
   ]
  },
  {
   "cell_type": "code",
   "execution_count": 3,
   "id": "5169cd16",
   "metadata": {},
   "outputs": [
    {
     "name": "stderr",
     "output_type": "stream",
     "text": [
      "23/05/20 11:25:44 WARN Utils: Your hostname, VIJAYs-MacBook-Pro.local resolves to a loopback address: 127.0.0.1; using 192.168.2.12 instead (on interface en0)\n",
      "23/05/20 11:25:44 WARN Utils: Set SPARK_LOCAL_IP if you need to bind to another address\n",
      "23/05/20 11:25:45 WARN NativeCodeLoader: Unable to load native-hadoop library for your platform... using builtin-java classes where applicable\n",
      "Setting default log level to \"WARN\".\n",
      "To adjust logging level use sc.setLogLevel(newLevel). For SparkR, use setLogLevel(newLevel).\n"
     ]
    }
   ],
   "source": [
    "# import pyspark\n",
    "# sc = pyspark.SparkContext(appName=\"globalContent\")\n",
    "from pathlib import Path\n",
    "pg_jar = str(Path('~/apps/postgresql-42.5.4.jar').expanduser().resolve())\n",
    "# bq_jar = str(Path('~/apps/spark-bigquery-with-dependencies_2.12-0.30.0.jar').expanduser().resolve())\n",
    "# spark_jars = f\"{pg_jar},{bq_jar}\"\n",
    "spark_jars = pg_jar\n",
    "\n",
    "from pyspark.sql import SparkSession\n",
    "spark = SparkSession.builder \\\n",
    "            .appName(\"LensFeatures\") \\\n",
    "            .config(\"spark.jars\", spark_jars) \\\n",
    "            .getOrCreate()"
   ]
  },
  {
   "cell_type": "code",
   "execution_count": 6,
   "id": "b1b3e243",
   "metadata": {},
   "outputs": [
    {
     "name": "stdout",
     "output_type": "stream",
     "text": [
      "DB Host: ········\n"
     ]
    }
   ],
   "source": [
    "import getpass\n",
    "db_host = getpass.getpass(prompt='DB Host: ')"
   ]
  },
  {
   "cell_type": "code",
   "execution_count": 7,
   "id": "1fc4cd84",
   "metadata": {},
   "outputs": [
    {
     "name": "stdout",
     "output_type": "stream",
     "text": [
      "DB Port: ········\n"
     ]
    }
   ],
   "source": [
    "db_port = getpass.getpass(prompt='DB Port: ')"
   ]
  },
  {
   "cell_type": "code",
   "execution_count": 8,
   "id": "0a9f9d2e",
   "metadata": {},
   "outputs": [
    {
     "name": "stdout",
     "output_type": "stream",
     "text": [
      "DB Name: ········\n"
     ]
    }
   ],
   "source": [
    "db_name = getpass.getpass(prompt='DB Name: ')"
   ]
  },
  {
   "cell_type": "code",
   "execution_count": 9,
   "id": "bcc05b21",
   "metadata": {},
   "outputs": [
    {
     "name": "stdout",
     "output_type": "stream",
     "text": [
      "DB User: ········\n"
     ]
    }
   ],
   "source": [
    "db_user = getpass.getpass(prompt='DB User: ')"
   ]
  },
  {
   "cell_type": "code",
   "execution_count": 10,
   "id": "53cc7d5d",
   "metadata": {},
   "outputs": [
    {
     "name": "stdout",
     "output_type": "stream",
     "text": [
      "········\n"
     ]
    }
   ],
   "source": [
    "db_pwd = getpass.getpass()"
   ]
  },
  {
   "cell_type": "code",
   "execution_count": 11,
   "id": "97dcfccc",
   "metadata": {},
   "outputs": [],
   "source": [
    "sql_query = \"\"\"\n",
    "WITH MAX_DATE AS (\n",
    "  SELECT max(date) as maxdate\n",
    "  FROM globaltrust\n",
    "  WHERE strategy_id = 5\n",
    ")\n",
    "SELECT \n",
    "    ROW_NUMBER() OVER(ORDER BY v DESC) AS rank, \n",
    "    g.v AS score, \n",
    "    p.handle AS profile_handle\n",
    "FROM globaltrust AS g\n",
    "INNER JOIN profiles AS p ON p.id = g.i\n",
    "WHERE \n",
    "  strategy_id = 5 \n",
    "  AND date = (SELECT maxdate FROM MAX_DATE)\n",
    "-- LIMIT 1000\n",
    "\"\"\""
   ]
  },
  {
   "cell_type": "code",
   "execution_count": 12,
   "id": "f2f9a53d",
   "metadata": {},
   "outputs": [],
   "source": [
    "gt_df =  spark.read.format(\"jdbc\") \\\n",
    "            .option(\"url\", f\"jdbc:postgresql://{db_host}:{db_port}/{db_name}\") \\\n",
    "            .option(\"driver\", \"org.postgresql.Driver\")\\\n",
    "            .option(\"user\", db_user) \\\n",
    "            .option(\"password\", db_pwd) \\\n",
    "            .option(\"query\", sql_query) \\\n",
    "            .load()"
   ]
  },
  {
   "cell_type": "code",
   "execution_count": 13,
   "id": "a3ee46aa",
   "metadata": {},
   "outputs": [
    {
     "name": "stdout",
     "output_type": "stream",
     "text": [
      "root\n",
      " |-- rank: long (nullable = true)\n",
      " |-- score: double (nullable = true)\n",
      " |-- profile_handle: string (nullable = true)\n",
      "\n"
     ]
    }
   ],
   "source": [
    "gt_df.printSchema()"
   ]
  },
  {
   "cell_type": "code",
   "execution_count": 14,
   "id": "1f19bc97",
   "metadata": {},
   "outputs": [
    {
     "name": "stderr",
     "output_type": "stream",
     "text": [
      "[Stage 0:>                                                          (0 + 1) / 1]\r"
     ]
    },
    {
     "name": "stdout",
     "output_type": "stream",
     "text": [
      "total number of records $103326\n"
     ]
    },
    {
     "name": "stderr",
     "output_type": "stream",
     "text": [
      "\r",
      "                                                                                \r"
     ]
    }
   ],
   "source": [
    "print(f\"total number of records ${gt_df.count()}\")"
   ]
  },
  {
   "cell_type": "code",
   "execution_count": 15,
   "id": "bec15b76",
   "metadata": {},
   "outputs": [],
   "source": [
    "# spec_profiles_df = spark.read.format(\"jdbc\") \\\n",
    "#                 .option(\"url\", f\"jdbc:postgresql://{db_host}:{db_port}/{db_name}\") \\\n",
    "#                 .option(\"driver\", \"org.postgresql.Driver\")\\\n",
    "#                 .option(\"dbtable\", \"profiles\") \\\n",
    "#                 .option(\"user\", db_user) \\\n",
    "#                 .option(\"password\", db_pwd) \\\n",
    "#                 .load()"
   ]
  },
  {
   "cell_type": "code",
   "execution_count": 16,
   "id": "6eb402d5",
   "metadata": {},
   "outputs": [],
   "source": [
    "# spec_profiles_df.printSchema()"
   ]
  },
  {
   "cell_type": "code",
   "execution_count": 17,
   "id": "085cd2e7",
   "metadata": {},
   "outputs": [],
   "source": [
    "# print(f\"total number of records ${spec_profiles_df.count()}\")"
   ]
  },
  {
   "cell_type": "code",
   "execution_count": 18,
   "id": "c837741c",
   "metadata": {},
   "outputs": [
    {
     "name": "stderr",
     "output_type": "stream",
     "text": [
      "                                                                                \r"
     ]
    }
   ],
   "source": [
    "# bq_profiles_df = spark.read.format('com.google.cloud.spark.bigquery') \\\n",
    "#                     .option('table','lens-public-data.polygon.public_profile') \\\n",
    "#                     .load()\n",
    "\n",
    "bq_profiles_df = spark.read.parquet(\"/tmp/lens_bigquery_csvs/public_profile_05092023.pqt\")"
   ]
  },
  {
   "cell_type": "code",
   "execution_count": 19,
   "id": "12521ad4",
   "metadata": {},
   "outputs": [
    {
     "name": "stderr",
     "output_type": "stream",
     "text": [
      "\r",
      "[Stage 4:>                                                          (0 + 4) / 4]\r"
     ]
    },
    {
     "name": "stdout",
     "output_type": "stream",
     "text": [
      "total number of records $117119\n"
     ]
    },
    {
     "name": "stderr",
     "output_type": "stream",
     "text": [
      "\r",
      "                                                                                \r"
     ]
    }
   ],
   "source": [
    "print(f\"total number of records ${bq_profiles_df.count()}\")"
   ]
  },
  {
   "cell_type": "code",
   "execution_count": 20,
   "id": "dbf25d7b",
   "metadata": {},
   "outputs": [],
   "source": [
    "bq_profiles_df = bq_profiles_df.select(\n",
    "    \"profile_id\",\n",
    "    \"handle\"\n",
    ")"
   ]
  },
  {
   "cell_type": "code",
   "execution_count": 21,
   "id": "7fc81d4c",
   "metadata": {
    "scrolled": true
   },
   "outputs": [
    {
     "name": "stdout",
     "output_type": "stream",
     "text": [
      "root\n",
      " |-- profile_id: string (nullable = true)\n",
      " |-- handle: string (nullable = true)\n",
      "\n"
     ]
    }
   ],
   "source": [
    "bq_profiles_df.printSchema()"
   ]
  },
  {
   "cell_type": "code",
   "execution_count": 46,
   "id": "c8216f01",
   "metadata": {},
   "outputs": [
    {
     "name": "stdout",
     "output_type": "stream",
     "text": [
      "+------+-----+\n",
      "|handle|count|\n",
      "+------+-----+\n",
      "+------+-----+\n",
      "\n"
     ]
    }
   ],
   "source": [
    "bq_profiles_df.groupBy(\"handle\").count().where(\"count > 1\").show()"
   ]
  },
  {
   "cell_type": "code",
   "execution_count": 45,
   "id": "fdd128e7",
   "metadata": {},
   "outputs": [
    {
     "name": "stderr",
     "output_type": "stream",
     "text": [
      "\r",
      "[Stage 90:>                                                         (0 + 1) / 1]\r"
     ]
    },
    {
     "name": "stdout",
     "output_type": "stream",
     "text": [
      "+------------------+-----+\n",
      "|    profile_handle|count|\n",
      "+------------------+-----+\n",
      "|nishimiyamayu.lens|    2|\n",
      "| ashu87482200.lens|    2|\n",
      "|              null|    3|\n",
      "|      futurka.lens|    2|\n",
      "|  celebration.lens|    2|\n",
      "|       0xmo7d.lens|    2|\n",
      "|        99220.lens|    2|\n",
      "|      0xn4nx0.lens|    2|\n",
      "|wguoqiang1001.lens|    2|\n",
      "|       treaty.lens|    2|\n",
      "|       abc123.lens|    2|\n",
      "+------------------+-----+\n",
      "\n"
     ]
    },
    {
     "name": "stderr",
     "output_type": "stream",
     "text": [
      "\r",
      "                                                                                \r"
     ]
    }
   ],
   "source": [
    "gt_df.groupBy(\"profile_handle\").count().where(\"count > 1\").show()"
   ]
  },
  {
   "cell_type": "code",
   "execution_count": 49,
   "id": "1a0054b2",
   "metadata": {},
   "outputs": [],
   "source": [
    "# There are a few duplicate entries in the data from Spec.dev\n",
    "gt_df = gt_df.dropDuplicates(['profile_handle'])"
   ]
  },
  {
   "cell_type": "code",
   "execution_count": 22,
   "id": "132681d1",
   "metadata": {},
   "outputs": [],
   "source": [
    "profile_trust_df = bq_profiles_df.join(gt_df, bq_profiles_df.handle == gt_df.profile_handle,\"leftouter\" )"
   ]
  },
  {
   "cell_type": "code",
   "execution_count": 23,
   "id": "a2db7d6f",
   "metadata": {
    "scrolled": true
   },
   "outputs": [
    {
     "name": "stdout",
     "output_type": "stream",
     "text": [
      "root\n",
      " |-- profile_id: string (nullable = true)\n",
      " |-- handle: string (nullable = true)\n",
      " |-- rank: long (nullable = true)\n",
      " |-- score: double (nullable = true)\n",
      " |-- profile_handle: string (nullable = true)\n",
      "\n"
     ]
    }
   ],
   "source": [
    "profile_trust_df.printSchema()"
   ]
  },
  {
   "cell_type": "code",
   "execution_count": 24,
   "id": "9d19f287",
   "metadata": {},
   "outputs": [],
   "source": [
    "from pyspark.sql.functions import col, when, lit\n",
    "profile_trust_df = profile_trust_df.drop(col('handle')) \\\n",
    "                        .drop(col('profile_handle'))"
   ]
  },
  {
   "cell_type": "code",
   "execution_count": 25,
   "id": "d6efa39b",
   "metadata": {},
   "outputs": [
    {
     "name": "stdout",
     "output_type": "stream",
     "text": [
      "root\n",
      " |-- profile_id: string (nullable = true)\n",
      " |-- rank: long (nullable = true)\n",
      " |-- score: double (nullable = true)\n",
      "\n"
     ]
    }
   ],
   "source": [
    "profile_trust_df.printSchema()"
   ]
  },
  {
   "cell_type": "code",
   "execution_count": 41,
   "id": "3e0dc4bc",
   "metadata": {},
   "outputs": [
    {
     "name": "stderr",
     "output_type": "stream",
     "text": [
      "                                                                                \r"
     ]
    },
    {
     "name": "stdout",
     "output_type": "stream",
     "text": [
      "+----------+-----+\n",
      "|profile_id|count|\n",
      "+----------+-----+\n",
      "|  0x01a80e|    2|\n",
      "|  0x01a880|    2|\n",
      "|    0x6dfd|    2|\n",
      "|  0x012674|    2|\n",
      "|  0x019b35|    2|\n",
      "|  0x01a110|    2|\n",
      "|    0x8e83|    2|\n",
      "|  0x016765|    2|\n",
      "|  0x0194d6|    2|\n",
      "|  0x01aa70|    2|\n",
      "+----------+-----+\n",
      "\n"
     ]
    }
   ],
   "source": [
    "profile_trust_df.groupBy(\"profile_id\").count().where(\"count > 1\").show()"
   ]
  },
  {
   "cell_type": "code",
   "execution_count": 26,
   "id": "9fd661a7",
   "metadata": {},
   "outputs": [
    {
     "name": "stderr",
     "output_type": "stream",
     "text": [
      "                                                                                \r"
     ]
    }
   ],
   "source": [
    "# posts_df = spark.read.format('com.google.cloud.spark.bigquery') \\\n",
    "#                     .option('table','lens-public-data.polygon.public_profile_post') \\\n",
    "#                     .load()\n",
    "posts_df = spark.read.csv(\"/tmp/lens_bigquery_csvs/public_profile_post/\", \n",
    "                          header=True, \n",
    "                          escape=\"\\\"\",\n",
    "                          multiLine=True,\n",
    "                          inferSchema=True)"
   ]
  },
  {
   "cell_type": "code",
   "execution_count": 27,
   "id": "7aba3421",
   "metadata": {},
   "outputs": [],
   "source": [
    "# posts_df.show(5, truncate=False)"
   ]
  },
  {
   "cell_type": "code",
   "execution_count": 38,
   "id": "09424036",
   "metadata": {
    "scrolled": false
   },
   "outputs": [
    {
     "name": "stderr",
     "output_type": "stream",
     "text": [
      "\r",
      "[Stage 42:>                                                         (0 + 1) / 1]\r"
     ]
    },
    {
     "name": "stdout",
     "output_type": "stream",
     "text": [
      "total number of records $452441\n"
     ]
    },
    {
     "name": "stderr",
     "output_type": "stream",
     "text": [
      "\r",
      "                                                                                \r"
     ]
    }
   ],
   "source": [
    "print(f\"total number of records ${posts_df.count()}\")"
   ]
  },
  {
   "cell_type": "code",
   "execution_count": 29,
   "id": "cfd348e4",
   "metadata": {},
   "outputs": [],
   "source": [
    "# joining columns with same name causes issues when querying the dataframe\n",
    "# renaming profile_id column\n",
    "from pyspark.sql.functions import col\n",
    "posts_df = posts_df.select(\n",
    "    \"post_id\", \n",
    "    col(\"profile_id\").alias(\"post_profile_id\"), \n",
    ")\n",
    "# posts_df = posts_df.withColumnRenamed(\"profile_id\", \"post_profile_id\")"
   ]
  },
  {
   "cell_type": "code",
   "execution_count": 30,
   "id": "a3ce3997",
   "metadata": {
    "scrolled": true
   },
   "outputs": [
    {
     "name": "stdout",
     "output_type": "stream",
     "text": [
      "root\n",
      " |-- post_id: string (nullable = true)\n",
      " |-- post_profile_id: string (nullable = true)\n",
      "\n"
     ]
    }
   ],
   "source": [
    "posts_df.printSchema()"
   ]
  },
  {
   "cell_type": "code",
   "execution_count": 31,
   "id": "5bc6847b",
   "metadata": {},
   "outputs": [
    {
     "name": "stdout",
     "output_type": "stream",
     "text": [
      "root\n",
      " |-- profile_id: string (nullable = true)\n",
      " |-- rank: long (nullable = true)\n",
      " |-- score: double (nullable = true)\n",
      "\n"
     ]
    }
   ],
   "source": [
    "profile_trust_df.printSchema()"
   ]
  },
  {
   "cell_type": "code",
   "execution_count": 32,
   "id": "86a99ac0",
   "metadata": {},
   "outputs": [],
   "source": [
    "posts_trust_df = posts_df.join(profile_trust_df, \n",
    "                               posts_df.post_profile_id == profile_trust_df.profile_id, \n",
    "                               \"leftouter\")"
   ]
  },
  {
   "cell_type": "code",
   "execution_count": 33,
   "id": "370f951a",
   "metadata": {},
   "outputs": [
    {
     "name": "stdout",
     "output_type": "stream",
     "text": [
      "root\n",
      " |-- post_id: string (nullable = true)\n",
      " |-- post_profile_id: string (nullable = true)\n",
      " |-- profile_id: string (nullable = true)\n",
      " |-- rank: long (nullable = true)\n",
      " |-- score: double (nullable = true)\n",
      "\n"
     ]
    }
   ],
   "source": [
    "posts_trust_df.printSchema()"
   ]
  },
  {
   "cell_type": "code",
   "execution_count": 34,
   "id": "c31462aa",
   "metadata": {},
   "outputs": [
    {
     "name": "stderr",
     "output_type": "stream",
     "text": [
      "                                                                                \r"
     ]
    },
    {
     "data": {
      "text/plain": [
       "0"
      ]
     },
     "execution_count": 34,
     "metadata": {},
     "output_type": "execute_result"
    }
   ],
   "source": [
    "posts_trust_df.filter(posts_trust_df.profile_id.isNull()).count()"
   ]
  },
  {
   "cell_type": "code",
   "execution_count": 35,
   "id": "7e66ef1b",
   "metadata": {
    "scrolled": false
   },
   "outputs": [
    {
     "name": "stderr",
     "output_type": "stream",
     "text": [
      "                                                                                \r"
     ]
    },
    {
     "name": "stdout",
     "output_type": "stream",
     "text": [
      "total number of records $452443\n"
     ]
    }
   ],
   "source": [
    "print(f\"total number of records ${posts_trust_df.count()}\")"
   ]
  },
  {
   "cell_type": "code",
   "execution_count": 39,
   "id": "c2db8252",
   "metadata": {},
   "outputs": [
    {
     "name": "stderr",
     "output_type": "stream",
     "text": [
      "                                                                                \r"
     ]
    },
    {
     "name": "stdout",
     "output_type": "stream",
     "text": [
      "+-------------+-----+\n",
      "|      post_id|count|\n",
      "+-------------+-----+\n",
      "|0x012674-0x03|    2|\n",
      "|0x012674-0x01|    2|\n",
      "+-------------+-----+\n",
      "\n"
     ]
    }
   ],
   "source": [
    "posts_trust_df.groupBy(\"post_id\").count().where(\"count > 1\").show()"
   ]
  },
  {
   "cell_type": "code",
   "execution_count": 47,
   "id": "63766a8b",
   "metadata": {},
   "outputs": [],
   "source": [
    "posts_trust_df = posts_trust_df.dropDuplicates(['post_id'])"
   ]
  },
  {
   "cell_type": "code",
   "execution_count": 48,
   "id": "32e3f8d6",
   "metadata": {},
   "outputs": [
    {
     "name": "stderr",
     "output_type": "stream",
     "text": [
      "\r",
      "[Stage 96:>                                                         (0 + 1) / 1]\r"
     ]
    },
    {
     "name": "stdout",
     "output_type": "stream",
     "text": [
      "total number of records $452441\n"
     ]
    },
    {
     "name": "stderr",
     "output_type": "stream",
     "text": [
      "\r",
      "                                                                                \r"
     ]
    }
   ],
   "source": [
    "print(f\"total number of records ${posts_trust_df.count()}\")"
   ]
  },
  {
   "cell_type": "code",
   "execution_count": 52,
   "id": "4dc75d3c",
   "metadata": {},
   "outputs": [
    {
     "name": "stdout",
     "output_type": "stream",
     "text": [
      "root\n",
      " |-- post_id: string (nullable = true)\n",
      " |-- post_profile_id: string (nullable = true)\n",
      " |-- profile_id: string (nullable = true)\n",
      " |-- rank: long (nullable = true)\n",
      " |-- score: double (nullable = true)\n",
      "\n"
     ]
    }
   ],
   "source": [
    "posts_trust_df.printSchema()"
   ]
  },
  {
   "cell_type": "code",
   "execution_count": 36,
   "id": "e64cf15d",
   "metadata": {
    "scrolled": true
   },
   "outputs": [],
   "source": [
    "# Credentials saved to file: [/Users/vijay/.config/gcloud/application_default_credentials.json]\n",
    "# These credentials will be used by any library that requests Application Default Credentials (ADC).\n",
    "\n",
    "# ! gcloud auth application-default login"
   ]
  },
  {
   "cell_type": "code",
   "execution_count": 37,
   "id": "0fef4cbd",
   "metadata": {},
   "outputs": [],
   "source": [
    "PROJECT_ID = \"boxwood-well-386122\"\n",
    "REGION = \"us-central1\"\n",
    "BUCKET_URI = \"gs://vijay-lens-feature-store-temp\"  \n",
    "from google.cloud import aiplatform\n",
    "aiplatform.init(project=PROJECT_ID, location=REGION, staging_bucket=BUCKET_URI)"
   ]
  },
  {
   "cell_type": "code",
   "execution_count": 50,
   "id": "d7040a17",
   "metadata": {},
   "outputs": [
    {
     "name": "stdout",
     "output_type": "stream",
     "text": [
      "name: \"projects/1181216607/locations/us-central1/featurestores/lens_featurestore_dev\"\n",
      "create_time {\n",
      "  seconds: 1683658565\n",
      "  nanos: 777177000\n",
      "}\n",
      "update_time {\n",
      "  seconds: 1683730147\n",
      "  nanos: 63762000\n",
      "}\n",
      "etag: \"AMEw9yNc_eqiIY7rz7G0-fTe0eZqwZDPu9J6jSKPio6xYa5dJTE9LSaqJbIfvKxwKow=\"\n",
      "online_serving_config {\n",
      "}\n",
      "state: STABLE\n",
      "\n"
     ]
    }
   ],
   "source": [
    "FEATURESTORE_ID = \"lens_featurestore_dev\"\n",
    "from google.cloud.aiplatform import Feature, Featurestore\n",
    "fs = Featurestore(\n",
    "    featurestore_name=FEATURESTORE_ID\n",
    ")\n",
    "print(fs.gca_resource)"
   ]
  },
  {
   "cell_type": "code",
   "execution_count": 51,
   "id": "0d4473d7",
   "metadata": {},
   "outputs": [],
   "source": [
    "posts_entity_type = fs.get_entity_type(entity_type_id=\"posts\")"
   ]
  },
  {
   "cell_type": "code",
   "execution_count": 53,
   "id": "04a2625e",
   "metadata": {},
   "outputs": [],
   "source": [
    "POSTS_FEATURES_IDS = ['author_f6c3m8col12enh_rank', 'author_f6c3m8col12enh_score']\n",
    "POSTS_SRC_FIELDS = {\n",
    "    'author_f6c3m8col12enh_rank': 'rank',\n",
    "    'author_f6c3m8col12enh_score': 'score',\n",
    "}\n",
    "POSTS_ENTITY_ID_FIELD = \"post_id\""
   ]
  },
  {
   "cell_type": "code",
   "execution_count": 54,
   "id": "dbbe44a4",
   "metadata": {},
   "outputs": [
    {
     "name": "stderr",
     "output_type": "stream",
     "text": [
      "                                                                                \r"
     ]
    }
   ],
   "source": [
    "POSTS_DF = posts_trust_df.toPandas()"
   ]
  },
  {
   "cell_type": "code",
   "execution_count": 55,
   "id": "acd80c0d",
   "metadata": {
    "scrolled": false
   },
   "outputs": [
    {
     "name": "stdout",
     "output_type": "stream",
     "text": [
      "<class 'pandas.core.frame.DataFrame'>\n",
      "RangeIndex: 452441 entries, 0 to 452440\n",
      "Data columns (total 5 columns):\n",
      " #   Column           Non-Null Count   Dtype  \n",
      "---  ------           --------------   -----  \n",
      " 0   post_id          452441 non-null  object \n",
      " 1   post_profile_id  452441 non-null  object \n",
      " 2   profile_id       452441 non-null  object \n",
      " 3   rank             450167 non-null  float64\n",
      " 4   score            450167 non-null  float64\n",
      "dtypes: float64(2), object(3)\n",
      "memory usage: 17.3+ MB\n"
     ]
    }
   ],
   "source": [
    "POSTS_DF.info()"
   ]
  },
  {
   "cell_type": "code",
   "execution_count": 56,
   "id": "3f749bd3",
   "metadata": {},
   "outputs": [
    {
     "name": "stdout",
     "output_type": "stream",
     "text": [
      "Importing EntityType feature values: projects/1181216607/locations/us-central1/featurestores/lens_featurestore_dev/entityTypes/posts\n",
      "Import EntityType feature values backing LRO: projects/1181216607/locations/us-central1/featurestores/lens_featurestore_dev/entityTypes/posts/operations/601147193528680448\n",
      "EntityType feature values imported. Resource name: projects/1181216607/locations/us-central1/featurestores/lens_featurestore_dev/entityTypes/posts\n"
     ]
    },
    {
     "data": {
      "text/plain": [
       "<google.cloud.aiplatform.featurestore.entity_type.EntityType object at 0x121c9a550> \n",
       "resource name: projects/1181216607/locations/us-central1/featurestores/lens_featurestore_dev/entityTypes/posts"
      ]
     },
     "execution_count": 56,
     "metadata": {},
     "output_type": "execute_result"
    }
   ],
   "source": [
    "# ingest_from_df(\n",
    "#     feature_ids: List[str],\n",
    "#     feature_time: Union[str, datetime.datetime],\n",
    "#     df_source: pd.DataFrame,\n",
    "#     feature_source_fields: Optional[Dict[str, str]] = None,\n",
    "#     entity_id_field: Optional[str] = None,\n",
    "#     request_metadata: Optional[Sequence[Tuple[str, str]]] = (),\n",
    "#     ingest_request_timeout: Optional[float] = None,\n",
    "# )\n",
    "posts_entity_type.ingest_from_df(\n",
    "    feature_ids = POSTS_FEATURES_IDS,\n",
    "    feature_time = FEATURE_TIME,\n",
    "    df_source = POSTS_DF,\n",
    "    feature_source_fields = POSTS_SRC_FIELDS,\n",
    "    entity_id_field = POSTS_ENTITY_ID_FIELD,\n",
    ")"
   ]
  },
  {
   "cell_type": "code",
   "execution_count": null,
   "id": "6e5f48ec",
   "metadata": {},
   "outputs": [],
   "source": [
    "# TODO \n",
    "# 1. \"recommend\" label\n",
    "# 2. read full dataset from bigquery\n",
    "# 3. checkpoint max(block_timestamp) for incremental reads from BigQuery"
   ]
  }
 ],
 "metadata": {
  "kernelspec": {
   "display_name": "k3l-recommendation-env3",
   "language": "python",
   "name": "k3l-recommendation-env3"
  },
  "language_info": {
   "codemirror_mode": {
    "name": "ipython",
    "version": 3
   },
   "file_extension": ".py",
   "mimetype": "text/x-python",
   "name": "python",
   "nbconvert_exporter": "python",
   "pygments_lexer": "ipython3",
   "version": "3.9.16"
  }
 },
 "nbformat": 4,
 "nbformat_minor": 5
}
